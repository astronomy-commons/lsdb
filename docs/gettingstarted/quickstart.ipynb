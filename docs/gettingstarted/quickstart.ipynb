{
 "cells": [
  {
   "cell_type": "markdown",
   "id": "8c4f492a",
   "metadata": {},
   "source": [
    "# Quickstart\n",
    "\n",
    "To get started with LSDB we will demonstrate a very common workflow. It consists of crossmatching a small set of objects of your interest with a large survey catalog stored in HiPSCat format (e.g. Gaia), and saving the final result."
   ]
  },
  {
   "cell_type": "markdown",
   "id": "35ecb774",
   "metadata": {},
   "source": [
    "The first thing you need to do is to import our package."
   ]
  },
  {
   "cell_type": "code",
   "execution_count": null,
   "id": "a7977b2b",
   "metadata": {},
   "outputs": [],
   "source": [
    "import lsdb"
   ]
  },
  {
   "cell_type": "markdown",
   "id": "42f8fda0",
   "metadata": {},
   "source": [
    "Create a Pandas Dataframe containing the objects you want to crossmatch with Gaia."
   ]
  },
  {
   "cell_type": "code",
   "execution_count": null,
   "id": "c5afacf2",
   "metadata": {},
   "outputs": [],
   "source": [
    "import pandas as pd\n",
    "\n",
    "# The coordinates (ra, dec) for our objects of interest\n",
    "objects = [(180.080612, 9.507394), (179.884664, 10.479632), (179.790319, 9.551745)]\n",
    "\n",
    "objects_df = pd.DataFrame(objects, columns=[\"ra\", \"dec\"])\n",
    "objects_df"
   ]
  },
  {
   "cell_type": "markdown",
   "id": "0570402f",
   "metadata": {},
   "source": [
    "Now that the data is in a DataFrame you can create an LSDB catalog to have it in HiPSCat format."
   ]
  },
  {
   "cell_type": "code",
   "execution_count": null,
   "id": "9e098d25",
   "metadata": {},
   "outputs": [],
   "source": [
    "my_object_catalog = lsdb.from_dataframe(objects_df, catalog_name=\"my_object_catalog\", catalog_type=\"object\")\n",
    "my_object_catalog"
   ]
  },
  {
   "cell_type": "markdown",
   "id": "3b889e0e",
   "metadata": {},
   "source": [
    "Next, read the catalog we want to crossmatch with. Because we will download it from the web we decided to go with a small half degree region of Gaia. In this case we need to install __aiohttp__ but if your catalog happens to be present in local storage you can call `read_hipscat` directly."
   ]
  },
  {
   "cell_type": "code",
   "execution_count": null,
   "id": "fcca5a0b",
   "metadata": {},
   "outputs": [],
   "source": [
    "!pip install aiohttp --quiet"
   ]
  },
  {
   "cell_type": "code",
   "execution_count": null,
   "id": "b8e31774",
   "metadata": {},
   "outputs": [],
   "source": [
    "small_gaia = lsdb.read_hipscat(\"https://epyc.astro.washington.edu/~lincc-frameworks/half_degree_surveys/gaia\")\n",
    "small_gaia"
   ]
  },
  {
   "cell_type": "markdown",
   "id": "792fbff7",
   "metadata": {},
   "source": [
    "Let's crossmatch them! As a result we will have a catalog with the objects in the small Gaia that match our initial objects of interest, according to a specified maximum distance. We will use the default K nearest neighbors algorithm with `k=1` and a maximum separation distance of 1 arcsecond."
   ]
  },
  {
   "cell_type": "code",
   "execution_count": null,
   "id": "3b5869df",
   "metadata": {},
   "outputs": [],
   "source": [
    "result = my_object_catalog.crossmatch(\n",
    "    small_gaia, n_neighbors=1, radius_arcsec=1 * 3600, require_right_margin=False\n",
    ")"
   ]
  },
  {
   "cell_type": "markdown",
   "id": "35994f0d",
   "metadata": {},
   "source": [
    "As expected, we obtained at most 1 match for each of our initial objects:"
   ]
  },
  {
   "cell_type": "code",
   "execution_count": null,
   "id": "9e3d201d",
   "metadata": {},
   "outputs": [],
   "source": [
    "result.compute()"
   ]
  },
  {
   "cell_type": "markdown",
   "id": "0db1bf14",
   "metadata": {},
   "source": [
    "Let's say you're done with your workflow. Generally, it is a good idea to save your catalog to disk to prevent regenerating it later on. Our catalog interface exposes the `to_hipscat` API for that, you just need to provide it with a path for the `target directory` and a `catalog name`."
   ]
  },
  {
   "cell_type": "code",
   "execution_count": null,
   "id": "552ecd48",
   "metadata": {},
   "outputs": [],
   "source": [
    "result.to_hipscat(\"lsdb_catalogs\", catalog_name=\"my_object_catalog_x_small_gaia\")"
   ]
  }
 ],
 "metadata": {
  "language_info": {
   "codemirror_mode": {
    "name": "ipython",
    "version": 3
   },
   "file_extension": ".py",
   "mimetype": "text/x-python",
   "name": "python",
   "nbconvert_exporter": "python",
   "pygments_lexer": "ipython3",
   "version": "3.10.13"
  }
 },
 "nbformat": 4,
 "nbformat_minor": 5
}
