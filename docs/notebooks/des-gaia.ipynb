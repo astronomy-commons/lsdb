{
 "cells": [
  {
   "cell_type": "markdown",
   "id": "eec8f0f416a616da",
   "metadata": {
    "collapsed": false
   },
   "source": [
    "# Cross-matching of large catalogs: DES to Gaia\n",
    "\n",
    "In this tutorial we cross-match nain tables of Dark Energy Survey (DES) DR2 and Gaia DR3 catalogs. The outline of the tutorial is as follows:\n",
    "\n",
    "1. Get original data files\n",
    "2. Convert the data to HiPSCat format using [hipscat-import](https://github.com/astronomy-commons/hipscat-import/)\n",
    "3. Cross-match the catalogs using LSDB and save to a new HiPSCat catalog"
   ]
  },
  {
   "cell_type": "markdown",
   "id": "67b56ee5ec14b50",
   "metadata": {
    "collapsed": false
   },
   "source": [
    "### Install required packages and import modules"
   ]
  },
  {
   "cell_type": "code",
   "execution_count": null,
   "id": "dbf9a727fa9682a1",
   "metadata": {},
   "outputs": [],
   "source": [
    "# Comment to skip hipscat-import installation\n",
    "%pip install --quiet hipscat-import\n",
    "\n",
    "# Uncomment to install lsdb\n",
    "# %pip install --quiet lsdb"
   ]
  },
  {
   "cell_type": "code",
   "execution_count": null,
   "id": "a37c4b45dede404c",
   "metadata": {},
   "outputs": [],
   "source": [
    "# For files and directories manipulation\n",
    "from pathlib import Path\n",
    "\n",
    "# For Gaia columns data types inference\n",
    "import pyarrow\n",
    "from astropy.io import ascii\n",
    "\n",
    "# We need this for 2D histogram\n",
    "import dask.array\n",
    "\n",
    "# Client for Dask distributed computing\n",
    "from dask.distributed import Client\n",
    "\n",
    "# For plots\n",
    "import matplotlib.pyplot as plt\n",
    "from matplotlib.colors import LogNorm\n",
    "\n",
    "# Numpy is always useful!\n",
    "import numpy as np\n",
    "\n",
    "# Explore the HiPSCat catalogs and plot sky maps\n",
    "from hipscat.catalog import Catalog\n",
    "from hipscat.inspection import plot_pixels\n",
    "\n",
    "# For reading the HiPSCat catalogs and performing the cross-match\n",
    "import lsdb\n",
    "\n",
    "# For converting the data to HiPSCat format and generate margin caches\n",
    "from hipscat_import.catalog.file_readers import CsvReader\n",
    "from hipscat_import.margin_cache.margin_cache_arguments import MarginCacheArguments\n",
    "from hipscat_import.pipeline import ImportArguments, pipeline_with_client"
   ]
  },
  {
   "cell_type": "markdown",
   "id": "97b048203b312d19",
   "metadata": {
    "collapsed": false
   },
   "source": [
    "## Get original data files\n",
    "\n",
    "To make this notebook faster to run and using less storage, we will use a subset of the data. However, the same pipeline, with no code changes, may be used to process the full catalogs."
   ]
  },
  {
   "cell_type": "code",
   "execution_count": null,
   "id": "2828441463c81505",
   "metadata": {},
   "outputs": [],
   "source": [
    "# Change to the directories where the data will be stored\n",
    "DES_DIR = Path(\"data/DES_DR2\")\n",
    "GAIA_DIR = Path(\"data/Gaia_DR3\")\n",
    "\n",
    "GAIA_SCHEMA_FILE = GAIA_DIR / \"schema.parquet\"\n",
    "\n",
    "DES_HIPSCAT_NAME = \"des_dr2\"\n",
    "GAIA_HIPSCAT_NAME = \"gaia_dr3\"\n",
    "GAIA_MARGIN_CACHE_NAME = \"gaia_dr3_1arcsec\"\n",
    "XMATCH_NAME = \"des_dr2_x_gaia_dr3\"\n",
    "\n",
    "HIPSCAT_DIR = Path(\"hipscat\")\n",
    "DES_HIPSCAT_DIR = HIPSCAT_DIR / DES_HIPSCAT_NAME\n",
    "GAIA_HIPSCAT_DIR = HIPSCAT_DIR / GAIA_HIPSCAT_NAME\n",
    "GAIA_MARGIN_CACHE_DIR = HIPSCAT_DIR / GAIA_MARGIN_CACHE_NAME\n",
    "\n",
    "OUTPUT_HIPSCAT_DIR = HIPSCAT_DIR / XMATCH_NAME"
   ]
  },
  {
   "cell_type": "markdown",
   "id": "cb1d86f5da054036",
   "metadata": {
    "collapsed": false
   },
   "source": [
    "### DES DR2\n",
    "\n",
    "The Dark Eenrgy Survey DR2 catalog is hosted by NCSA, see the [official website](https://des.ncsa.illinois.edu/releases/dr2) for more information. Data files, in [FITS](https://fits.gsfc.nasa.gov) format, are located at <https://desdr-server.ncsa.illinois.edu/despublic/dr2_tiles/>. You may also prefer to get the data with S3 client as described by <https://desdr-server.ncsa.illinois.edu>\n",
    "\n",
    "We use `*dr2_main.fits` files for the main catalog table, see [the schema here](https://des.ncsa.illinois.edu/releases/dr2/dr2-products/dr2-schema).\n",
    "\n",
    "Here we download a few first files to demonstrate the pipeline. The full catalog is about 1.1TB, feel free to download it if you have enough storage."
   ]
  },
  {
   "cell_type": "code",
   "execution_count": null,
   "id": "3678ae0f1ab1e8e1",
   "metadata": {},
   "outputs": [],
   "source": [
    "# Comment / skip this cell if you already have the data\n",
    "\n",
    "from shutil import copyfileobj\n",
    "\n",
    "import requests  # For downloading files\n",
    "\n",
    "# Download few first files\n",
    "des_urls = [\n",
    "    \"https://desdr-server.ncsa.illinois.edu/despublic/dr2_tiles/DES0000+0209/DES0000+0209_dr2_main.fits\",\n",
    "    \"https://desdr-server.ncsa.illinois.edu/despublic/dr2_tiles/DES0000+0252/DES0000+0252_dr2_main.fits\",\n",
    "    \"https://desdr-server.ncsa.illinois.edu/despublic/dr2_tiles/DES0000+0335/DES0000+0335_dr2_main.fits\",\n",
    "]\n",
    "\n",
    "for des_url in des_urls:\n",
    "    des_file = DES_DIR / Path(des_url).name\n",
    "    if not des_file.exists():\n",
    "        des_file.parent.mkdir(parents=True, exist_ok=True)\n",
    "        with requests.get(des_url, stream=True) as r, open(des_file, \"wb\") as f:\n",
    "            copyfileobj(r.raw, f)"
   ]
  },
  {
   "cell_type": "markdown",
   "id": "7e2d48996f2393bd",
   "metadata": {
    "collapsed": false
   },
   "source": [
    "### Gaia DR3\n",
    "\n",
    "The Gaia DR3 catalog is hosted by ESA, see the [official website](https://www.cosmos.esa.int/web/gaia/dr3) for more information. Data files, in [ECSV](https://docs.astropy.org/en/stable/io/ascii/ecsv.html) format are located at <http://cdn.gea.esac.esa.int/Gaia/gdr3/gaia_source/>.\n",
    "\n",
    "We use `gaia_source` table, see its [schema here](https://gea.esac.esa.int/archive/documentation/GDR3/Gaia_archive/chap_datamodel/sec_dm_main_source_catalogue/ssec_dm_gaia_source.html).\n",
    "\n",
    "Here we donwload a few files which barely correspond to the same area of the sky as the DES DR2 files above. The full catalog is much larger, feel free to download it all if you have enough storage."
   ]
  },
  {
   "cell_type": "code",
   "execution_count": null,
   "id": "1b5f72a701f38dbb",
   "metadata": {},
   "outputs": [],
   "source": [
    "# Comment / skip this cell if you already have the data\n",
    "\n",
    "from shutil import copyfileobj\n",
    "\n",
    "import requests  # For downloading files\n",
    "\n",
    "# Download few first files\n",
    "gaia_urls = [\n",
    "    \"http://cdn.gea.esac.esa.int/Gaia/gdr3/gaia_source/GaiaSource_310878-313367.csv.gz\",\n",
    "]\n",
    "\n",
    "for gaia_url in gaia_urls:\n",
    "    gaia_file = GAIA_DIR / Path(gaia_url).name\n",
    "    if not gaia_file.exists():\n",
    "        gaia_file.parent.mkdir(parents=True, exist_ok=True)\n",
    "        with requests.get(gaia_url, stream=True) as r, open(gaia_file, \"wb\") as f:\n",
    "            copyfileobj(r.raw, f)"
   ]
  },
  {
   "cell_type": "markdown",
   "id": "98c884045cd69071",
   "metadata": {
    "collapsed": false
   },
   "source": [
    "## Create Dask client\n",
    "\n",
    "Both `hipscat-import` and `lsdb` use [Dask](https://dask.org) for parallel processing. We create a Dask client here to be used in all the following pipelines steps. We destroy the client at the end of the notebook."
   ]
  },
  {
   "cell_type": "code",
   "execution_count": null,
   "id": "c1ae24c75a169106",
   "metadata": {},
   "outputs": [],
   "source": [
    "# See Dask documentation for the options, e.g. https://distributed.dask.org/en/latest/local-cluster.html\n",
    "# You would likely want to change `n_workers` to have an optimal performance while not going out of memory.\n",
    "client = Client()"
   ]
  },
  {
   "cell_type": "markdown",
   "id": "b0abab73273d15af",
   "metadata": {
    "collapsed": false
   },
   "source": [
    "## Convert the data to HiPSCat format\n",
    "\n",
    "We use the [hipscat-import](https://github.com/astronomy-commons/hipscat-import/) tool to create HiPSCat catalogs from the original data files."
   ]
  },
  {
   "cell_type": "markdown",
   "id": "b59b0f78a4a79180",
   "metadata": {
    "collapsed": false
   },
   "source": [
    "### Convert DES DR2 to HiPSCat\n",
    "\n",
    "- Plan the pipeline specifying all parameters of the conversion\n",
    "- Run the pipeline with [Dask](https://dask.org)"
   ]
  },
  {
   "cell_type": "code",
   "execution_count": null,
   "id": "6c4a751793a5b9d5",
   "metadata": {},
   "outputs": [],
   "source": [
    "des_args = ImportArguments(\n",
    "    sort_columns=\"COADD_OBJECT_ID\",\n",
    "    ra_column=\"RA\",\n",
    "    dec_column=\"DEC\",\n",
    "    input_path=DES_DIR,\n",
    "    file_reader=\"fits\",\n",
    "    output_artifact_name=DES_HIPSCAT_NAME,\n",
    "    output_path=HIPSCAT_DIR,\n",
    "    # Uncomment to overwrite existing catalog\n",
    "    # overwrite=True,\n",
    ")\n",
    "\n",
    "pipeline_with_client(des_args, client)"
   ]
  },
  {
   "cell_type": "markdown",
   "id": "59f4c0a3ff7526cb",
   "metadata": {
    "collapsed": false
   },
   "source": [
    "#### Plot the DES DR2 HiPSCat catalog pixels"
   ]
  },
  {
   "cell_type": "code",
   "execution_count": null,
   "id": "472a0b17149f50ba",
   "metadata": {},
   "outputs": [],
   "source": [
    "# Read the HiPSCat catalog metadata, it does not load any data, just healpix pixels and other metadata\n",
    "des_hipscat_catalog = Catalog.read_from_hipscat(DES_HIPSCAT_DIR)\n",
    "plot_pixels(des_hipscat_catalog)\n",
    "\n",
    "# TODO: add DES footprint to this plot\n",
    "# https://des.ncsa.illinois.edu/static/images/dr2/dr2_footprint.png"
   ]
  },
  {
   "cell_type": "markdown",
   "id": "b25f672d919b3ff0",
   "metadata": {
    "collapsed": false
   },
   "source": [
    "This is what you would get for the full catalog, it would have many healpix tiles instead of just a single one. The reason is that `hipscat-import` splits the data into multiple files to have no more than a million rows per healpix tile / HiPSCat parquet file.\n",
    "\n",
    "![DES Full Catalog Tile map](data:image/png;base64,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)"
   ]
  },
  {
   "cell_type": "markdown",
   "id": "923b51cfa9dcd78",
   "metadata": {
    "collapsed": false
   },
   "source": [
    "Compare it to the DES DR2 footprint:\n",
    "![DES DR2 footprint](https://des.ncsa.illinois.edu/static/images/dr2/dr2_footprint.png)"
   ]
  },
  {
   "cell_type": "markdown",
   "id": "3291125e651b68b7",
   "metadata": {
    "collapsed": false
   },
   "source": [
    "### Convert Gaia DR3 to HiPSCat\n",
    "\n",
    "For Gaia we need to specify schema of the input data, because currently `hipscat-import` cannot infer column data types properly from this dataset.\n",
    "\n",
    "See this GitHub issue for more details: <https://github.com/astronomy-commons/hipscat-import/issues/225>"
   ]
  },
  {
   "cell_type": "code",
   "execution_count": null,
   "id": "87db92f82a8f046f",
   "metadata": {},
   "outputs": [],
   "source": [
    "gaia_file = next(GAIA_DIR.glob(\"*.csv.gz\"))\n",
    "empty_astropy_table = ascii.read(gaia_file, format=\"ecsv\", data_end=1)\n",
    "empty_astropy_table.write(\n",
    "    GAIA_SCHEMA_FILE,\n",
    "    # Uncomment to overwrite existing schema file\n",
    "    # overwrite=True,\n",
    ")"
   ]
  },
  {
   "cell_type": "code",
   "execution_count": null,
   "id": "54857141a690eb58",
   "metadata": {},
   "outputs": [],
   "source": [
    "gaia_args = ImportArguments(\n",
    "    # sort columns are optional and works only if few objects are very close to each other\n",
    "    sort_columns=\"source_id\",\n",
    "    ra_column=\"ra\",\n",
    "    dec_column=\"dec\",\n",
    "    # We select all Gaia ECSV files skipping the schema file\n",
    "    input_file_list=list(GAIA_DIR.glob(\"*.csv.gz\")),\n",
    "    file_reader=CsvReader(\n",
    "        comment=\"#\",\n",
    "        schema_file=GAIA_SCHEMA_FILE,\n",
    "        parquet_kwargs={\"dtype_backend\": \"pyarrow\", \"engine\": \"pyarrow\"},\n",
    "    ),\n",
    "    use_schema_file=GAIA_SCHEMA_FILE,\n",
    "    output_artifact_name=GAIA_HIPSCAT_NAME,\n",
    "    output_path=HIPSCAT_DIR,\n",
    "    # Uncomment to overwrite existing catalog\n",
    "    # overwrite=True,\n",
    ")\n",
    "\n",
    "pipeline_with_client(gaia_args, client)"
   ]
  },
  {
   "cell_type": "markdown",
   "id": "26e8820f4e36ebbc",
   "metadata": {
    "collapsed": false
   },
   "source": [
    "#### Plot the Gaia DR3 HiPSCat catalog pixels"
   ]
  },
  {
   "cell_type": "code",
   "execution_count": null,
   "id": "3e770240a0a22149",
   "metadata": {},
   "outputs": [],
   "source": [
    "# It should be full sky for the whole catalog\n",
    "gaia_hipscat_catalog = Catalog.read_from_hipscat(GAIA_HIPSCAT_DIR)\n",
    "plot_pixels(gaia_hipscat_catalog)"
   ]
  },
  {
   "cell_type": "markdown",
   "id": "9920900e252cceb9",
   "metadata": {
    "collapsed": false
   },
   "source": [
    "And this is how it would look like for the entire Gaia catalog.\n",
    "Notice how Milky Way region is denser and thus has higher healpix order (smaller tiles), since `hipscat-import` limits the maximum number of objects per pixel to be 1 million.\n",
    "\n",
    "![Entire Gaia Sky map](data:image/png;base64,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\n",
    ")"
   ]
  },
  {
   "cell_type": "markdown",
   "id": "e8ab16901f846eac",
   "metadata": {
    "collapsed": false
   },
   "source": [
    "#### Generate matgin cache for the Gaia HiPSCat catalog\n",
    "\n",
    "LSDB requires right-catalog margin cache to generate the complete cross-match result.\n",
    "Without the margin cache, the objects located near the edges of Healpix tiles may be missed in the cross-match."
   ]
  },
  {
   "cell_type": "code",
   "execution_count": null,
   "id": "71ef4fba946b1c79",
   "metadata": {},
   "outputs": [],
   "source": [
    "margin_cache_args = MarginCacheArguments(\n",
    "    input_catalog_path=GAIA_HIPSCAT_DIR,\n",
    "    output_path=HIPSCAT_DIR,\n",
    "    margin_threshold=1.0,  # arcsec\n",
    "    output_artifact_name=GAIA_MARGIN_CACHE_NAME,\n",
    "    # Uncomment to overwrite existing margin cache\n",
    "    # overwrite=True,\n",
    ")\n",
    "\n",
    "pipeline_with_client(margin_cache_args, client)"
   ]
  },
  {
   "cell_type": "markdown",
   "id": "2ca0445754ee9128",
   "metadata": {
    "collapsed": false
   },
   "source": [
    "### Cross-match the catalogs\n",
    "\n",
    "The cross-matching in LSDB is not symmetric, meaning the choice of which catalog is \"left\" and which is \"right\" is crucial. In our case, we cross-match DES (left) to Gaia (right). This setup generally allows for multiple DES objects to be matched to a single Gaia object, a result of margin caches. Margin caches are designed to prevent missing objects near the edges of Healpix tiles. However, they can lead to multiple matches, where the same Gaia object might match to one DES object in its own tile and another DES object in the neighboring tile that includes this Gaia object in its margin cache.\n",
    "\n",
    "However, we do not expect it to be a frequent case, because the DES catalog is much deeper than Gaia, and we use a small cross-match radius. \n",
    "\n",
    "- Plan the pipeline with LSDB\n",
    "- Run the pipeline with [Dask](https://dask.org)"
   ]
  },
  {
   "cell_type": "code",
   "execution_count": null,
   "id": "5bb07cbf3c1b00c8",
   "metadata": {},
   "outputs": [],
   "source": [
    "des_catalog = lsdb.read_hipscat(DES_HIPSCAT_DIR)\n",
    "\n",
    "gaia_margin_cache_catalog = lsdb.read_hipscat(GAIA_MARGIN_CACHE_DIR)\n",
    "gaia_catalog = lsdb.read_hipscat(GAIA_HIPSCAT_DIR, margin_cache=gaia_margin_cache_catalog)\n",
    "\n",
    "xmatched = des_catalog.crossmatch(\n",
    "    gaia_catalog,\n",
    "    # Up to 1 arcsec distance, it is the default\n",
    "    radius_arcsec=1.0,\n",
    "    # Single closest object, it is the default\n",
    "    n_neighbors=1,\n",
    "    # Default would be to use names of the HiPSCat catalogs\n",
    "    suffixes=(\"_des\", \"_gaia\"),\n",
    ")\n",
    "\n",
    "display(des_catalog)\n",
    "display(gaia_catalog)\n",
    "display(xmatched)"
   ]
  },
  {
   "cell_type": "code",
   "execution_count": null,
   "id": "6883784e9316b49",
   "metadata": {},
   "outputs": [],
   "source": [
    "# Run the pipeline with Dask client, it will take a while\n",
    "xmatched.to_hipscat(OUTPUT_HIPSCAT_DIR)"
   ]
  },
  {
   "cell_type": "code",
   "execution_count": null,
   "id": "2e1a3fab1c6dad5f",
   "metadata": {},
   "outputs": [],
   "source": [
    "# Look into the data\n",
    "lsdb.read_hipscat(OUTPUT_HIPSCAT_DIR).head()"
   ]
  },
  {
   "cell_type": "markdown",
   "id": "8a5bc5be90e79a9b",
   "metadata": {
    "collapsed": false
   },
   "source": [
    "### Let's zoom into a small area of the sky and plot the catalogs\n",
    "\n",
    "We will select small \"boxes\" in the sky to load only small parts of the catalogs and plot them.\n",
    "\n",
    "Here we do not load the saved cross-matched catalog, but virtually cross-match the catalogs on the fly each time we run `.compute()`.\n",
    "While it would be more performant to load the cross-matched catalog, the following cell demonstrates that you can work with the cross-matching results without saving them to disk."
   ]
  },
  {
   "cell_type": "code",
   "execution_count": null,
   "id": "1f82e600605a8a0b",
   "metadata": {},
   "outputs": [],
   "source": [
    "ra_range = [0.0, 0.1]\n",
    "dec_range = [2.45, 2.55]\n",
    "\n",
    "des_box = des_catalog.box(ra=ra_range, dec=dec_range).compute()\n",
    "gaia_box = gaia_catalog.box(ra=ra_range, dec=dec_range).compute()\n",
    "xmatch_box = xmatched.box(ra=ra_range, dec=dec_range).compute()\n",
    "\n",
    "ra_des = np.where(des_box[\"RA\"] > 180, des_box[\"RA\"] - 360, des_box[\"RA\"])\n",
    "ra_gaia = np.where(gaia_box[\"ra\"] > 180, gaia_box[\"ra\"] - 360, gaia_box[\"ra\"])\n",
    "ra_x_gaia = np.where(xmatch_box[\"ra_gaia\"] > 180, xmatch_box[\"ra_gaia\"] - 360, xmatch_box[\"ra_gaia\"])\n",
    "\n",
    "plt.figure(figsize=(5, 5))\n",
    "plt.scatter(ra_gaia, gaia_box[\"dec\"], s=50, alpha=1.0, color=\"green\", label=\"Gaia\")\n",
    "plt.scatter(ra_x_gaia, xmatch_box[\"dec_gaia\"], s=10, alpha=1.0, color=\"red\", label=\"x-matched\")\n",
    "plt.scatter(ra_des, des_box[\"DEC\"], s=10, alpha=0.4, marker=\"+\", color=\"blue\", label=\"DES\")\n",
    "plt.xlabel(\"RA\")\n",
    "plt.ylabel(\"Dec\")\n",
    "plt.legend()"
   ]
  },
  {
   "cell_type": "markdown",
   "id": "ae27b15a47eee4a0",
   "metadata": {
    "collapsed": false
   },
   "source": [
    "### Plot the HR diagram\n",
    "\n",
    "Now we may plot the color-magnitude diagram for all the DES stars using Gaia parallaxes. Instead of redoing the cross-match, we will load the saved cross-matched catalog with few columns only."
   ]
  },
  {
   "cell_type": "code",
   "execution_count": null,
   "id": "a20f1614ec634a49",
   "metadata": {},
   "outputs": [],
   "source": [
    "# Read the cross-matched catalog, just like we did before for Gaia and DES,\n",
    "# but keeping few columns only.\n",
    "xmatched_from_disk = lsdb.read_hipscat(\n",
    "    OUTPUT_HIPSCAT_DIR,\n",
    "    columns=[\n",
    "        \"parallax_gaia\",\n",
    "        \"parallax_over_error_gaia\",\n",
    "        \"WAVG_MAG_PSF_G_des\",\n",
    "        \"WAVG_MAG_PSF_R_des\",\n",
    "    ],\n",
    ")\n",
    "\n",
    "# Apply quality flags\n",
    "filtered = xmatched.query(\n",
    "    \"parallax_over_error_gaia > 10.0 and WAVG_MAG_PSF_G_des > 0.0 and WAVG_MAG_PSF_R_des > 0.0\"\n",
    ")\n",
    "\n",
    "# Get Dask data frame from the catalog object\n",
    "ddf = filtered._ddf\n",
    "\n",
    "# get 2D histogram of WAVG_MAG_PSF_R-WAVG_MAG_PSF_I vs WAVG_MAG_PSF_I, lazily\n",
    "color = ddf[\"WAVG_MAG_PSF_G_des\"] - ddf[\"WAVG_MAG_PSF_R_des\"]\n",
    "absolute_r = ddf[\"WAVG_MAG_PSF_R_des\"] + 5 * np.log10(ddf[\"parallax_gaia\"] / 100)\n",
    "\n",
    "x_bins = np.linspace(-1, 2.5, 101)\n",
    "y_bins = np.linspace(0, 20, 101)\n",
    "\n",
    "hist2d = dask.array.histogram2d(color.to_dask_array(), absolute_r.to_dask_array(), bins=[x_bins, y_bins])\n",
    "\n",
    "# Run the computation with Dask client, it will take a while\n",
    "hist2d = hist2d[0].compute()\n",
    "\n",
    "# Plot the 2D histogram\n",
    "plt.imshow(\n",
    "    hist2d.T,\n",
    "    extent=(x_bins[0], x_bins[-1], y_bins[0], y_bins[-1]),\n",
    "    aspect=\"auto\",\n",
    "    origin=\"lower\",\n",
    "    norm=LogNorm(vmin=1, vmax=hist2d.max()),\n",
    ")\n",
    "plt.gca().invert_yaxis()\n",
    "plt.colorbar(label=\"Number of stars\")\n",
    "plt.xlabel(\"$g-r$\")\n",
    "plt.ylabel(\"$M_r$\")\n",
    "plt.title(\"Absolute magnitude — color diagram\")"
   ]
  },
  {
   "cell_type": "markdown",
   "id": "30f4ed99224f8da",
   "metadata": {
    "collapsed": false
   },
   "source": [
    "And this is how it would look like for the entire Gaia + DES cross-matched catalog. This shows ~3.6 million DES stars with Gaia parallaxes left after filtering.\n",
    "\n",
    "![HR Diagram for the entire catalogs](data:image/png;base64,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\n",
    ")"
   ]
  }
 ],
 "metadata": {
  "kernelspec": {
   "display_name": "Python 3",
   "language": "python",
   "name": "python3"
  },
  "language_info": {
   "codemirror_mode": {
    "name": "ipython",
    "version": 2
   },
   "file_extension": ".py",
   "mimetype": "text/x-python",
   "name": "python",
   "nbconvert_exporter": "python",
   "pygments_lexer": "ipython2",
   "version": "2.7.6"
  }
 },
 "nbformat": 4,
 "nbformat_minor": 5
}
