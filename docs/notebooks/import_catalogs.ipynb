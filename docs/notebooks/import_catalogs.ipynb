{
 "cells": [
  {
   "cell_type": "markdown",
   "id": "26685ece166fa3f7",
   "metadata": {
    "collapsed": false
   },
   "source": [
    "# Importing catalogs to HiPSCat format\n",
    "\n",
    "This notebook presents two ways of importing catalogs to HiPSCat format. The first uses the __lsdb.from_dataframe()__ method, which is helpful to load smaller catalogs from a single dataframe, while the second uses the __hipscat import pipeline__."
   ]
  },
  {
   "cell_type": "code",
   "execution_count": null,
   "id": "c2de4ed424644058",
   "metadata": {
    "ExecuteTime": {
     "end_time": "2023-11-06T20:28:14.067394Z",
     "start_time": "2023-11-06T20:28:14.031905Z"
    }
   },
   "outputs": [],
   "source": [
    "import lsdb\n",
    "import os\n",
    "import pandas as pd\n",
    "import shutil"
   ]
  },
  {
   "cell_type": "code",
   "execution_count": null,
   "id": "6b5f76fe439a32b9",
   "metadata": {
    "ExecuteTime": {
     "end_time": "2023-11-06T20:28:14.068472Z",
     "start_time": "2023-11-06T20:28:14.035165Z"
    }
   },
   "outputs": [],
   "source": [
    "catalog_name = \"small_sky_order1\""
   ]
  },
  {
   "cell_type": "code",
   "execution_count": null,
   "id": "59e857888ae9ea70",
   "metadata": {
    "ExecuteTime": {
     "end_time": "2023-11-06T20:28:14.068576Z",
     "start_time": "2023-11-06T20:28:14.039562Z"
    }
   },
   "outputs": [],
   "source": [
    "# Input paths\n",
    "test_data_dir = os.path.join(\"tests\", \"data\")\n",
    "catalog_dir = os.path.join(test_data_dir, catalog_name)\n",
    "catalog_csv_path = os.path.join(catalog_dir, f\"{catalog_name}.csv\")\n",
    "# Output paths\n",
    "catalog_from_dataframe = f\"{catalog_name}-from_dataframe\"\n",
    "catalog_from_importer = f\"{catalog_name}-from_importer\""
   ]
  },
  {
   "cell_type": "code",
   "execution_count": null,
   "id": "8c5ba27a7a7ddbe3",
   "metadata": {
    "ExecuteTime": {
     "end_time": "2023-11-06T20:28:14.068680Z",
     "start_time": "2023-11-06T20:28:14.044877Z"
    }
   },
   "outputs": [],
   "source": [
    "# Clean previous output directories\n",
    "for folder in [catalog_from_dataframe, catalog_from_importer]:\n",
    "    if os.path.exists(folder):\n",
    "        shutil.rmtree(folder)"
   ]
  },
  {
   "cell_type": "markdown",
   "id": "b5e74432b3437e2f",
   "metadata": {
    "collapsed": false
   },
   "source": [
    "## Using lsdb.from_dataframe()"
   ]
  },
  {
   "cell_type": "code",
   "execution_count": null,
   "id": "initial_id",
   "metadata": {
    "ExecuteTime": {
     "end_time": "2023-11-06T20:28:14.091926Z",
     "start_time": "2023-11-06T20:28:14.054224Z"
    }
   },
   "outputs": [],
   "source": [
    "%%time\n",
    "\n",
    "# Read simple catalog from its CSV file\n",
    "catalog = lsdb.from_dataframe(\n",
    "    pd.read_csv(catalog_csv_path),\n",
    "    catalog_name=catalog_from_dataframe,\n",
    "    catalog_type=\"object\",\n",
    "    highest_order=5,\n",
    "    threshold=100\n",
    ")\n",
    "\n",
    "# Save it to disk in HiPSCat format\n",
    "catalog.to_hipscat(catalog_from_dataframe)"
   ]
  },
  {
   "cell_type": "markdown",
   "id": "bc1cc2a7eac29dba",
   "metadata": {
    "collapsed": false
   },
   "source": [
    "## Using the import pipeline"
   ]
  },
  {
   "cell_type": "code",
   "execution_count": null,
   "id": "46bca7773cf6b261",
   "metadata": {
    "ExecuteTime": {
     "end_time": "2023-11-06T20:28:15.328924Z",
     "start_time": "2023-11-06T20:28:14.092529Z"
    }
   },
   "outputs": [],
   "source": [
    "# Install hipscat-import\n",
    "!pip install hipscat-import"
   ]
  },
  {
   "cell_type": "code",
   "execution_count": null,
   "id": "d2d1324d21d62c81",
   "metadata": {
    "ExecuteTime": {
     "end_time": "2023-11-06T20:28:15.332165Z",
     "start_time": "2023-11-06T20:28:15.330190Z"
    }
   },
   "outputs": [],
   "source": [
    "from dask.distributed import Client\n",
    "from hipscat_import.catalog.arguments import ImportArguments\n",
    "from hipscat_import.pipeline import pipeline_with_client"
   ]
  },
  {
   "cell_type": "code",
   "execution_count": null,
   "id": "d9be67178e901acc",
   "metadata": {
    "ExecuteTime": {
     "end_time": "2023-11-06T20:28:15.334570Z",
     "start_time": "2023-11-06T20:28:15.333037Z"
    }
   },
   "outputs": [],
   "source": [
    "# Create directory if it does not yet exist\n",
    "os.makedirs(catalog_from_importer, exist_ok=True)"
   ]
  },
  {
   "cell_type": "code",
   "execution_count": null,
   "id": "59d1538d8545265",
   "metadata": {
    "ExecuteTime": {
     "end_time": "2023-11-06T20:28:15.341524Z",
     "start_time": "2023-11-06T20:28:15.336501Z"
    }
   },
   "outputs": [],
   "source": [
    "args = ImportArguments(\n",
    "    id_column=\"id\",\n",
    "    ra_column=\"ra\",\n",
    "    dec_column=\"dec\",\n",
    "    highest_healpix_order=5,\n",
    "    pixel_threshold=100,\n",
    "    input_path=catalog_dir,\n",
    "    input_format=f\"small_sky_order1.csv\",\n",
    "    output_catalog_name=catalog_from_importer,\n",
    "    output_path=\".\",\n",
    "    dask_tmp=\".\",\n",
    "    overwrite=True,\n",
    ")"
   ]
  },
  {
   "cell_type": "code",
   "execution_count": null,
   "id": "300eb3d3fcbb7b62",
   "metadata": {
    "ExecuteTime": {
     "end_time": "2023-11-06T20:28:19.564943Z",
     "start_time": "2023-11-06T20:28:15.343450Z"
    }
   },
   "outputs": [],
   "source": [
    "%%time\n",
    "with Client(local_directory=args.dask_tmp, n_workers=4) as client:\n",
    "    pipeline_with_client(args, client)"
   ]
  },
  {
   "cell_type": "markdown",
   "id": "5cffa1283ddbca39",
   "metadata": {
    "collapsed": false
   },
   "source": [
    "### Load both catalogs and check that they are equivalent"
   ]
  },
  {
   "cell_type": "code",
   "execution_count": null,
   "id": "620ff4e2b7ae291b",
   "metadata": {
    "ExecuteTime": {
     "end_time": "2023-11-06T20:28:19.574144Z",
     "start_time": "2023-11-06T20:28:19.563203Z"
    }
   },
   "outputs": [],
   "source": [
    "from_dataframe_catalog = lsdb.read_hipscat(catalog_from_dataframe)\n",
    "from_dataframe_catalog._ddf"
   ]
  },
  {
   "cell_type": "code",
   "execution_count": null,
   "id": "575daf21cd4cfcad",
   "metadata": {
    "ExecuteTime": {
     "end_time": "2023-11-06T20:28:19.605682Z",
     "start_time": "2023-11-06T20:28:19.574934Z"
    }
   },
   "outputs": [],
   "source": [
    "from_importer_catalog = lsdb.read_hipscat(catalog_from_importer)\n",
    "from_importer_catalog._ddf"
   ]
  },
  {
   "cell_type": "code",
   "execution_count": null,
   "id": "b9d176a8dc303aa0",
   "metadata": {
    "ExecuteTime": {
     "end_time": "2023-11-06T20:28:19.645899Z",
     "start_time": "2023-11-06T20:28:19.584686Z"
    }
   },
   "outputs": [],
   "source": [
    "# Verify that pixels are similar\n",
    "assert from_dataframe_catalog.get_healpix_pixels() == from_importer_catalog.get_healpix_pixels()\n",
    "# Verify that resulting dataframes contain the same data\n",
    "pd.testing.assert_frame_equal(from_dataframe_catalog._ddf.compute(), from_importer_catalog._ddf.compute())"
   ]
  }
 ],
 "metadata": {
  "kernelspec": {
   "display_name": "Python 3",
   "language": "python",
   "name": "python3"
  },
  "language_info": {
   "codemirror_mode": {
    "name": "ipython",
    "version": 2
   },
   "file_extension": ".py",
   "mimetype": "text/x-python",
   "name": "python",
   "nbconvert_exporter": "python",
   "pygments_lexer": "ipython2",
   "version": "2.7.6"
  }
 },
 "nbformat": 4,
 "nbformat_minor": 5
}
