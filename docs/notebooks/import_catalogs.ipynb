{
 "cells": [
  {
   "cell_type": "markdown",
   "id": "26685ece166fa3f7",
   "metadata": {
    "collapsed": false
   },
   "source": [
    "# Importing catalogs to HiPSCat format\n",
    "\n",
    "This notebook presents two ways of importing catalogs to HiPSCat format. The first uses the __lsdb.from_dataframe()__ method, which is helpful to load smaller catalogs from a single dataframe, while the second uses the __hipscat import pipeline__."
   ]
  },
  {
   "cell_type": "code",
   "execution_count": null,
   "id": "c2de4ed424644058",
   "metadata": {
    "ExecuteTime": {
     "end_time": "2023-11-06T19:28:15.849765Z",
     "start_time": "2023-11-06T19:28:13.969153Z"
    }
   },
   "outputs": [],
   "source": [
    "import lsdb\n",
    "import os\n",
    "import pandas as pd\n",
    "import shutil"
   ]
  },
  {
   "cell_type": "code",
   "execution_count": null,
   "id": "6b5f76fe439a32b9",
   "metadata": {
    "ExecuteTime": {
     "end_time": "2023-11-06T19:28:15.857206Z",
     "start_time": "2023-11-06T19:28:15.850084Z"
    }
   },
   "outputs": [],
   "source": [
    "catalog_name = \"small_sky_order1\""
   ]
  },
  {
   "cell_type": "code",
   "execution_count": null,
   "id": "59e857888ae9ea70",
   "metadata": {
    "ExecuteTime": {
     "end_time": "2023-11-06T19:28:15.857351Z",
     "start_time": "2023-11-06T19:28:15.852385Z"
    }
   },
   "outputs": [],
   "source": [
    "# Input paths\n",
    "test_data_dir = os.path.join(\"tests\", \"data\")\n",
    "catalog_dir = os.path.join(test_data_dir, catalog_name)\n",
    "catalog_csv_path = os.path.join(catalog_dir, f\"{catalog_name}.csv\")\n",
    "# Output paths\n",
    "catalog_from_dataframe = f\"{catalog_name}-from_dataframe\"\n",
    "catalog_from_importer = f\"{catalog_name}-from_importer\""
   ]
  },
  {
   "cell_type": "code",
   "execution_count": null,
   "id": "8c5ba27a7a7ddbe3",
   "metadata": {
    "ExecuteTime": {
     "end_time": "2023-11-06T19:28:15.859031Z",
     "start_time": "2023-11-06T19:28:15.853880Z"
    }
   },
   "outputs": [],
   "source": [
    "# Clean previous output directories\n",
    "for folder in [catalog_from_dataframe, catalog_from_importer]:\n",
    "    if os.path.exists(folder):\n",
    "        shutil.rmtree(folder)"
   ]
  },
  {
   "cell_type": "markdown",
   "id": "b5e74432b3437e2f",
   "metadata": {
    "collapsed": false
   },
   "source": [
    "## Using lsdb.from_dataframe()"
   ]
  },
  {
   "cell_type": "code",
   "execution_count": null,
   "id": "initial_id",
   "metadata": {
    "ExecuteTime": {
     "end_time": "2023-11-06T19:28:16.006626Z",
     "start_time": "2023-11-06T19:28:15.860733Z"
    }
   },
   "outputs": [],
   "source": [
    "%%time\n",
    "\n",
    "# Read simple catalog from its CSV file\n",
    "catalog = lsdb.from_dataframe(\n",
    "    pd.read_csv(catalog_csv_path),\n",
    "    catalog_name=catalog_from_dataframe,\n",
    "    catalog_type=\"object\",\n",
    "    highest_order=5,\n",
    "    threshold=100\n",
    ")\n",
    "\n",
    "# Save it to disk in HiPSCat format\n",
    "catalog.to_hipscat(catalog_from_dataframe)"
   ]
  },
  {
   "cell_type": "markdown",
   "id": "bc1cc2a7eac29dba",
   "metadata": {
    "collapsed": false
   },
   "source": [
    "## Using the import pipeline"
   ]
  },
  {
   "cell_type": "code",
   "execution_count": null,
   "id": "46bca7773cf6b261",
   "metadata": {
    "ExecuteTime": {
     "end_time": "2023-11-06T19:28:17.175402Z",
     "start_time": "2023-11-06T19:28:16.002743Z"
    }
   },
   "outputs": [],
   "source": [
    "# Install hipscat-import\n",
    "!pip install hipscat-import"
   ]
  },
  {
   "cell_type": "code",
   "execution_count": null,
   "id": "d2d1324d21d62c81",
   "metadata": {
    "ExecuteTime": {
     "end_time": "2023-11-06T19:28:17.196174Z",
     "start_time": "2023-11-06T19:28:17.176836Z"
    }
   },
   "outputs": [],
   "source": [
    "from dask.distributed import Client\n",
    "from hipscat_import.catalog.arguments import ImportArguments\n",
    "from hipscat_import.pipeline import pipeline_with_client"
   ]
  },
  {
   "cell_type": "code",
   "execution_count": null,
   "id": "d9be67178e901acc",
   "metadata": {
    "ExecuteTime": {
     "end_time": "2023-11-06T19:28:17.198784Z",
     "start_time": "2023-11-06T19:28:17.196772Z"
    }
   },
   "outputs": [],
   "source": [
    "# Create directory if it does not yet exist\n",
    "os.makedirs(catalog_from_importer, exist_ok=True)"
   ]
  },
  {
   "cell_type": "code",
   "execution_count": null,
   "id": "59d1538d8545265",
   "metadata": {
    "ExecuteTime": {
     "end_time": "2023-11-06T19:28:17.213557Z",
     "start_time": "2023-11-06T19:28:17.199879Z"
    }
   },
   "outputs": [],
   "source": [
    "args = ImportArguments(\n",
    "    id_column=\"id\",\n",
    "    ra_column=\"ra\",\n",
    "    dec_column=\"dec\",\n",
    "    highest_healpix_order=5,\n",
    "    pixel_threshold=100,\n",
    "    input_path=catalog_dir,\n",
    "    input_format=f\"small_sky_order1.csv\",\n",
    "    output_catalog_name=catalog_from_importer,\n",
    "    output_path=\".\",\n",
    "    dask_tmp=\".\",\n",
    "    overwrite=True,\n",
    ")"
   ]
  },
  {
   "cell_type": "code",
   "execution_count": null,
   "id": "300eb3d3fcbb7b62",
   "metadata": {
    "ExecuteTime": {
     "end_time": "2023-11-06T19:28:20.953054Z",
     "start_time": "2023-11-06T19:28:17.213740Z"
    }
   },
   "outputs": [],
   "source": [
    "%%time\n",
    "with Client(local_directory=args.dask_tmp, n_workers=4) as client:\n",
    "    pipeline_with_client(args, client)"
   ]
  },
  {
   "cell_type": "markdown",
   "id": "5cffa1283ddbca39",
   "metadata": {
    "collapsed": false
   },
   "source": [
    "### Load both catalogs and check that they are equivalent"
   ]
  },
  {
   "cell_type": "code",
   "execution_count": null,
   "id": "620ff4e2b7ae291b",
   "metadata": {
    "ExecuteTime": {
     "end_time": "2023-11-06T19:30:43.483134Z",
     "start_time": "2023-11-06T19:30:43.465603Z"
    }
   },
   "outputs": [],
   "source": [
    "from_dataframe_catalog = lsdb.read_hipscat(catalog_from_dataframe)\n",
    "from_dataframe_catalog._ddf"
   ]
  },
  {
   "cell_type": "code",
   "execution_count": null,
   "id": "575daf21cd4cfcad",
   "metadata": {
    "ExecuteTime": {
     "end_time": "2023-11-06T19:42:09.515643Z",
     "start_time": "2023-11-06T19:42:09.461091Z"
    }
   },
   "outputs": [],
   "source": [
    "from_importer_catalog = lsdb.read_hipscat(catalog_from_importer)\n",
    "from_importer_catalog._ddf"
   ]
  },
  {
   "cell_type": "code",
   "execution_count": null,
   "id": "b9d176a8dc303aa0",
   "metadata": {
    "ExecuteTime": {
     "start_time": "2023-11-06T19:32:30.120339Z"
    }
   },
   "outputs": [],
   "source": [
    "# Verify that pixels are similar\n",
    "assert from_dataframe_catalog.get_healpix_pixels() == from_importer_catalog.get_healpix_pixels()\n",
    "# Verify that resulting dataframes contain the same data\n",
    "pd.testing.assert_frame_equal(from_dataframe_catalog._ddf.compute(), from_importer_catalog._ddf.compute())"
   ]
  }
 ],
 "metadata": {
  "kernelspec": {
   "display_name": "Python 3",
   "language": "python",
   "name": "python3"
  },
  "language_info": {
   "codemirror_mode": {
    "name": "ipython",
    "version": 2
   },
   "file_extension": ".py",
   "mimetype": "text/x-python",
   "name": "python",
   "nbconvert_exporter": "python",
   "pygments_lexer": "ipython2",
   "version": "2.7.6"
  }
 },
 "nbformat": 4,
 "nbformat_minor": 5
}
