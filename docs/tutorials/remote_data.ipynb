{
 "cells": [
  {
   "cell_type": "markdown",
   "metadata": {},
   "source": [
    "# Accessing Remote Data\n",
    "\n",
    "If you're accessing HATS catalogs on a local file system, a typical path string like `\"/path/to/catalogs\"` will be sufficient. This tutorial will help you get started if you need to access data over HTTP/S, cloud storage, or have some additional parameters for connecting to your data.\n",
    "\n",
    "We use [fsspec](https://github.com/fsspec/filesystem_spec) and [universal_pathlib](https://github.com/fsspec/universal_pathlib) to create connections to remote sources for data. Please refer to their documentation for a list of supported filesystems and any filesystem-specific parameters.\n",
    "\n",
    "Below, we provide some a basic workflow for accessing remote data, as well as filesystem-specific hints."
   ]
  },
  {
   "cell_type": "markdown",
   "metadata": {},
   "source": [
    "## HTTP / HTTPS\n",
    "\n",
    "Firstly, make sure to install the fsspect http package:\n",
    "\n",
    "```\n",
    "pip install aiohttp \n",
    "```\n",
    "OR\n",
    "```\n",
    "conda install aiohttp\n",
    "```\n",
    "\n",
    "Occasionally, with HTTPS data, you may see issues with missing certificates. If you encounter a `FileNotFoundError`, but you're pretty sure the file should be found:\n",
    "\n",
    "1. Check your network and server availability\n",
    "2. On Linux be sure that openSSL and ca-certificates are in place\n",
    "3. On Mac run `/Applications/Python\\ 3.*/Install\\ Certificates.command`"
   ]
  },
  {
   "cell_type": "code",
   "execution_count": null,
   "metadata": {},
   "outputs": [],
   "source": [
    "from upath import UPath\n",
    "\n",
    "test_path = UPath(\"https://data.lsdb.io/hats/gaia_dr3/gaia/\")\n",
    "test_path.exists()"
   ]
  },
  {
   "cell_type": "code",
   "execution_count": null,
   "metadata": {},
   "outputs": [],
   "source": [
    "import lsdb\n",
    "\n",
    "cat = lsdb.read_hats(\"https://data.lsdb.io/hats/gaia_dr3/gaia/\")\n",
    "cat"
   ]
  }
 ],
 "metadata": {
  "kernelspec": {
   "display_name": "hipscatenv",
   "language": "python",
   "name": "python3"
  },
  "language_info": {
   "codemirror_mode": {
    "name": "ipython",
    "version": 3
   },
   "file_extension": ".py",
   "mimetype": "text/x-python",
   "name": "python",
   "nbconvert_exporter": "python",
   "pygments_lexer": "ipython3",
   "version": "3.10.14"
  }
 },
 "nbformat": 4,
 "nbformat_minor": 2
}
