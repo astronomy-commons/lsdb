{
 "cells": [
  {
   "cell_type": "markdown",
   "id": "cb1cb6a4-a0bc-44f2-ae48-d4de23e14c56",
   "metadata": {
    "tags": []
   },
   "source": [
    "# Column filtering (e.g. columns=)\n",
    "\n",
    "In this tutorial, we will demonstrate how to:\n",
    "- Load a HATS catalog with the default set of columns\n",
    "- Load a HATS catalog with all available columns\n",
    "- Load a HATS catalog with a specified subset of columns"
   ]
  },
  {
   "cell_type": "markdown",
   "id": "36c18815",
   "metadata": {},
   "source": [
    "## Introduction\n",
    "\n",
    "To improve performance and readability when working with large catalogs, users can specify the column names they want to load instead of loading the entire dataset. This approach reduces memory usage and speeds up data processing by avoiding unnecessary data retrieval."
   ]
  },
  {
   "cell_type": "code",
   "execution_count": null,
   "id": "e16078b4-47b8-4939-83c4-1ad28bf1592e",
   "metadata": {},
   "outputs": [],
   "source": [
    "# Import LSDB.\n",
    "\n",
    "import lsdb"
   ]
  },
  {
   "cell_type": "code",
   "execution_count": null,
   "id": "105ef48f",
   "metadata": {},
   "outputs": [],
   "source": [
    "# Start a Dask client.\n",
    "\n",
    "from dask.distributed import Client\n",
    "\n",
    "client = Client(n_workers=4, memory_limit=\"auto\")"
   ]
  },
  {
   "cell_type": "code",
   "execution_count": null,
   "id": "8520df60-167d-42f8-bc2c-e771d4ff75bd",
   "metadata": {},
   "outputs": [],
   "source": [
    "# Specify the path to the LSDB catalog you want to use.\n",
    "\n",
    "surveys_path = \"https://data.lsdb.io/hats/\"\n",
    "ztf_object_path = f\"{surveys_path}/ztf_dr14/ztf_object\""
   ]
  },
  {
   "cell_type": "markdown",
   "id": "5516620e",
   "metadata": {},
   "source": [
    "## 1. Load the catalog with default columns"
   ]
  },
  {
   "cell_type": "code",
   "execution_count": null,
   "id": "8e4f8212",
   "metadata": {},
   "outputs": [],
   "source": [
    "ztf_object = lsdb.open_catalog(ztf_object_path)\n",
    "ztf_object"
   ]
  },
  {
   "cell_type": "markdown",
   "id": "bceb00cf",
   "metadata": {},
   "source": [
    "## 2. Load the catalog with all columns"
   ]
  },
  {
   "cell_type": "code",
   "execution_count": null,
   "id": "412ed402",
   "metadata": {},
   "outputs": [],
   "source": [
    "ztf_object = lsdb.open_catalog(ztf_object_path, columns=\"all\")\n",
    "ztf_object"
   ]
  },
  {
   "cell_type": "markdown",
   "id": "ac66ecf4",
   "metadata": {},
   "source": [
    "## 3. Load the catalog with a specific subset of columns"
   ]
  },
  {
   "cell_type": "code",
   "execution_count": null,
   "id": "e34adc1c",
   "metadata": {},
   "outputs": [],
   "source": [
    "ztf_object = lsdb.open_catalog(ztf_object_path, columns=[\"ps1_objid\", \"ra\", \"dec\", \"mean_mag_r\"])\n",
    "ztf_object"
   ]
  },
  {
   "cell_type": "markdown",
   "id": "a7717ea4",
   "metadata": {},
   "source": [
    "## Closing the Dask client"
   ]
  },
  {
   "cell_type": "code",
   "execution_count": null,
   "id": "32b90716-d4b3-4a51-8838-44af2ea89703",
   "metadata": {},
   "outputs": [],
   "source": [
    "client.close()"
   ]
  },
  {
   "cell_type": "markdown",
   "id": "2f6b5798",
   "metadata": {},
   "source": [
    "## About\n",
    "\n",
    "**Authors**: Olivia Lynn\n",
    "\n",
    "**Last updated on**: May 20, 2025\n",
    "\n",
    "If you use `lsdb` for published research, please cite following [instructions](https://docs.lsdb.io/en/stable/citation.html)."
   ]
  }
 ],
 "metadata": {
  "kernelspec": {
   "display_name": "Python 3 (ipykernel)",
   "language": "python",
   "name": "python3"
  },
  "language_info": {
   "codemirror_mode": {
    "name": "ipython",
    "version": 3
   },
   "file_extension": ".py",
   "mimetype": "text/x-python",
   "name": "python",
   "nbconvert_exporter": "python",
   "pygments_lexer": "ipython3",
   "version": "3.12.9"
  }
 },
 "nbformat": 4,
 "nbformat_minor": 5
}
