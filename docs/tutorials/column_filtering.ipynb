{
 "cells": [
  {
   "cell_type": "markdown",
   "id": "cb1cb6a4-a0bc-44f2-ae48-d4de23e14c56",
   "metadata": {
    "tags": []
   },
   "source": [
    "# Column filtering (e.g. columns=)\n",
    "\n",
    "To improve performance and readability when working with large catalogs, users can specify the column names they want to load instead of loading the entire dataset. This approach reduces memory usage and speeds up data processing by avoiding unnecessary data retrieval"
   ]
  },
  {
   "cell_type": "code",
   "execution_count": null,
   "id": "e16078b4-47b8-4939-83c4-1ad28bf1592e",
   "metadata": {},
   "outputs": [],
   "source": [
    "# Import LSDB and start a Dask client.\n",
    "\n",
    "import lsdb\n",
    "\n",
    "from dask.distributed import Client\n",
    "\n",
    "client = Client(n_workers=4, memory_limit=\"auto\")"
   ]
  },
  {
   "cell_type": "code",
   "execution_count": null,
   "id": "8520df60-167d-42f8-bc2c-e771d4ff75bd",
   "metadata": {},
   "outputs": [],
   "source": [
    "# Specify the path to the LSDB catalog you want to use.\n",
    "\n",
    "surveys_path = \"https://data.lsdb.io/hats/\"\n",
    "ztf_object_path = f\"{surveys_path}/ztf_dr14/ztf_object\""
   ]
  },
  {
   "cell_type": "markdown",
   "id": "5516620e",
   "metadata": {},
   "source": [
    "## Load the catalog with all columns"
   ]
  },
  {
   "cell_type": "code",
   "execution_count": null,
   "id": "8e4f8212",
   "metadata": {},
   "outputs": [],
   "source": [
    "ztf_object = lsdb.open_catalog(ztf_object_path)\n",
    "ztf_object"
   ]
  },
  {
   "cell_type": "markdown",
   "id": "ac66ecf4",
   "metadata": {},
   "source": [
    "## Load the catalog with a subset of columns"
   ]
  },
  {
   "cell_type": "code",
   "execution_count": null,
   "id": "e34adc1c",
   "metadata": {},
   "outputs": [],
   "source": [
    "ztf_object = lsdb.open_catalog(ztf_object_path, columns=[\"ps1_objid\", \"ra\", \"dec\", \"mean_mag_r\"])\n",
    "ztf_object"
   ]
  },
  {
   "cell_type": "code",
   "execution_count": null,
   "id": "32b90716-d4b3-4a51-8838-44af2ea89703",
   "metadata": {},
   "outputs": [],
   "source": [
    "# Close the Dask client.\n",
    "\n",
    "client.close()"
   ]
  },
  {
   "cell_type": "markdown",
   "id": "2f6b5798",
   "metadata": {},
   "source": [
    "## About\n",
    "\n",
    "**Authors**: Olivia Lynn\n",
    "\n",
    "**Last updated on**: May 19, 2025\n",
    "\n",
    "If you use `lsdb` for published research, please cite following [instructions](https://docs.lsdb.io/en/stable/citation.html)."
   ]
  }
 ],
 "metadata": {
  "kernelspec": {
   "display_name": "Python 3 (ipykernel)",
   "language": "python",
   "name": "python3"
  },
  "language_info": {
   "codemirror_mode": {
    "name": "ipython",
    "version": 3
   },
   "file_extension": ".py",
   "mimetype": "text/x-python",
   "name": "python",
   "nbconvert_exporter": "python",
   "pygments_lexer": "ipython3",
   "version": "3.12.9"
  }
 },
 "nbformat": 4,
 "nbformat_minor": 5
}
