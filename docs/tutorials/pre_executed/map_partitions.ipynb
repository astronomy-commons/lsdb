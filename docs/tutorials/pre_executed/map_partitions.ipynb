{
 "cells": [
  {
   "cell_type": "markdown",
   "id": "6b790eee",
   "metadata": {},
   "source": [
    "# Simple Example with map_partitions\n",
    "\n",
    "LSDB/HATS catalogs are organized into partitions, and this number of partitions is reported as `npartitions=` in the header, whenever printing a catalog.\n",
    "\n",
    "This can be used to distribute operations across the catalog with maximum efficiency."
   ]
  },
  {
   "cell_type": "code",
   "execution_count": 1,
   "id": "ff803be2-c4c9-4bf8-8fe0-5b7e896d6478",
   "metadata": {
    "execution": {
     "iopub.execute_input": "2025-03-19T00:20:18.477889Z",
     "iopub.status.busy": "2025-03-19T00:20:18.477680Z",
     "iopub.status.idle": "2025-03-19T00:20:18.663581Z",
     "shell.execute_reply": "2025-03-19T00:20:18.662977Z",
     "shell.execute_reply.started": "2025-03-19T00:20:18.477870Z"
    }
   },
   "outputs": [],
   "source": [
    "# Dask puts out more advisory logging that we care for.\n",
    "# It takes some doing to quiet all of it, but this recipe works.\n",
    "\n",
    "import dask\n",
    "\n",
    "dask.config.set({\"logging.distributed\": \"critical\"})\n",
    "\n",
    "# This also has to be done, for the above to be effective\n",
    "logger = logging.getLogger(\"distributed\")\n",
    "logger.setLevel(logging.CRITICAL)\n",
    "\n",
    "import warnings\n",
    "\n",
    "# Finally, suppress the specific warning about Dask dashboard port usage\n",
    "warnings.filterwarnings(\"ignore\", message=\"Port 8787 is already in use.\")"
   ]
  },
  {
   "cell_type": "code",
   "execution_count": 2,
   "id": "a21bad26",
   "metadata": {
    "execution": {
     "iopub.execute_input": "2025-03-19T00:20:18.666340Z",
     "iopub.status.busy": "2025-03-19T00:20:18.666145Z",
     "iopub.status.idle": "2025-03-19T00:20:27.237641Z",
     "shell.execute_reply": "2025-03-19T00:20:27.237115Z",
     "shell.execute_reply.started": "2025-03-19T00:20:18.666321Z"
    }
   },
   "outputs": [
    {
     "data": {
      "text/html": [
       "<div><strong>lsdb Catalog gaia:</strong></div><div>\n",
       "<style scoped>\n",
       "    .dataframe tbody tr th:only-of-type {\n",
       "        vertical-align: middle;\n",
       "    }\n",
       "\n",
       "    .dataframe tbody tr th {\n",
       "        vertical-align: top;\n",
       "    }\n",
       "\n",
       "    .dataframe thead th {\n",
       "        text-align: right;\n",
       "    }\n",
       "</style>\n",
       "<table border=\"1\" class=\"dataframe\">\n",
       "  <thead>\n",
       "    <tr style=\"text-align: right;\">\n",
       "      <th></th>\n",
       "      <th>source_id</th>\n",
       "      <th>ra</th>\n",
       "      <th>dec</th>\n",
       "      <th>phot_g_mean_mag</th>\n",
       "    </tr>\n",
       "    <tr>\n",
       "      <th>npartitions=4</th>\n",
       "      <th></th>\n",
       "      <th></th>\n",
       "      <th></th>\n",
       "      <th></th>\n",
       "    </tr>\n",
       "  </thead>\n",
       "  <tbody>\n",
       "    <tr>\n",
       "      <th>Order: 4, Pixel: 2944</th>\n",
       "      <td>int64[pyarrow]</td>\n",
       "      <td>double[pyarrow]</td>\n",
       "      <td>double[pyarrow]</td>\n",
       "      <td>double[pyarrow]</td>\n",
       "    </tr>\n",
       "    <tr>\n",
       "      <th>Order: 4, Pixel: 2945</th>\n",
       "      <td>...</td>\n",
       "      <td>...</td>\n",
       "      <td>...</td>\n",
       "      <td>...</td>\n",
       "    </tr>\n",
       "    <tr>\n",
       "      <th>Order: 4, Pixel: 2946</th>\n",
       "      <td>...</td>\n",
       "      <td>...</td>\n",
       "      <td>...</td>\n",
       "      <td>...</td>\n",
       "    </tr>\n",
       "    <tr>\n",
       "      <th>Order: 4, Pixel: 2947</th>\n",
       "      <td>...</td>\n",
       "      <td>...</td>\n",
       "      <td>...</td>\n",
       "      <td>...</td>\n",
       "    </tr>\n",
       "  </tbody>\n",
       "</table>\n",
       "</div><div>The catalog has been loaded <strong>lazily</strong>, meaning no data has been read, only the catalog schema</div>"
      ],
      "text/plain": [
       "Dask NestedFrame Structure:\n",
       "                          source_id               ra              dec  phot_g_mean_mag\n",
       "npartitions=4                                                                         \n",
       "3314649325744685056  int64[pyarrow]  double[pyarrow]  double[pyarrow]  double[pyarrow]\n",
       "3315775225651527680             ...              ...              ...              ...\n",
       "3316901125558370304             ...              ...              ...              ...\n",
       "3318027025465212928             ...              ...              ...              ...\n",
       "3319152925372055552             ...              ...              ...              ...\n",
       "Dask Name: search_points, 5 expressions\n",
       "Expr=MapPartitions(search_points)"
      ]
     },
     "execution_count": 2,
     "metadata": {},
     "output_type": "execute_result"
    }
   ],
   "source": [
    "import lsdb\n",
    "\n",
    "gaia_root = \"https://data.lsdb.io/hats\"\n",
    "gaia3 = lsdb.read_hats(\n",
    "    f\"{gaia_root}/gaia_dr3/gaia\",\n",
    "    margin_cache=f\"{gaia_root}/gaia_dr3/gaia_10arcs\",\n",
    "    search_filter=lsdb.ConeSearch(ra=280, dec=-60, radius_arcsec=2 * 3600),\n",
    "    columns=[\n",
    "        \"source_id\",\n",
    "        \"ra\",\n",
    "        \"dec\",\n",
    "        \"phot_g_mean_mag\",\n",
    "    ],\n",
    ")\n",
    "gaia3"
   ]
  },
  {
   "cell_type": "code",
   "execution_count": 3,
   "id": "7276c506",
   "metadata": {
    "execution": {
     "iopub.execute_input": "2025-03-19T00:20:27.239996Z",
     "iopub.status.busy": "2025-03-19T00:20:27.239818Z",
     "iopub.status.idle": "2025-03-19T00:20:27.243641Z",
     "shell.execute_reply": "2025-03-19T00:20:27.243087Z",
     "shell.execute_reply.started": "2025-03-19T00:20:27.239979Z"
    }
   },
   "outputs": [
    {
     "data": {
      "text/plain": [
       "4"
      ]
     },
     "execution_count": 3,
     "metadata": {},
     "output_type": "execute_result"
    }
   ],
   "source": [
    "# You can get the number of partitions programmatically this way.\n",
    "# This can be valuable when you want to choose the optimal number\n",
    "# of workers to process the partitions.\n",
    "len(gaia3.get_healpix_pixels())"
   ]
  },
  {
   "cell_type": "code",
   "execution_count": 4,
   "id": "dc88d6fb",
   "metadata": {
    "execution": {
     "iopub.execute_input": "2025-03-19T00:20:27.245823Z",
     "iopub.status.busy": "2025-03-19T00:20:27.245640Z",
     "iopub.status.idle": "2025-03-19T00:20:27.260770Z",
     "shell.execute_reply": "2025-03-19T00:20:27.260190Z",
     "shell.execute_reply.started": "2025-03-19T00:20:27.245807Z"
    }
   },
   "outputs": [
    {
     "data": {
      "text/plain": [
       "(np.int64(4), np.int64(2944))"
      ]
     },
     "execution_count": 4,
     "metadata": {},
     "output_type": "execute_result"
    }
   ],
   "source": [
    "# The individual elements of that list are HealpixPixel objects whose order\n",
    "# and pixel you can inspect, if desired.\n",
    "px = gaia3.get_healpix_pixels()[0]\n",
    "px.order, px.pixel"
   ]
  },
  {
   "cell_type": "markdown",
   "id": "036d0560",
   "metadata": {},
   "source": [
    "## Generating New Columns\n",
    "\n",
    "Since the partition's `DataFrame` is passed in to you, you can augment it with new columns based on the existing columns, in ordinary Pandas style.\n",
    "\n",
    "### What you can map\n",
    "\n",
    "The trick is understanding what kind of function you can pass to `.map_partitions`.  Your function is going to receive a Pandas DataFrame as its first parameter.  Other parameters can be passed in as keyword arguments to `.map_partitions`, as you'll see later on.  For now, we'll use a function that takes in one partition and produces a result that has the same shape.\n",
    "\n",
    "Because the catalog is loaded lazily, `.map_partitions` also returns a lazy, or unevaluated, result.  You can realize it by either calling `.compute()` (to produce a `DataFrame` in memory) or `.to_hats()` (to serialize it to disk as a HATS-format file)."
   ]
  },
  {
   "cell_type": "code",
   "execution_count": 5,
   "id": "9fe9acfc",
   "metadata": {
    "execution": {
     "iopub.execute_input": "2025-03-19T00:20:27.263309Z",
     "iopub.status.busy": "2025-03-19T00:20:27.262962Z",
     "iopub.status.idle": "2025-03-19T00:20:27.295913Z",
     "shell.execute_reply": "2025-03-19T00:20:27.295378Z",
     "shell.execute_reply.started": "2025-03-19T00:20:27.263290Z"
    }
   },
   "outputs": [
    {
     "data": {
      "text/html": [
       "<div><strong>lsdb Catalog gaia:</strong></div><div>\n",
       "<style scoped>\n",
       "    .dataframe tbody tr th:only-of-type {\n",
       "        vertical-align: middle;\n",
       "    }\n",
       "\n",
       "    .dataframe tbody tr th {\n",
       "        vertical-align: top;\n",
       "    }\n",
       "\n",
       "    .dataframe thead th {\n",
       "        text-align: right;\n",
       "    }\n",
       "</style>\n",
       "<table border=\"1\" class=\"dataframe\">\n",
       "  <thead>\n",
       "    <tr style=\"text-align: right;\">\n",
       "      <th></th>\n",
       "      <th>source_id</th>\n",
       "      <th>ra</th>\n",
       "      <th>dec</th>\n",
       "      <th>phot_g_mean_mag</th>\n",
       "      <th>phot_g_mean_mag_sq</th>\n",
       "    </tr>\n",
       "    <tr>\n",
       "      <th>npartitions=4</th>\n",
       "      <th></th>\n",
       "      <th></th>\n",
       "      <th></th>\n",
       "      <th></th>\n",
       "      <th></th>\n",
       "    </tr>\n",
       "  </thead>\n",
       "  <tbody>\n",
       "    <tr>\n",
       "      <th>Order: 4, Pixel: 2944</th>\n",
       "      <td>int64[pyarrow]</td>\n",
       "      <td>double[pyarrow]</td>\n",
       "      <td>double[pyarrow]</td>\n",
       "      <td>double[pyarrow]</td>\n",
       "      <td>double[pyarrow]</td>\n",
       "    </tr>\n",
       "    <tr>\n",
       "      <th>Order: 4, Pixel: 2945</th>\n",
       "      <td>...</td>\n",
       "      <td>...</td>\n",
       "      <td>...</td>\n",
       "      <td>...</td>\n",
       "      <td>...</td>\n",
       "    </tr>\n",
       "    <tr>\n",
       "      <th>Order: 4, Pixel: 2946</th>\n",
       "      <td>...</td>\n",
       "      <td>...</td>\n",
       "      <td>...</td>\n",
       "      <td>...</td>\n",
       "      <td>...</td>\n",
       "    </tr>\n",
       "    <tr>\n",
       "      <th>Order: 4, Pixel: 2947</th>\n",
       "      <td>...</td>\n",
       "      <td>...</td>\n",
       "      <td>...</td>\n",
       "      <td>...</td>\n",
       "      <td>...</td>\n",
       "    </tr>\n",
       "  </tbody>\n",
       "</table>\n",
       "</div><div>The catalog has been loaded <strong>lazily</strong>, meaning no data has been read, only the catalog schema</div>"
      ],
      "text/plain": [
       "Dask NestedFrame Structure:\n",
       "                          source_id               ra              dec  phot_g_mean_mag phot_g_mean_mag_sq\n",
       "npartitions=4                                                                                            \n",
       "3314649325744685056  int64[pyarrow]  double[pyarrow]  double[pyarrow]  double[pyarrow]    double[pyarrow]\n",
       "3315775225651527680             ...              ...              ...              ...                ...\n",
       "3316901125558370304             ...              ...              ...              ...                ...\n",
       "3318027025465212928             ...              ...              ...              ...                ...\n",
       "3319152925372055552             ...              ...              ...              ...                ...\n",
       "Dask Name: nestedframe, 7 expressions\n",
       "Expr=MapPartitions(NestedFrame)"
      ]
     },
     "execution_count": 5,
     "metadata": {},
     "output_type": "execute_result"
    }
   ],
   "source": [
    "def mean_sq(df, pixel):\n",
    "    df[\"phot_g_mean_mag_sq\"] = df[\"phot_g_mean_mag\"] ** 2\n",
    "    return df\n",
    "\n",
    "\n",
    "unrealized = gaia3.map_partitions(mean_sq, include_pixel=True)\n",
    "unrealized"
   ]
  },
  {
   "cell_type": "markdown",
   "id": "a16fa7e9-2fc3-4e26-89aa-cf050493e363",
   "metadata": {},
   "source": [
    "This unrealized result has a top-level property indicating how many partitions it has.  We can use this to choose our number of workers directly.\n",
    "\n",
    "However, it's a good idea to bound the number of workers, in case the number of partitions is larger that we expect (or we move this code fragment elsewhere)."
   ]
  },
  {
   "cell_type": "code",
   "execution_count": 6,
   "id": "eb04c74a",
   "metadata": {
    "execution": {
     "iopub.execute_input": "2025-03-19T00:20:27.298394Z",
     "iopub.status.busy": "2025-03-19T00:20:27.298206Z",
     "iopub.status.idle": "2025-03-19T00:20:37.333830Z",
     "shell.execute_reply": "2025-03-19T00:20:37.333303Z",
     "shell.execute_reply.started": "2025-03-19T00:20:27.298376Z"
    }
   },
   "outputs": [
    {
     "name": "stdout",
     "output_type": "stream",
     "text": [
      "CPU times: user 1.31 s, sys: 174 ms, total: 1.49 s\n",
      "Wall time: 10 s\n"
     ]
    },
    {
     "data": {
      "text/html": [
       "<table border=\"1\" class=\"dataframe\">\n",
       "  <thead>\n",
       "    <tr style=\"text-align: right;\">\n",
       "      <th></th>\n",
       "      <th>source_id</th>\n",
       "      <th>ra</th>\n",
       "      <th>dec</th>\n",
       "      <th>phot_g_mean_mag</th>\n",
       "      <th>phot_g_mean_mag_sq</th>\n",
       "    </tr>\n",
       "    <tr>\n",
       "      <th>_healpix_29</th>\n",
       "      <th></th>\n",
       "      <th></th>\n",
       "      <th></th>\n",
       "      <th></th>\n",
       "      <th></th>\n",
       "    </tr>\n",
       "  </thead>\n",
       "  <tbody>\n",
       "    <tr>\n",
       "      <th>3315212135629220059</th>\n",
       "      <td>6630424242158614528</td>\n",
       "      <td>279.475941</td>\n",
       "      <td>-61.973682</td>\n",
       "      <td>20.157476</td>\n",
       "      <td>406.323839</td>\n",
       "    </tr>\n",
       "    <tr>\n",
       "      <th>3315212197603296958</th>\n",
       "      <td>6630424379597543936</td>\n",
       "      <td>279.40738</td>\n",
       "      <td>-61.977054</td>\n",
       "      <td>19.488537</td>\n",
       "      <td>379.803074</td>\n",
       "    </tr>\n",
       "    <tr>\n",
       "      <th>...</th>\n",
       "      <td>...</td>\n",
       "      <td>...</td>\n",
       "      <td>...</td>\n",
       "      <td>...</td>\n",
       "      <td>...</td>\n",
       "    </tr>\n",
       "    <tr>\n",
       "      <th>3318663093295462547</th>\n",
       "      <td>6637326190180387584</td>\n",
       "      <td>280.426265</td>\n",
       "      <td>-58.015067</td>\n",
       "      <td>21.097507</td>\n",
       "      <td>445.104802</td>\n",
       "    </tr>\n",
       "    <tr>\n",
       "      <th>3318663093808668415</th>\n",
       "      <td>6637326185883831296</td>\n",
       "      <td>280.423503</td>\n",
       "      <td>-58.013744</td>\n",
       "      <td>20.301455</td>\n",
       "      <td>412.149075</td>\n",
       "    </tr>\n",
       "  </tbody>\n",
       "</table>\n",
       "<p>469102 rows × 5 columns</p>"
      ],
      "text/plain": [
       "                               source_id          ra        dec  \\\n",
       "_healpix_29                                                       \n",
       "3315212135629220059  6630424242158614528  279.475941 -61.973682   \n",
       "3315212197603296958  6630424379597543936   279.40738 -61.977054   \n",
       "...                                  ...         ...        ...   \n",
       "3318663093295462547  6637326190180387584  280.426265 -58.015067   \n",
       "3318663093808668415  6637326185883831296  280.423503 -58.013744   \n",
       "\n",
       "                     phot_g_mean_mag  phot_g_mean_mag_sq  \n",
       "_healpix_29                                               \n",
       "3315212135629220059        20.157476          406.323839  \n",
       "3315212197603296958        19.488537          379.803074  \n",
       "...                              ...                 ...  \n",
       "3318663093295462547        21.097507          445.104802  \n",
       "3318663093808668415        20.301455          412.149075  \n",
       "\n",
       "[469102 rows x 5 columns]"
      ]
     },
     "execution_count": 6,
     "metadata": {},
     "output_type": "execute_result"
    }
   ],
   "source": [
    "%%time\n",
    "npartitions = len(gaia3.get_healpix_pixels())\n",
    "from dask.distributed import Client\n",
    "\n",
    "with Client(n_workers=min(8, npartitions)) as client:\n",
    "    result = unrealized.compute()\n",
    "result"
   ]
  },
  {
   "cell_type": "markdown",
   "id": "eb134afe",
   "metadata": {},
   "source": [
    "No reduction step is needed here since the operation is not a reducing operation.\n",
    "There are as many rows in the new output as there were in the input."
   ]
  },
  {
   "cell_type": "markdown",
   "id": "0aa390b4-cf26-4d69-aaeb-525979f79bc7",
   "metadata": {},
   "source": [
    "## Functions that reduce\n",
    "\n",
    "The above works when your output rows are the same as your input rows.  When you're doing a reducing operation (such as calculating statistics), the process changes a little."
   ]
  },
  {
   "cell_type": "markdown",
   "id": "b17ae459",
   "metadata": {},
   "source": [
    "## What you can map\n",
    "\n",
    "### Your function's parameters\n",
    "\n",
    "Again, your first input parameter is a `pd.DataFrame` that is one partition of the catalog, and the return value of your function needs to be the same, even if your result has only a single row.\n",
    "\n",
    "If you want to know the HEALPix number of the partition, calling `.map_partitions` with `include_pixel=True` will pass that as the second parameter to your function.  We'll do this in this example, for demonstration purposes, though it isn't strictly necessary to this task.\n",
    "\n",
    "If you have any other parameters that your function requires, take them as keyword arguments, and you can pass their values in as such, when calling `.map_partitions`.  Our example will do this, too, taking a `target_column=` argument.\n",
    "\n",
    "## What you get back\n",
    "\n",
    "The operation we're going to do here is a reducing operation (min and max), and it will be run on each partition, reducing the many rows in each partition to a single value.  This means that the output of `.map_partitions` in this case will contain *one row per partition*.  Thus, you will need to do additional reduction on this output in order to get a single final result."
   ]
  },
  {
   "cell_type": "code",
   "execution_count": 7,
   "id": "e216f1d1",
   "metadata": {
    "execution": {
     "iopub.execute_input": "2025-03-19T00:20:37.336306Z",
     "iopub.status.busy": "2025-03-19T00:20:37.336086Z",
     "iopub.status.idle": "2025-03-19T00:20:37.339907Z",
     "shell.execute_reply": "2025-03-19T00:20:37.339428Z",
     "shell.execute_reply.started": "2025-03-19T00:20:37.336288Z"
    }
   },
   "outputs": [],
   "source": [
    "# Given a target column, produce a DataFrame that has nothing but\n",
    "# the min and max values for that column.\n",
    "#\n",
    "# Note that the function must work correctly when given an empty DataFrame\n",
    "# as an input, too; if not, you're obliged to provide \"meta\", that is,\n",
    "# information about argument type and shape.  It's certainly easier to\n",
    "# simply handle DataFrames when you can.\n",
    "import pandas as pd\n",
    "\n",
    "\n",
    "def find_stats(df, pixel, target_column=\"\"):\n",
    "    min_val = df[target_column].min()\n",
    "    max_val = df[target_column].max()\n",
    "    return pd.DataFrame(\n",
    "        [\n",
    "            {\n",
    "                \"pixel\": pixel,\n",
    "                f\"{target_column}_min\": min_val,\n",
    "                f\"{target_column}_max\": max_val,\n",
    "            }\n",
    "        ]\n",
    "    )"
   ]
  },
  {
   "cell_type": "code",
   "execution_count": 8,
   "id": "30ec3bcc",
   "metadata": {
    "execution": {
     "iopub.execute_input": "2025-03-19T00:20:37.342199Z",
     "iopub.status.busy": "2025-03-19T00:20:37.341989Z",
     "iopub.status.idle": "2025-03-19T00:20:37.361053Z",
     "shell.execute_reply": "2025-03-19T00:20:37.360423Z",
     "shell.execute_reply.started": "2025-03-19T00:20:37.342181Z"
    }
   },
   "outputs": [],
   "source": [
    "unrealized = gaia3.map_partitions(\n",
    "    find_stats,\n",
    "    include_pixel=True,\n",
    "    # Keyword arguments after 'include_pixel=' are passed to your function.\n",
    "    target_column=\"phot_g_mean_mag\",\n",
    ")"
   ]
  },
  {
   "cell_type": "code",
   "execution_count": 9,
   "id": "51dc5f95",
   "metadata": {
    "execution": {
     "iopub.execute_input": "2025-03-19T00:20:37.363552Z",
     "iopub.status.busy": "2025-03-19T00:20:37.363320Z",
     "iopub.status.idle": "2025-03-19T00:20:46.596586Z",
     "shell.execute_reply": "2025-03-19T00:20:46.595773Z",
     "shell.execute_reply.started": "2025-03-19T00:20:37.363532Z"
    }
   },
   "outputs": [
    {
     "name": "stdout",
     "output_type": "stream",
     "text": [
      "CPU times: user 521 ms, sys: 72.2 ms, total: 593 ms\n",
      "Wall time: 9.22 s\n"
     ]
    },
    {
     "data": {
      "text/html": [
       "<table border=\"1\" class=\"dataframe\">\n",
       "  <thead>\n",
       "    <tr style=\"text-align: right;\">\n",
       "      <th></th>\n",
       "      <th>pixel</th>\n",
       "      <th>phot_g_mean_mag_min</th>\n",
       "      <th>phot_g_mean_mag_max</th>\n",
       "    </tr>\n",
       "  </thead>\n",
       "  <tbody>\n",
       "    <tr>\n",
       "      <th>0</th>\n",
       "      <td>Order: 4, Pixel: 2944</td>\n",
       "      <td>8.154537</td>\n",
       "      <td>22.033451</td>\n",
       "    </tr>\n",
       "    <tr>\n",
       "      <th>0</th>\n",
       "      <td>Order: 4, Pixel: 2945</td>\n",
       "      <td>5.508409</td>\n",
       "      <td>22.345750</td>\n",
       "    </tr>\n",
       "    <tr>\n",
       "      <th>0</th>\n",
       "      <td>Order: 4, Pixel: 2946</td>\n",
       "      <td>6.264917</td>\n",
       "      <td>22.076380</td>\n",
       "    </tr>\n",
       "    <tr>\n",
       "      <th>0</th>\n",
       "      <td>Order: 4, Pixel: 2947</td>\n",
       "      <td>6.154421</td>\n",
       "      <td>21.986425</td>\n",
       "    </tr>\n",
       "  </tbody>\n",
       "</table>\n",
       "<p>4 rows × 3 columns</p>"
      ],
      "text/plain": [
       "                   pixel  phot_g_mean_mag_min  phot_g_mean_mag_max\n",
       "0  Order: 4, Pixel: 2944             8.154537            22.033451\n",
       "0  Order: 4, Pixel: 2945             5.508409            22.345750\n",
       "0  Order: 4, Pixel: 2946             6.264917            22.076380\n",
       "0  Order: 4, Pixel: 2947             6.154421            21.986425"
      ]
     },
     "execution_count": 9,
     "metadata": {},
     "output_type": "execute_result"
    }
   ],
   "source": [
    "%%time\n",
    "npartitions = len(gaia3.get_healpix_pixels())\n",
    "from dask.distributed import Client\n",
    "\n",
    "with Client(n_workers=min(8, npartitions)) as client:\n",
    "    result = unrealized.compute()\n",
    "result"
   ]
  },
  {
   "cell_type": "markdown",
   "id": "dc892c79-0217-41f5-b5f0-2b04adb521e4",
   "metadata": {},
   "source": [
    "The objects in the 'pixel' column are the same type as from `get_healpix_pixels()`."
   ]
  },
  {
   "cell_type": "code",
   "execution_count": 10,
   "id": "67458c9a",
   "metadata": {
    "execution": {
     "iopub.execute_input": "2025-03-19T00:20:46.599698Z",
     "iopub.status.busy": "2025-03-19T00:20:46.599445Z",
     "iopub.status.idle": "2025-03-19T00:20:46.604324Z",
     "shell.execute_reply": "2025-03-19T00:20:46.603812Z",
     "shell.execute_reply.started": "2025-03-19T00:20:46.599678Z"
    }
   },
   "outputs": [
    {
     "data": {
      "text/plain": [
       "hats.pixel_math.healpix_pixel.HealpixPixel"
      ]
     },
     "execution_count": 10,
     "metadata": {},
     "output_type": "execute_result"
    }
   ],
   "source": [
    "type(result[\"pixel\"].iloc[0])"
   ]
  },
  {
   "cell_type": "markdown",
   "id": "a5f2e7ae-b726-45f8-85f1-585ce9844450",
   "metadata": {},
   "source": [
    "Because the result is one row per partition, we need additional reduction to get our single answer."
   ]
  },
  {
   "cell_type": "code",
   "execution_count": 11,
   "id": "f82b3a23",
   "metadata": {
    "execution": {
     "iopub.execute_input": "2025-03-19T00:20:46.608594Z",
     "iopub.status.busy": "2025-03-19T00:20:46.607925Z",
     "iopub.status.idle": "2025-03-19T00:20:46.618203Z",
     "shell.execute_reply": "2025-03-19T00:20:46.617641Z",
     "shell.execute_reply.started": "2025-03-19T00:20:46.608564Z"
    }
   },
   "outputs": [
    {
     "data": {
      "text/plain": [
       "(5.508409, 22.34575)"
      ]
     },
     "execution_count": 11,
     "metadata": {},
     "output_type": "execute_result"
    }
   ],
   "source": [
    "result[\"phot_g_mean_mag_min\"].min(), result[\"phot_g_mean_mag_max\"].max()"
   ]
  },
  {
   "cell_type": "markdown",
   "id": "8bca02ea-4d18-4eaa-b58f-6406b456eb9c",
   "metadata": {},
   "source": [
    "What about searching not only the four partitions from our cone search, but the whole catalog?  All that changes is the number of partitions."
   ]
  },
  {
   "cell_type": "code",
   "execution_count": 12,
   "id": "b5ce67d8",
   "metadata": {
    "execution": {
     "iopub.execute_input": "2025-03-19T00:20:46.619040Z",
     "iopub.status.busy": "2025-03-19T00:20:46.618835Z",
     "iopub.status.idle": "2025-03-19T00:20:51.124818Z",
     "shell.execute_reply": "2025-03-19T00:20:51.124195Z",
     "shell.execute_reply.started": "2025-03-19T00:20:46.619023Z"
    }
   },
   "outputs": [],
   "source": [
    "gaia3_all = lsdb.read_hats(\n",
    "    f\"{gaia_root}/gaia_dr3/gaia\",\n",
    "    margin_cache=f\"{gaia_root}/gaia_dr3/gaia_10arcs\",\n",
    "    columns=[\n",
    "        \"source_id\",\n",
    "        \"ra\",\n",
    "        \"dec\",\n",
    "        \"phot_g_mean_mag\",\n",
    "    ],\n",
    ")\n",
    "unrealized = gaia3_all.map_partitions(\n",
    "    find_stats,\n",
    "    include_pixel=True,\n",
    "    # Keyword arguments after 'include_pixel=' are passed to your\n",
    "    # function\n",
    "    target_column=\"phot_g_mean_mag\",\n",
    ")\n",
    "npartitions = len(unrealized.get_healpix_pixels())"
   ]
  },
  {
   "cell_type": "code",
   "execution_count": 13,
   "id": "c41f0150",
   "metadata": {
    "execution": {
     "iopub.execute_input": "2025-03-19T00:20:51.125740Z",
     "iopub.status.busy": "2025-03-19T00:20:51.125516Z",
     "iopub.status.idle": "2025-03-19T00:20:51.129482Z",
     "shell.execute_reply": "2025-03-19T00:20:51.128962Z",
     "shell.execute_reply.started": "2025-03-19T00:20:51.125721Z"
    }
   },
   "outputs": [
    {
     "data": {
      "text/plain": [
       "3933"
      ]
     },
     "execution_count": 13,
     "metadata": {},
     "output_type": "execute_result"
    }
   ],
   "source": [
    "npartitions"
   ]
  },
  {
   "cell_type": "markdown",
   "id": "bf33d66f-0a7f-4238-80f3-51d439b076e4",
   "metadata": {},
   "source": [
    "That's a lot of partitions!  If we didn't bound this value, we could easily overwhelm our cluster.\n",
    "\n",
    "This operation is light on compute, so let's give each worker several threads."
   ]
  },
  {
   "cell_type": "code",
   "execution_count": 14,
   "id": "f6774bd7",
   "metadata": {
    "execution": {
     "iopub.execute_input": "2025-03-19T00:20:51.130575Z",
     "iopub.status.busy": "2025-03-19T00:20:51.130105Z",
     "iopub.status.idle": "2025-03-19T00:27:38.072518Z",
     "shell.execute_reply": "2025-03-19T00:27:38.071351Z",
     "shell.execute_reply.started": "2025-03-19T00:20:51.130551Z"
    }
   },
   "outputs": [
    {
     "name": "stderr",
     "output_type": "stream",
     "text": []
    },
    {
     "name": "stdout",
     "output_type": "stream",
     "text": [
      "CPU times: user 1min 28s, sys: 6.46 s, total: 1min 35s\n",
      "Wall time: 6min 46s\n"
     ]
    },
    {
     "data": {
      "text/html": [
       "<table border=\"1\" class=\"dataframe\">\n",
       "  <thead>\n",
       "    <tr style=\"text-align: right;\">\n",
       "      <th></th>\n",
       "      <th>pixel</th>\n",
       "      <th>phot_g_mean_mag_min</th>\n",
       "      <th>phot_g_mean_mag_max</th>\n",
       "    </tr>\n",
       "  </thead>\n",
       "  <tbody>\n",
       "    <tr>\n",
       "      <th>0</th>\n",
       "      <td>Order: 2, Pixel: 0</td>\n",
       "      <td>3.382374</td>\n",
       "      <td>22.452248</td>\n",
       "    </tr>\n",
       "    <tr>\n",
       "      <th>0</th>\n",
       "      <td>Order: 3, Pixel: 4</td>\n",
       "      <td>3.836123</td>\n",
       "      <td>22.281105</td>\n",
       "    </tr>\n",
       "    <tr>\n",
       "      <th>...</th>\n",
       "      <td>...</td>\n",
       "      <td>...</td>\n",
       "      <td>...</td>\n",
       "    </tr>\n",
       "    <tr>\n",
       "      <th>0</th>\n",
       "      <td>Order: 4, Pixel: 3067</td>\n",
       "      <td>6.026669</td>\n",
       "      <td>22.432905</td>\n",
       "    </tr>\n",
       "    <tr>\n",
       "      <th>0</th>\n",
       "      <td>Order: 3, Pixel: 767</td>\n",
       "      <td>3.449377</td>\n",
       "      <td>22.423697</td>\n",
       "    </tr>\n",
       "  </tbody>\n",
       "</table>\n",
       "<p>3933 rows × 3 columns</p>"
      ],
      "text/plain": [
       "                    pixel  phot_g_mean_mag_min  phot_g_mean_mag_max\n",
       "0      Order: 2, Pixel: 0             3.382374            22.452248\n",
       "0      Order: 3, Pixel: 4             3.836123            22.281105\n",
       "..                    ...                  ...                  ...\n",
       "0   Order: 4, Pixel: 3067             6.026669            22.432905\n",
       "0    Order: 3, Pixel: 767             3.449377            22.423697\n",
       "\n",
       "[3933 rows x 3 columns]"
      ]
     },
     "execution_count": 14,
     "metadata": {},
     "output_type": "execute_result"
    }
   ],
   "source": [
    "%%time\n",
    "with Client(n_workers=min(8, npartitions), memory_limit=\"4GB\", threads_per_worker=4) as client:\n",
    "    result = unrealized.compute()\n",
    "result"
   ]
  },
  {
   "cell_type": "code",
   "execution_count": 15,
   "id": "568ed81d",
   "metadata": {
    "execution": {
     "iopub.execute_input": "2025-03-19T00:27:38.074263Z",
     "iopub.status.busy": "2025-03-19T00:27:38.073803Z",
     "iopub.status.idle": "2025-03-19T00:27:38.083196Z",
     "shell.execute_reply": "2025-03-19T00:27:38.082324Z",
     "shell.execute_reply.started": "2025-03-19T00:27:38.074221Z"
    }
   },
   "outputs": [
    {
     "data": {
      "text/plain": [
       "(1.731607, 22.956425)"
      ]
     },
     "execution_count": 15,
     "metadata": {},
     "output_type": "execute_result"
    }
   ],
   "source": [
    "# We need to do a final reduction step to get the true min and max\n",
    "result[\"phot_g_mean_mag_min\"].min(), result[\"phot_g_mean_mag_max\"].max()"
   ]
  },
  {
   "cell_type": "markdown",
   "id": "bd4b0c69-cf65-4066-bbc7-662219e46085",
   "metadata": {},
   "source": [
    "Since we just searched the whole catalog, we can check our answer\n",
    "against the statistics that were compiled at import time for the\n",
    "catalog.  As you can see, they match what we got when using\n",
    "the `.map_partitions` method."
   ]
  },
  {
   "cell_type": "code",
   "execution_count": 16,
   "id": "9f919773",
   "metadata": {
    "execution": {
     "iopub.execute_input": "2025-03-19T00:27:38.084249Z",
     "iopub.status.busy": "2025-03-19T00:27:38.084006Z",
     "iopub.status.idle": "2025-03-19T00:27:42.765949Z",
     "shell.execute_reply": "2025-03-19T00:27:42.765315Z",
     "shell.execute_reply.started": "2025-03-19T00:27:38.084224Z"
    }
   },
   "outputs": [
    {
     "data": {
      "text/html": [
       "<div>\n",
       "<style scoped>\n",
       "    .dataframe tbody tr th:only-of-type {\n",
       "        vertical-align: middle;\n",
       "    }\n",
       "\n",
       "    .dataframe tbody tr th {\n",
       "        vertical-align: top;\n",
       "    }\n",
       "\n",
       "    .dataframe thead th {\n",
       "        text-align: right;\n",
       "    }\n",
       "</style>\n",
       "<table border=\"1\" class=\"dataframe\">\n",
       "  <thead>\n",
       "    <tr style=\"text-align: right;\">\n",
       "      <th></th>\n",
       "      <th>min_value</th>\n",
       "      <th>max_value</th>\n",
       "      <th>null_count</th>\n",
       "    </tr>\n",
       "    <tr>\n",
       "      <th>column_names</th>\n",
       "      <th></th>\n",
       "      <th></th>\n",
       "      <th></th>\n",
       "    </tr>\n",
       "  </thead>\n",
       "  <tbody>\n",
       "    <tr>\n",
       "      <th>phot_g_mean_mag</th>\n",
       "      <td>1.731607</td>\n",
       "      <td>22.956425</td>\n",
       "      <td>5455339.0</td>\n",
       "    </tr>\n",
       "  </tbody>\n",
       "</table>\n",
       "</div>"
      ],
      "text/plain": [
       "                 min_value  max_value  null_count\n",
       "column_names                                     \n",
       "phot_g_mean_mag   1.731607  22.956425   5455339.0"
      ]
     },
     "execution_count": 16,
     "metadata": {},
     "output_type": "execute_result"
    }
   ],
   "source": [
    "gaia3_all.hc_structure.aggregate_column_statistics(include_columns=\"phot_g_mean_mag\")"
   ]
  },
  {
   "cell_type": "markdown",
   "id": "aae086b8",
   "metadata": {},
   "source": [
    "## Histograms\n",
    "\n",
    "Here's another example that requires a reduction and a change\n",
    "in data shape.\n",
    "\n",
    "Suppose we want to bin observations by magnitude in the G band.\n",
    "We'll need to load different columns than before,\n",
    "since we didn't include observations earlier.\n",
    "\n",
    "This is more involved than the straightforward `pd.DataFrame.hist`\n",
    "because each row contains some number of observations, and we want\n",
    "to sum these observations within each magnitude bin."
   ]
  },
  {
   "cell_type": "code",
   "execution_count": 17,
   "id": "57245970",
   "metadata": {
    "execution": {
     "iopub.execute_input": "2025-03-19T00:27:42.766891Z",
     "iopub.status.busy": "2025-03-19T00:27:42.766669Z",
     "iopub.status.idle": "2025-03-19T00:27:46.299876Z",
     "shell.execute_reply": "2025-03-19T00:27:46.299373Z",
     "shell.execute_reply.started": "2025-03-19T00:27:42.766873Z"
    }
   },
   "outputs": [
    {
     "data": {
      "text/html": [
       "<div><strong>lsdb Catalog gaia:</strong></div><div>\n",
       "<style scoped>\n",
       "    .dataframe tbody tr th:only-of-type {\n",
       "        vertical-align: middle;\n",
       "    }\n",
       "\n",
       "    .dataframe tbody tr th {\n",
       "        vertical-align: top;\n",
       "    }\n",
       "\n",
       "    .dataframe thead th {\n",
       "        text-align: right;\n",
       "    }\n",
       "</style>\n",
       "<table border=\"1\" class=\"dataframe\">\n",
       "  <thead>\n",
       "    <tr style=\"text-align: right;\">\n",
       "      <th></th>\n",
       "      <th>source_id</th>\n",
       "      <th>ra</th>\n",
       "      <th>dec</th>\n",
       "      <th>phot_g_mean_mag</th>\n",
       "      <th>phot_g_n_obs</th>\n",
       "    </tr>\n",
       "    <tr>\n",
       "      <th>npartitions=4</th>\n",
       "      <th></th>\n",
       "      <th></th>\n",
       "      <th></th>\n",
       "      <th></th>\n",
       "      <th></th>\n",
       "    </tr>\n",
       "  </thead>\n",
       "  <tbody>\n",
       "    <tr>\n",
       "      <th>Order: 4, Pixel: 2944</th>\n",
       "      <td>int64[pyarrow]</td>\n",
       "      <td>double[pyarrow]</td>\n",
       "      <td>double[pyarrow]</td>\n",
       "      <td>double[pyarrow]</td>\n",
       "      <td>int64[pyarrow]</td>\n",
       "    </tr>\n",
       "    <tr>\n",
       "      <th>Order: 4, Pixel: 2945</th>\n",
       "      <td>...</td>\n",
       "      <td>...</td>\n",
       "      <td>...</td>\n",
       "      <td>...</td>\n",
       "      <td>...</td>\n",
       "    </tr>\n",
       "    <tr>\n",
       "      <th>Order: 4, Pixel: 2946</th>\n",
       "      <td>...</td>\n",
       "      <td>...</td>\n",
       "      <td>...</td>\n",
       "      <td>...</td>\n",
       "      <td>...</td>\n",
       "    </tr>\n",
       "    <tr>\n",
       "      <th>Order: 4, Pixel: 2947</th>\n",
       "      <td>...</td>\n",
       "      <td>...</td>\n",
       "      <td>...</td>\n",
       "      <td>...</td>\n",
       "      <td>...</td>\n",
       "    </tr>\n",
       "  </tbody>\n",
       "</table>\n",
       "</div><div>The catalog has been loaded <strong>lazily</strong>, meaning no data has been read, only the catalog schema</div>"
      ],
      "text/plain": [
       "Dask NestedFrame Structure:\n",
       "                          source_id               ra              dec  phot_g_mean_mag    phot_g_n_obs\n",
       "npartitions=4                                                                                         \n",
       "3314649325744685056  int64[pyarrow]  double[pyarrow]  double[pyarrow]  double[pyarrow]  int64[pyarrow]\n",
       "3315775225651527680             ...              ...              ...              ...             ...\n",
       "3316901125558370304             ...              ...              ...              ...             ...\n",
       "3318027025465212928             ...              ...              ...              ...             ...\n",
       "3319152925372055552             ...              ...              ...              ...             ...\n",
       "Dask Name: search_points, 5 expressions\n",
       "Expr=MapPartitions(search_points)"
      ]
     },
     "execution_count": 17,
     "metadata": {},
     "output_type": "execute_result"
    }
   ],
   "source": [
    "import lsdb\n",
    "\n",
    "gaia3 = lsdb.read_hats(\n",
    "    f\"{gaia_root}/gaia_dr3/gaia\",\n",
    "    margin_cache=f\"{gaia_root}/gaia_dr3/gaia_10arcs\",\n",
    "    search_filter=lsdb.ConeSearch(ra=280, dec=-60, radius_arcsec=2 * 3600),\n",
    "    columns=[\n",
    "        \"source_id\",\n",
    "        \"ra\",\n",
    "        \"dec\",\n",
    "        \"phot_g_mean_mag\",\n",
    "        \"phot_g_n_obs\",\n",
    "    ],\n",
    ")\n",
    "gaia3"
   ]
  },
  {
   "cell_type": "markdown",
   "id": "902edefb",
   "metadata": {},
   "source": [
    "### All Within Memory\n",
    "\n",
    "First, what does it look like to do it all within memory?"
   ]
  },
  {
   "cell_type": "code",
   "execution_count": 18,
   "id": "4029e796",
   "metadata": {
    "execution": {
     "iopub.execute_input": "2025-03-19T00:27:46.300703Z",
     "iopub.status.busy": "2025-03-19T00:27:46.300497Z",
     "iopub.status.idle": "2025-03-19T00:27:50.245255Z",
     "shell.execute_reply": "2025-03-19T00:27:50.244717Z",
     "shell.execute_reply.started": "2025-03-19T00:27:46.300686Z"
    }
   },
   "outputs": [
    {
     "name": "stdout",
     "output_type": "stream",
     "text": [
      "CPU times: user 929 ms, sys: 406 ms, total: 1.34 s\n",
      "Wall time: 3.92 s\n"
     ]
    },
    {
     "data": {
      "text/html": [
       "<table border=\"1\" class=\"dataframe\">\n",
       "  <thead>\n",
       "    <tr style=\"text-align: right;\">\n",
       "      <th></th>\n",
       "      <th>source_id</th>\n",
       "      <th>ra</th>\n",
       "      <th>dec</th>\n",
       "      <th>phot_g_mean_mag</th>\n",
       "      <th>phot_g_n_obs</th>\n",
       "    </tr>\n",
       "    <tr>\n",
       "      <th>_healpix_29</th>\n",
       "      <th></th>\n",
       "      <th></th>\n",
       "      <th></th>\n",
       "      <th></th>\n",
       "      <th></th>\n",
       "    </tr>\n",
       "  </thead>\n",
       "  <tbody>\n",
       "    <tr>\n",
       "      <th>3315212135629220059</th>\n",
       "      <td>6630424242158614528</td>\n",
       "      <td>279.475941</td>\n",
       "      <td>-61.973682</td>\n",
       "      <td>20.157476</td>\n",
       "      <td>298</td>\n",
       "    </tr>\n",
       "    <tr>\n",
       "      <th>3315212197603296958</th>\n",
       "      <td>6630424379597543936</td>\n",
       "      <td>279.40738</td>\n",
       "      <td>-61.977054</td>\n",
       "      <td>19.488537</td>\n",
       "      <td>346</td>\n",
       "    </tr>\n",
       "    <tr>\n",
       "      <th>...</th>\n",
       "      <td>...</td>\n",
       "      <td>...</td>\n",
       "      <td>...</td>\n",
       "      <td>...</td>\n",
       "      <td>...</td>\n",
       "    </tr>\n",
       "    <tr>\n",
       "      <th>3318663093295462547</th>\n",
       "      <td>6637326190180387584</td>\n",
       "      <td>280.426265</td>\n",
       "      <td>-58.015067</td>\n",
       "      <td>21.097507</td>\n",
       "      <td>42</td>\n",
       "    </tr>\n",
       "    <tr>\n",
       "      <th>3318663093808668415</th>\n",
       "      <td>6637326185883831296</td>\n",
       "      <td>280.423503</td>\n",
       "      <td>-58.013744</td>\n",
       "      <td>20.301455</td>\n",
       "      <td>336</td>\n",
       "    </tr>\n",
       "  </tbody>\n",
       "</table>\n",
       "<p>469102 rows × 5 columns</p>"
      ],
      "text/plain": [
       "                               source_id          ra        dec  \\\n",
       "_healpix_29                                                       \n",
       "3315212135629220059  6630424242158614528  279.475941 -61.973682   \n",
       "3315212197603296958  6630424379597543936   279.40738 -61.977054   \n",
       "...                                  ...         ...        ...   \n",
       "3318663093295462547  6637326190180387584  280.426265 -58.015067   \n",
       "3318663093808668415  6637326185883831296  280.423503 -58.013744   \n",
       "\n",
       "                     phot_g_mean_mag  phot_g_n_obs  \n",
       "_healpix_29                                         \n",
       "3315212135629220059        20.157476           298  \n",
       "3315212197603296958        19.488537           346  \n",
       "...                              ...           ...  \n",
       "3318663093295462547        21.097507            42  \n",
       "3318663093808668415        20.301455           336  \n",
       "\n",
       "[469102 rows x 5 columns]"
      ]
     },
     "execution_count": 18,
     "metadata": {},
     "output_type": "execute_result"
    }
   ],
   "source": [
    "%%time\n",
    "df = gaia3.compute()\n",
    "df"
   ]
  },
  {
   "cell_type": "markdown",
   "id": "805e0198",
   "metadata": {},
   "source": [
    "Note that the four partitions become over 450k rows once they are computed.  The lazily-loaded\n",
    "catalog can't show you how many total rows there are before computing, only the number of\n",
    "partitions."
   ]
  },
  {
   "cell_type": "code",
   "execution_count": 19,
   "id": "492c745e",
   "metadata": {
    "execution": {
     "iopub.execute_input": "2025-03-19T00:27:50.246360Z",
     "iopub.status.busy": "2025-03-19T00:27:50.245914Z",
     "iopub.status.idle": "2025-03-19T00:27:50.740147Z",
     "shell.execute_reply": "2025-03-19T00:27:50.739604Z",
     "shell.execute_reply.started": "2025-03-19T00:27:50.246335Z"
    }
   },
   "outputs": [
    {
     "data": {
      "image/png": "[encoded data removed]",
      "text/plain": [
       "<Figure size 640x480 with 1 Axes>"
      ]
     },
     "metadata": {},
     "output_type": "display_data"
    }
   ],
   "source": [
    "from matplotlib import pyplot as plt\n",
    "\n",
    "mag_bins = list(range(5, 25, 1))\n",
    "plt.hist(df[\"phot_g_mean_mag\"], bins=mag_bins, weights=df[\"phot_g_n_obs\"])\n",
    "plt.yscale(\"log\")"
   ]
  },
  {
   "cell_type": "markdown",
   "id": "5c4b5a12",
   "metadata": {},
   "source": [
    "This is a small enough amount of data that it's easy to handle it\n",
    "in-memory.  But we wouldn't be able to do this on the whole Gaia3\n",
    "catalog.  For that, we'll need to use `.map_partitions`, and we'll\n",
    "test this function on the same small piece of data before launching\n",
    "it across the entire catalog.\n",
    "\n",
    "The first step is to understand that we'll be creating partial histograms,\n",
    "that is, a histogram for each partition, and we'll need to reduce those\n",
    "down to a single histogram at the end.  One consequence of this is\n",
    "the need to have the same number of bins in each partial histogram,\n",
    "`mag_bins` in this case.  Often when producing a histogram, it's common\n",
    "to let Pandas or `pd.cut` pick the bin boundaries given a number of\n",
    "bins, but that will work against us in this case, since each partition\n",
    "will have a different min and max, and the partial histograms won't\n",
    "reduce."
   ]
  },
  {
   "cell_type": "code",
   "execution_count": 20,
   "id": "0fe6fd45",
   "metadata": {
    "execution": {
     "iopub.execute_input": "2025-03-19T00:27:50.741099Z",
     "iopub.status.busy": "2025-03-19T00:27:50.740869Z",
     "iopub.status.idle": "2025-03-19T00:27:50.744672Z",
     "shell.execute_reply": "2025-03-19T00:27:50.744102Z",
     "shell.execute_reply.started": "2025-03-19T00:27:50.741080Z"
    }
   },
   "outputs": [],
   "source": [
    "# This function only requires and returns one DataFrame: no pixel\n",
    "# argument, no additional arguments.\n",
    "def observation_histogram(df):\n",
    "    df[\"binned\"] = pd.cut(df[\"phot_g_mean_mag\"], mag_bins)\n",
    "    binned_data = df.groupby(\"binned\", observed=True)[\"phot_g_n_obs\"].sum()\n",
    "    return pd.DataFrame(binned_data)"
   ]
  },
  {
   "cell_type": "markdown",
   "id": "14b924be",
   "metadata": {},
   "source": [
    "First, we test our new function on our single in-memory `DataFrame`, to\n",
    "see that we get the results we expect."
   ]
  },
  {
   "cell_type": "code",
   "execution_count": 21,
   "id": "ae913148",
   "metadata": {
    "execution": {
     "iopub.execute_input": "2025-03-19T00:27:50.745715Z",
     "iopub.status.busy": "2025-03-19T00:27:50.745323Z",
     "iopub.status.idle": "2025-03-19T00:27:51.264683Z",
     "shell.execute_reply": "2025-03-19T00:27:51.264077Z",
     "shell.execute_reply.started": "2025-03-19T00:27:50.745694Z"
    }
   },
   "outputs": [
    {
     "data": {
      "image/png": "[encoded data removed]",
      "text/plain": [
       "<Figure size 640x480 with 1 Axes>"
      ]
     },
     "metadata": {},
     "output_type": "display_data"
    }
   ],
   "source": [
    "import matplotlib.pyplot as plt\n",
    "import numpy as np\n",
    "\n",
    "fig, ax = plt.subplots()\n",
    "\n",
    "bd = observation_histogram(df)\n",
    "\n",
    "bd.plot(kind=\"bar\", ax=ax, label=\"Observations\")\n",
    "\n",
    "ax.set_title(\"Histogram of Detections by Magnitude Bins\")\n",
    "ax.set_xlabel(\"G Band Magnitudes\")\n",
    "ax.set_ylabel(\"Total Sources\")\n",
    "\n",
    "ax.legend()\n",
    "ax.set_yscale(\"log\")\n",
    "\n",
    "plt.show()"
   ]
  },
  {
   "cell_type": "markdown",
   "id": "8b3eca1c",
   "metadata": {},
   "source": [
    "### Using map_partitions\n",
    "\n",
    "The above went pretty quickly, because our cone search is keeping our data small.\n",
    "But if it were a much larger slice of the sky, this next technique would matter\n",
    "more.\n",
    "\n",
    "As before, `.map_partitions` will give us one result per partition, so we need\n",
    "to be prepared to do a final combination step."
   ]
  },
  {
   "cell_type": "code",
   "execution_count": 22,
   "id": "7095533b",
   "metadata": {
    "execution": {
     "iopub.execute_input": "2025-03-19T00:27:51.265678Z",
     "iopub.status.busy": "2025-03-19T00:27:51.265439Z",
     "iopub.status.idle": "2025-03-19T00:27:51.287644Z",
     "shell.execute_reply": "2025-03-19T00:27:51.287115Z",
     "shell.execute_reply.started": "2025-03-19T00:27:51.265659Z"
    }
   },
   "outputs": [
    {
     "data": {
      "text/html": [
       "<div><strong>lsdb Catalog gaia:</strong></div><div>\n",
       "<style scoped>\n",
       "    .dataframe tbody tr th:only-of-type {\n",
       "        vertical-align: middle;\n",
       "    }\n",
       "\n",
       "    .dataframe tbody tr th {\n",
       "        vertical-align: top;\n",
       "    }\n",
       "\n",
       "    .dataframe thead th {\n",
       "        text-align: right;\n",
       "    }\n",
       "</style>\n",
       "<table border=\"1\" class=\"dataframe\">\n",
       "  <thead>\n",
       "    <tr style=\"text-align: right;\">\n",
       "      <th></th>\n",
       "      <th>phot_g_n_obs</th>\n",
       "    </tr>\n",
       "    <tr>\n",
       "      <th>npartitions=4</th>\n",
       "      <th></th>\n",
       "    </tr>\n",
       "  </thead>\n",
       "  <tbody>\n",
       "    <tr>\n",
       "      <th>Order: 4, Pixel: 2944</th>\n",
       "      <td>int64[pyarrow]</td>\n",
       "    </tr>\n",
       "    <tr>\n",
       "      <th>Order: 4, Pixel: 2945</th>\n",
       "      <td>...</td>\n",
       "    </tr>\n",
       "    <tr>\n",
       "      <th>Order: 4, Pixel: 2946</th>\n",
       "      <td>...</td>\n",
       "    </tr>\n",
       "    <tr>\n",
       "      <th>Order: 4, Pixel: 2947</th>\n",
       "      <td>...</td>\n",
       "    </tr>\n",
       "  </tbody>\n",
       "</table>\n",
       "</div><div>The catalog has been loaded <strong>lazily</strong>, meaning no data has been read, only the catalog schema</div>"
      ],
      "text/plain": [
       "Dask NestedFrame Structure:\n",
       "                       phot_g_n_obs\n",
       "npartitions=4                      \n",
       "3314649325744685056  int64[pyarrow]\n",
       "3315775225651527680             ...\n",
       "3316901125558370304             ...\n",
       "3318027025465212928             ...\n",
       "3319152925372055552             ...\n",
       "Dask Name: nestedframe, 7 expressions\n",
       "Expr=MapPartitions(NestedFrame)"
      ]
     },
     "execution_count": 22,
     "metadata": {},
     "output_type": "execute_result"
    }
   ],
   "source": [
    "unrealized = gaia3.map_partitions(observation_histogram)\n",
    "unrealized"
   ]
  },
  {
   "cell_type": "code",
   "execution_count": 23,
   "id": "c5377055",
   "metadata": {
    "execution": {
     "iopub.execute_input": "2025-03-19T00:27:51.288552Z",
     "iopub.status.busy": "2025-03-19T00:27:51.288307Z",
     "iopub.status.idle": "2025-03-19T00:27:59.757303Z",
     "shell.execute_reply": "2025-03-19T00:27:59.756755Z",
     "shell.execute_reply.started": "2025-03-19T00:27:51.288533Z"
    }
   },
   "outputs": [
    {
     "name": "stdout",
     "output_type": "stream",
     "text": [
      "CPU times: user 488 ms, sys: 65.4 ms, total: 554 ms\n",
      "Wall time: 8.45 s\n"
     ]
    },
    {
     "data": {
      "text/html": [
       "<table border=\"1\" class=\"dataframe\">\n",
       "  <thead>\n",
       "    <tr style=\"text-align: right;\">\n",
       "      <th></th>\n",
       "      <th>phot_g_n_obs</th>\n",
       "    </tr>\n",
       "    <tr>\n",
       "      <th>binned</th>\n",
       "      <th></th>\n",
       "    </tr>\n",
       "  </thead>\n",
       "  <tbody>\n",
       "    <tr>\n",
       "      <th>(8, 9]</th>\n",
       "      <td>2811</td>\n",
       "    </tr>\n",
       "    <tr>\n",
       "      <th>(9, 10]</th>\n",
       "      <td>4784</td>\n",
       "    </tr>\n",
       "    <tr>\n",
       "      <th>...</th>\n",
       "      <td>...</td>\n",
       "    </tr>\n",
       "    <tr>\n",
       "      <th>(20, 21]</th>\n",
       "      <td>11124220</td>\n",
       "    </tr>\n",
       "    <tr>\n",
       "      <th>(21, 22]</th>\n",
       "      <td>493954</td>\n",
       "    </tr>\n",
       "  </tbody>\n",
       "</table>\n",
       "<p>65 rows × 1 columns</p>"
      ],
      "text/plain": [
       "          phot_g_n_obs\n",
       "binned                \n",
       "(8, 9]            2811\n",
       "(9, 10]           4784\n",
       "...                ...\n",
       "(20, 21]      11124220\n",
       "(21, 22]        493954\n",
       "\n",
       "[65 rows x 1 columns]"
      ]
     },
     "execution_count": 23,
     "metadata": {},
     "output_type": "execute_result"
    }
   ],
   "source": [
    "%%time\n",
    "npartitions = len(unrealized.get_healpix_pixels())\n",
    "from dask.distributed import Client\n",
    "\n",
    "with Client(n_workers=min(8, npartitions)) as client:\n",
    "    result = unrealized.compute()\n",
    "# This is actually the histogram repeated for each partition.\n",
    "result"
   ]
  },
  {
   "cell_type": "code",
   "execution_count": 24,
   "id": "cf6f9393",
   "metadata": {
    "execution": {
     "iopub.execute_input": "2025-03-19T00:30:12.422729Z",
     "iopub.status.busy": "2025-03-19T00:30:12.422030Z",
     "iopub.status.idle": "2025-03-19T00:30:12.910700Z",
     "shell.execute_reply": "2025-03-19T00:30:12.910134Z",
     "shell.execute_reply.started": "2025-03-19T00:30:12.422698Z"
    }
   },
   "outputs": [
    {
     "data": {
      "image/png": "[encoded data removed]",
      "text/plain": [
       "<Figure size 640x480 with 1 Axes>"
      ]
     },
     "metadata": {},
     "output_type": "display_data"
    }
   ],
   "source": [
    "# Final reduction step\n",
    "total_histogram = result.groupby(\"binned\", observed=True).sum()\n",
    "\n",
    "import matplotlib.pyplot as plt\n",
    "\n",
    "fig, ax = plt.subplots()\n",
    "total_histogram.plot(kind=\"bar\", ax=ax)\n",
    "ax.set_title(\"Histogram of Detections by Magnitude\")\n",
    "ax.set_xlabel(\"G Band Magnitude\")\n",
    "ax.set_ylabel(\"Sum of Detections\")\n",
    "ax.set_yscale(\"log\")\n",
    "plt.show()"
   ]
  },
  {
   "cell_type": "markdown",
   "id": "fe7ddb7c",
   "metadata": {},
   "source": [
    "And now compare the result and timing to running this histogram on\n",
    "the entire catalog."
   ]
  },
  {
   "cell_type": "code",
   "execution_count": 25,
   "id": "3c22a644",
   "metadata": {
    "execution": {
     "iopub.execute_input": "2025-03-19T00:30:18.796217Z",
     "iopub.status.busy": "2025-03-19T00:30:18.795426Z",
     "iopub.status.idle": "2025-03-19T00:30:23.730888Z",
     "shell.execute_reply": "2025-03-19T00:30:23.730352Z",
     "shell.execute_reply.started": "2025-03-19T00:30:18.796191Z"
    }
   },
   "outputs": [
    {
     "data": {
      "text/html": [
       "<div><strong>lsdb Catalog gaia:</strong></div><div>\n",
       "<style scoped>\n",
       "    .dataframe tbody tr th:only-of-type {\n",
       "        vertical-align: middle;\n",
       "    }\n",
       "\n",
       "    .dataframe tbody tr th {\n",
       "        vertical-align: top;\n",
       "    }\n",
       "\n",
       "    .dataframe thead th {\n",
       "        text-align: right;\n",
       "    }\n",
       "</style>\n",
       "<table border=\"1\" class=\"dataframe\">\n",
       "  <thead>\n",
       "    <tr style=\"text-align: right;\">\n",
       "      <th></th>\n",
       "      <th>phot_g_n_obs</th>\n",
       "    </tr>\n",
       "    <tr>\n",
       "      <th>npartitions=3933</th>\n",
       "      <th></th>\n",
       "    </tr>\n",
       "  </thead>\n",
       "  <tbody>\n",
       "    <tr>\n",
       "      <th>Order: 2, Pixel: 0</th>\n",
       "      <td>int64[pyarrow]</td>\n",
       "    </tr>\n",
       "    <tr>\n",
       "      <th>Order: 3, Pixel: 4</th>\n",
       "      <td>...</td>\n",
       "    </tr>\n",
       "    <tr>\n",
       "      <th>...</th>\n",
       "      <td>...</td>\n",
       "    </tr>\n",
       "    <tr>\n",
       "      <th>Order: 4, Pixel: 3067</th>\n",
       "      <td>...</td>\n",
       "    </tr>\n",
       "    <tr>\n",
       "      <th>Order: 3, Pixel: 767</th>\n",
       "      <td>...</td>\n",
       "    </tr>\n",
       "  </tbody>\n",
       "</table>\n",
       "</div><div>The catalog has been loaded <strong>lazily</strong>, meaning no data has been read, only the catalog schema</div>"
      ],
      "text/plain": [
       "Dask NestedFrame Structure:\n",
       "                       phot_g_n_obs\n",
       "npartitions=3933                   \n",
       "0                    int64[pyarrow]\n",
       "18014398509481984               ...\n",
       "...                             ...\n",
       "3454260914193170432             ...\n",
       "3458764513820540928             ...\n",
       "Dask Name: nestedframe, 5 expressions\n",
       "Expr=MapPartitions(NestedFrame)"
      ]
     },
     "execution_count": 25,
     "metadata": {},
     "output_type": "execute_result"
    }
   ],
   "source": [
    "gaia3 = lsdb.read_hats(\n",
    "    f\"{gaia_root}/gaia_dr3/gaia\",\n",
    "    margin_cache=f\"{gaia_root}/gaia_dr3/gaia_10arcs\",\n",
    "    columns=[\n",
    "        \"source_id\",\n",
    "        \"ra\",\n",
    "        \"dec\",\n",
    "        \"phot_g_mean_mag\",\n",
    "        \"phot_g_n_obs\",\n",
    "    ],\n",
    ")\n",
    "unrealized = gaia3.map_partitions(observation_histogram)\n",
    "unrealized"
   ]
  },
  {
   "cell_type": "code",
   "execution_count": 26,
   "id": "d85d63f3",
   "metadata": {
    "execution": {
     "iopub.execute_input": "2025-03-19T00:30:27.625991Z",
     "iopub.status.busy": "2025-03-19T00:30:27.625264Z",
     "iopub.status.idle": "2025-03-19T00:39:32.371551Z",
     "shell.execute_reply": "2025-03-19T00:39:32.370966Z",
     "shell.execute_reply.started": "2025-03-19T00:30:27.625966Z"
    }
   },
   "outputs": [
    {
     "name": "stdout",
     "output_type": "stream",
     "text": [
      "CPU times: user 1min 38s, sys: 7.79 s, total: 1min 46s\n",
      "Wall time: 9min 4s\n"
     ]
    },
    {
     "data": {
      "text/html": [
       "<table border=\"1\" class=\"dataframe\">\n",
       "  <thead>\n",
       "    <tr style=\"text-align: right;\">\n",
       "      <th></th>\n",
       "      <th>phot_g_n_obs</th>\n",
       "    </tr>\n",
       "    <tr>\n",
       "      <th>binned</th>\n",
       "      <th></th>\n",
       "    </tr>\n",
       "  </thead>\n",
       "  <tbody>\n",
       "    <tr>\n",
       "      <th>(5, 6]</th>\n",
       "      <td>3297</td>\n",
       "    </tr>\n",
       "    <tr>\n",
       "      <th>(6, 7]</th>\n",
       "      <td>7250</td>\n",
       "    </tr>\n",
       "    <tr>\n",
       "      <th>...</th>\n",
       "      <td>...</td>\n",
       "    </tr>\n",
       "    <tr>\n",
       "      <th>(21, 22]</th>\n",
       "      <td>4548691</td>\n",
       "    </tr>\n",
       "    <tr>\n",
       "      <th>(22, 23]</th>\n",
       "      <td>7823</td>\n",
       "    </tr>\n",
       "  </tbody>\n",
       "</table>\n",
       "<p>64599 rows × 1 columns</p>"
      ],
      "text/plain": [
       "          phot_g_n_obs\n",
       "binned                \n",
       "(5, 6]            3297\n",
       "(6, 7]            7250\n",
       "...                ...\n",
       "(21, 22]       4548691\n",
       "(22, 23]          7823\n",
       "\n",
       "[64599 rows x 1 columns]"
      ]
     },
     "execution_count": 26,
     "metadata": {},
     "output_type": "execute_result"
    }
   ],
   "source": [
    "%%time\n",
    "npartitions = len(unrealized.get_healpix_pixels())\n",
    "from dask.distributed import Client\n",
    "\n",
    "# Takes 8-10 minutes\n",
    "with Client(n_workers=min(8, npartitions), threads_per_worker=4) as client:\n",
    "    result = unrealized.compute()\n",
    "# This is actually the histogram repeated for each partition.\n",
    "result"
   ]
  },
  {
   "cell_type": "code",
   "execution_count": 27,
   "id": "5360fd3c",
   "metadata": {
    "execution": {
     "iopub.execute_input": "2025-03-19T00:39:40.629748Z",
     "iopub.status.busy": "2025-03-19T00:39:40.629124Z",
     "iopub.status.idle": "2025-03-19T00:39:41.153266Z",
     "shell.execute_reply": "2025-03-19T00:39:41.152694Z",
     "shell.execute_reply.started": "2025-03-19T00:39:40.629719Z"
    }
   },
   "outputs": [
    {
     "data": {
      "image/png": "[encoded data removed]",
      "text/plain": [
       "<Figure size 640x480 with 1 Axes>"
      ]
     },
     "metadata": {},
     "output_type": "display_data"
    }
   ],
   "source": [
    "# Final reduction\n",
    "total_histogram = result.groupby(\"binned\", observed=True).sum()\n",
    "\n",
    "import matplotlib.pyplot as plt\n",
    "\n",
    "fig, ax = plt.subplots()\n",
    "total_histogram.plot(kind=\"bar\", ax=ax)\n",
    "ax.set_title(\"Histogram of Detections by Magnitude\")\n",
    "ax.set_xlabel(\"G Band Magnitude\")\n",
    "ax.set_ylabel(\"Sum of Detections\")\n",
    "ax.set_yscale(\"log\")\n",
    "plt.show()"
   ]
  },
  {
   "cell_type": "markdown",
   "id": "a6d8d294",
   "metadata": {},
   "source": [
    "The histogram has the same shape but a different Y-axis, as is reasonable:\n",
    "our small cone search had picked a part of the sky which was representative\n",
    "of the whole, but processing the entire catalog increased the number\n",
    "of observations across all bins."
   ]
  }
 ],
 "metadata": {
  "kernelspec": {
   "display_name": "LSST",
   "language": "python",
   "name": "lsst"
  },
  "language_info": {
   "codemirror_mode": {
    "name": "ipython",
    "version": 3
   },
   "file_extension": ".py",
   "mimetype": "text/x-python",
   "name": "python",
   "nbconvert_exporter": "python",
   "pygments_lexer": "ipython3",
   "version": "3.12.9"
  }
 },
 "nbformat": 4,
 "nbformat_minor": 5
}
