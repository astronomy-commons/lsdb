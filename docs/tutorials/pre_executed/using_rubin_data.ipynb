{
 "cells": [
  {
   "cell_type": "markdown",
   "id": "95c32d05-9d07-4916-9ba8-4b7252350f4e",
   "metadata": {},
   "source": [
    "# Intro to Using Rubin Data\n",
    "\n",
    "## Learning Objectives\n",
    "\n",
    "In this tutorial, you will learn:\n",
    "\n",
    "  * How to work with an individual lightcurve\n",
    "  * See examples of common filtering operations\n",
    "  * How to calculate basic aggregation statistics\n",
    "\n",
    "## Introduction\n",
    "\n",
    "TODO: Add Introduction"
   ]
  },
  {
   "cell_type": "markdown",
   "id": "eb28752d-6d7c-4fd7-b284-5d5628bf5fe3",
   "metadata": {},
   "source": [
    "# Loading Data\n",
    "\n",
    "The details of loading Rubin data are discussed in [How to Access Data](TODO:linktorubin), so we'll just provide a starter codeblock below:"
   ]
  },
  {
   "cell_type": "code",
   "execution_count": null,
   "id": "e367d00a-24d7-4b98-a3ef-ea6e6be0d011",
   "metadata": {},
   "outputs": [],
   "source": [
    "from upath import UPath\n",
    "import lsdb\n",
    "from lsdb import ConeSearch\n",
    "\n",
    "# This will eventually work\n",
    "#base_path = UPath(\"/rubin/lincc_lsb_data\") \n",
    "#object_collection = lsdb.read_hats(base_path / \"object_collection_lite\")\n",
    "\n",
    "# In the meantime\n",
    "# Cone search on ECDFS (Extended Chandra Deep Field South)\n",
    "object_collection = lsdb.read_hats('/sdf/data/rubin/shared/lsdb_commissioning/hats/v29_0_0/dia_object_collection', search_filter=ConeSearch(ra=52.838, dec=-28.279, radius_arcsec=5000))\n",
    "object_collection"
   ]
  },
  {
   "cell_type": "markdown",
   "id": "5c6b5c19-05e9-44d3-ba6d-31b23cbcc415",
   "metadata": {},
   "source": [
    "As mentioned beneath the catalog dataframe, the view above is a \"lazy\" view of the data. Often, it's nice to preview the first few rows to better understand the contents of the dataset:"
   ]
  },
  {
   "cell_type": "code",
   "execution_count": null,
   "id": "bec3a2b1-4c06-4f5d-b88e-0f86e700bce6",
   "metadata": {},
   "outputs": [],
   "source": [
    "object_collection.head(5)"
   ]
  },
  {
   "cell_type": "markdown",
   "id": "3033d008-fe42-4578-9eb6-a57d33c6fda7",
   "metadata": {},
   "source": [
    "## Example: Viewing a Single Lightcurve"
   ]
  },
  {
   "cell_type": "code",
   "execution_count": null,
   "id": "814ed529-accf-4158-801a-9b7fb0d036b4",
   "metadata": {},
   "outputs": [],
   "source": [
    "objectid = 609782208097419314\n",
    "single_id = object_collection.id_search(values={\"diaObjectId\":objectid}).compute()\n",
    "single_id\n"
   ]
  },
  {
   "cell_type": "code",
   "execution_count": null,
   "id": "b750be71-5447-4b71-999c-b839b3c9ae1c",
   "metadata": {},
   "outputs": [],
   "source": [
    "from matplotlib.patches import Patch\n",
    "import matplotlib.pyplot as plt\n",
    "import numpy as np\n",
    "\n",
    "first_lc = single_id.diaObjectForcedSource.iloc[0]\n",
    "\n",
    "# Compute symmetric y-limits around 0 using 95% range\n",
    "flux = first_lc['psfDiffFlux'].dropna()\n",
    "limit = np.percentile(np.abs(flux), 97.5) + 100\n",
    "y_min, y_max = -limit, limit\n",
    "\n",
    "# Start plot\n",
    "fig, ax = plt.subplots(2,1, figsize=(10, 10), dpi=200)\n",
    "\n",
    "# Define band → color mapping\n",
    "band_colors = {\n",
    "    'u': 'blue',\n",
    "    'g': 'green',\n",
    "    'r': 'red',\n",
    "    'i': 'orange',\n",
    "    'z': 'purple',\n",
    "    'y': 'brown'\n",
    "}\n",
    "\n",
    "# Plot each band with its color\n",
    "for band, color in band_colors.items():\n",
    "    band_data = first_lc[first_lc['band'] == band]\n",
    "    if band_data.empty:\n",
    "        continue\n",
    "    ax[0].errorbar(\n",
    "        band_data['midpointMjdTai'],\n",
    "        band_data['psfDiffFlux'],\n",
    "        yerr=band_data['psfDiffFluxErr'],\n",
    "        fmt='o',\n",
    "        color=color,\n",
    "        ecolor=color,\n",
    "        elinewidth=2,\n",
    "        capsize=2,\n",
    "        alpha=0.8,\n",
    "        markeredgecolor='k',\n",
    "        label=band\n",
    "    )\n",
    "\n",
    "    ax[1].errorbar(\n",
    "        band_data['midpointMjdTai'],\n",
    "        band_data['psfMag'],\n",
    "        yerr=band_data['psfMagErr'],\n",
    "        fmt='o',\n",
    "        color=color,\n",
    "        ecolor=color,\n",
    "        elinewidth=2,\n",
    "        capsize=2,\n",
    "        alpha=0.8,\n",
    "        markeredgecolor='k',\n",
    "        label=band\n",
    "    )\n",
    "\n",
    "fig.suptitle(f'Object ID: {single_id[\"diaObjectId\"].values[0]} RA: {single_id[\"ra\"].values[0]:.5f}, Dec: {single_id[\"dec\"].values[0]:.5f}')\n",
    "\n",
    "ax[0].invert_yaxis()\n",
    "ax[0].set_xlabel('MJD (midpointMjdTai)')\n",
    "ax[0].set_ylabel('psfDiffFlux')\n",
    "#ax[0].set_title(f'Object ID: {single_id[\"diaObjectId\"].values[0]} RA: {single_id[\"ra\"].values[0]:.5f}, Dec: {single_id[\"dec\"].values[0]:.5f}', fontsize=12)\n",
    "ax[0].set_ylim(y_min, y_max)\n",
    "ax[0].set_xlim(60622, 60658)\n",
    "ax[0].grid(True)\n",
    "ax[0].legend(title='Band', loc='best')\n",
    "\n",
    "ax[1].invert_yaxis()\n",
    "ax[1].set_xlabel('MJD (midpointMjdTai)')\n",
    "ax[1].set_ylabel('psfMag')\n",
    "#ax[1].set_title(f'Object ID: {single_id[\"diaObjectId\"].values[0]} RA: {single_id[\"ra\"].values[0]:.5f}, Dec: {single_id[\"dec\"].values[0]:.5f}', fontsize=12)\n",
    "#ax[1].set_ylim(y_min, y_max)\n",
    "ax[1].set_xlim(60622, 60658)\n",
    "ax[1].grid(True)\n",
    "ax[1].legend(title='Band', loc='best')\n",
    "plt.tight_layout()"
   ]
  },
  {
   "cell_type": "markdown",
   "id": "eb4dc66e-c8e1-4b33-968d-032fa6252557",
   "metadata": {},
   "source": [
    "## Common Filtering Operations"
   ]
  },
  {
   "cell_type": "markdown",
   "id": "388cfcc2-d06d-44b8-ba63-464f36c35ef4",
   "metadata": {},
   "source": [
    "### Filtering by Number of Sources\n",
    "\n",
    "Provided the Source table(s) haven't been modified by any filtering operations, the \"nDiaSources\" column is directly provided and allows for easy filtering based on lightcurve length."
   ]
  },
  {
   "cell_type": "code",
   "execution_count": null,
   "id": "e0162a1b-dc94-4ca2-a820-bd6ae9af8ddf",
   "metadata": {},
   "outputs": [],
   "source": [
    "oc_long_lcs = object_collection.query(\"nDiaSources > 10\")\n",
    "oc_long_lcs.head(5)"
   ]
  },
  {
   "cell_type": "markdown",
   "id": "3fe670bf-a12e-4819-bb1e-3509379d516e",
   "metadata": {},
   "source": [
    "### Filtering by Photometric Band\n",
    "\n",
    "Another common operation is to filter by band, which can done similarly to above, but using sub-column queries:"
   ]
  },
  {
   "cell_type": "code",
   "execution_count": null,
   "id": "4d59a9f8-46b8-4207-9709-b65fb62d9d61",
   "metadata": {},
   "outputs": [],
   "source": [
    "oc_long_lcs = oc_long_lcs.query(\"diaObjectForcedSource.band == 'g'\")\n",
    "oc_long_lcs.head(5)"
   ]
  },
  {
   "cell_type": "markdown",
   "id": "c60fa594-938c-4ac5-aa15-840ba42e9de8",
   "metadata": {},
   "source": [
    "> **Note**: Filtering operations on \"diaObjectForcedSource\" are not propagated to \"diaSource\". Any filtering operations on \"diaSource\" should be applied in addition to any operations done on \"diaObjectForcedSource\"."
   ]
  },
  {
   "cell_type": "markdown",
   "id": "51a926fe-37ed-4887-88c4-e4144548d748",
   "metadata": {},
   "source": [
    "### Filtering Empty Lightcurves\n",
    "\n",
    "Sometimes, filters on lightcurves may throw out all observations for certain objects, leading to empty lightcurves as seen for one of the objects above. In this case, we can filter objects with empty lightcurves using `dropna`:"
   ]
  },
  {
   "cell_type": "code",
   "execution_count": null,
   "id": "57db6b51-5eb5-4f93-a1ed-241bb17be92d",
   "metadata": {},
   "outputs": [],
   "source": [
    "oc_long_lcs = oc_long_lcs.dropna(subset=\"diaObjectForcedSource\")\n",
    "oc_long_lcs.head(5)"
   ]
  },
  {
   "cell_type": "markdown",
   "id": "82f153a3-7ef0-4a32-bffc-e44870ce106a",
   "metadata": {},
   "source": [
    "## Calculating Basic Statistics\n",
    "\n",
    "While Rubin DP1 data has many statistics pre-computed in object table column, custom computation of statistics remains broadly useful."
   ]
  },
  {
   "cell_type": "markdown",
   "id": "19e229f3-844a-47d7-bdad-dfa0ce83f51d",
   "metadata": {},
   "source": [
    "### Calculating Mean Magnitude"
   ]
  },
  {
   "cell_type": "code",
   "execution_count": null,
   "id": "abc7f804-1495-421f-9ec6-19333711c180",
   "metadata": {},
   "outputs": [],
   "source": [
    "import numpy as np\n",
    "\n",
    "def mean_mag(mag):\n",
    "    return {\"mean_psfMag\": np.mean(mag)}\n",
    "\n",
    "oc_mean_mags = oc_long_lcs.reduce(mean_mag, \"diaObjectForcedSource.psfMag\", meta={\"mean_psfMag\":np.float64})\n",
    "oc_mean_mags.head(10)"
   ]
  },
  {
   "cell_type": "markdown",
   "id": "08c4b2db-819a-4207-9a7a-f0e0382404b3",
   "metadata": {},
   "source": [
    "We can add these statistics back to our Catalog via a `merge`:"
   ]
  },
  {
   "cell_type": "code",
   "execution_count": null,
   "id": "fde58473-75b1-4a3f-b778-851571c2c5e6",
   "metadata": {},
   "outputs": [],
   "source": [
    "#oc_with_mag = oc_long_lcs.merge(oc_mean_mags, left_index=True, right_index=True)"
   ]
  },
  {
   "cell_type": "code",
   "execution_count": null,
   "id": "4e7d8c10-fc11-4731-8b32-743ab6c8ef58",
   "metadata": {},
   "outputs": [],
   "source": [
    "#oc_with_mag"
   ]
  },
  {
   "cell_type": "code",
   "execution_count": null,
   "id": "b20fab13-dcb2-4c75-b82f-399993e69e55",
   "metadata": {},
   "outputs": [],
   "source": []
  }
 ],
 "metadata": {
  "kernelspec": {
   "display_name": "Python 3 (ipykernel)",
   "language": "python",
   "name": "python3"
  },
  "language_info": {
   "codemirror_mode": {
    "name": "ipython",
    "version": 3
   },
   "file_extension": ".py",
   "mimetype": "text/x-python",
   "name": "python",
   "nbconvert_exporter": "python",
   "pygments_lexer": "ipython3",
   "version": "3.12.9"
  }
 },
 "nbformat": 4,
 "nbformat_minor": 5
}
