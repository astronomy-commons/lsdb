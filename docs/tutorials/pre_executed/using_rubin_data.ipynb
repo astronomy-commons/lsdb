{
 "cells": [
  {
   "cell_type": "markdown",
   "id": "95c32d05-9d07-4916-9ba8-4b7252350f4e",
   "metadata": {},
   "source": [
    "# Intro to Using Rubin Data\n",
    "\n",
    "## Learning Objectives\n",
    "\n",
    "In this tutorial, you will learn:\n",
    "\n",
    "  * Basic operations that are commonly used in Rubin Data Analysis\n",
    "\n",
    "## Introduction\n",
    "\n",
    "TODO: Add Introduction"
   ]
  },
  {
   "cell_type": "markdown",
   "id": "eb28752d-6d7c-4fd7-b284-5d5628bf5fe3",
   "metadata": {},
   "source": [
    "# Loading Data\n",
    "\n",
    "The details of loading Rubin data are discussed in [How to Access Data](TODO:linktorubin), so we'll just provide a starter codeblock below:"
   ]
  },
  {
   "cell_type": "code",
   "execution_count": null,
   "id": "e367d00a-24d7-4b98-a3ef-ea6e6be0d011",
   "metadata": {},
   "outputs": [],
   "source": [
    "from upath import UPath\n",
    "import lsdb\n",
    "from lsdb import ConeSearch\n",
    "\n",
    "# This will eventually work\n",
    "#base_path = UPath(\"/rubin/lincc_lsb_data\") \n",
    "#object_collection = lsdb.read_hats(base_path / \"object_collection_lite\")\n",
    "\n",
    "# In the meantime\n",
    "# Cone search on ECDFS (Extended Chandra Deep Field South)\n",
    "object_collection = lsdb.read_hats('/sdf/data/rubin/shared/lsdb_commissioning/hats/v29_0_0/dia_object_collection', search_filter=ConeSearch(ra=52.838, dec=-28.279, radius_arcsec=5000))\n",
    "object_collection"
   ]
  },
  {
   "cell_type": "markdown",
   "id": "5c6b5c19-05e9-44d3-ba6d-31b23cbcc415",
   "metadata": {},
   "source": [
    "As mentioned beneath the catalog dataframe, the view above is a \"lazy\" view of the data. Often, it's nice to preview the first few rows to better understand the contents of the dataset:"
   ]
  },
  {
   "cell_type": "code",
   "execution_count": null,
   "id": "bec3a2b1-4c06-4f5d-b88e-0f86e700bce6",
   "metadata": {},
   "outputs": [],
   "source": [
    "object_collection.head(5)"
   ]
  },
  {
   "cell_type": "markdown",
   "id": "3033d008-fe42-4578-9eb6-a57d33c6fda7",
   "metadata": {},
   "source": [
    "## Example: Viewing a Single Lightcurve"
   ]
  },
  {
   "cell_type": "code",
   "execution_count": null,
   "id": "814ed529-accf-4158-801a-9b7fb0d036b4",
   "metadata": {},
   "outputs": [],
   "source": [
    "objectid = 609782208097419314\n",
    "single_id = object_collection.id_search(values={\"diaObjectId\":objectid}).compute()\n",
    "single_id\n"
   ]
  },
  {
   "cell_type": "code",
   "execution_count": null,
   "id": "b750be71-5447-4b71-999c-b839b3c9ae1c",
   "metadata": {},
   "outputs": [],
   "source": [
    "from matplotlib.patches import Patch\n",
    "import matplotlib.pyplot as plt\n",
    "import numpy as np\n",
    "\n",
    "first_lc = single_id.diaObjectForcedSource.iloc[0]\n",
    "\n",
    "# Compute symmetric y-limits around 0 using 95% range\n",
    "flux = first_lc['psfDiffFlux'].dropna()\n",
    "limit = np.percentile(np.abs(flux), 97.5) + 100\n",
    "y_min, y_max = -limit, limit\n",
    "\n",
    "# Start plot\n",
    "fig, ax = plt.subplots(2,1, figsize=(10, 10), dpi=200)\n",
    "\n",
    "# Define band → color mapping\n",
    "band_colors = {\n",
    "    'u': 'blue',\n",
    "    'g': 'green',\n",
    "    'r': 'red',\n",
    "    'i': 'orange',\n",
    "    'z': 'purple',\n",
    "    'y': 'brown'\n",
    "}\n",
    "\n",
    "# Plot each band with its color\n",
    "for band, color in band_colors.items():\n",
    "    band_data = first_lc[first_lc['band'] == band]\n",
    "    if band_data.empty:\n",
    "        continue\n",
    "    ax[0].errorbar(\n",
    "        band_data['midpointMjdTai'],\n",
    "        band_data['psfDiffFlux'],\n",
    "        yerr=band_data['psfDiffFluxErr'],\n",
    "        fmt='o',\n",
    "        color=color,\n",
    "        ecolor=color,\n",
    "        elinewidth=2,\n",
    "        capsize=2,\n",
    "        alpha=0.8,\n",
    "        markeredgecolor='k',\n",
    "        label=band\n",
    "    )\n",
    "\n",
    "    ax[1].errorbar(\n",
    "        band_data['midpointMjdTai'],\n",
    "        band_data['psfMag'],\n",
    "        yerr=band_data['psfMagErr'],\n",
    "        fmt='o',\n",
    "        color=color,\n",
    "        ecolor=color,\n",
    "        elinewidth=2,\n",
    "        capsize=2,\n",
    "        alpha=0.8,\n",
    "        markeredgecolor='k',\n",
    "        label=band\n",
    "    )\n",
    "\n",
    "fig.suptitle(f'Object ID: {single_id[\"diaObjectId\"].values[0]} RA: {single_id[\"ra\"].values[0]:.5f}, Dec: {single_id[\"dec\"].values[0]:.5f}')\n",
    "\n",
    "ax[0].invert_yaxis()\n",
    "ax[0].set_xlabel('MJD (midpointMjdTai)')\n",
    "ax[0].set_ylabel('psfDiffFlux')\n",
    "#ax[0].set_title(f'Object ID: {single_id[\"diaObjectId\"].values[0]} RA: {single_id[\"ra\"].values[0]:.5f}, Dec: {single_id[\"dec\"].values[0]:.5f}', fontsize=12)\n",
    "ax[0].set_ylim(y_min, y_max)\n",
    "ax[0].set_xlim(60622, 60658)\n",
    "ax[0].grid(True)\n",
    "ax[0].legend(title='Band', loc='best')\n",
    "\n",
    "ax[1].invert_yaxis()\n",
    "ax[1].set_xlabel('MJD (midpointMjdTai)')\n",
    "ax[1].set_ylabel('psfMag')\n",
    "#ax[1].set_title(f'Object ID: {single_id[\"diaObjectId\"].values[0]} RA: {single_id[\"ra\"].values[0]:.5f}, Dec: {single_id[\"dec\"].values[0]:.5f}', fontsize=12)\n",
    "#ax[1].set_ylim(y_min, y_max)\n",
    "ax[1].set_xlim(60622, 60658)\n",
    "ax[1].grid(True)\n",
    "ax[1].legend(title='Band', loc='best')\n",
    "plt.tight_layout()"
   ]
  },
  {
   "cell_type": "code",
   "execution_count": null,
   "id": "5cbf371b-67b6-4d94-8109-6dbb577e781f",
   "metadata": {},
   "outputs": [],
   "source": []
  }
 ],
 "metadata": {
  "kernelspec": {
   "display_name": "Python 3 (ipykernel)",
   "language": "python",
   "name": "python3"
  },
  "language_info": {
   "codemirror_mode": {
    "name": "ipython",
    "version": 3
   },
   "file_extension": ".py",
   "mimetype": "text/x-python",
   "name": "python",
   "nbconvert_exporter": "python",
   "pygments_lexer": "ipython3",
   "version": "3.12.9"
  }
 },
 "nbformat": 4,
 "nbformat_minor": 5
}
