{
 "cells": [
  {
   "cell_type": "markdown",
   "id": "6b790eee",
   "metadata": {
    "panel-layout": {
     "height": 314.46875,
     "visible": true,
     "width": 100
    }
   },
   "source": [
    "# Accessing Rubin Data Preview 1 (DP1)\n",
    "\n",
    "## Learning Objectives\n",
    "\n",
    "In this tutorial, you will learn:\n",
    "\n",
    "  * How to access Rubin's Data Preview 1 with LSDB\n",
    "    * on RSP (Rubin Science Platform)\n",
    "    * on CANFAR (Canadian Astronomical Data Center platform)\n",
    "\n",
    "## Introduction\n",
    "\n",
    "### Prerequisites\n",
    "\n",
    "In order to access Rubin data, you must be a [Rubin data rights holder](https://rubinobservatory.org/for-scientists/data-products/data-policy).\n",
    "\n",
    "At present, there are two ways to access this data: RSP and CANFAR, described below.\n",
    "\n",
    "**NOTE:** Any Rubin data rights holder can access data from any Independent Data Access Center (IDAC),\n",
    "or Rubin Science Platform (RSP).  (CANFAR is an example of a platform served by a Canadian IDAC.)"
   ]
  },
  {
   "cell_type": "markdown",
   "id": "2dbecd41",
   "metadata": {
    "panel-layout": {
     "height": 76.53125,
     "visible": true,
     "width": 100
    }
   },
   "source": [
    "## 1. Accessing the data on Rubin Science Platform (RSP) (soft launch 2025-07-10)"
   ]
  },
  {
   "cell_type": "raw",
   "id": "7dc323ba-6b80-4818-a02f-5acf6c6a22d6",
   "metadata": {
    "raw_mimetype": "text/restructuredtext",
    "vscode": {
     "languageId": "raw"
    }
   },
   "source": [
    ".. nbwarning::\n",
    "    Data Availability\n",
    "    \n",
    "    Data will be available 2025-07-10, but without full functionality which is expected 2025-07-17."
   ]
  },
  {
   "cell_type": "markdown",
   "id": "7d9d83f9-e1c6-4db3-a799-47eef7bfa693",
   "metadata": {},
   "source": [
    "### 1.1 Prepare your RSP container"
   ]
  },
  {
   "cell_type": "markdown",
   "id": "6eab1ffd-359d-4079-9adb-50587d354820",
   "metadata": {
    "panel-layout": {
     "height": 114.56253051757812,
     "visible": true,
     "width": 100
    }
   },
   "source": [
    "Visit https://data.lsst.cloud and log in using your identity provider.  Once in, you will see Portal, Notebooks, and APIs.  Choose Notebooks.\n",
    "\n",
    "When it asks you what container to start, choose \"Recommended\" on the left, and \"Large\" on the right.\n",
    "\n",
    "Once this has started, create a new notebook."
   ]
  },
  {
   "cell_type": "markdown",
   "id": "8f10b1e7-1eb8-43c6-a37a-6a6618bbed78",
   "metadata": {},
   "source": [
    "#### 1.1.1 Ensure your notebook kernel has the right version of lsdb"
   ]
  },
  {
   "cell_type": "raw",
   "id": "4a3afdba",
   "metadata": {
    "raw_mimetype": "text/restructuredtext",
    "vscode": {
     "languageId": "raw"
    }
   },
   "source": [
    ".. nbwarning::\n",
    "    While the lsdb is in soft launch period (before 2025-07-17) you have to pip install lsdb as described below"
   ]
  },
  {
   "cell_type": "markdown",
   "id": "5dbc72f3-3668-4fa5-a999-4495a89b1aac",
   "metadata": {
    "panel-layout": {
     "height": 51.140594482421875,
     "visible": true,
     "width": 100
    }
   },
   "source": [
    "Make sure you've got at *least* version 0.6.0 of lsdb.  Try the following."
   ]
  },
  {
   "cell_type": "code",
   "execution_count": 1,
   "id": "bb92b98a-d5b0-44ee-b9dd-912216b29ba8",
   "metadata": {
    "execution": {
     "iopub.execute_input": "2025-06-30T16:26:57.770628Z",
     "iopub.status.busy": "2025-06-30T16:26:57.770207Z",
     "iopub.status.idle": "2025-06-30T16:27:00.999476Z",
     "shell.execute_reply": "2025-06-30T16:27:00.998970Z",
     "shell.execute_reply.started": "2025-06-30T16:26:57.770587Z"
    },
    "panel-layout": {
     "height": 51.140625,
     "visible": true,
     "width": 100
    }
   },
   "outputs": [
    {
     "data": {
      "text/plain": [
       "'0.6.0'"
      ]
     },
     "execution_count": 1,
     "metadata": {},
     "output_type": "execute_result"
    }
   ],
   "source": [
    "import lsdb\n",
    "\n",
    "lsdb.__version__"
   ]
  },
  {
   "cell_type": "markdown",
   "id": "87f84ba5-bd62-42c3-8e41-a851b7ee8cf8",
   "metadata": {
    "panel-layout": {
     "height": 68.78125,
     "visible": true,
     "width": 100
    }
   },
   "source": [
    "If the above does *not* work, then install/upgrade lsdb for your container.  Be sure to precede this command\n",
    "with the `%` so that it will apply to *this notebook kernel*:"
   ]
  },
  {
   "cell_type": "code",
   "execution_count": null,
   "id": "ad97f5d1-688e-49d3-81c3-dc070bd32098",
   "metadata": {
    "execution": {
     "iopub.execute_input": "2025-06-30T16:27:05.354251Z",
     "iopub.status.busy": "2025-06-30T16:27:05.353329Z",
     "iopub.status.idle": "2025-06-30T16:27:08.034869Z",
     "shell.execute_reply": "2025-06-30T16:27:08.034255Z",
     "shell.execute_reply.started": "2025-06-30T16:27:05.354228Z"
    }
   },
   "outputs": [],
   "source": [
    "%pip install -U lsdb"
   ]
  },
  {
   "cell_type": "markdown",
   "id": "973a36af-a6e2-42e2-953c-60c2445c5ae2",
   "metadata": {
    "panel-layout": {
     "height": 208.25,
     "visible": true,
     "width": 100
    }
   },
   "source": [
    "You will probably see some version of these errors.  **You can safely ignore them.**\n",
    "\n",
    "```\n",
    "ERROR: pip's dependency resolver does not currently take into account all the packages that are installed. This behaviour is the source of the following dependency conflicts.\n",
    "schedview 0.17.0 requires lsst-resources, which is not installed.\n",
    "nested-dask 0.3.4 requires nested-pandas<0.4.0,>=0.3.1, but you have nested-pandas 0.4.5 which is incompatible.\n",
    "```"
   ]
  },
  {
   "cell_type": "markdown",
   "id": "348ba9c7-b2a0-4bf2-be79-c99bd51d23b1",
   "metadata": {},
   "source": [
    "#### 1.1.2 Restart your notebook kernel"
   ]
  },
  {
   "cell_type": "markdown",
   "id": "3ac28414-57fb-4e68-b0c5-837e4cb2a43b",
   "metadata": {
    "panel-layout": {
     "height": 68.28125,
     "visible": true,
     "width": 100
    }
   },
   "source": [
    "Next, be sure to *restart the kernel*.  You've made a change to the kernel's dependencies, but you won't pick it up\n",
    "until the kernel has been restarted.  Then re-import lsdb and verify the version."
   ]
  },
  {
   "cell_type": "code",
   "execution_count": 3,
   "id": "91648419-0c5d-4df2-80b2-c261c3a8b136",
   "metadata": {
    "execution": {
     "iopub.execute_input": "2025-06-30T16:27:11.747697Z",
     "iopub.status.busy": "2025-06-30T16:27:11.747319Z",
     "iopub.status.idle": "2025-06-30T16:27:11.751249Z",
     "shell.execute_reply": "2025-06-30T16:27:11.750848Z",
     "shell.execute_reply.started": "2025-06-30T16:27:11.747675Z"
    },
    "panel-layout": {
     "height": 51.140625,
     "visible": true,
     "width": 100
    }
   },
   "outputs": [
    {
     "data": {
      "text/plain": [
       "'0.6.0'"
      ]
     },
     "execution_count": 3,
     "metadata": {},
     "output_type": "execute_result"
    }
   ],
   "source": [
    "import lsdb\n",
    "\n",
    "lsdb.__version__"
   ]
  },
  {
   "cell_type": "markdown",
   "id": "f556d55a-b898-484c-86bf-afbc99ecec76",
   "metadata": {
    "panel-layout": {
     "height": 78.71099853515625,
     "visible": true,
     "width": 100
    }
   },
   "source": [
    "### 1.2 Opening a Catalog\n",
    "\n",
    "The data is divided into `objects` and `dia_objects`.  Let's open both catalogs:"
   ]
  },
  {
   "cell_type": "code",
   "execution_count": null,
   "id": "219f222a-c8ff-4d81-999f-0fccba4a9e0f",
   "metadata": {
    "execution": {
     "iopub.execute_input": "2025-06-30T16:27:20.620540Z",
     "iopub.status.busy": "2025-06-30T16:27:20.620203Z",
     "iopub.status.idle": "2025-06-30T16:27:24.870216Z",
     "shell.execute_reply": "2025-06-30T16:27:24.869717Z",
     "shell.execute_reply.started": "2025-06-30T16:27:20.620521Z"
    }
   },
   "outputs": [],
   "source": [
    "from upath import UPath\n",
    "\n",
    "base_path = UPath(\"/rubin/lsdb_data\")\n",
    "\n",
    "object_cat = lsdb.open_catalog(base_path / \"object_collection\")\n",
    "dia_object_cat = lsdb.open_catalog(base_path / \"dia_object_collection\")"
   ]
  },
  {
   "cell_type": "code",
   "execution_count": 5,
   "id": "a0b4eff4-8c01-4655-ad62-f3c290e23ffd",
   "metadata": {
    "execution": {
     "iopub.execute_input": "2025-06-30T16:27:27.098272Z",
     "iopub.status.busy": "2025-06-30T16:27:27.097564Z",
     "iopub.status.idle": "2025-06-30T16:27:27.131283Z",
     "shell.execute_reply": "2025-06-30T16:27:27.130856Z",
     "shell.execute_reply.started": "2025-06-30T16:27:27.098250Z"
    },
    "panel-layout": {
     "height": 295.96875,
     "visible": true,
     "width": 100
    }
   },
   "outputs": [
    {
     "data": {
      "text/html": [
       "<div><strong>lsdb Catalog object_lc:</strong></div><div>\n",
       "<style scoped>\n",
       "    .dataframe tbody tr th:only-of-type {\n",
       "        vertical-align: middle;\n",
       "    }\n",
       "\n",
       "    .dataframe tbody tr th {\n",
       "        vertical-align: top;\n",
       "    }\n",
       "\n",
       "    .dataframe thead th {\n",
       "        text-align: right;\n",
       "    }\n",
       "</style>\n",
       "<table border=\"1\" class=\"dataframe\">\n",
       "  <thead>\n",
       "    <tr style=\"text-align: right;\">\n",
       "      <th></th>\n",
       "      <th>coord_dec</th>\n",
       "      <th>coord_decErr</th>\n",
       "      <th>coord_ra</th>\n",
       "      <th>coord_raErr</th>\n",
       "      <th>g_psfFlux</th>\n",
       "      <th>g_psfFluxErr</th>\n",
       "      <th>g_psfMag</th>\n",
       "      <th>g_psfMagErr</th>\n",
       "      <th>i_psfFlux</th>\n",
       "      <th>i_psfFluxErr</th>\n",
       "      <th>i_psfMag</th>\n",
       "      <th>i_psfMagErr</th>\n",
       "      <th>objectId</th>\n",
       "      <th>patch</th>\n",
       "      <th>r_psfFlux</th>\n",
       "      <th>r_psfFluxErr</th>\n",
       "      <th>r_psfMag</th>\n",
       "      <th>r_psfMagErr</th>\n",
       "      <th>refBand</th>\n",
       "      <th>refFwhm</th>\n",
       "      <th>shape_flag</th>\n",
       "      <th>shape_xx</th>\n",
       "      <th>shape_xy</th>\n",
       "      <th>shape_yy</th>\n",
       "      <th>tract</th>\n",
       "      <th>u_psfFlux</th>\n",
       "      <th>u_psfFluxErr</th>\n",
       "      <th>u_psfMag</th>\n",
       "      <th>u_psfMagErr</th>\n",
       "      <th>x</th>\n",
       "      <th>xErr</th>\n",
       "      <th>y</th>\n",
       "      <th>y_psfFlux</th>\n",
       "      <th>y_psfFluxErr</th>\n",
       "      <th>y_psfMag</th>\n",
       "      <th>y_psfMagErr</th>\n",
       "      <th>yErr</th>\n",
       "      <th>z_psfFlux</th>\n",
       "      <th>z_psfFluxErr</th>\n",
       "      <th>z_psfMag</th>\n",
       "      <th>z_psfMagErr</th>\n",
       "      <th>objectForcedSource</th>\n",
       "    </tr>\n",
       "    <tr>\n",
       "      <th>npartitions=389</th>\n",
       "      <th></th>\n",
       "      <th></th>\n",
       "      <th></th>\n",
       "      <th></th>\n",
       "      <th></th>\n",
       "      <th></th>\n",
       "      <th></th>\n",
       "      <th></th>\n",
       "      <th></th>\n",
       "      <th></th>\n",
       "      <th></th>\n",
       "      <th></th>\n",
       "      <th></th>\n",
       "      <th></th>\n",
       "      <th></th>\n",
       "      <th></th>\n",
       "      <th></th>\n",
       "      <th></th>\n",
       "      <th></th>\n",
       "      <th></th>\n",
       "      <th></th>\n",
       "      <th></th>\n",
       "      <th></th>\n",
       "      <th></th>\n",
       "      <th></th>\n",
       "      <th></th>\n",
       "      <th></th>\n",
       "      <th></th>\n",
       "      <th></th>\n",
       "      <th></th>\n",
       "      <th></th>\n",
       "      <th></th>\n",
       "      <th></th>\n",
       "      <th></th>\n",
       "      <th></th>\n",
       "      <th></th>\n",
       "      <th></th>\n",
       "      <th></th>\n",
       "      <th></th>\n",
       "      <th></th>\n",
       "      <th></th>\n",
       "      <th></th>\n",
       "    </tr>\n",
       "  </thead>\n",
       "  <tbody>\n",
       "    <tr>\n",
       "      <th>Order: 6, Pixel: 130</th>\n",
       "      <td>double[pyarrow]</td>\n",
       "      <td>float[pyarrow]</td>\n",
       "      <td>double[pyarrow]</td>\n",
       "      <td>float[pyarrow]</td>\n",
       "      <td>float[pyarrow]</td>\n",
       "      <td>float[pyarrow]</td>\n",
       "      <td>float[pyarrow]</td>\n",
       "      <td>float[pyarrow]</td>\n",
       "      <td>float[pyarrow]</td>\n",
       "      <td>float[pyarrow]</td>\n",
       "      <td>float[pyarrow]</td>\n",
       "      <td>float[pyarrow]</td>\n",
       "      <td>int64[pyarrow]</td>\n",
       "      <td>int64[pyarrow]</td>\n",
       "      <td>float[pyarrow]</td>\n",
       "      <td>float[pyarrow]</td>\n",
       "      <td>float[pyarrow]</td>\n",
       "      <td>float[pyarrow]</td>\n",
       "      <td>string[pyarrow]</td>\n",
       "      <td>float[pyarrow]</td>\n",
       "      <td>bool[pyarrow]</td>\n",
       "      <td>float[pyarrow]</td>\n",
       "      <td>float[pyarrow]</td>\n",
       "      <td>float[pyarrow]</td>\n",
       "      <td>int64[pyarrow]</td>\n",
       "      <td>float[pyarrow]</td>\n",
       "      <td>float[pyarrow]</td>\n",
       "      <td>float[pyarrow]</td>\n",
       "      <td>float[pyarrow]</td>\n",
       "      <td>double[pyarrow]</td>\n",
       "      <td>float[pyarrow]</td>\n",
       "      <td>double[pyarrow]</td>\n",
       "      <td>float[pyarrow]</td>\n",
       "      <td>float[pyarrow]</td>\n",
       "      <td>float[pyarrow]</td>\n",
       "      <td>float[pyarrow]</td>\n",
       "      <td>float[pyarrow]</td>\n",
       "      <td>float[pyarrow]</td>\n",
       "      <td>float[pyarrow]</td>\n",
       "      <td>float[pyarrow]</td>\n",
       "      <td>float[pyarrow]</td>\n",
       "      <td>nested&lt;band: [string], coord_dec: [double], co...</td>\n",
       "    </tr>\n",
       "    <tr>\n",
       "      <th>Order: 8, Pixel: 2176</th>\n",
       "      <td>...</td>\n",
       "      <td>...</td>\n",
       "      <td>...</td>\n",
       "      <td>...</td>\n",
       "      <td>...</td>\n",
       "      <td>...</td>\n",
       "      <td>...</td>\n",
       "      <td>...</td>\n",
       "      <td>...</td>\n",
       "      <td>...</td>\n",
       "      <td>...</td>\n",
       "      <td>...</td>\n",
       "      <td>...</td>\n",
       "      <td>...</td>\n",
       "      <td>...</td>\n",
       "      <td>...</td>\n",
       "      <td>...</td>\n",
       "      <td>...</td>\n",
       "      <td>...</td>\n",
       "      <td>...</td>\n",
       "      <td>...</td>\n",
       "      <td>...</td>\n",
       "      <td>...</td>\n",
       "      <td>...</td>\n",
       "      <td>...</td>\n",
       "      <td>...</td>\n",
       "      <td>...</td>\n",
       "      <td>...</td>\n",
       "      <td>...</td>\n",
       "      <td>...</td>\n",
       "      <td>...</td>\n",
       "      <td>...</td>\n",
       "      <td>...</td>\n",
       "      <td>...</td>\n",
       "      <td>...</td>\n",
       "      <td>...</td>\n",
       "      <td>...</td>\n",
       "      <td>...</td>\n",
       "      <td>...</td>\n",
       "      <td>...</td>\n",
       "      <td>...</td>\n",
       "      <td>...</td>\n",
       "    </tr>\n",
       "    <tr>\n",
       "      <th>...</th>\n",
       "      <td>...</td>\n",
       "      <td>...</td>\n",
       "      <td>...</td>\n",
       "      <td>...</td>\n",
       "      <td>...</td>\n",
       "      <td>...</td>\n",
       "      <td>...</td>\n",
       "      <td>...</td>\n",
       "      <td>...</td>\n",
       "      <td>...</td>\n",
       "      <td>...</td>\n",
       "      <td>...</td>\n",
       "      <td>...</td>\n",
       "      <td>...</td>\n",
       "      <td>...</td>\n",
       "      <td>...</td>\n",
       "      <td>...</td>\n",
       "      <td>...</td>\n",
       "      <td>...</td>\n",
       "      <td>...</td>\n",
       "      <td>...</td>\n",
       "      <td>...</td>\n",
       "      <td>...</td>\n",
       "      <td>...</td>\n",
       "      <td>...</td>\n",
       "      <td>...</td>\n",
       "      <td>...</td>\n",
       "      <td>...</td>\n",
       "      <td>...</td>\n",
       "      <td>...</td>\n",
       "      <td>...</td>\n",
       "      <td>...</td>\n",
       "      <td>...</td>\n",
       "      <td>...</td>\n",
       "      <td>...</td>\n",
       "      <td>...</td>\n",
       "      <td>...</td>\n",
       "      <td>...</td>\n",
       "      <td>...</td>\n",
       "      <td>...</td>\n",
       "      <td>...</td>\n",
       "      <td>...</td>\n",
       "    </tr>\n",
       "    <tr>\n",
       "      <th>Order: 9, Pixel: 2302101</th>\n",
       "      <td>...</td>\n",
       "      <td>...</td>\n",
       "      <td>...</td>\n",
       "      <td>...</td>\n",
       "      <td>...</td>\n",
       "      <td>...</td>\n",
       "      <td>...</td>\n",
       "      <td>...</td>\n",
       "      <td>...</td>\n",
       "      <td>...</td>\n",
       "      <td>...</td>\n",
       "      <td>...</td>\n",
       "      <td>...</td>\n",
       "      <td>...</td>\n",
       "      <td>...</td>\n",
       "      <td>...</td>\n",
       "      <td>...</td>\n",
       "      <td>...</td>\n",
       "      <td>...</td>\n",
       "      <td>...</td>\n",
       "      <td>...</td>\n",
       "      <td>...</td>\n",
       "      <td>...</td>\n",
       "      <td>...</td>\n",
       "      <td>...</td>\n",
       "      <td>...</td>\n",
       "      <td>...</td>\n",
       "      <td>...</td>\n",
       "      <td>...</td>\n",
       "      <td>...</td>\n",
       "      <td>...</td>\n",
       "      <td>...</td>\n",
       "      <td>...</td>\n",
       "      <td>...</td>\n",
       "      <td>...</td>\n",
       "      <td>...</td>\n",
       "      <td>...</td>\n",
       "      <td>...</td>\n",
       "      <td>...</td>\n",
       "      <td>...</td>\n",
       "      <td>...</td>\n",
       "      <td>...</td>\n",
       "    </tr>\n",
       "    <tr>\n",
       "      <th>Order: 7, Pixel: 143884</th>\n",
       "      <td>...</td>\n",
       "      <td>...</td>\n",
       "      <td>...</td>\n",
       "      <td>...</td>\n",
       "      <td>...</td>\n",
       "      <td>...</td>\n",
       "      <td>...</td>\n",
       "      <td>...</td>\n",
       "      <td>...</td>\n",
       "      <td>...</td>\n",
       "      <td>...</td>\n",
       "      <td>...</td>\n",
       "      <td>...</td>\n",
       "      <td>...</td>\n",
       "      <td>...</td>\n",
       "      <td>...</td>\n",
       "      <td>...</td>\n",
       "      <td>...</td>\n",
       "      <td>...</td>\n",
       "      <td>...</td>\n",
       "      <td>...</td>\n",
       "      <td>...</td>\n",
       "      <td>...</td>\n",
       "      <td>...</td>\n",
       "      <td>...</td>\n",
       "      <td>...</td>\n",
       "      <td>...</td>\n",
       "      <td>...</td>\n",
       "      <td>...</td>\n",
       "      <td>...</td>\n",
       "      <td>...</td>\n",
       "      <td>...</td>\n",
       "      <td>...</td>\n",
       "      <td>...</td>\n",
       "      <td>...</td>\n",
       "      <td>...</td>\n",
       "      <td>...</td>\n",
       "      <td>...</td>\n",
       "      <td>...</td>\n",
       "      <td>...</td>\n",
       "      <td>...</td>\n",
       "      <td>...</td>\n",
       "    </tr>\n",
       "  </tbody>\n",
       "</table>\n",
       "</div><div>42 out of 1304 columns in the catalog have been loaded <strong>lazily</strong>, meaning no data has been read, only the catalog schema</div>"
      ],
      "text/plain": [
       "Dask NestedFrame Structure:\n",
       "                           coord_dec    coord_decErr         coord_ra     coord_raErr       g_psfFlux    g_psfFluxErr        g_psfMag     g_psfMagErr       i_psfFlux    i_psfFluxErr        i_psfMag     i_psfMagErr        objectId           patch       r_psfFlux    r_psfFluxErr        r_psfMag     r_psfMagErr          refBand         refFwhm     shape_flag        shape_xx        shape_xy        shape_yy           tract       u_psfFlux    u_psfFluxErr        u_psfMag     u_psfMagErr                x            xErr                y       y_psfFlux    y_psfFluxErr        y_psfMag     y_psfMagErr            yErr       z_psfFlux    z_psfFluxErr        z_psfMag     z_psfMagErr                                                                                                                                                                                                                                                                                                                                                                                                                                                                                                                                                                                                                                                                                objectForcedSource\n",
       "npartitions=389                                                                                                                                                                                                                                                                                                                                                                                                                                                                                                                                                                                                                                                                                                                                                                                                                                                                                                                                                                                                                                                                                                                                                                                                                                                                                                                                                                                          \n",
       "9147936743096320     double[pyarrow]  float[pyarrow]  double[pyarrow]  float[pyarrow]  float[pyarrow]  float[pyarrow]  float[pyarrow]  float[pyarrow]  float[pyarrow]  float[pyarrow]  float[pyarrow]  float[pyarrow]  int64[pyarrow]  int64[pyarrow]  float[pyarrow]  float[pyarrow]  float[pyarrow]  float[pyarrow]  string[pyarrow]  float[pyarrow]  bool[pyarrow]  float[pyarrow]  float[pyarrow]  float[pyarrow]  int64[pyarrow]  float[pyarrow]  float[pyarrow]  float[pyarrow]  float[pyarrow]  double[pyarrow]  float[pyarrow]  double[pyarrow]  float[pyarrow]  float[pyarrow]  float[pyarrow]  float[pyarrow]  float[pyarrow]  float[pyarrow]  float[pyarrow]  float[pyarrow]  float[pyarrow]  nested<band: [string], coord_dec: [double], coord_ra: [double], detector: [int16], forcedSourceId: [int64], invalidPsfFlag: [bool], midpointMjdTai: [double], pixelFlags_bad: [bool], pixelFlags_cr: [bool], pixelFlags_crCenter: [bool], pixelFlags_edge: [bool], pixelFlags_interpolated: [bool], pixelFlags_interpolatedCenter: [bool], pixelFlags_nodata: [bool], pixelFlags_saturated: [bool], pixelFlags_saturatedCenter: [bool], pixelFlags_suspect: [bool], pixelFlags_suspectCenter: [bool], psfDiffFlux: [float], psfDiffFlux_flag: [bool], psfDiffFluxErr: [float], psfFlux: [float], psfFlux_flag: [bool], psfFluxErr: [float], psfMag: [float], psfMagErr: [float], visit: [int64]>\n",
       "9570149208162304                 ...             ...              ...             ...             ...             ...             ...             ...             ...             ...             ...             ...             ...             ...             ...             ...             ...             ...              ...             ...            ...             ...             ...             ...             ...             ...             ...             ...             ...              ...             ...              ...             ...             ...             ...             ...             ...             ...             ...             ...             ...                                                                                                                                                                                                                                                                                                                                                                                                                                                                                                                                                                                                                                                                                               ...\n",
       "...                              ...             ...              ...             ...             ...             ...             ...             ...             ...             ...             ...             ...             ...             ...             ...             ...             ...             ...              ...             ...            ...             ...             ...             ...             ...             ...             ...             ...             ...              ...             ...              ...             ...             ...             ...             ...             ...             ...             ...             ...             ...                                                                                                                                                                                                                                                                                                                                                                                                                                                                                                                                                                                                                                                                                               ...\n",
       "2531234096814751744              ...             ...              ...             ...             ...             ...             ...             ...             ...             ...             ...             ...             ...             ...             ...             ...             ...             ...              ...             ...            ...             ...             ...             ...             ...             ...             ...             ...             ...              ...             ...              ...             ...             ...             ...             ...             ...             ...             ...             ...             ...                                                                                                                                                                                                                                                                                                                                                                                                                                                                                                                                                                                                                                                                                               ...\n",
       "2531251689000796160              ...             ...              ...             ...             ...             ...             ...             ...             ...             ...             ...             ...             ...             ...             ...             ...             ...             ...              ...             ...            ...             ...             ...             ...             ...             ...             ...             ...             ...              ...             ...              ...             ...             ...             ...             ...             ...             ...             ...             ...             ...                                                                                                                                                                                                                                                                                                                                                                                                                                                                                                                                                                                                                                                                                               ...\n",
       "Dask Name: nestedframe, 3 expressions\n",
       "Expr=MapPartitions(NestedFrame)"
      ]
     },
     "execution_count": 5,
     "metadata": {},
     "output_type": "execute_result"
    }
   ],
   "source": [
    "object_cat"
   ]
  },
  {
   "cell_type": "code",
   "execution_count": 6,
   "id": "239044e4-fa77-4fb9-873b-f5462318dd23",
   "metadata": {
    "execution": {
     "iopub.execute_input": "2025-06-30T16:27:28.076716Z",
     "iopub.status.busy": "2025-06-30T16:27:28.076375Z",
     "iopub.status.idle": "2025-06-30T16:27:28.088803Z",
     "shell.execute_reply": "2025-06-30T16:27:28.088199Z",
     "shell.execute_reply.started": "2025-06-30T16:27:28.076697Z"
    },
    "jupyter": {
     "source_hidden": true
    },
    "panel-layout": {
     "height": 347.390625,
     "visible": true,
     "width": 100
    }
   },
   "outputs": [
    {
     "data": {
      "text/html": [
       "<div><strong>lsdb Catalog dia_object_lc:</strong></div><div>\n",
       "<style scoped>\n",
       "    .dataframe tbody tr th:only-of-type {\n",
       "        vertical-align: middle;\n",
       "    }\n",
       "\n",
       "    .dataframe tbody tr th {\n",
       "        vertical-align: top;\n",
       "    }\n",
       "\n",
       "    .dataframe thead th {\n",
       "        text-align: right;\n",
       "    }\n",
       "</style>\n",
       "<table border=\"1\" class=\"dataframe\">\n",
       "  <thead>\n",
       "    <tr style=\"text-align: right;\">\n",
       "      <th></th>\n",
       "      <th>dec</th>\n",
       "      <th>diaObjectId</th>\n",
       "      <th>nDiaSources</th>\n",
       "      <th>ra</th>\n",
       "      <th>radecMjdTai</th>\n",
       "      <th>tract</th>\n",
       "      <th>diaObjectForcedSource</th>\n",
       "      <th>diaSource</th>\n",
       "    </tr>\n",
       "    <tr>\n",
       "      <th>npartitions=208</th>\n",
       "      <th></th>\n",
       "      <th></th>\n",
       "      <th></th>\n",
       "      <th></th>\n",
       "      <th></th>\n",
       "      <th></th>\n",
       "      <th></th>\n",
       "      <th></th>\n",
       "    </tr>\n",
       "  </thead>\n",
       "  <tbody>\n",
       "    <tr>\n",
       "      <th>Order: 6, Pixel: 130</th>\n",
       "      <td>double[pyarrow]</td>\n",
       "      <td>int64[pyarrow]</td>\n",
       "      <td>int64[pyarrow]</td>\n",
       "      <td>double[pyarrow]</td>\n",
       "      <td>double[pyarrow]</td>\n",
       "      <td>int64[pyarrow]</td>\n",
       "      <td>nested&lt;band: [string], coord_dec: [double], co...</td>\n",
       "      <td>nested&lt;band: [string], centroid_flag: [bool], ...</td>\n",
       "    </tr>\n",
       "    <tr>\n",
       "      <th>Order: 6, Pixel: 136</th>\n",
       "      <td>...</td>\n",
       "      <td>...</td>\n",
       "      <td>...</td>\n",
       "      <td>...</td>\n",
       "      <td>...</td>\n",
       "      <td>...</td>\n",
       "      <td>...</td>\n",
       "      <td>...</td>\n",
       "    </tr>\n",
       "    <tr>\n",
       "      <th>...</th>\n",
       "      <td>...</td>\n",
       "      <td>...</td>\n",
       "      <td>...</td>\n",
       "      <td>...</td>\n",
       "      <td>...</td>\n",
       "      <td>...</td>\n",
       "      <td>...</td>\n",
       "      <td>...</td>\n",
       "    </tr>\n",
       "    <tr>\n",
       "      <th>Order: 11, Pixel: 36833621</th>\n",
       "      <td>...</td>\n",
       "      <td>...</td>\n",
       "      <td>...</td>\n",
       "      <td>...</td>\n",
       "      <td>...</td>\n",
       "      <td>...</td>\n",
       "      <td>...</td>\n",
       "      <td>...</td>\n",
       "    </tr>\n",
       "    <tr>\n",
       "      <th>Order: 7, Pixel: 143884</th>\n",
       "      <td>...</td>\n",
       "      <td>...</td>\n",
       "      <td>...</td>\n",
       "      <td>...</td>\n",
       "      <td>...</td>\n",
       "      <td>...</td>\n",
       "      <td>...</td>\n",
       "      <td>...</td>\n",
       "    </tr>\n",
       "  </tbody>\n",
       "</table>\n",
       "</div><div>8 out of 140 columns in the catalog have been loaded <strong>lazily</strong>, meaning no data has been read, only the catalog schema</div>"
      ],
      "text/plain": [
       "Dask NestedFrame Structure:\n",
       "                                 dec     diaObjectId     nDiaSources               ra      radecMjdTai           tract                                                                                                                                                                                                                                                                                                                                                                                                                                                                                                                                                                                                                                                                                                           diaObjectForcedSource                                                                                                                                                                                                                                                                                                                                                                                                                                                                                                                                                                                                                                                                                                                                                                                                                                                                                                                                                                                                                                                                                                                                                                                                                                                                                                                   diaSource\n",
       "npartitions=208                                                                                                                                                                                                                                                                                                                                                                                                                                                                                                                                                                                                                                                                                                                                                                                                                                                                                                                                                                                                                                                                                                                                                                                                                                                                                                                                                                                                                                                                                                                                                                                                                                                                                                                                                                                                                                                                                                                                                                                                                                                                                                                                                                   \n",
       "9147936743096320     double[pyarrow]  int64[pyarrow]  int64[pyarrow]  double[pyarrow]  double[pyarrow]  int64[pyarrow]  nested<band: [string], coord_dec: [double], coord_ra: [double], diff_PixelFlags_nodataCenter: [bool], forcedSourceOnDiaObjectId: [int64], invalidPsfFlag: [bool], midpointMjdTai: [double], pixelFlags_bad: [bool], pixelFlags_cr: [bool], pixelFlags_crCenter: [bool], pixelFlags_edge: [bool], pixelFlags_interpolated: [bool], pixelFlags_interpolatedCenter: [bool], pixelFlags_nodata: [bool], pixelFlags_saturated: [bool], pixelFlags_saturatedCenter: [bool], pixelFlags_suspect: [bool], pixelFlags_suspectCenter: [bool], psfDiffFlux: [float], psfDiffFlux_flag: [bool], psfDiffFluxErr: [float], psfFlux: [float], psfFlux_flag: [bool], psfFluxErr: [float], psfMag: [float], psfMagErr: [float], visit: [int64]>  nested<band: [string], centroid_flag: [bool], coord_dec: [double], coord_ra: [double], dec: [double], decErr: [float], diaSourceId: [int64], forced_PsfFlux_flag: [bool], forced_PsfFlux_flag_edge: [bool], forced_PsfFlux_flag_noGoodPixels: [bool], midpointMjdTai: [double], pixelFlags: [bool], pixelFlags_bad: [bool], pixelFlags_cr: [bool], pixelFlags_crCenter: [bool], pixelFlags_edge: [bool], pixelFlags_interpolated: [bool], pixelFlags_interpolatedCenter: [bool], pixelFlags_nodata: [bool], pixelFlags_nodataCenter: [bool], pixelFlags_offimage: [bool], pixelFlags_saturated: [bool], pixelFlags_saturatedCenter: [bool], pixelFlags_streak: [bool], pixelFlags_streakCenter: [bool], pixelFlags_suspect: [bool], pixelFlags_suspectCenter: [bool], psfFlux: [float], psfFlux_flag: [bool], psfFlux_flag_edge: [bool], psfFlux_flag_noGoodPixels: [bool], psfFluxErr: [float], psfMag: [float], psfMagErr: [float], ra: [double], raErr: [float], reliability: [float], scienceFlux: [float], scienceFluxErr: [float], scienceMag: [float], scienceMagErr: [float], shape_flag: [bool], shape_flag_no_pixels: [bool], shape_flag_not_contained: [bool], shape_flag_parent_source: [bool], snr: [float], trail_flag_edge: [bool], visit: [int64], x: [double], xErr: [float], y: [double], yErr: [float]>\n",
       "9570149208162304                 ...             ...             ...              ...              ...             ...                                                                                                                                                                                                                                                                                                                                                                                                                                                                                                                                                                                                                                                                                                                             ...                                                                                                                                                                                                                                                                                                                                                                                                                                                                                                                                                                                                                                                                                                                                                                                                                                                                                                                                                                                                                                                                                                                                                                                                                                                                                                                         ...\n",
       "...                              ...             ...             ...              ...              ...             ...                                                                                                                                                                                                                                                                                                                                                                                                                                                                                                                                                                                                                                                                                                                             ...                                                                                                                                                                                                                                                                                                                                                                                                                                                                                                                                                                                                                                                                                                                                                                                                                                                                                                                                                                                                                                                                                                                                                                                                                                                                                                                         ...\n",
       "2531234096814751744              ...             ...             ...              ...              ...             ...                                                                                                                                                                                                                                                                                                                                                                                                                                                                                                                                                                                                                                                                                                                             ...                                                                                                                                                                                                                                                                                                                                                                                                                                                                                                                                                                                                                                                                                                                                                                                                                                                                                                                                                                                                                                                                                                                                                                                                                                                                                                                         ...\n",
       "2531251689000796160              ...             ...             ...              ...              ...             ...                                                                                                                                                                                                                                                                                                                                                                                                                                                                                                                                                                                                                                                                                                                             ...                                                                                                                                                                                                                                                                                                                                                                                                                                                                                                                                                                                                                                                                                                                                                                                                                                                                                                                                                                                                                                                                                                                                                                                                                                                                                                                         ...\n",
       "Dask Name: nestedframe, 3 expressions\n",
       "Expr=MapPartitions(NestedFrame)"
      ]
     },
     "execution_count": 6,
     "metadata": {},
     "output_type": "execute_result"
    }
   ],
   "source": [
    "dia_object_cat"
   ]
  },
  {
   "cell_type": "raw",
   "id": "84e9c6ce-ca93-4fc1-9c11-0d9243cb0d48",
   "metadata": {
    "raw_mimetype": "text/restructuredtext",
    "vscode": {
     "languageId": "raw"
    }
   },
   "source": [
    "You've accessed the data!  You can see the schema of both catalogs.  To learn how to use this data,\n",
    "see :doc:`Using Rubin Data </tutorials/pre_executed/using_rubin_data>` and follow the quickstart at :doc:`Getting Started </getting-started>`. If you have questions about data from the Rubin Observatory, the best place to ask is https://community.lsst.org, in the `LSST Data Products category <https://community.lsst.org/c/support/data/34>`_."
   ]
  },
  {
   "cell_type": "markdown",
   "id": "036d0560",
   "metadata": {
    "panel-layout": {
     "height": 50.8203125,
     "visible": true,
     "width": 100
    }
   },
   "source": [
    "## 2. Accessing the data on CANFAR (work in progress)"
   ]
  },
  {
   "cell_type": "markdown",
   "id": "eb134afe",
   "metadata": {
    "panel-layout": {
     "height": 10,
     "visible": true,
     "width": 100
    }
   },
   "source": [
    "## 2.1 Create a CANFAR account"
   ]
  },
  {
   "cell_type": "markdown",
   "id": "0aa390b4-cf26-4d69-aaeb-525979f79bc7",
   "metadata": {
    "panel-layout": {
     "height": 50.8203125,
     "visible": true,
     "width": 100
    }
   },
   "source": [
    "Visit https://www.cadc-ccda.hia-iha.nrc-cnrc.gc.ca/en/auth/request.html and request\n",
    "a CADC account.\n",
    "\n",
    "Visit https://www.canfar.net/science-portal/ and request an account.\n",
    "\n",
    "Once you receive your CADC account, then send an email to support@canfar.net to request Rubin data access.  In the email, provide:\n",
    "  * your name\n",
    "  * your CADC username\n",
    "  * your institution\n",
    "  * the basis on which you have Rubin data rights access (e.g. U. S. institution, Chile institution, member of international in-kind project, etc.)\n",
    "\n",
    "Wait until your account is approved, then log in."
   ]
  },
  {
   "cell_type": "markdown",
   "id": "45fd6aca-cc37-440b-afca-c93cf642bfed",
   "metadata": {},
   "source": [
    "## 2.2 Prepare your CANFAR container"
   ]
  },
  {
   "attachments": {
    "859e8f85-8ee9-4372-93ce-b847022719a4.png": {
     "image/png": "[encoded data removed]"
    }
   },
   "cell_type": "markdown",
   "id": "19bbad31-4197-48d6-a685-fd8784aa6ae6",
   "metadata": {},
   "source": [
    "When you log into the CANFAR Science Portal, start your container and choose `lsdb:latest` for your image.\n",
    "\n",
    "Modify your memory and number of cores as required.\n",
    "\n",
    "![canfar_container.png](attachment:859e8f85-8ee9-4372-93ce-b847022719a4.png)"
   ]
  },
  {
   "cell_type": "markdown",
   "id": "318c7667-9547-4d91-8427-27b979f34bfe",
   "metadata": {},
   "source": [
    "#### 2.2.1 Ensure your notebook kernel has the right version of lsdb"
   ]
  },
  {
   "cell_type": "markdown",
   "id": "725064ac-2e04-43d7-9346-db3eaee911c7",
   "metadata": {
    "panel-layout": {
     "height": 51.140594482421875,
     "visible": true,
     "width": 100
    }
   },
   "source": [
    "Make sure you've got at *least* version 0.6.0 of lsdb.  Try the following."
   ]
  },
  {
   "cell_type": "code",
   "execution_count": 4,
   "id": "212ade17-026c-4581-8873-fd2fa2104cec",
   "metadata": {
    "panel-layout": {
     "height": 51.140625,
     "visible": true,
     "width": 100
    }
   },
   "outputs": [
    {
     "data": {
      "text/plain": [
       "'0.6.1.dev17+ge18d49e4'"
      ]
     },
     "execution_count": 4,
     "metadata": {},
     "output_type": "execute_result"
    }
   ],
   "source": [
    "import lsdb\n",
    "\n",
    "lsdb.__version__"
   ]
  },
  {
   "cell_type": "markdown",
   "id": "ac982950-357d-48bd-8377-df4ecef7dac9",
   "metadata": {
    "panel-layout": {
     "height": 68.78125,
     "visible": true,
     "width": 100
    }
   },
   "source": [
    "If the above does *not* work, then install/upgrade lsdb for your container.  Be sure to precede this command\n",
    "with the `%` so that it will apply to *this notebook kernel*:"
   ]
  },
  {
   "cell_type": "code",
   "execution_count": null,
   "id": "e47d5ed5-4192-44bb-af66-418d73df8d7a",
   "metadata": {},
   "outputs": [],
   "source": [
    "%pip install -U lsdb"
   ]
  },
  {
   "cell_type": "markdown",
   "id": "1badaaf8-7460-4a7b-88ab-0ce343dfeaf1",
   "metadata": {
    "panel-layout": {
     "height": 208.25,
     "visible": true,
     "width": 100
    }
   },
   "source": [
    "You will probably see these errors.  **You can safely ignore them.**\n",
    "\n",
    "```\n",
    "ERROR: pip's dependency resolver does not currently take into account all the packages that are installed. This behaviour is the source of the following dependency conflicts.\n",
    "schedview 0.17.0 requires lsst-resources, which is not installed.\n",
    "nested-dask 0.3.4 requires nested-pandas<0.4.0,>=0.3.1, but you have nested-pandas 0.4.5 which is incompatible.\n",
    "```"
   ]
  },
  {
   "cell_type": "markdown",
   "id": "96d46002-d2d7-4f35-877a-e105cc3f3dda",
   "metadata": {},
   "source": [
    "#### 1.1.2 Restart your notebook kernel"
   ]
  },
  {
   "cell_type": "markdown",
   "id": "4297a779-2682-4bfe-8599-976f99092d1c",
   "metadata": {
    "panel-layout": {
     "height": 68.28125,
     "visible": true,
     "width": 100
    }
   },
   "source": [
    "Next, be sure to *restart the kernel*.  You've made a change to the kernel's dependencies, but you won't pick it up\n",
    "until the kernel has been restarted.  Then re-import lsdb and verify the version."
   ]
  },
  {
   "cell_type": "code",
   "execution_count": 5,
   "id": "9b6cc021-ddfb-4e3b-8ab1-cc29b6712c4a",
   "metadata": {
    "collapsed": true,
    "execution": {
     "iopub.execute_input": "2025-06-24T21:29:57.278469Z",
     "iopub.status.busy": "2025-06-24T21:29:57.278113Z",
     "iopub.status.idle": "2025-06-24T21:29:57.281935Z",
     "shell.execute_reply": "2025-06-24T21:29:57.281538Z",
     "shell.execute_reply.started": "2025-06-24T21:29:57.278450Z"
    },
    "jupyter": {
     "outputs_hidden": true
    },
    "panel-layout": {
     "height": 51.140625,
     "visible": true,
     "width": 100
    }
   },
   "outputs": [
    {
     "data": {
      "text/plain": [
       "'0.6.0'"
      ]
     },
     "execution_count": 5,
     "metadata": {},
     "output_type": "execute_result"
    }
   ],
   "source": [
    "import lsdb\n",
    "\n",
    "lsdb.__version__"
   ]
  },
  {
   "cell_type": "markdown",
   "id": "22e5f59e-7d08-4cc7-8f8c-94b0e0142194",
   "metadata": {
    "panel-layout": {
     "height": 78.71099853515625,
     "visible": true,
     "width": 100
    }
   },
   "source": [
    "### 1.2 Opening a Catalog\n",
    "\n",
    "The data is divided into `objects` and `dia_objects`.  Let's open both catalogs:"
   ]
  },
  {
   "cell_type": "code",
   "execution_count": 7,
   "id": "670f4866-94bd-4533-804c-6d59cd73b0ef",
   "metadata": {
    "execution": {
     "iopub.execute_input": "2025-06-30T16:28:11.267339Z",
     "iopub.status.busy": "2025-06-30T16:28:11.266868Z",
     "iopub.status.idle": "2025-06-30T16:28:13.799914Z",
     "shell.execute_reply": "2025-06-30T16:28:13.799403Z",
     "shell.execute_reply.started": "2025-06-30T16:28:11.267296Z"
    }
   },
   "outputs": [],
   "source": [
    "from upath import UPath\n",
    "\n",
    "# TODO: replace with proper CANFAR path\n",
    "base_path = UPath(\"/sdf/data/rubin/shared/lsdb_commissioning/dp1/dp1_release\")\n",
    "\n",
    "object_cat = lsdb.open_catalog(base_path / \"object_collection\")\n",
    "dia_object_cat = lsdb.open_catalog(base_path / \"dia_object_collection\")"
   ]
  },
  {
   "cell_type": "code",
   "execution_count": 8,
   "id": "6edb97ec-35f3-4cd7-bf54-92df5faeb160",
   "metadata": {
    "execution": {
     "iopub.execute_input": "2025-06-30T16:28:16.102473Z",
     "iopub.status.busy": "2025-06-30T16:28:16.102139Z",
     "iopub.status.idle": "2025-06-30T16:28:16.134462Z",
     "shell.execute_reply": "2025-06-30T16:28:16.134036Z",
     "shell.execute_reply.started": "2025-06-30T16:28:16.102454Z"
    },
    "panel-layout": {
     "height": 295.96875,
     "visible": true,
     "width": 100
    }
   },
   "outputs": [
    {
     "data": {
      "text/html": [
       "<div><strong>lsdb Catalog object_lc:</strong></div><div>\n",
       "<style scoped>\n",
       "    .dataframe tbody tr th:only-of-type {\n",
       "        vertical-align: middle;\n",
       "    }\n",
       "\n",
       "    .dataframe tbody tr th {\n",
       "        vertical-align: top;\n",
       "    }\n",
       "\n",
       "    .dataframe thead th {\n",
       "        text-align: right;\n",
       "    }\n",
       "</style>\n",
       "<table border=\"1\" class=\"dataframe\">\n",
       "  <thead>\n",
       "    <tr style=\"text-align: right;\">\n",
       "      <th></th>\n",
       "      <th>coord_dec</th>\n",
       "      <th>coord_decErr</th>\n",
       "      <th>coord_ra</th>\n",
       "      <th>coord_raErr</th>\n",
       "      <th>g_psfFlux</th>\n",
       "      <th>g_psfFluxErr</th>\n",
       "      <th>g_psfMag</th>\n",
       "      <th>g_psfMagErr</th>\n",
       "      <th>i_psfFlux</th>\n",
       "      <th>i_psfFluxErr</th>\n",
       "      <th>i_psfMag</th>\n",
       "      <th>i_psfMagErr</th>\n",
       "      <th>objectId</th>\n",
       "      <th>patch</th>\n",
       "      <th>r_psfFlux</th>\n",
       "      <th>r_psfFluxErr</th>\n",
       "      <th>r_psfMag</th>\n",
       "      <th>r_psfMagErr</th>\n",
       "      <th>refBand</th>\n",
       "      <th>refFwhm</th>\n",
       "      <th>shape_flag</th>\n",
       "      <th>shape_xx</th>\n",
       "      <th>shape_xy</th>\n",
       "      <th>shape_yy</th>\n",
       "      <th>tract</th>\n",
       "      <th>u_psfFlux</th>\n",
       "      <th>u_psfFluxErr</th>\n",
       "      <th>u_psfMag</th>\n",
       "      <th>u_psfMagErr</th>\n",
       "      <th>x</th>\n",
       "      <th>xErr</th>\n",
       "      <th>y</th>\n",
       "      <th>y_psfFlux</th>\n",
       "      <th>y_psfFluxErr</th>\n",
       "      <th>y_psfMag</th>\n",
       "      <th>y_psfMagErr</th>\n",
       "      <th>yErr</th>\n",
       "      <th>z_psfFlux</th>\n",
       "      <th>z_psfFluxErr</th>\n",
       "      <th>z_psfMag</th>\n",
       "      <th>z_psfMagErr</th>\n",
       "      <th>objectForcedSource</th>\n",
       "    </tr>\n",
       "    <tr>\n",
       "      <th>npartitions=389</th>\n",
       "      <th></th>\n",
       "      <th></th>\n",
       "      <th></th>\n",
       "      <th></th>\n",
       "      <th></th>\n",
       "      <th></th>\n",
       "      <th></th>\n",
       "      <th></th>\n",
       "      <th></th>\n",
       "      <th></th>\n",
       "      <th></th>\n",
       "      <th></th>\n",
       "      <th></th>\n",
       "      <th></th>\n",
       "      <th></th>\n",
       "      <th></th>\n",
       "      <th></th>\n",
       "      <th></th>\n",
       "      <th></th>\n",
       "      <th></th>\n",
       "      <th></th>\n",
       "      <th></th>\n",
       "      <th></th>\n",
       "      <th></th>\n",
       "      <th></th>\n",
       "      <th></th>\n",
       "      <th></th>\n",
       "      <th></th>\n",
       "      <th></th>\n",
       "      <th></th>\n",
       "      <th></th>\n",
       "      <th></th>\n",
       "      <th></th>\n",
       "      <th></th>\n",
       "      <th></th>\n",
       "      <th></th>\n",
       "      <th></th>\n",
       "      <th></th>\n",
       "      <th></th>\n",
       "      <th></th>\n",
       "      <th></th>\n",
       "      <th></th>\n",
       "    </tr>\n",
       "  </thead>\n",
       "  <tbody>\n",
       "    <tr>\n",
       "      <th>Order: 6, Pixel: 130</th>\n",
       "      <td>double[pyarrow]</td>\n",
       "      <td>float[pyarrow]</td>\n",
       "      <td>double[pyarrow]</td>\n",
       "      <td>float[pyarrow]</td>\n",
       "      <td>float[pyarrow]</td>\n",
       "      <td>float[pyarrow]</td>\n",
       "      <td>float[pyarrow]</td>\n",
       "      <td>float[pyarrow]</td>\n",
       "      <td>float[pyarrow]</td>\n",
       "      <td>float[pyarrow]</td>\n",
       "      <td>float[pyarrow]</td>\n",
       "      <td>float[pyarrow]</td>\n",
       "      <td>int64[pyarrow]</td>\n",
       "      <td>int64[pyarrow]</td>\n",
       "      <td>float[pyarrow]</td>\n",
       "      <td>float[pyarrow]</td>\n",
       "      <td>float[pyarrow]</td>\n",
       "      <td>float[pyarrow]</td>\n",
       "      <td>string[pyarrow]</td>\n",
       "      <td>float[pyarrow]</td>\n",
       "      <td>bool[pyarrow]</td>\n",
       "      <td>float[pyarrow]</td>\n",
       "      <td>float[pyarrow]</td>\n",
       "      <td>float[pyarrow]</td>\n",
       "      <td>int64[pyarrow]</td>\n",
       "      <td>float[pyarrow]</td>\n",
       "      <td>float[pyarrow]</td>\n",
       "      <td>float[pyarrow]</td>\n",
       "      <td>float[pyarrow]</td>\n",
       "      <td>double[pyarrow]</td>\n",
       "      <td>float[pyarrow]</td>\n",
       "      <td>double[pyarrow]</td>\n",
       "      <td>float[pyarrow]</td>\n",
       "      <td>float[pyarrow]</td>\n",
       "      <td>float[pyarrow]</td>\n",
       "      <td>float[pyarrow]</td>\n",
       "      <td>float[pyarrow]</td>\n",
       "      <td>float[pyarrow]</td>\n",
       "      <td>float[pyarrow]</td>\n",
       "      <td>float[pyarrow]</td>\n",
       "      <td>float[pyarrow]</td>\n",
       "      <td>nested&lt;band: [string], coord_dec: [double], co...</td>\n",
       "    </tr>\n",
       "    <tr>\n",
       "      <th>Order: 8, Pixel: 2176</th>\n",
       "      <td>...</td>\n",
       "      <td>...</td>\n",
       "      <td>...</td>\n",
       "      <td>...</td>\n",
       "      <td>...</td>\n",
       "      <td>...</td>\n",
       "      <td>...</td>\n",
       "      <td>...</td>\n",
       "      <td>...</td>\n",
       "      <td>...</td>\n",
       "      <td>...</td>\n",
       "      <td>...</td>\n",
       "      <td>...</td>\n",
       "      <td>...</td>\n",
       "      <td>...</td>\n",
       "      <td>...</td>\n",
       "      <td>...</td>\n",
       "      <td>...</td>\n",
       "      <td>...</td>\n",
       "      <td>...</td>\n",
       "      <td>...</td>\n",
       "      <td>...</td>\n",
       "      <td>...</td>\n",
       "      <td>...</td>\n",
       "      <td>...</td>\n",
       "      <td>...</td>\n",
       "      <td>...</td>\n",
       "      <td>...</td>\n",
       "      <td>...</td>\n",
       "      <td>...</td>\n",
       "      <td>...</td>\n",
       "      <td>...</td>\n",
       "      <td>...</td>\n",
       "      <td>...</td>\n",
       "      <td>...</td>\n",
       "      <td>...</td>\n",
       "      <td>...</td>\n",
       "      <td>...</td>\n",
       "      <td>...</td>\n",
       "      <td>...</td>\n",
       "      <td>...</td>\n",
       "      <td>...</td>\n",
       "    </tr>\n",
       "    <tr>\n",
       "      <th>...</th>\n",
       "      <td>...</td>\n",
       "      <td>...</td>\n",
       "      <td>...</td>\n",
       "      <td>...</td>\n",
       "      <td>...</td>\n",
       "      <td>...</td>\n",
       "      <td>...</td>\n",
       "      <td>...</td>\n",
       "      <td>...</td>\n",
       "      <td>...</td>\n",
       "      <td>...</td>\n",
       "      <td>...</td>\n",
       "      <td>...</td>\n",
       "      <td>...</td>\n",
       "      <td>...</td>\n",
       "      <td>...</td>\n",
       "      <td>...</td>\n",
       "      <td>...</td>\n",
       "      <td>...</td>\n",
       "      <td>...</td>\n",
       "      <td>...</td>\n",
       "      <td>...</td>\n",
       "      <td>...</td>\n",
       "      <td>...</td>\n",
       "      <td>...</td>\n",
       "      <td>...</td>\n",
       "      <td>...</td>\n",
       "      <td>...</td>\n",
       "      <td>...</td>\n",
       "      <td>...</td>\n",
       "      <td>...</td>\n",
       "      <td>...</td>\n",
       "      <td>...</td>\n",
       "      <td>...</td>\n",
       "      <td>...</td>\n",
       "      <td>...</td>\n",
       "      <td>...</td>\n",
       "      <td>...</td>\n",
       "      <td>...</td>\n",
       "      <td>...</td>\n",
       "      <td>...</td>\n",
       "      <td>...</td>\n",
       "    </tr>\n",
       "    <tr>\n",
       "      <th>Order: 9, Pixel: 2302101</th>\n",
       "      <td>...</td>\n",
       "      <td>...</td>\n",
       "      <td>...</td>\n",
       "      <td>...</td>\n",
       "      <td>...</td>\n",
       "      <td>...</td>\n",
       "      <td>...</td>\n",
       "      <td>...</td>\n",
       "      <td>...</td>\n",
       "      <td>...</td>\n",
       "      <td>...</td>\n",
       "      <td>...</td>\n",
       "      <td>...</td>\n",
       "      <td>...</td>\n",
       "      <td>...</td>\n",
       "      <td>...</td>\n",
       "      <td>...</td>\n",
       "      <td>...</td>\n",
       "      <td>...</td>\n",
       "      <td>...</td>\n",
       "      <td>...</td>\n",
       "      <td>...</td>\n",
       "      <td>...</td>\n",
       "      <td>...</td>\n",
       "      <td>...</td>\n",
       "      <td>...</td>\n",
       "      <td>...</td>\n",
       "      <td>...</td>\n",
       "      <td>...</td>\n",
       "      <td>...</td>\n",
       "      <td>...</td>\n",
       "      <td>...</td>\n",
       "      <td>...</td>\n",
       "      <td>...</td>\n",
       "      <td>...</td>\n",
       "      <td>...</td>\n",
       "      <td>...</td>\n",
       "      <td>...</td>\n",
       "      <td>...</td>\n",
       "      <td>...</td>\n",
       "      <td>...</td>\n",
       "      <td>...</td>\n",
       "    </tr>\n",
       "    <tr>\n",
       "      <th>Order: 7, Pixel: 143884</th>\n",
       "      <td>...</td>\n",
       "      <td>...</td>\n",
       "      <td>...</td>\n",
       "      <td>...</td>\n",
       "      <td>...</td>\n",
       "      <td>...</td>\n",
       "      <td>...</td>\n",
       "      <td>...</td>\n",
       "      <td>...</td>\n",
       "      <td>...</td>\n",
       "      <td>...</td>\n",
       "      <td>...</td>\n",
       "      <td>...</td>\n",
       "      <td>...</td>\n",
       "      <td>...</td>\n",
       "      <td>...</td>\n",
       "      <td>...</td>\n",
       "      <td>...</td>\n",
       "      <td>...</td>\n",
       "      <td>...</td>\n",
       "      <td>...</td>\n",
       "      <td>...</td>\n",
       "      <td>...</td>\n",
       "      <td>...</td>\n",
       "      <td>...</td>\n",
       "      <td>...</td>\n",
       "      <td>...</td>\n",
       "      <td>...</td>\n",
       "      <td>...</td>\n",
       "      <td>...</td>\n",
       "      <td>...</td>\n",
       "      <td>...</td>\n",
       "      <td>...</td>\n",
       "      <td>...</td>\n",
       "      <td>...</td>\n",
       "      <td>...</td>\n",
       "      <td>...</td>\n",
       "      <td>...</td>\n",
       "      <td>...</td>\n",
       "      <td>...</td>\n",
       "      <td>...</td>\n",
       "      <td>...</td>\n",
       "    </tr>\n",
       "  </tbody>\n",
       "</table>\n",
       "</div><div>42 out of 1304 columns in the catalog have been loaded <strong>lazily</strong>, meaning no data has been read, only the catalog schema</div>"
      ],
      "text/plain": [
       "Dask NestedFrame Structure:\n",
       "                           coord_dec    coord_decErr         coord_ra     coord_raErr       g_psfFlux    g_psfFluxErr        g_psfMag     g_psfMagErr       i_psfFlux    i_psfFluxErr        i_psfMag     i_psfMagErr        objectId           patch       r_psfFlux    r_psfFluxErr        r_psfMag     r_psfMagErr          refBand         refFwhm     shape_flag        shape_xx        shape_xy        shape_yy           tract       u_psfFlux    u_psfFluxErr        u_psfMag     u_psfMagErr                x            xErr                y       y_psfFlux    y_psfFluxErr        y_psfMag     y_psfMagErr            yErr       z_psfFlux    z_psfFluxErr        z_psfMag     z_psfMagErr                                                                                                                                                                                                                                                                                                                                                                                                                                                                                                                                                                                                                                                                                objectForcedSource\n",
       "npartitions=389                                                                                                                                                                                                                                                                                                                                                                                                                                                                                                                                                                                                                                                                                                                                                                                                                                                                                                                                                                                                                                                                                                                                                                                                                                                                                                                                                                                          \n",
       "9147936743096320     double[pyarrow]  float[pyarrow]  double[pyarrow]  float[pyarrow]  float[pyarrow]  float[pyarrow]  float[pyarrow]  float[pyarrow]  float[pyarrow]  float[pyarrow]  float[pyarrow]  float[pyarrow]  int64[pyarrow]  int64[pyarrow]  float[pyarrow]  float[pyarrow]  float[pyarrow]  float[pyarrow]  string[pyarrow]  float[pyarrow]  bool[pyarrow]  float[pyarrow]  float[pyarrow]  float[pyarrow]  int64[pyarrow]  float[pyarrow]  float[pyarrow]  float[pyarrow]  float[pyarrow]  double[pyarrow]  float[pyarrow]  double[pyarrow]  float[pyarrow]  float[pyarrow]  float[pyarrow]  float[pyarrow]  float[pyarrow]  float[pyarrow]  float[pyarrow]  float[pyarrow]  float[pyarrow]  nested<band: [string], coord_dec: [double], coord_ra: [double], detector: [int16], forcedSourceId: [int64], invalidPsfFlag: [bool], midpointMjdTai: [double], pixelFlags_bad: [bool], pixelFlags_cr: [bool], pixelFlags_crCenter: [bool], pixelFlags_edge: [bool], pixelFlags_interpolated: [bool], pixelFlags_interpolatedCenter: [bool], pixelFlags_nodata: [bool], pixelFlags_saturated: [bool], pixelFlags_saturatedCenter: [bool], pixelFlags_suspect: [bool], pixelFlags_suspectCenter: [bool], psfDiffFlux: [float], psfDiffFlux_flag: [bool], psfDiffFluxErr: [float], psfFlux: [float], psfFlux_flag: [bool], psfFluxErr: [float], psfMag: [float], psfMagErr: [float], visit: [int64]>\n",
       "9570149208162304                 ...             ...              ...             ...             ...             ...             ...             ...             ...             ...             ...             ...             ...             ...             ...             ...             ...             ...              ...             ...            ...             ...             ...             ...             ...             ...             ...             ...             ...              ...             ...              ...             ...             ...             ...             ...             ...             ...             ...             ...             ...                                                                                                                                                                                                                                                                                                                                                                                                                                                                                                                                                                                                                                                                                               ...\n",
       "...                              ...             ...              ...             ...             ...             ...             ...             ...             ...             ...             ...             ...             ...             ...             ...             ...             ...             ...              ...             ...            ...             ...             ...             ...             ...             ...             ...             ...             ...              ...             ...              ...             ...             ...             ...             ...             ...             ...             ...             ...             ...                                                                                                                                                                                                                                                                                                                                                                                                                                                                                                                                                                                                                                                                                               ...\n",
       "2531234096814751744              ...             ...              ...             ...             ...             ...             ...             ...             ...             ...             ...             ...             ...             ...             ...             ...             ...             ...              ...             ...            ...             ...             ...             ...             ...             ...             ...             ...             ...              ...             ...              ...             ...             ...             ...             ...             ...             ...             ...             ...             ...                                                                                                                                                                                                                                                                                                                                                                                                                                                                                                                                                                                                                                                                                               ...\n",
       "2531251689000796160              ...             ...              ...             ...             ...             ...             ...             ...             ...             ...             ...             ...             ...             ...             ...             ...             ...             ...              ...             ...            ...             ...             ...             ...             ...             ...             ...             ...             ...              ...             ...              ...             ...             ...             ...             ...             ...             ...             ...             ...             ...                                                                                                                                                                                                                                                                                                                                                                                                                                                                                                                                                                                                                                                                                               ...\n",
       "Dask Name: nestedframe, 3 expressions\n",
       "Expr=MapPartitions(NestedFrame)"
      ]
     },
     "execution_count": 8,
     "metadata": {},
     "output_type": "execute_result"
    }
   ],
   "source": [
    "object_cat"
   ]
  },
  {
   "cell_type": "code",
   "execution_count": 9,
   "id": "0b56daf5-466b-4832-9ea6-ac12f14b21cc",
   "metadata": {
    "execution": {
     "iopub.execute_input": "2025-06-30T16:28:18.735406Z",
     "iopub.status.busy": "2025-06-30T16:28:18.735183Z",
     "iopub.status.idle": "2025-06-30T16:28:18.746205Z",
     "shell.execute_reply": "2025-06-30T16:28:18.745773Z",
     "shell.execute_reply.started": "2025-06-30T16:28:18.735389Z"
    },
    "jupyter": {
     "source_hidden": true
    },
    "panel-layout": {
     "height": 347.390625,
     "visible": true,
     "width": 100
    }
   },
   "outputs": [
    {
     "data": {
      "text/html": [
       "<div><strong>lsdb Catalog dia_object_lc:</strong></div><div>\n",
       "<style scoped>\n",
       "    .dataframe tbody tr th:only-of-type {\n",
       "        vertical-align: middle;\n",
       "    }\n",
       "\n",
       "    .dataframe tbody tr th {\n",
       "        vertical-align: top;\n",
       "    }\n",
       "\n",
       "    .dataframe thead th {\n",
       "        text-align: right;\n",
       "    }\n",
       "</style>\n",
       "<table border=\"1\" class=\"dataframe\">\n",
       "  <thead>\n",
       "    <tr style=\"text-align: right;\">\n",
       "      <th></th>\n",
       "      <th>dec</th>\n",
       "      <th>diaObjectId</th>\n",
       "      <th>nDiaSources</th>\n",
       "      <th>ra</th>\n",
       "      <th>radecMjdTai</th>\n",
       "      <th>tract</th>\n",
       "      <th>diaObjectForcedSource</th>\n",
       "      <th>diaSource</th>\n",
       "    </tr>\n",
       "    <tr>\n",
       "      <th>npartitions=208</th>\n",
       "      <th></th>\n",
       "      <th></th>\n",
       "      <th></th>\n",
       "      <th></th>\n",
       "      <th></th>\n",
       "      <th></th>\n",
       "      <th></th>\n",
       "      <th></th>\n",
       "    </tr>\n",
       "  </thead>\n",
       "  <tbody>\n",
       "    <tr>\n",
       "      <th>Order: 6, Pixel: 130</th>\n",
       "      <td>double[pyarrow]</td>\n",
       "      <td>int64[pyarrow]</td>\n",
       "      <td>int64[pyarrow]</td>\n",
       "      <td>double[pyarrow]</td>\n",
       "      <td>double[pyarrow]</td>\n",
       "      <td>int64[pyarrow]</td>\n",
       "      <td>nested&lt;band: [string], coord_dec: [double], co...</td>\n",
       "      <td>nested&lt;band: [string], centroid_flag: [bool], ...</td>\n",
       "    </tr>\n",
       "    <tr>\n",
       "      <th>Order: 6, Pixel: 136</th>\n",
       "      <td>...</td>\n",
       "      <td>...</td>\n",
       "      <td>...</td>\n",
       "      <td>...</td>\n",
       "      <td>...</td>\n",
       "      <td>...</td>\n",
       "      <td>...</td>\n",
       "      <td>...</td>\n",
       "    </tr>\n",
       "    <tr>\n",
       "      <th>...</th>\n",
       "      <td>...</td>\n",
       "      <td>...</td>\n",
       "      <td>...</td>\n",
       "      <td>...</td>\n",
       "      <td>...</td>\n",
       "      <td>...</td>\n",
       "      <td>...</td>\n",
       "      <td>...</td>\n",
       "    </tr>\n",
       "    <tr>\n",
       "      <th>Order: 11, Pixel: 36833621</th>\n",
       "      <td>...</td>\n",
       "      <td>...</td>\n",
       "      <td>...</td>\n",
       "      <td>...</td>\n",
       "      <td>...</td>\n",
       "      <td>...</td>\n",
       "      <td>...</td>\n",
       "      <td>...</td>\n",
       "    </tr>\n",
       "    <tr>\n",
       "      <th>Order: 7, Pixel: 143884</th>\n",
       "      <td>...</td>\n",
       "      <td>...</td>\n",
       "      <td>...</td>\n",
       "      <td>...</td>\n",
       "      <td>...</td>\n",
       "      <td>...</td>\n",
       "      <td>...</td>\n",
       "      <td>...</td>\n",
       "    </tr>\n",
       "  </tbody>\n",
       "</table>\n",
       "</div><div>8 out of 140 columns in the catalog have been loaded <strong>lazily</strong>, meaning no data has been read, only the catalog schema</div>"
      ],
      "text/plain": [
       "Dask NestedFrame Structure:\n",
       "                                 dec     diaObjectId     nDiaSources               ra      radecMjdTai           tract                                                                                                                                                                                                                                                                                                                                                                                                                                                                                                                                                                                                                                                                                                           diaObjectForcedSource                                                                                                                                                                                                                                                                                                                                                                                                                                                                                                                                                                                                                                                                                                                                                                                                                                                                                                                                                                                                                                                                                                                                                                                                                                                                                                                   diaSource\n",
       "npartitions=208                                                                                                                                                                                                                                                                                                                                                                                                                                                                                                                                                                                                                                                                                                                                                                                                                                                                                                                                                                                                                                                                                                                                                                                                                                                                                                                                                                                                                                                                                                                                                                                                                                                                                                                                                                                                                                                                                                                                                                                                                                                                                                                                                                   \n",
       "9147936743096320     double[pyarrow]  int64[pyarrow]  int64[pyarrow]  double[pyarrow]  double[pyarrow]  int64[pyarrow]  nested<band: [string], coord_dec: [double], coord_ra: [double], diff_PixelFlags_nodataCenter: [bool], forcedSourceOnDiaObjectId: [int64], invalidPsfFlag: [bool], midpointMjdTai: [double], pixelFlags_bad: [bool], pixelFlags_cr: [bool], pixelFlags_crCenter: [bool], pixelFlags_edge: [bool], pixelFlags_interpolated: [bool], pixelFlags_interpolatedCenter: [bool], pixelFlags_nodata: [bool], pixelFlags_saturated: [bool], pixelFlags_saturatedCenter: [bool], pixelFlags_suspect: [bool], pixelFlags_suspectCenter: [bool], psfDiffFlux: [float], psfDiffFlux_flag: [bool], psfDiffFluxErr: [float], psfFlux: [float], psfFlux_flag: [bool], psfFluxErr: [float], psfMag: [float], psfMagErr: [float], visit: [int64]>  nested<band: [string], centroid_flag: [bool], coord_dec: [double], coord_ra: [double], dec: [double], decErr: [float], diaSourceId: [int64], forced_PsfFlux_flag: [bool], forced_PsfFlux_flag_edge: [bool], forced_PsfFlux_flag_noGoodPixels: [bool], midpointMjdTai: [double], pixelFlags: [bool], pixelFlags_bad: [bool], pixelFlags_cr: [bool], pixelFlags_crCenter: [bool], pixelFlags_edge: [bool], pixelFlags_interpolated: [bool], pixelFlags_interpolatedCenter: [bool], pixelFlags_nodata: [bool], pixelFlags_nodataCenter: [bool], pixelFlags_offimage: [bool], pixelFlags_saturated: [bool], pixelFlags_saturatedCenter: [bool], pixelFlags_streak: [bool], pixelFlags_streakCenter: [bool], pixelFlags_suspect: [bool], pixelFlags_suspectCenter: [bool], psfFlux: [float], psfFlux_flag: [bool], psfFlux_flag_edge: [bool], psfFlux_flag_noGoodPixels: [bool], psfFluxErr: [float], psfMag: [float], psfMagErr: [float], ra: [double], raErr: [float], reliability: [float], scienceFlux: [float], scienceFluxErr: [float], scienceMag: [float], scienceMagErr: [float], shape_flag: [bool], shape_flag_no_pixels: [bool], shape_flag_not_contained: [bool], shape_flag_parent_source: [bool], snr: [float], trail_flag_edge: [bool], visit: [int64], x: [double], xErr: [float], y: [double], yErr: [float]>\n",
       "9570149208162304                 ...             ...             ...              ...              ...             ...                                                                                                                                                                                                                                                                                                                                                                                                                                                                                                                                                                                                                                                                                                                             ...                                                                                                                                                                                                                                                                                                                                                                                                                                                                                                                                                                                                                                                                                                                                                                                                                                                                                                                                                                                                                                                                                                                                                                                                                                                                                                                         ...\n",
       "...                              ...             ...             ...              ...              ...             ...                                                                                                                                                                                                                                                                                                                                                                                                                                                                                                                                                                                                                                                                                                                             ...                                                                                                                                                                                                                                                                                                                                                                                                                                                                                                                                                                                                                                                                                                                                                                                                                                                                                                                                                                                                                                                                                                                                                                                                                                                                                                                         ...\n",
       "2531234096814751744              ...             ...             ...              ...              ...             ...                                                                                                                                                                                                                                                                                                                                                                                                                                                                                                                                                                                                                                                                                                                             ...                                                                                                                                                                                                                                                                                                                                                                                                                                                                                                                                                                                                                                                                                                                                                                                                                                                                                                                                                                                                                                                                                                                                                                                                                                                                                                                         ...\n",
       "2531251689000796160              ...             ...             ...              ...              ...             ...                                                                                                                                                                                                                                                                                                                                                                                                                                                                                                                                                                                                                                                                                                                             ...                                                                                                                                                                                                                                                                                                                                                                                                                                                                                                                                                                                                                                                                                                                                                                                                                                                                                                                                                                                                                                                                                                                                                                                                                                                                                                                         ...\n",
       "Dask Name: nestedframe, 3 expressions\n",
       "Expr=MapPartitions(NestedFrame)"
      ]
     },
     "execution_count": 9,
     "metadata": {},
     "output_type": "execute_result"
    }
   ],
   "source": [
    "dia_object_cat"
   ]
  },
  {
   "cell_type": "raw",
   "id": "a85742e8-21b8-464d-97ab-535391ff9704",
   "metadata": {
    "raw_mimetype": "text/restructuredtext",
    "vscode": {
     "languageId": "raw"
    }
   },
   "source": [
    "You've accessed the data!  You can see the schema of both catalogs.  To learn how to use this data,\n",
    "see :doc:`Using Rubin Data </tutorials/pre_executed/using_rubin_data>` and follow the quickstart at :doc:`Getting Started </getting-started>`. If you have questions about data from the Rubin Observatory, the best place to ask is https://community.lsst.org, in the `LSST Data Products category <https://community.lsst.org/c/support/data/34>`_."
   ]
  },
  {
   "cell_type": "markdown",
   "id": "5e18de23-dca3-4e43-a062-2bc73d12b846",
   "metadata": {},
   "source": [
    "### 1.3 Downloading data to your machine\n",
    "\n",
    "If you need to work on the data on your own machine, you can `scp` your data from the container to your own machine.\n",
    "Suppose you have an account named `myself` on your machine named `big-box.astro.somewhere.edu`, and the data is in\n",
    "a directory called `./some_data`. The below command will copy that directory to one of the same name in your home\n",
    "directory on your machine.\n",
    "\n",
    "```shell\n",
    "scp -r ./some_data myself@big-box.astro.somewhere.edu:some_data\n",
    "```"
   ]
  },
  {
   "cell_type": "markdown",
   "id": "8e0726ac",
   "metadata": {
    "panel-layout": {
     "height": 143.1875,
     "visible": true,
     "width": 100
    }
   },
   "source": [
    "## About\n",
    "\n",
    "**Authors**: Neven Caplar, Derek Jones\n",
    "\n",
    "**Last updated on**: July 09, 2025\n",
    "\n",
    "If you use `lsdb` for published research, please cite following [instructions](https://docs.lsdb.io/en/stable/citation.html)."
   ]
  },
  {
   "cell_type": "markdown",
   "id": "220b7c5e",
   "metadata": {
    "panel-layout": {
     "height": 10,
     "visible": true,
     "width": 100
    }
   },
   "source": []
  }
 ],
 "metadata": {
  "kernelspec": {
   "display_name": "Python 3 (ipykernel)",
   "language": "python",
   "name": "python3"
  },
  "language_info": {
   "codemirror_mode": {
    "name": "ipython",
    "version": 3
   },
   "file_extension": ".py",
   "mimetype": "text/x-python",
   "name": "python",
   "nbconvert_exporter": "python",
   "pygments_lexer": "ipython3",
   "version": "3.12.9"
  },
  "panel-cell-order": [
   "6b790eee",
   "2dbecd41",
   "6eab1ffd-359d-4079-9adb-50587d354820",
   "5dbc72f3-3668-4fa5-a999-4495a89b1aac",
   "bb92b98a-d5b0-44ee-b9dd-912216b29ba8",
   "87f84ba5-bd62-42c3-8e41-a851b7ee8cf8",
   "973a36af-a6e2-42e2-953c-60c2445c5ae2",
   "3ac28414-57fb-4e68-b0c5-837e4cb2a43b",
   "91648419-0c5d-4df2-80b2-c261c3a8b136",
   "f556d55a-b898-484c-86bf-afbc99ecec76",
   "a0b4eff4-8c01-4655-ad62-f3c290e23ffd",
   "239044e4-fa77-4fb9-873b-f5462318dd23",
   "036d0560",
   "eb134afe",
   "0aa390b4-cf26-4d69-aaeb-525979f79bc7",
   "8e0726ac",
   "220b7c5e"
  ]
 },
 "nbformat": 4,
 "nbformat_minor": 5
}
