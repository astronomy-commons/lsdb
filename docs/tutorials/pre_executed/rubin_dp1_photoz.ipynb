{
  "cells": [
    {
      "cell_type": "markdown",
      "id": "6b790eee",
      "metadata": {
        "panel-layout": {
          "height": 314.46875,
          "visible": true,
          "width": 100
        }
      },
      "source": [
        "# RAIL photo-z estimates for Rubin Data Preview 1 (DP1)\n",
        "\n",
        "## Learning Objectives\n",
        "\n",
        "In this tutorial, you will learn:\n",
        "\n",
        "  * How to access photo-z catalog derived from Rubin's Data Preview 1 with LSDB\n",
        "    * with LSDB — for data rights holders\n",
        "    * with `pandas` or any other parquet reader — for everyone"
      ]
    },
    {
      "cell_type": "markdown",
      "id": "2dbecd41",
      "metadata": {
        "panel-layout": {
          "height": 76.53125,
          "visible": true,
          "width": 100
        }
      },
      "source": [
        "## 1. Loading through LSDB\n",
        "\n",
        "In order to access the catalog through LSDB, you must be a [Rubin data rights holder](https://rubinobservatory.org/for-scientists/data-products/data-policy), because the catalog includes sky coordinates and magnitudes from the original DP1 dataset. At present, there are two ways to access this data: RSP and CANFAR, described in [Accessing Rubin Data Preview 1 (DP1)](./rubin_dp1.ipynb)."
      ]
    },
    {
      "cell_type": "code",
      "execution_count": null,
      "id": "ed4c15e1",
      "metadata": {},
      "outputs": [],
      "source": [
        "import lsdb\n",
        "\n",
        "# replace with data.lsst.cloud / CANFAR path\n",
        "dp1_pz_catalog = lsdb.open_catalog(\"/sdf/data/rubin/shared/lsdb_commissioning/dp1/dp1_pz_hats\")\n",
        "dp1_pz_catalog"
      ]
    },
    {
      "cell_type": "markdown",
      "id": "3afc6450",
      "metadata": {},
      "source": [
        "## 2. Loading through single parquet\n",
        "\n",
        "The photo-z parquet is available to everyone."
      ]
    },
    {
      "cell_type": "code",
      "execution_count": null,
      "id": "5bc65fbf",
      "metadata": {},
      "outputs": [],
      "source": [
        "import pandas as pd\n",
        "\n",
        "# TODO: replace with \"https://data.lsdb.io/hats/dp1/object_photoz_no_mags.parquet\"\n",
        "dp1_pz_df = pd.read_parquet(\"/sdf/data/rubin/shared/lsdb_commissioning/dp1/dp1_pz_no_mags.parquet\")\n",
        "dp1_pz_df"
      ]
    },
    {
      "cell_type": "markdown",
      "id": "498e7ae0",
      "metadata": {},
      "source": [
        "### Plotting two estimators\n",
        "\n",
        "Plotting, as an example, the results from Lephare and kNN."
      ]
    },
    {
      "cell_type": "code",
      "execution_count": null,
      "id": "e82467ec",
      "metadata": {},
      "outputs": [],
      "source": [
        "import matplotlib.pyplot as plt\n",
        "\n",
        "plt.plot(dp1_pz_df[\"lephare_z_median\"].iloc[::100], dp1_pz_df[\"knn_z_median\"].iloc[::100], \"x\", color=\"black\")\n",
        "plt.gca().set_aspect(\"equal\", adjustable=\"box\")\n",
        "plt.plot([0, 3], [0, 3], color=\"red\", ls=\"--\")\n",
        "plt.xlim([0, 3])\n",
        "plt.ylim([0, 3])\n",
        "plt.xlabel(\"Lephare\")\n",
        "plt.ylabel(\"kNN\")"
      ]
    }
  ],
  "metadata": {
    "kernelspec": {
      "display_name": "Python 3 (ipykernel)",
      "language": "python",
      "name": "python3"
    },
    "language_info": {
      "codemirror_mode": {
        "name": "ipython",
        "version": 3
      },
      "file_extension": ".py",
      "mimetype": "text/x-python",
      "name": "python",
      "nbconvert_exporter": "python",
      "pygments_lexer": "ipython3",
      "version": "3.12.9"
    },
    "panel-cell-order": [
      "6b790eee",
      "2dbecd41",
      "6eab1ffd-359d-4079-9adb-50587d354820",
      "5dbc72f3-3668-4fa5-a999-4495a89b1aac",
      "bb92b98a-d5b0-44ee-b9dd-912216b29ba8",
      "87f84ba5-bd62-42c3-8e41-a851b7ee8cf8",
      "973a36af-a6e2-42e2-953c-60c2445c5ae2",
      "3ac28414-57fb-4e68-b0c5-837e4cb2a43b",
      "91648419-0c5d-4df2-80b2-c261c3a8b136",
      "f556d55a-b898-484c-86bf-afbc99ecec76",
      "a0b4eff4-8c01-4655-ad62-f3c290e23ffd",
      "239044e4-fa77-4fb9-873b-f5462318dd23",
      "036d0560",
      "eb134afe",
      "0aa390b4-cf26-4d69-aaeb-525979f79bc7",
      "8e0726ac",
      "220b7c5e"
    ]
  },
  "nbsphinx": {
    "execute": "never"
  },
  "nbformat": 4,
  "nbformat_minor": 5
}
