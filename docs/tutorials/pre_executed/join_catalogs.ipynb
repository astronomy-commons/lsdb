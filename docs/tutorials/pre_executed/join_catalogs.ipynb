{
 "cells": [
  {
   "cell_type": "markdown",
   "metadata": {},
   "source": [
    "# Joining catalogs\n",
    "\n",
    "In this tutorial, we will demonstrate how to perform a JOIN on two catalogs.\n",
    "\n",
    "Note that this is different from a crossmatch, because the two catalogs share unique identifiers and we can match those values directly. This will still use the spatial properties to perform the JOIN on a per-partition basis.\n",
    "\n",
    "## Introduction\n",
    "\n",
    "Gaia is a space telescope that provides excellent astrometric precision, and so is used for determining parallax distances to nearby stars. The parallax distances are not available in all data products, however.\n",
    "\n",
    "In this notebook, we join Gaia with Gaia Early Data Release 3 (EDR3) and compute the ratio between the distances given by their `parallax` and `r_med_geo` columns, respectively."
   ]
  },
  {
   "cell_type": "code",
   "execution_count": 1,
   "metadata": {},
   "outputs": [],
   "source": [
    "import lsdb\n",
    "from lsdb import ConeSearch"
   ]
  },
  {
   "cell_type": "markdown",
   "metadata": {},
   "source": [
    "## 1. Load the catalogs\n",
    "\n",
    "First we load Gaia with its objects `source_id`, their positions and `parallax` columns."
   ]
  },
  {
   "cell_type": "code",
   "execution_count": 2,
   "metadata": {},
   "outputs": [
    {
     "data": {
      "text/html": [
       "<div><strong>lsdb Catalog gaia:</strong></div><div>\n",
       "<style scoped>\n",
       "    .dataframe tbody tr th:only-of-type {\n",
       "        vertical-align: middle;\n",
       "    }\n",
       "\n",
       "    .dataframe tbody tr th {\n",
       "        vertical-align: top;\n",
       "    }\n",
       "\n",
       "    .dataframe thead th {\n",
       "        text-align: right;\n",
       "    }\n",
       "</style>\n",
       "<table border=\"1\" class=\"dataframe\">\n",
       "  <thead>\n",
       "    <tr style=\"text-align: right;\">\n",
       "      <th></th>\n",
       "      <th>source_id</th>\n",
       "      <th>ra</th>\n",
       "      <th>dec</th>\n",
       "      <th>parallax</th>\n",
       "    </tr>\n",
       "    <tr>\n",
       "      <th>npartitions=4</th>\n",
       "      <th></th>\n",
       "      <th></th>\n",
       "      <th></th>\n",
       "      <th></th>\n",
       "    </tr>\n",
       "  </thead>\n",
       "  <tbody>\n",
       "    <tr>\n",
       "      <th>Order: 2, Pixel: 67</th>\n",
       "      <td>int64[pyarrow]</td>\n",
       "      <td>double[pyarrow]</td>\n",
       "      <td>double[pyarrow]</td>\n",
       "      <td>double[pyarrow]</td>\n",
       "    </tr>\n",
       "    <tr>\n",
       "      <th>Order: 2, Pixel: 70</th>\n",
       "      <td>...</td>\n",
       "      <td>...</td>\n",
       "      <td>...</td>\n",
       "      <td>...</td>\n",
       "    </tr>\n",
       "    <tr>\n",
       "      <th>Order: 2, Pixel: 73</th>\n",
       "      <td>...</td>\n",
       "      <td>...</td>\n",
       "      <td>...</td>\n",
       "      <td>...</td>\n",
       "    </tr>\n",
       "    <tr>\n",
       "      <th>Order: 2, Pixel: 76</th>\n",
       "      <td>...</td>\n",
       "      <td>...</td>\n",
       "      <td>...</td>\n",
       "      <td>...</td>\n",
       "    </tr>\n",
       "  </tbody>\n",
       "</table>\n",
       "</div><div>4 out of 152 available columns in the catalog have been loaded <strong>lazily</strong>, meaning no data has been read, only the catalog schema</div>"
      ],
      "text/plain": [
       "Dask NestedFrame Structure:\n",
       "                          source_id               ra              dec         parallax\n",
       "npartitions=4                                                                         \n",
       "1206964700135292928  int64[pyarrow]  double[pyarrow]  double[pyarrow]  double[pyarrow]\n",
       "1261007895663738880             ...              ...              ...              ...\n",
       "1315051091192184832             ...              ...              ...              ...\n",
       "1369094286720630784             ...              ...              ...              ...\n",
       "1387108685230112768             ...              ...              ...              ...\n",
       "Dask Name: search_points, 5 expressions\n",
       "Expr=MapPartitions(search_points)"
      ]
     },
     "execution_count": 2,
     "metadata": {},
     "output_type": "execute_result"
    }
   ],
   "source": [
    "gaia = lsdb.open_catalog(\n",
    "    \"https://data.lsdb.io/hats/gaia_dr3/gaia\",\n",
    "    margin_cache=\"https://data.lsdb.io/hats/gaia_dr3/gaia_10arcs\",\n",
    "    columns=[\"source_id\", \"ra\", \"dec\", \"parallax\"],\n",
    "    search_filter=ConeSearch(ra=0, dec=0, radius_arcsec=10 * 3600),\n",
    ")\n",
    "gaia"
   ]
  },
  {
   "cell_type": "markdown",
   "metadata": {},
   "source": [
    "We will do the same with Gaia EDR3 but the distance column we will use is called `r_med_geo`, the median of the geometric distance estimate."
   ]
  },
  {
   "cell_type": "code",
   "execution_count": 3,
   "metadata": {},
   "outputs": [
    {
     "data": {
      "text/html": [
       "<div><strong>lsdb Catalog gaia_edr3_distances:</strong></div><div>\n",
       "<style scoped>\n",
       "    .dataframe tbody tr th:only-of-type {\n",
       "        vertical-align: middle;\n",
       "    }\n",
       "\n",
       "    .dataframe tbody tr th {\n",
       "        vertical-align: top;\n",
       "    }\n",
       "\n",
       "    .dataframe thead th {\n",
       "        text-align: right;\n",
       "    }\n",
       "</style>\n",
       "<table border=\"1\" class=\"dataframe\">\n",
       "  <thead>\n",
       "    <tr style=\"text-align: right;\">\n",
       "      <th></th>\n",
       "      <th>source_id</th>\n",
       "      <th>ra</th>\n",
       "      <th>dec</th>\n",
       "      <th>r_med_geo</th>\n",
       "    </tr>\n",
       "    <tr>\n",
       "      <th>npartitions=4</th>\n",
       "      <th></th>\n",
       "      <th></th>\n",
       "      <th></th>\n",
       "      <th></th>\n",
       "    </tr>\n",
       "  </thead>\n",
       "  <tbody>\n",
       "    <tr>\n",
       "      <th>Order: 2, Pixel: 67</th>\n",
       "      <td>int64[pyarrow]</td>\n",
       "      <td>double[pyarrow]</td>\n",
       "      <td>double[pyarrow]</td>\n",
       "      <td>double[pyarrow]</td>\n",
       "    </tr>\n",
       "    <tr>\n",
       "      <th>Order: 2, Pixel: 70</th>\n",
       "      <td>...</td>\n",
       "      <td>...</td>\n",
       "      <td>...</td>\n",
       "      <td>...</td>\n",
       "    </tr>\n",
       "    <tr>\n",
       "      <th>Order: 2, Pixel: 73</th>\n",
       "      <td>...</td>\n",
       "      <td>...</td>\n",
       "      <td>...</td>\n",
       "      <td>...</td>\n",
       "    </tr>\n",
       "    <tr>\n",
       "      <th>Order: 2, Pixel: 76</th>\n",
       "      <td>...</td>\n",
       "      <td>...</td>\n",
       "      <td>...</td>\n",
       "      <td>...</td>\n",
       "    </tr>\n",
       "  </tbody>\n",
       "</table>\n",
       "</div><div>4 out of 13 available columns in the catalog have been loaded <strong>lazily</strong>, meaning no data has been read, only the catalog schema</div>"
      ],
      "text/plain": [
       "Dask NestedFrame Structure:\n",
       "                          source_id               ra              dec        r_med_geo\n",
       "npartitions=4                                                                         \n",
       "1206964700135292928  int64[pyarrow]  double[pyarrow]  double[pyarrow]  double[pyarrow]\n",
       "1261007895663738880             ...              ...              ...              ...\n",
       "1315051091192184832             ...              ...              ...              ...\n",
       "1369094286720630784             ...              ...              ...              ...\n",
       "1387108685230112768             ...              ...              ...              ...\n",
       "Dask Name: search_points, 5 expressions\n",
       "Expr=MapPartitions(search_points)"
      ]
     },
     "execution_count": 3,
     "metadata": {},
     "output_type": "execute_result"
    }
   ],
   "source": [
    "gaia_edr3 = lsdb.open_catalog(\n",
    "    \"https://data.lsdb.io/hats/gaia_edr3_distances\",\n",
    "    margin_cache=\"https://data.lsdb.io/hats/gaia_edr3_distances/gaia_edr3_distances_10arcs\",\n",
    "    columns=[\"source_id\", \"ra\", \"dec\", \"r_med_geo\"],\n",
    "    search_filter=ConeSearch(ra=0, dec=0, radius_arcsec=10 * 3600),\n",
    ")\n",
    "gaia_edr3"
   ]
  },
  {
   "cell_type": "markdown",
   "metadata": {},
   "source": [
    "## 2. Join Operation\n",
    "\n",
    "We are now able to join both catalogs on the `source_id` column, as follows:"
   ]
  },
  {
   "cell_type": "code",
   "execution_count": 4,
   "metadata": {},
   "outputs": [
    {
     "name": "stderr",
     "output_type": "stream",
     "text": [
      "/astro/users/olynn/lsdb/src/lsdb/catalog/catalog.py:840: FutureWarning: The default suffix behavior will change from applying suffixes to all columns to only applying suffixes to overlapping columns in a future release.To maintain the current behavior, explicitly set `suffix_method='all_columns'`. To change to the new behavior, set `suffix_method='overlapping_columns'`.\n",
      "  warnings.warn(\n"
     ]
    },
    {
     "data": {
      "text/html": [
       "<div><strong>lsdb Catalog gaia:</strong></div><div>\n",
       "<style scoped>\n",
       "    .dataframe tbody tr th:only-of-type {\n",
       "        vertical-align: middle;\n",
       "    }\n",
       "\n",
       "    .dataframe tbody tr th {\n",
       "        vertical-align: top;\n",
       "    }\n",
       "\n",
       "    .dataframe thead th {\n",
       "        text-align: right;\n",
       "    }\n",
       "</style>\n",
       "<table border=\"1\" class=\"dataframe\">\n",
       "  <thead>\n",
       "    <tr style=\"text-align: right;\">\n",
       "      <th></th>\n",
       "      <th>source_id_gaia</th>\n",
       "      <th>ra_gaia</th>\n",
       "      <th>dec_gaia</th>\n",
       "      <th>parallax_gaia</th>\n",
       "      <th>source_id_gaia_edr3_distances</th>\n",
       "      <th>ra_gaia_edr3_distances</th>\n",
       "      <th>dec_gaia_edr3_distances</th>\n",
       "      <th>r_med_geo_gaia_edr3_distances</th>\n",
       "    </tr>\n",
       "    <tr>\n",
       "      <th>npartitions=4</th>\n",
       "      <th></th>\n",
       "      <th></th>\n",
       "      <th></th>\n",
       "      <th></th>\n",
       "      <th></th>\n",
       "      <th></th>\n",
       "      <th></th>\n",
       "      <th></th>\n",
       "    </tr>\n",
       "  </thead>\n",
       "  <tbody>\n",
       "    <tr>\n",
       "      <th>Order: 2, Pixel: 67</th>\n",
       "      <td>int64[pyarrow]</td>\n",
       "      <td>double[pyarrow]</td>\n",
       "      <td>double[pyarrow]</td>\n",
       "      <td>double[pyarrow]</td>\n",
       "      <td>int64[pyarrow]</td>\n",
       "      <td>double[pyarrow]</td>\n",
       "      <td>double[pyarrow]</td>\n",
       "      <td>double[pyarrow]</td>\n",
       "    </tr>\n",
       "    <tr>\n",
       "      <th>Order: 2, Pixel: 70</th>\n",
       "      <td>...</td>\n",
       "      <td>...</td>\n",
       "      <td>...</td>\n",
       "      <td>...</td>\n",
       "      <td>...</td>\n",
       "      <td>...</td>\n",
       "      <td>...</td>\n",
       "      <td>...</td>\n",
       "    </tr>\n",
       "    <tr>\n",
       "      <th>Order: 2, Pixel: 73</th>\n",
       "      <td>...</td>\n",
       "      <td>...</td>\n",
       "      <td>...</td>\n",
       "      <td>...</td>\n",
       "      <td>...</td>\n",
       "      <td>...</td>\n",
       "      <td>...</td>\n",
       "      <td>...</td>\n",
       "    </tr>\n",
       "    <tr>\n",
       "      <th>Order: 2, Pixel: 76</th>\n",
       "      <td>...</td>\n",
       "      <td>...</td>\n",
       "      <td>...</td>\n",
       "      <td>...</td>\n",
       "      <td>...</td>\n",
       "      <td>...</td>\n",
       "      <td>...</td>\n",
       "      <td>...</td>\n",
       "    </tr>\n",
       "  </tbody>\n",
       "</table>\n",
       "</div><div>8 out of 8 available columns in the catalog have been loaded <strong>lazily</strong>, meaning no data has been read, only the catalog schema</div>"
      ],
      "text/plain": [
       "Dask NestedFrame Structure:\n",
       "                     source_id_gaia          ra_gaia         dec_gaia    parallax_gaia source_id_gaia_edr3_distances ra_gaia_edr3_distances dec_gaia_edr3_distances r_med_geo_gaia_edr3_distances\n",
       "npartitions=4                                                                                                                                                                                    \n",
       "1206964700135292928  int64[pyarrow]  double[pyarrow]  double[pyarrow]  double[pyarrow]                int64[pyarrow]        double[pyarrow]         double[pyarrow]               double[pyarrow]\n",
       "1261007895663738880             ...              ...              ...              ...                           ...                    ...                     ...                           ...\n",
       "1315051091192184832             ...              ...              ...              ...                           ...                    ...                     ...                           ...\n",
       "1369094286720630784             ...              ...              ...              ...                           ...                    ...                     ...                           ...\n",
       "1387108685230112768             ...              ...              ...              ...                           ...                    ...                     ...                           ...\n",
       "Dask Name: nestedframe, 3 expressions\n",
       "Expr=MapPartitions(NestedFrame)"
      ]
     },
     "execution_count": 4,
     "metadata": {},
     "output_type": "execute_result"
    }
   ],
   "source": [
    "joined = gaia.join(gaia_edr3, left_on=\"source_id\", right_on=\"source_id\")\n",
    "joined"
   ]
  },
  {
   "cell_type": "markdown",
   "metadata": {},
   "source": [
    "## 3. Joint analysis\n",
    "\n",
    "Let's calculate a histogram with the ratio in catalog distances."
   ]
  },
  {
   "cell_type": "code",
   "execution_count": 5,
   "metadata": {},
   "outputs": [
    {
     "data": {
      "text/plain": [
       "array([  1.04369179,   0.99821673,   0.96884423, ...,   1.03218566,\n",
       "       147.42381857,   1.41197562], shape=(825678,))"
      ]
     },
     "execution_count": 5,
     "metadata": {},
     "output_type": "execute_result"
    }
   ],
   "source": [
    "results = (1e3 / joined[\"parallax_gaia\"]) / joined[\"r_med_geo_gaia_edr3_distances\"]\n",
    "ratios = results.compute().to_numpy()\n",
    "ratios"
   ]
  },
  {
   "cell_type": "code",
   "execution_count": 6,
   "metadata": {},
   "outputs": [
    {
     "data": {
      "image/png": "[encoded data removed]",
      "text/plain": [
       "<Figure size 640x480 with 1 Axes>"
      ]
     },
     "metadata": {},
     "output_type": "display_data"
    }
   ],
   "source": [
    "import numpy as np\n",
    "import matplotlib.pyplot as plt\n",
    "\n",
    "plt.hist(ratios, bins=np.linspace(0.8, 1.2, 100))\n",
    "plt.title(\"Histogram of Gaia distance / Gaia EDR3 distance\")\n",
    "plt.show()"
   ]
  },
  {
   "cell_type": "markdown",
   "metadata": {},
   "source": [
    "## About\n",
    "\n",
    "**Authors**: Sandro Campos\n",
    "\n",
    "**Last updated on**: Oct 27, 2025\n",
    "\n",
    "If you use `lsdb` for published research, please cite following [instructions](https://docs.lsdb.io/en/stable/citation.html)."
   ]
  }
 ],
 "metadata": {
  "kernelspec": {
   "display_name": "p311",
   "language": "python",
   "name": "python3"
  },
  "language_info": {
   "codemirror_mode": {
    "name": "ipython",
    "version": 3
   },
   "file_extension": ".py",
   "mimetype": "text/x-python",
   "name": "python",
   "nbconvert_exporter": "python",
   "pygments_lexer": "ipython3",
   "version": "3.11.13"
  }
 },
 "nbformat": 4,
 "nbformat_minor": 2
}
