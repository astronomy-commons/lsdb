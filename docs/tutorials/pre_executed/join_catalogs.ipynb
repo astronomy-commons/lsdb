{
 "cells": [
  {
   "cell_type": "markdown",
   "metadata": {},
   "source": [
    "# Joining catalogs\n",
    "\n",
    "In this tutorial, we will demonstrate how to perform a JOIN on two catalogs.\n",
    "\n",
    "Note that this is different from a crossmatch, because the two catalogs share unique identifiers and we can match those values directly. This will still use the spatial properties to perform the JOIN on a per-partition basis.\n",
    "\n",
    "## Introduction\n",
    "\n",
    "Gaia is a space telescope that provides excellent astrometric precision, and so is used for determining parallax distances to nearby stars. The parallax distances are not available in all data products, however.\n",
    "\n",
    "In this notebook, we join Gaia with Gaia Early Data Release 3 (EDR3) and compute the ratio between the distances given by their `parallax` and `r_med_geo` columns, respectively."
   ]
  },
  {
   "cell_type": "code",
   "execution_count": 1,
   "metadata": {},
   "outputs": [],
   "source": [
    "import lsdb\n",
    "from lsdb import ConeSearch"
   ]
  },
  {
   "cell_type": "markdown",
   "metadata": {},
   "source": [
    "## 1. Load the catalogs\n",
    "\n",
    "First we load Gaia with its objects `source_id`, their positions and `parallax` columns."
   ]
  },
  {
   "cell_type": "code",
   "execution_count": 2,
   "metadata": {},
   "outputs": [
    {
     "data": {
      "text/html": [
       "<div><strong>lsdb Catalog gaia:</strong></div><div>\n",
       "<style scoped>\n",
       "    .dataframe tbody tr th:only-of-type {\n",
       "        vertical-align: middle;\n",
       "    }\n",
       "\n",
       "    .dataframe tbody tr th {\n",
       "        vertical-align: top;\n",
       "    }\n",
       "\n",
       "    .dataframe thead th {\n",
       "        text-align: right;\n",
       "    }\n",
       "</style>\n",
       "<table border=\"1\" class=\"dataframe\">\n",
       "  <thead>\n",
       "    <tr style=\"text-align: right;\">\n",
       "      <th></th>\n",
       "      <th>source_id</th>\n",
       "      <th>ra</th>\n",
       "      <th>dec</th>\n",
       "      <th>parallax</th>\n",
       "    </tr>\n",
       "    <tr>\n",
       "      <th>npartitions=4</th>\n",
       "      <th></th>\n",
       "      <th></th>\n",
       "      <th></th>\n",
       "      <th></th>\n",
       "    </tr>\n",
       "  </thead>\n",
       "  <tbody>\n",
       "    <tr>\n",
       "      <th>Order: 2, Pixel: 67</th>\n",
       "      <td>int64[pyarrow]</td>\n",
       "      <td>double[pyarrow]</td>\n",
       "      <td>double[pyarrow]</td>\n",
       "      <td>double[pyarrow]</td>\n",
       "    </tr>\n",
       "    <tr>\n",
       "      <th>Order: 2, Pixel: 70</th>\n",
       "      <td>...</td>\n",
       "      <td>...</td>\n",
       "      <td>...</td>\n",
       "      <td>...</td>\n",
       "    </tr>\n",
       "    <tr>\n",
       "      <th>Order: 2, Pixel: 73</th>\n",
       "      <td>...</td>\n",
       "      <td>...</td>\n",
       "      <td>...</td>\n",
       "      <td>...</td>\n",
       "    </tr>\n",
       "    <tr>\n",
       "      <th>Order: 2, Pixel: 76</th>\n",
       "      <td>...</td>\n",
       "      <td>...</td>\n",
       "      <td>...</td>\n",
       "      <td>...</td>\n",
       "    </tr>\n",
       "  </tbody>\n",
       "</table>\n",
       "</div><div>4 out of 152 available columns in the catalog have been loaded <strong>lazily</strong>, meaning no data has been read, only the catalog schema</div>"
      ],
      "text/plain": [
       "Dask NestedFrame Structure:\n",
       "                          source_id               ra              dec         parallax\n",
       "npartitions=4                                                                         \n",
       "1206964700135292928  int64[pyarrow]  double[pyarrow]  double[pyarrow]  double[pyarrow]\n",
       "1261007895663738880             ...              ...              ...              ...\n",
       "1315051091192184832             ...              ...              ...              ...\n",
       "1369094286720630784             ...              ...              ...              ...\n",
       "1387108685230112768             ...              ...              ...              ...\n",
       "Dask Name: search_points, 5 expressions\n",
       "Expr=MapPartitions(search_points)"
      ]
     },
     "execution_count": 2,
     "metadata": {},
     "output_type": "execute_result"
    }
   ],
   "source": [
    "gaia = lsdb.open_catalog(\n",
    "    \"https://data.lsdb.io/hats/gaia_dr3/gaia\",\n",
    "    margin_cache=\"https://data.lsdb.io/hats/gaia_dr3/gaia_10arcs\",\n",
    "    columns=[\"source_id\", \"ra\", \"dec\", \"parallax\"],\n",
    "    search_filter=ConeSearch(ra=0, dec=0, radius_arcsec=10 * 3600),\n",
    ")\n",
    "gaia"
   ]
  },
  {
   "cell_type": "markdown",
   "metadata": {},
   "source": [
    "We will do the same with Gaia EDR3 but the distance column we will use is called `r_med_geo`, the median of the geometric distance estimate."
   ]
  },
  {
   "cell_type": "code",
   "execution_count": 3,
   "metadata": {},
   "outputs": [
    {
     "ename": "FileNotFoundError",
     "evalue": "Failed to read HATS at location https://data.lsdb.io/hats/gaia_dr3/gaia_edr3_distances",
     "output_type": "error",
     "traceback": [
      "\u001b[31m---------------------------------------------------------------------------\u001b[39m",
      "\u001b[31mFileNotFoundError\u001b[39m                         Traceback (most recent call last)",
      "\u001b[36mCell\u001b[39m\u001b[36m \u001b[39m\u001b[32mIn[3]\u001b[39m\u001b[32m, line 1\u001b[39m\n\u001b[32m----> \u001b[39m\u001b[32m1\u001b[39m gaia_edr3 = lsdb.open_catalog(\n\u001b[32m      2\u001b[39m     \u001b[33m\"\u001b[39m\u001b[33mhttps://data.lsdb.io/hats/gaia_dr3/gaia_edr3_distances\u001b[39m\u001b[33m\"\u001b[39m,\n\u001b[32m      3\u001b[39m     margin_cache=\u001b[33m\"\u001b[39m\u001b[33mhttps://data.lsdb.io/hats/gaia_edr3_distances_10arcs\u001b[39m\u001b[33m\"\u001b[39m,\n\u001b[32m      4\u001b[39m     columns=[\u001b[33m\"\u001b[39m\u001b[33msource_id\u001b[39m\u001b[33m\"\u001b[39m, \u001b[33m\"\u001b[39m\u001b[33mra\u001b[39m\u001b[33m\"\u001b[39m, \u001b[33m\"\u001b[39m\u001b[33mdec\u001b[39m\u001b[33m\"\u001b[39m, \u001b[33m\"\u001b[39m\u001b[33mr_med_geo\u001b[39m\u001b[33m\"\u001b[39m],\n\u001b[32m      5\u001b[39m     search_filter=ConeSearch(ra=\u001b[32m0\u001b[39m, dec=\u001b[32m0\u001b[39m, radius_arcsec=\u001b[32m10\u001b[39m * \u001b[32m3600\u001b[39m),\n\u001b[32m      6\u001b[39m )\n\u001b[32m      7\u001b[39m gaia_edr3\n",
      "\u001b[36mFile \u001b[39m\u001b[32m~/lsdb/src/lsdb/loaders/hats/read_hats.py:126\u001b[39m, in \u001b[36mopen_catalog\u001b[39m\u001b[34m(path, search_filter, columns, margin_cache, error_empty_filter, filters, path_generator, **kwargs)\u001b[39m\n\u001b[32m     51\u001b[39m \u001b[38;5;28;01mdef\u001b[39;00m\u001b[38;5;250m \u001b[39m\u001b[34mopen_catalog\u001b[39m(\n\u001b[32m     52\u001b[39m     path: \u001b[38;5;28mstr\u001b[39m | Path | UPath,\n\u001b[32m     53\u001b[39m     search_filter: AbstractSearch | \u001b[38;5;28;01mNone\u001b[39;00m = \u001b[38;5;28;01mNone\u001b[39;00m,\n\u001b[32m   (...)\u001b[39m\u001b[32m     59\u001b[39m     **kwargs,\n\u001b[32m     60\u001b[39m ) -> Dataset:\n\u001b[32m     61\u001b[39m \u001b[38;5;250m    \u001b[39m\u001b[33;03m\"\"\"Open a catalog from a HATS path.\u001b[39;00m\n\u001b[32m     62\u001b[39m \n\u001b[32m     63\u001b[39m \u001b[33;03m    Catalogs exist in collections or stand-alone.\u001b[39;00m\n\u001b[32m   (...)\u001b[39m\u001b[32m    124\u001b[39m \u001b[33;03m            collection = lsdb.open_catalog(UPath(..., anon=True))\u001b[39;00m\n\u001b[32m    125\u001b[39m \u001b[33;03m    \"\"\"\u001b[39;00m\n\u001b[32m--> \u001b[39m\u001b[32m126\u001b[39m     hc_catalog = hc.read_hats(path)\n\u001b[32m    128\u001b[39m     config = HatsLoadingConfig(\n\u001b[32m    129\u001b[39m         search_filter=search_filter,\n\u001b[32m    130\u001b[39m         columns=columns,\n\u001b[32m   (...)\u001b[39m\u001b[32m    135\u001b[39m         kwargs=kwargs,\n\u001b[32m    136\u001b[39m     )\n\u001b[32m    138\u001b[39m     \u001b[38;5;28;01mif\u001b[39;00m \u001b[38;5;28misinstance\u001b[39m(hc_catalog, CatalogCollection):\n",
      "\u001b[36mFile \u001b[39m\u001b[32m~/hats/src/hats/loaders/read_hats.py:51\u001b[39m, in \u001b[36mread_hats\u001b[39m\u001b[34m(catalog_path)\u001b[39m\n\u001b[32m     49\u001b[39m \u001b[38;5;28;01mif\u001b[39;00m (path / \u001b[33m\"\u001b[39m\u001b[33mcollection.properties\u001b[39m\u001b[33m\"\u001b[39m).exists():\n\u001b[32m     50\u001b[39m     \u001b[38;5;28;01mreturn\u001b[39;00m _load_collection(path)\n\u001b[32m---> \u001b[39m\u001b[32m51\u001b[39m \u001b[38;5;28;01mraise\u001b[39;00m \u001b[38;5;167;01mFileNotFoundError\u001b[39;00m(\u001b[33mf\u001b[39m\u001b[33m\"\u001b[39m\u001b[33mFailed to read HATS at location \u001b[39m\u001b[38;5;132;01m{\u001b[39;00mcatalog_path\u001b[38;5;132;01m}\u001b[39;00m\u001b[33m\"\u001b[39m)\n",
      "\u001b[31mFileNotFoundError\u001b[39m: Failed to read HATS at location https://data.lsdb.io/hats/gaia_dr3/gaia_edr3_distances"
     ]
    }
   ],
   "source": [
    "gaia_edr3 = lsdb.open_catalog(\n",
    "    \"https://data.lsdb.io/hats/gaia_dr3/gaia_edr3_distances\",\n",
    "    margin_cache=\"https://data.lsdb.io/hats/gaia_edr3_distances_10arcs\",\n",
    "    columns=[\"source_id\", \"ra\", \"dec\", \"r_med_geo\"],\n",
    "    search_filter=ConeSearch(ra=0, dec=0, radius_arcsec=10 * 3600),\n",
    ")\n",
    "gaia_edr3"
   ]
  },
  {
   "cell_type": "markdown",
   "metadata": {},
   "source": [
    "## 2. Join Operation\n",
    "\n",
    "We are now able to join both catalogs on the `source_id` column, as follows:"
   ]
  },
  {
   "cell_type": "code",
   "execution_count": null,
   "metadata": {},
   "outputs": [],
   "source": [
    "joined = gaia.join(gaia_edr3, left_on=\"source_id\", right_on=\"source_id\")\n",
    "joined"
   ]
  },
  {
   "cell_type": "markdown",
   "metadata": {},
   "source": [
    "## 3. Joint analysis\n",
    "\n",
    "Let's calculate a histogram with the ratio in catalog distances."
   ]
  },
  {
   "cell_type": "code",
   "execution_count": null,
   "metadata": {},
   "outputs": [],
   "source": [
    "results = (1e3 / joined[\"parallax_gaia\"]) / joined[\"r_med_geo_gaia_edr3_distances\"]\n",
    "ratios = results.compute().to_numpy()\n",
    "ratios"
   ]
  },
  {
   "cell_type": "code",
   "execution_count": null,
   "metadata": {},
   "outputs": [],
   "source": [
    "import numpy as np\n",
    "import matplotlib.pyplot as plt\n",
    "\n",
    "plt.hist(ratios, bins=np.linspace(0.8, 1.2, 100))\n",
    "plt.title(\"Histogram of Gaia distance / Gaia EDR3 distance\")\n",
    "plt.show()"
   ]
  },
  {
   "cell_type": "markdown",
   "metadata": {},
   "source": [
    "## About\n",
    "\n",
    "**Authors**: Sandro Campos\n",
    "\n",
    "**Last updated on**: April 17, 2025\n",
    "\n",
    "If you use `lsdb` for published research, please cite following [instructions](https://docs.lsdb.io/en/stable/citation.html)."
   ]
  }
 ],
 "metadata": {
  "kernelspec": {
   "display_name": "p311",
   "language": "python",
   "name": "python3"
  },
  "language_info": {
   "codemirror_mode": {
    "name": "ipython",
    "version": 3
   },
   "file_extension": ".py",
   "mimetype": "text/x-python",
   "name": "python",
   "nbconvert_exporter": "python",
   "pygments_lexer": "ipython3",
   "version": "3.11.13"
  }
 },
 "nbformat": 4,
 "nbformat_minor": 2
}
