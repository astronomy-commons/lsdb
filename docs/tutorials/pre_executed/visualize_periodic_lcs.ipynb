{
 "cells": [
  {
   "cell_type": "markdown",
   "id": "e4284b30-dbf8-477b-830c-e978da8fab51",
   "metadata": {},
   "source": [
    "# Visualizing Periodic Lightcurves\n",
    "\n",
    "## Learning Objectives\n",
    "\n",
    "In this tutorial, you will learn:\n",
    "\n",
    "* See a guided tutorial on visualizing the lightcurves for a set of known periodic objects\n",
    "* How to crossmatch an object list with Rubin data through LSDB Catalogs\n",
    "\n",
    "## Introduction\n",
    "\n",
    "This notebooks demonstrates how to visualize lightcurves for periodic objects in the Rubin DP1 data.\n"
   ]
  },
  {
   "cell_type": "code",
   "execution_count": null,
   "id": "d7961d12-09eb-4fcb-b25d-7e5c8d73b394",
   "metadata": {},
   "outputs": [],
   "source": [
    "import astropy.units as u\n",
    "import lsdb\n",
    "import matplotlib.pyplot as plt\n",
    "import numpy as np\n",
    "import pandas as pd\n",
    "\n",
    "from dask.distributed import Client\n",
    "from io import StringIO\n",
    "from nested_pandas import NestedDtype\n",
    "from pathlib import Path\n",
    "\n",
    "import warnings\n",
    "\n",
    "# Disable plotting warnings\n",
    "warnings.filterwarnings(\"ignore\")"
   ]
  },
  {
   "cell_type": "markdown",
   "id": "f2d04398-0abf-40a7-9589-3398b68745a9",
   "metadata": {},
   "source": [
    "## The Rubin HATS catalogs\n",
    "* HATS (HEALPix Adaptive Tiling Scheme) is a HEALPix-based parquet format that enables fast parallelization of large scale workflows.\n",
    "* The data was imported and post-processed by the DASH pipeline.\n",
    "* It includes added-value columns for scientific use - e.g. PSF and science magnitudes, and timestamps for every source / forced source."
   ]
  },
  {
   "cell_type": "code",
   "execution_count": null,
   "id": "688d4193-000e-41ea-8ce9-577b52513e22",
   "metadata": {},
   "outputs": [],
   "source": [
    "hats_path = Path(\"/sdf/data/rubin/shared/lsdb_commissioning/hats/v29_0_0\")\n",
    "diaobject_path = hats_path / \"dia_object_collection\"\n",
    "object_path = hats_path / \"object_collection\""
   ]
  },
  {
   "cell_type": "markdown",
   "id": "28e374f7-9c4c-4082-b218-bc5234a32ff6",
   "metadata": {},
   "source": [
    "## Load the Rubin DP1 Catalog\n",
    "\n",
    "The relevant catalogs are diaObject and object. Each row corresponds to a single object with all its sources and nested sources embedded in separate columns."
   ]
  },
  {
   "cell_type": "code",
   "execution_count": null,
   "id": "65a9385a-7ca0-4ad2-a41f-f572098aab60",
   "metadata": {},
   "outputs": [],
   "source": [
    "# Load DiaObject Collection\n",
    "dia_catalog = lsdb.open_catalog(diaobject_path)\n",
    "dia_catalog"
   ]
  },
  {
   "cell_type": "code",
   "execution_count": null,
   "id": "41ef44a4-1cd7-481d-8e5b-3b5d4782d006",
   "metadata": {},
   "outputs": [],
   "source": [
    "# Load Object Collection\n",
    "obj_catalog = lsdb.open_catalog(object_path)\n",
    "obj_catalog"
   ]
  },
  {
   "cell_type": "markdown",
   "id": "6d757b80-cdb1-4df2-9dfc-7061d1a44a7b",
   "metadata": {},
   "source": [
    "## Choose the variable objects\n",
    "We have a selection of 10 variable objects, which were found from previous analysis of forced photometry on science images:"
   ]
  },
  {
   "cell_type": "code",
   "execution_count": null,
   "id": "7ff25a56-00b0-474d-8339-1c9c7ad10c5b",
   "metadata": {},
   "outputs": [],
   "source": [
    "variables_csv = \"\"\"ra,dec,period\n",
    "94.95546,-24.73952,0.12095\n",
    "95.30235,-25.27431,0.12248\n",
    "94.91626,-24.69648,0.12038\n",
    "95.12418,-25.04329,0.23554\n",
    "58.83506,-48.79122,0.56335\n",
    "94.92264,-25.23185,0.07672\n",
    "94.72086,-25.05767,0.17559\n",
    "94.97073,-25.13643,0.12048\n",
    "59.12997,-48.78522,0.11628\n",
    "94.72086,-25.05767,0.17554\n",
    "\"\"\"\n",
    "# We add the index as a column of the DataFrame so we can later retrieve\n",
    "# all the Rubin data from difference and science imaging\n",
    "variables_df = pd.read_csv(StringIO(variables_csv)).reset_index()\n",
    "# Transform the DataFrame into a LSDB Catalog\n",
    "variables_catalog = lsdb.from_dataframe(variables_df)\n",
    "variables_catalog"
   ]
  },
  {
   "cell_type": "markdown",
   "id": "02443e03-6b93-4323-a569-6acb2d32a794",
   "metadata": {},
   "source": [
    "## Crossmatch the data\n",
    "Let's crossmatch the Rubin data with our desired variable objects:"
   ]
  },
  {
   "cell_type": "code",
   "execution_count": null,
   "id": "8a23c1ea-13ee-426e-8430-a8d49cb832b7",
   "metadata": {},
   "outputs": [],
   "source": [
    "XMATCH_RADIUS_ARCSEC = 0.2\n",
    "variable_object = variables_catalog.crossmatch(\n",
    "    obj_catalog, radius_arcsec=XMATCH_RADIUS_ARCSEC, suffixes=[\"_var\", \"\"]\n",
    ")\n",
    "variable_dia = variables_catalog.crossmatch(\n",
    "    dia_catalog, radius_arcsec=XMATCH_RADIUS_ARCSEC, suffixes=[\"_var\", \"\"]\n",
    ")\n",
    "# The result will have all the columns in obj_catalog suffixed with `_obj`,\n",
    "# all the columns in dia_catalog suffixed with `_dia`, as well as all the\n",
    "# columns in `variables_df` suffixed with `_var_obj`\n",
    "result = variable_object.join(\n",
    "    variable_dia, left_on=\"index_var\", right_on=\"index_var\", suffixes=[\"_obj\", \"_dia\"]\n",
    ")\n",
    "result"
   ]
  },
  {
   "cell_type": "markdown",
   "id": "72d85d6b-ad8f-40c3-8231-ebef47b0eae6",
   "metadata": {},
   "source": [
    "And apply filtering according to the quality flags:"
   ]
  },
  {
   "cell_type": "code",
   "execution_count": null,
   "id": "a53b35c7-4068-419c-89ce-d9869e811b92",
   "metadata": {},
   "outputs": [],
   "source": [
    "for column in [\"objectForcedSource_obj\", \"diaSource_dia\", \"diaObjectForcedSource_dia\"]:\n",
    "    result = result.query(\n",
    "        f\"~{column}.psfFlux_flag\"\n",
    "        f\" and ~{column}.pixelFlags_saturated\"\n",
    "        f\" and ~{column}.pixelFlags_cr\"\n",
    "        f\" and ~{column}.pixelFlags_bad\"\n",
    "    )\n",
    "result"
   ]
  },
  {
   "cell_type": "markdown",
   "id": "4b2d7f52-8912-45c7-8c3c-79b88a0482ff",
   "metadata": {},
   "source": [
    "Notice that we instantiate a Dask Client to efficiently parallelize our computations:"
   ]
  },
  {
   "cell_type": "code",
   "execution_count": null,
   "id": "8e337dc1-bbed-4c6d-9e17-3508a8076a52",
   "metadata": {},
   "outputs": [],
   "source": [
    "with Client(n_workers=20, threads_per_worker=1) as client:\n",
    "    # Sort light curves by variable object index for plotting purposes\n",
    "    result_df = result.compute().sort_values(\"index_var_obj\")\n",
    "result_df"
   ]
  },
  {
   "cell_type": "markdown",
   "id": "e10fad1e-3de2-4f06-a438-a44f03e26154",
   "metadata": {},
   "source": [
    "## Plot the lightcurves from the Rubin Data\n",
    "\n",
    "The following utility methods allow us to plot light curves from DIA source, DIA forced source and forcedSource, for each of our matches."
   ]
  },
  {
   "cell_type": "code",
   "execution_count": null,
   "id": "07fb7c7f-2952-4193-b025-cee7d1d8ccb4",
   "metadata": {},
   "outputs": [],
   "source": [
    "COLORS = {\n",
    "    \"u\": \"#56b4e9\",\n",
    "    \"g\": \"#009e73\",\n",
    "    \"r\": \"#f0e442\",\n",
    "    \"i\": \"#cc79a7\",\n",
    "    \"z\": \"#d55e00\",\n",
    "    \"y\": \"#0072b2\",\n",
    "}"
   ]
  },
  {
   "cell_type": "markdown",
   "id": "3819aa5d-ae58-415e-a3b1-5cb7365f8e49",
   "metadata": {},
   "source": [
    "### In the magnitude scale"
   ]
  },
  {
   "cell_type": "code",
   "execution_count": null,
   "id": "81a7105b-059c-43d4-977b-5e9e7985be0d",
   "metadata": {},
   "outputs": [],
   "source": [
    "def plot_mag_lightcurves(ax, row):\n",
    "    \"\"\"Plot magnitude light curves from DIA source, DIA forced source and forcedSource\"\"\"\n",
    "    # Define flux types for each dataset\n",
    "    datasets = [\n",
    "        (\"scienceFlux\", \"diaSourceTable_tract\", row.diaSource_dia),\n",
    "        (\"psfDiffFlux\", \"forcedSourceOnDiaObjectTable\", row.diaObjectForcedSource_dia),\n",
    "        (\"psfFlux\", \"forcedSourceTable\", row.objectForcedSource_obj),\n",
    "    ]\n",
    "    all_mags = [[], []]  # To store magnitudes for each row\n",
    "    for i, (flux_col, table_name, lc) in enumerate(datasets):\n",
    "        title = f\"{flux_col} from {table_name}\"\n",
    "        flux_err_col = f\"{flux_col}Err\"\n",
    "        ax[0, i].set_title(title)\n",
    "        # Compute phase\n",
    "        lc = lc.assign(\n",
    "            phase=(lc.midpointMjdTai - lc.midpointMjdTai.loc[lc.psfFlux.idxmax()])\n",
    "            % row.period_var_obj\n",
    "            / row.period_var_obj\n",
    "        )\n",
    "        # First row: original light curve\n",
    "        all_mags[0].extend(\n",
    "            plot_mag_scale(\n",
    "                ax[0, i],\n",
    "                lc,\n",
    "                flux_col,\n",
    "                flux_err_col,\n",
    "                x_name=\"midpointMjdTai\",\n",
    "                x_label=\"MJD\",\n",
    "                show_legend=(i == 0),\n",
    "            )\n",
    "        )\n",
    "        # Second row: folded light curve\n",
    "        all_mags[1].extend(\n",
    "            plot_mag_scale(\n",
    "                ax[1, i], lc, flux_col, flux_err_col, x_name=\"phase\", x_label=\"Phase\"\n",
    "            )\n",
    "        )\n",
    "    return all_mags\n",
    "\n",
    "\n",
    "def plot_mag_scale(ax, lc, flux_col, flux_err_col, x_name, x_label, show_legend=False):\n",
    "    \"\"\"Plot light curves in magnitude scale\"\"\"\n",
    "    mag_values = []  # Store magnitudes for setting axis limits\n",
    "    for band, color in COLORS.items():\n",
    "        band_lc = lc.query(f\"band == '{band}'\")\n",
    "        # Compute magnitudes and errors\n",
    "        mag, magErr = create_mag_errors(band_lc[flux_col], band_lc[flux_err_col])\n",
    "        ax.errorbar(\n",
    "            band_lc[x_name],\n",
    "            mag,\n",
    "            magErr,\n",
    "            fmt=\"o\",\n",
    "            label=band,\n",
    "            color=color,\n",
    "            alpha=1,\n",
    "            markersize=5,\n",
    "            capsize=3,\n",
    "            elinewidth=1,\n",
    "        )\n",
    "        mag_values.extend(mag.dropna().values)  # Collect magnitude values\n",
    "    ax.set_xlabel(x_label)\n",
    "    ax.set_ylabel(\"Magnitude (AB)\")\n",
    "    ax.invert_yaxis()  # Magnitudes are plotted with brighter objects lower\n",
    "    if show_legend:\n",
    "        ax.legend(loc=\"lower right\", fontsize=12)  # Show legend in top-left panel only\n",
    "    return mag_values  # Return magnitudes for axis scaling\n",
    "\n",
    "\n",
    "def create_mag_errors(sciFlux, sciFluxErr):\n",
    "    \"\"\"Move flux into magnitudes and calculate the error on the magnitude\"\"\"\n",
    "    mag = u.nJy.to(u.ABmag, sciFlux)\n",
    "    upper_mag = u.nJy.to(u.ABmag, sciFlux + sciFluxErr)\n",
    "    lower_mag = u.nJy.to(u.ABmag, sciFlux - sciFluxErr)\n",
    "    magErr = -(upper_mag - lower_mag) / 2\n",
    "    return mag, magErr\n",
    "\n",
    "\n",
    "def scale_mag_y_axis(ax, all_mags):\n",
    "    \"\"\"Set uniform y-axis scaling for each plot row\"\"\"\n",
    "    for row_idx in range(2):\n",
    "        if all_mags[row_idx]:  # Ensure we have data\n",
    "            ymin, ymax = np.nanmin(all_mags[row_idx]), np.nanmax(all_mags[row_idx])\n",
    "            for i in range(3):  # Apply limits to all columns in the row\n",
    "                ax[row_idx, i].set_ylim(\n",
    "                    ymax + 0.1, ymin - 0.1\n",
    "                )  # Keep magnitude inverted"
   ]
  },
  {
   "cell_type": "code",
   "execution_count": null,
   "id": "1eddc025-e6ee-404e-85f3-d9d875b5c0a3",
   "metadata": {},
   "outputs": [],
   "source": [
    "for _, row in result_df.iterrows():\n",
    "    fig, ax = plt.subplots(2, 3, figsize=(16, 8), sharex=\"row\")  # 2 rows, 3 columns\n",
    "    fig.suptitle(\n",
    "        f\"{drp_release} | RA={row.ra_var_obj:.5f}, Dec={row.dec_var_obj:.5f}\",\n",
    "        fontsize=16,\n",
    "    )\n",
    "    all_mags = plot_mag_lightcurves(ax, row)\n",
    "    scale_mag_y_axis(ax, all_mags)\n",
    "    plt.tight_layout()\n",
    "    plt.show()"
   ]
  },
  {
   "cell_type": "markdown",
   "id": "ee1ae49d-2b1b-4afb-9730-b8787d628f21",
   "metadata": {},
   "source": [
    "### In the flux scale"
   ]
  },
  {
   "cell_type": "code",
   "execution_count": null,
   "id": "23b76664-2a45-47ab-a009-a52c084b6baf",
   "metadata": {},
   "outputs": [],
   "source": [
    "def plot_flux_lightcurves(ax, row):\n",
    "    \"\"\"Plot flux light curves from DIA source, DIA forced source and forcedSource\"\"\"\n",
    "    # Define flux types for each dataset\n",
    "    datasets = [\n",
    "        (\"scienceFlux\", \"diaSourceTable_tract\", row.diaSource_dia),\n",
    "        (\"psfDiffFlux\", \"forcedSourceOnDiaObjectTable\", row.diaObjectForcedSource_dia),\n",
    "        (\"psfFlux\", \"forcedSourceTable\", row.objectForcedSource_obj),\n",
    "    ]\n",
    "    all_flux = [[], [], []]  # To store flux for each row\n",
    "    for i, (flux_col, table_name, lc) in enumerate(datasets):\n",
    "        title = f\"{flux_col} from {table_name}\"\n",
    "        flux_err_col = f\"{flux_col}Err\"\n",
    "        ax[0, i].set_title(title)\n",
    "        # Compute phase\n",
    "        lc = lc.assign(\n",
    "            phase=(lc.midpointMjdTai - lc.midpointMjdTai.loc[lc.psfFlux.idxmax()])\n",
    "            % row.period_var_obj\n",
    "            / row.period_var_obj\n",
    "        )\n",
    "        # First row: original light curve\n",
    "        all_flux[i].extend(\n",
    "            plot_flux_scale(\n",
    "                ax[0, i],\n",
    "                lc,\n",
    "                flux_col,\n",
    "                flux_err_col,\n",
    "                x_name=\"midpointMjdTai\",\n",
    "                x_label=\"MJD\",\n",
    "                show_legend=(i == 0),\n",
    "            )\n",
    "        )\n",
    "        # Second row: folded light curve\n",
    "        all_flux[i].extend(\n",
    "            plot_flux_scale(\n",
    "                ax[1, i], lc, flux_col, flux_err_col, x_name=\"phase\", x_label=\"Phase\"\n",
    "            )\n",
    "        )\n",
    "    return all_flux\n",
    "\n",
    "\n",
    "def plot_flux_scale(ax, lc, flux_col, flux_err_col, x_name, x_label, show_legend=False):\n",
    "    \"\"\"Function to plot light curves in flux scale\"\"\"\n",
    "    flux_values = []  # Store flux values for setting axis limits\n",
    "    for band, color in COLORS.items():\n",
    "        band_lc = lc.query(f\"band == '{band}'\")\n",
    "        # Extract flux values and errors directly\n",
    "        flux = band_lc[flux_col]\n",
    "        flux_err = band_lc[flux_err_col]\n",
    "        ax.errorbar(\n",
    "            band_lc[x_name],\n",
    "            flux,\n",
    "            flux_err,\n",
    "            fmt=\"o\",\n",
    "            label=band,\n",
    "            color=color,\n",
    "            alpha=1,\n",
    "            markersize=5,\n",
    "            capsize=3,\n",
    "            elinewidth=1,\n",
    "        )\n",
    "        flux_values.extend(flux.dropna().values)  # Collect flux values\n",
    "    ax.set_xlabel(x_label, fontsize=14)  # Increased font size\n",
    "    ax.set_ylabel(f\"{flux_col} (nJy)\", fontsize=14)  # Increased font size\n",
    "    if show_legend:\n",
    "        ax.legend(loc=\"lower right\", fontsize=12)  # Show legend in top-left panel only\n",
    "    return flux_values  # Return flux values for axis scaling\n",
    "\n",
    "\n",
    "def scale_flux_y_axis(ax, all_flux):\n",
    "    \"\"\"Set uniform y-axis scaling for first and third columns, while middle remains independent and symmetric\"\"\"\n",
    "    for row_idx in range(2):\n",
    "        for col_idx in [0, 2]:  # Apply shared limits to first and third columns\n",
    "            if all_flux[col_idx]:  # Ensure we have data\n",
    "                ymin, ymax = np.nanmin(all_flux[col_idx]), np.nanmax(all_flux[col_idx])\n",
    "                ax[row_idx, col_idx].set_ylim(\n",
    "                    ymin - 0.1 * abs(ymin), ymax + 0.1 * abs(ymax)\n",
    "                )  # Add buffer\n",
    "        # Middle column (psfDiffFlux) gets independent, symmetric scaling\n",
    "        if all_flux[1]:\n",
    "            max_abs_flux = np.nanmax(\n",
    "                np.abs(all_flux[1])\n",
    "            )  # Find the maximum absolute value\n",
    "            ax[row_idx, 1].set_ylim(\n",
    "                -max_abs_flux * 1.1, max_abs_flux * 1.1\n",
    "            )  # Symmetric range around 0"
   ]
  },
  {
   "cell_type": "code",
   "execution_count": null,
   "id": "39023bcf-414e-4a5e-9257-a5496651ee5d",
   "metadata": {},
   "outputs": [],
   "source": [
    "for _, row in result_df.iterrows():\n",
    "    fig, ax = plt.subplots(2, 3, figsize=(16, 8), sharex=\"row\")  # 2 rows, 3 columns\n",
    "    fig.suptitle(\n",
    "        f\"{drp_release} | RA={row.ra_var_obj:.5f}, Dec={row.dec_var_obj:.5f}\",\n",
    "        fontsize=16,\n",
    "    )\n",
    "    all_flux = plot_flux_lightcurves(ax, row)\n",
    "    scale_flux_y_axis(ax, all_flux)\n",
    "    plt.tight_layout()\n",
    "    plt.show()"
   ]
  },
  {
   "cell_type": "markdown",
   "id": "dd5f60d9-9618-4b88-8d8b-cef9fd092d1b",
   "metadata": {},
   "source": [
    "## About\n",
    "**Author(s):** Sandro Campos, Doug Branton\n",
    "\n",
    "**Last updated on:** 27 June 2025\n",
    "\n",
    "If you use lsdb for published research, please cite following [instructions](https://docs.lsdb.io/en/stable/citation.html)."
   ]
  }
 ],
 "metadata": {
  "kernelspec": {
   "display_name": "Python 3 (ipykernel)",
   "language": "python",
   "name": "python3"
  },
  "language_info": {
   "codemirror_mode": {
    "name": "ipython",
    "version": 3
   },
   "file_extension": ".py",
   "mimetype": "text/x-python",
   "name": "python",
   "nbconvert_exporter": "python",
   "pygments_lexer": "ipython3",
   "version": "3.12.9"
  },
  "nbsphinx": {
   "execute": "never"
  }
 },
 "nbformat": 4,
 "nbformat_minor": 5
}
