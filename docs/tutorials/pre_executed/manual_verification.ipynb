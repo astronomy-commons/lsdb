{
 "cells": [
  {
   "cell_type": "markdown",
   "metadata": {},
   "source": [
    "# Manual catalog verification\n",
    "\n",
    "This notebook presents methods for verifying that a directory contains a valid HATS catalog and performing manual verification through inspecting the catalog metadata and contents."
   ]
  },
  {
   "cell_type": "markdown",
   "metadata": {},
   "source": [
    "## 1. Directory verification\n",
    "\n",
    "The HATS library provides a method to verify that a directory contains the appropriate metadata files.\n",
    "\n",
    "There are a few flavors of the validation, and the quickest one doesn't take any additional flags:"
   ]
  },
  {
   "cell_type": "code",
   "execution_count": 1,
   "metadata": {},
   "outputs": [
    {
     "data": {
      "text/plain": [
       "True"
      ]
     },
     "execution_count": 1,
     "metadata": {},
     "output_type": "execute_result"
    }
   ],
   "source": [
    "from hats.io.validation import is_valid_catalog\n",
    "import hats\n",
    "from upath import UPath\n",
    "\n",
    "gaia_catalog_path = UPath(\"https://data.lsdb.io/hats/gaia_dr3/gaia/\")\n",
    "is_valid_catalog(gaia_catalog_path)"
   ]
  },
  {
   "cell_type": "markdown",
   "metadata": {},
   "source": [
    "### 1.1. Explaining the input and output\n",
    "\n",
    "The `strict` argument takes us through a different code path that rigorously tests the contents of all ancillary metadata files and the consistency of the partition pixels.\n",
    "\n",
    "Here, we use the `verbose=True` argument to print out a little bit more information about our catalog. It will repeat the path that we're looking at, display the total number of partitions, and calculate the approximate sky coverage, based on the area of the HATS tiles.\n",
    "\n",
    "The `fail_fast` argument will determine if we break out of the method at the first sign of trouble or keep looking for validation problems. This can be useful if you're debugging multiple points of failure in a catalog."
   ]
  },
  {
   "cell_type": "code",
   "execution_count": 2,
   "metadata": {},
   "outputs": [
    {
     "name": "stdout",
     "output_type": "stream",
     "text": [
      "Validating catalog at path https://data.lsdb.io/hats/gaia_dr3/gaia/ ... \n",
      "Found 2016 partitions.\n",
      "Approximate coverage is 100.00 % of the sky.\n"
     ]
    },
    {
     "data": {
      "text/plain": [
       "True"
      ]
     },
     "execution_count": 2,
     "metadata": {},
     "output_type": "execute_result"
    }
   ],
   "source": [
    "is_valid_catalog(gaia_catalog_path, verbose=True, fail_fast=False, strict=True)"
   ]
  },
  {
   "cell_type": "markdown",
   "metadata": {},
   "source": [
    "## 2. Columns and data types\n",
    "\n",
    "HATS tables are backed by parquet files. These files store metadata about their columns, the data types, and even the range of values.\n",
    "\n",
    "The columns and types are stored on the `catalog.schema` attribute with a `pyarrow.Schema` object. You can find more details on this object and its use [in the pyarrow documents](https://arrow.apache.org/docs/python/generated/pyarrow.Schema.html)\n",
    "\n",
    "Gaia has a lot of columns, so this display is long!"
   ]
  },
  {
   "cell_type": "code",
   "execution_count": 3,
   "metadata": {},
   "outputs": [
    {
     "data": {
      "text/plain": [
       "_healpix_29: int64\n",
       "solution_id: int64\n",
       "designation: string\n",
       "source_id: int64\n",
       "random_index: int64\n",
       "ref_epoch: double\n",
       "ra: double\n",
       "ra_error: float\n",
       "dec: double\n",
       "dec_error: float\n",
       "parallax: double\n",
       "parallax_error: float\n",
       "parallax_over_error: float\n",
       "pm: float\n",
       "pmra: double\n",
       "pmra_error: float\n",
       "pmdec: double\n",
       "pmdec_error: float\n",
       "ra_dec_corr: float\n",
       "ra_parallax_corr: float\n",
       "ra_pmra_corr: float\n",
       "ra_pmdec_corr: float\n",
       "dec_parallax_corr: float\n",
       "dec_pmra_corr: float\n",
       "dec_pmdec_corr: float\n",
       "parallax_pmra_corr: float\n",
       "parallax_pmdec_corr: float\n",
       "pmra_pmdec_corr: float\n",
       "astrometric_n_obs_al: int16\n",
       "astrometric_n_obs_ac: int16\n",
       "astrometric_n_good_obs_al: int16\n",
       "astrometric_n_bad_obs_al: int16\n",
       "astrometric_gof_al: float\n",
       "astrometric_chi2_al: float\n",
       "astrometric_excess_noise: float\n",
       "astrometric_excess_noise_sig: float\n",
       "astrometric_params_solved: int8\n",
       "astrometric_primary_flag: bool\n",
       "nu_eff_used_in_astrometry: float\n",
       "pseudocolour: float\n",
       "pseudocolour_error: float\n",
       "ra_pseudocolour_corr: float\n",
       "dec_pseudocolour_corr: float\n",
       "parallax_pseudocolour_corr: float\n",
       "pmra_pseudocolour_corr: float\n",
       "pmdec_pseudocolour_corr: float\n",
       "astrometric_matched_transits: int16\n",
       "visibility_periods_used: int16\n",
       "astrometric_sigma5d_max: float\n",
       "matched_transits: int16\n",
       "new_matched_transits: int16\n",
       "matched_transits_removed: int16\n",
       "ipd_gof_harmonic_amplitude: float\n",
       "ipd_gof_harmonic_phase: float\n",
       "ipd_frac_multi_peak: int8\n",
       "ipd_frac_odd_win: int8\n",
       "ruwe: float\n",
       "scan_direction_strength_k1: float\n",
       "scan_direction_strength_k2: float\n",
       "scan_direction_strength_k3: float\n",
       "scan_direction_strength_k4: float\n",
       "scan_direction_mean_k1: float\n",
       "scan_direction_mean_k2: float\n",
       "scan_direction_mean_k3: float\n",
       "scan_direction_mean_k4: float\n",
       "duplicated_source: bool\n",
       "phot_g_n_obs: int16\n",
       "phot_g_mean_flux: double\n",
       "phot_g_mean_flux_error: float\n",
       "phot_g_mean_flux_over_error: float\n",
       "phot_g_mean_mag: float\n",
       "phot_bp_n_obs: int16\n",
       "phot_bp_mean_flux: double\n",
       "phot_bp_mean_flux_error: float\n",
       "phot_bp_mean_flux_over_error: float\n",
       "phot_bp_mean_mag: float\n",
       "phot_rp_n_obs: int16\n",
       "phot_rp_mean_flux: double\n",
       "phot_rp_mean_flux_error: float\n",
       "phot_rp_mean_flux_over_error: float\n",
       "phot_rp_mean_mag: float\n",
       "phot_bp_rp_excess_factor: float\n",
       "phot_bp_n_contaminated_transits: int16\n",
       "phot_bp_n_blended_transits: int16\n",
       "phot_rp_n_contaminated_transits: int16\n",
       "phot_rp_n_blended_transits: int16\n",
       "phot_proc_mode: int8\n",
       "bp_rp: float\n",
       "bp_g: float\n",
       "g_rp: float\n",
       "radial_velocity: float\n",
       "radial_velocity_error: float\n",
       "rv_method_used: int8\n",
       "rv_nb_transits: int16\n",
       "rv_nb_deblended_transits: int16\n",
       "rv_visibility_periods_used: int16\n",
       "rv_expected_sig_to_noise: float\n",
       "rv_renormalised_gof: float\n",
       "rv_chisq_pvalue: float\n",
       "rv_time_duration: float\n",
       "rv_amplitude_robust: float\n",
       "rv_template_teff: float\n",
       "rv_template_logg: float\n",
       "rv_template_fe_h: float\n",
       "rv_atm_param_origin: int16\n",
       "vbroad: float\n",
       "vbroad_error: float\n",
       "vbroad_nb_transits: int16\n",
       "grvs_mag: float\n",
       "grvs_mag_error: float\n",
       "grvs_mag_nb_transits: int16\n",
       "rvs_spec_sig_to_noise: float\n",
       "phot_variable_flag: string\n",
       "l: double\n",
       "b: double\n",
       "ecl_lon: double\n",
       "ecl_lat: double\n",
       "in_qso_candidates: bool\n",
       "in_galaxy_candidates: bool\n",
       "non_single_star: int16\n",
       "has_xp_continuous: bool\n",
       "has_xp_sampled: bool\n",
       "has_rvs: bool\n",
       "has_epoch_photometry: bool\n",
       "has_epoch_rv: bool\n",
       "has_mcmc_gspphot: bool\n",
       "has_mcmc_msc: bool\n",
       "in_andromeda_survey: bool\n",
       "classprob_dsc_combmod_quasar: float\n",
       "classprob_dsc_combmod_galaxy: float\n",
       "classprob_dsc_combmod_star: float\n",
       "teff_gspphot: float\n",
       "teff_gspphot_lower: float\n",
       "teff_gspphot_upper: float\n",
       "logg_gspphot: float\n",
       "logg_gspphot_lower: float\n",
       "logg_gspphot_upper: float\n",
       "mh_gspphot: float\n",
       "mh_gspphot_lower: float\n",
       "mh_gspphot_upper: float\n",
       "distance_gspphot: float\n",
       "distance_gspphot_lower: float\n",
       "distance_gspphot_upper: float\n",
       "azero_gspphot: float\n",
       "azero_gspphot_lower: float\n",
       "azero_gspphot_upper: float\n",
       "ag_gspphot: float\n",
       "ag_gspphot_lower: float\n",
       "ag_gspphot_upper: float\n",
       "ebpminrp_gspphot: float\n",
       "ebpminrp_gspphot_lower: float\n",
       "ebpminrp_gspphot_upper: float\n",
       "libname_gspphot: string\n",
       "-- schema metadata --\n",
       "table_meta_yaml: 'datatype:\n",
       "- name: solution_id\n",
       "  datatype: int64\n",
       "  descr' + 26748\n",
       "table::len::designation: '1'\n",
       "table::len::phot_variable_flag: '1'\n",
       "table::len::libname_gspphot: '1'"
      ]
     },
     "execution_count": 3,
     "metadata": {},
     "output_type": "execute_result"
    }
   ],
   "source": [
    "catalog_object = hats.read_hats(gaia_catalog_path)\n",
    "catalog_object.schema"
   ]
  },
  {
   "cell_type": "markdown",
   "metadata": {},
   "source": [
    "### 2.1. Column statistics\n",
    "\n",
    "Parquet maintains basic statistics about the data inside its files. This includes the minimum value, maximum value, and the number of null (None, or unspecified) rows for that column.\n",
    "\n",
    "We provide a method that consumes all of the min, max, and null counts, and provides global values of min and max, and a total sum of the null counts."
   ]
  },
  {
   "cell_type": "code",
   "execution_count": 4,
   "metadata": {},
   "outputs": [
    {
     "data": {
      "text/html": [
       "<div>\n",
       "<style scoped>\n",
       "    .dataframe tbody tr th:only-of-type {\n",
       "        vertical-align: middle;\n",
       "    }\n",
       "\n",
       "    .dataframe tbody tr th {\n",
       "        vertical-align: top;\n",
       "    }\n",
       "\n",
       "    .dataframe thead th {\n",
       "        text-align: right;\n",
       "    }\n",
       "</style>\n",
       "<table border=\"1\" class=\"dataframe\">\n",
       "  <thead>\n",
       "    <tr style=\"text-align: right;\">\n",
       "      <th></th>\n",
       "      <th>min_value</th>\n",
       "      <th>max_value</th>\n",
       "      <th>null_count</th>\n",
       "      <th>row_count</th>\n",
       "    </tr>\n",
       "    <tr>\n",
       "      <th>column_names</th>\n",
       "      <th></th>\n",
       "      <th></th>\n",
       "      <th></th>\n",
       "      <th></th>\n",
       "    </tr>\n",
       "  </thead>\n",
       "  <tbody>\n",
       "    <tr>\n",
       "      <th>solution_id</th>\n",
       "      <td>1636148068921376768</td>\n",
       "      <td>1636148068921376768</td>\n",
       "      <td>0</td>\n",
       "      <td>1812731847</td>\n",
       "    </tr>\n",
       "    <tr>\n",
       "      <th>designation</th>\n",
       "      <td>Gaia DR3 1000000057322000000</td>\n",
       "      <td>Gaia DR3 999999988604363776</td>\n",
       "      <td>0</td>\n",
       "      <td>1812731847</td>\n",
       "    </tr>\n",
       "    <tr>\n",
       "      <th>...</th>\n",
       "      <td>...</td>\n",
       "      <td>...</td>\n",
       "      <td>...</td>\n",
       "      <td>...</td>\n",
       "    </tr>\n",
       "    <tr>\n",
       "      <th>ebpminrp_gspphot_upper</th>\n",
       "      <td>9.999999747378752e-05</td>\n",
       "      <td>4.226200103759766</td>\n",
       "      <td>1341620712</td>\n",
       "      <td>1812731847</td>\n",
       "    </tr>\n",
       "    <tr>\n",
       "      <th>libname_gspphot</th>\n",
       "      <td>A</td>\n",
       "      <td>PHOENIX</td>\n",
       "      <td>1341620712</td>\n",
       "      <td>1812731847</td>\n",
       "    </tr>\n",
       "  </tbody>\n",
       "</table>\n",
       "<p>152 rows × 4 columns</p>\n",
       "</div>"
      ],
      "text/plain": [
       "                                           min_value  \\\n",
       "column_names                                           \n",
       "solution_id                      1636148068921376768   \n",
       "designation             Gaia DR3 1000000057322000000   \n",
       "...                                              ...   \n",
       "ebpminrp_gspphot_upper         9.999999747378752e-05   \n",
       "libname_gspphot                                    A   \n",
       "\n",
       "                                          max_value  null_count   row_count  \n",
       "column_names                                                                 \n",
       "solution_id                     1636148068921376768           0  1812731847  \n",
       "designation             Gaia DR3 999999988604363776           0  1812731847  \n",
       "...                                             ...         ...         ...  \n",
       "ebpminrp_gspphot_upper            4.226200103759766  1341620712  1812731847  \n",
       "libname_gspphot                             PHOENIX  1341620712  1812731847  \n",
       "\n",
       "[152 rows x 4 columns]"
      ]
     },
     "execution_count": 4,
     "metadata": {},
     "output_type": "execute_result"
    }
   ],
   "source": [
    "catalog_object.aggregate_column_statistics()"
   ]
  },
  {
   "cell_type": "markdown",
   "metadata": {},
   "source": [
    "Again, gaia has a lot of columns. To make the most of this output, you can either use a pandas option to display all of the rows:\n",
    "\n",
    "```\n",
    "import pandas as pd\n",
    "pd.set_option('display.max_rows', None)\n",
    "```\n",
    "\n",
    "Or restrict the columns to those you care about with a keyword argument:"
   ]
  },
  {
   "cell_type": "code",
   "execution_count": 5,
   "metadata": {},
   "outputs": [
    {
     "data": {
      "text/html": [
       "<div>\n",
       "<style scoped>\n",
       "    .dataframe tbody tr th:only-of-type {\n",
       "        vertical-align: middle;\n",
       "    }\n",
       "\n",
       "    .dataframe tbody tr th {\n",
       "        vertical-align: top;\n",
       "    }\n",
       "\n",
       "    .dataframe thead th {\n",
       "        text-align: right;\n",
       "    }\n",
       "</style>\n",
       "<table border=\"1\" class=\"dataframe\">\n",
       "  <thead>\n",
       "    <tr style=\"text-align: right;\">\n",
       "      <th></th>\n",
       "      <th>min_value</th>\n",
       "      <th>max_value</th>\n",
       "      <th>null_count</th>\n",
       "      <th>row_count</th>\n",
       "    </tr>\n",
       "    <tr>\n",
       "      <th>column_names</th>\n",
       "      <th></th>\n",
       "      <th></th>\n",
       "      <th></th>\n",
       "      <th></th>\n",
       "    </tr>\n",
       "  </thead>\n",
       "  <tbody>\n",
       "    <tr>\n",
       "      <th>ref_epoch</th>\n",
       "      <td>2.016000e+03</td>\n",
       "      <td>2016.000000</td>\n",
       "      <td>0</td>\n",
       "      <td>1812731847</td>\n",
       "    </tr>\n",
       "    <tr>\n",
       "      <th>ra</th>\n",
       "      <td>3.409624e-07</td>\n",
       "      <td>360.000000</td>\n",
       "      <td>0</td>\n",
       "      <td>1812731847</td>\n",
       "    </tr>\n",
       "    <tr>\n",
       "      <th>dec</th>\n",
       "      <td>-8.999288e+01</td>\n",
       "      <td>89.990052</td>\n",
       "      <td>0</td>\n",
       "      <td>1812731847</td>\n",
       "    </tr>\n",
       "  </tbody>\n",
       "</table>\n",
       "</div>"
      ],
      "text/plain": [
       "                 min_value    max_value  null_count   row_count\n",
       "column_names                                                   \n",
       "ref_epoch     2.016000e+03  2016.000000           0  1812731847\n",
       "ra            3.409624e-07   360.000000           0  1812731847\n",
       "dec          -8.999288e+01    89.990052           0  1812731847"
      ]
     },
     "execution_count": 5,
     "metadata": {},
     "output_type": "execute_result"
    }
   ],
   "source": [
    "catalog_object.aggregate_column_statistics(include_columns=[\"ra\", \"dec\", \"ref_epoch\"])"
   ]
  },
  {
   "cell_type": "markdown",
   "metadata": {},
   "source": [
    "## About\n",
    "\n",
    "**Authors**: Melissa DeLucchi\n",
    "\n",
    "**Last updated on**: Oct 27, 2025\n",
    "\n",
    "If you use `lsdb` for published research, please cite following [instructions](https://docs.lsdb.io/en/stable/citation.html)."
   ]
  }
 ],
 "metadata": {
  "kernelspec": {
   "display_name": "p311",
   "language": "python",
   "name": "python3"
  },
  "language_info": {
   "codemirror_mode": {
    "name": "ipython",
    "version": 3
   },
   "file_extension": ".py",
   "mimetype": "text/x-python",
   "name": "python",
   "nbconvert_exporter": "python",
   "pygments_lexer": "ipython3",
   "version": "3.11.13"
  }
 },
 "nbformat": 4,
 "nbformat_minor": 2
}
