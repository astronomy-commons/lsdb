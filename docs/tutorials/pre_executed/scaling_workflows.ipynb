{
 "cells": [
  {
   "cell_type": "markdown",
   "id": "aaad3391",
   "metadata": {},
   "source": [
    "# Determining the Right Dask Cluster Parameters"
   ]
  },
  {
   "cell_type": "markdown",
   "id": "b15f9b56",
   "metadata": {},
   "source": [
    "## Learning Objectives\n",
    "\n",
    "In this tutorial, we will:\n",
    "* Show how to configure clusters based on the memory demands of larger data partitions\n",
    "* Show how to find larger data partitions\n",
    "* Discuss general strategies for scaling in-memory code to large out-of-memory runs\n",
    "\n",
    "\n",
    "## Introduction\n",
    "\n",
    "Working at scale almost always demands that you, the user, understand details of your workflows memory usage to properly setup the various parameters of your cluster setup. This can also be a very challenging task, as many users are not used to being aware of how much memory their code needs to execute. In this tutorial, we'll walk through a few strategies for determining how much memory your workers will need in the \"worst case\" and try to equip you with some code and hueristics for how to think about setting up a cluster for your workflow."
   ]
  },
  {
   "cell_type": "code",
   "execution_count": 1,
   "id": "65754145",
   "metadata": {},
   "outputs": [],
   "source": [
    "import lsdb\n",
    "import light_curve as licu\n",
    "from nested_pandas.utils import count_nested\n",
    "import numpy as np"
   ]
  },
  {
   "cell_type": "markdown",
   "id": "245d4ead",
   "metadata": {},
   "source": [
    "We'll first begin by opening a catalog (ZTF DR22), with a small cone picked out:"
   ]
  },
  {
   "cell_type": "code",
   "execution_count": 2,
   "id": "87970629",
   "metadata": {},
   "outputs": [
    {
     "data": {
      "text/html": [
       "<div><strong>lsdb Catalog ztf_lc:</strong></div><div>\n",
       "<style scoped>\n",
       "    .dataframe tbody tr th:only-of-type {\n",
       "        vertical-align: middle;\n",
       "    }\n",
       "\n",
       "    .dataframe tbody tr th {\n",
       "        vertical-align: top;\n",
       "    }\n",
       "\n",
       "    .dataframe thead th {\n",
       "        text-align: right;\n",
       "    }\n",
       "</style>\n",
       "<table border=\"1\" class=\"dataframe\">\n",
       "  <thead>\n",
       "    <tr style=\"text-align: right;\">\n",
       "      <th></th>\n",
       "      <th>objectid</th>\n",
       "      <th>filterid</th>\n",
       "      <th>fieldid</th>\n",
       "      <th>rcid</th>\n",
       "      <th>objra</th>\n",
       "      <th>objdec</th>\n",
       "      <th>nepochs</th>\n",
       "      <th>Norder</th>\n",
       "      <th>Dir</th>\n",
       "      <th>Npix</th>\n",
       "      <th>lc</th>\n",
       "    </tr>\n",
       "    <tr>\n",
       "      <th>npartitions=25</th>\n",
       "      <th></th>\n",
       "      <th></th>\n",
       "      <th></th>\n",
       "      <th></th>\n",
       "      <th></th>\n",
       "      <th></th>\n",
       "      <th></th>\n",
       "      <th></th>\n",
       "      <th></th>\n",
       "      <th></th>\n",
       "      <th></th>\n",
       "    </tr>\n",
       "  </thead>\n",
       "  <tbody>\n",
       "    <tr>\n",
       "      <th>Order: 5, Pixel: 6092</th>\n",
       "      <td>int64[pyarrow]</td>\n",
       "      <td>int8[pyarrow]</td>\n",
       "      <td>int16[pyarrow]</td>\n",
       "      <td>int8[pyarrow]</td>\n",
       "      <td>float[pyarrow]</td>\n",
       "      <td>float[pyarrow]</td>\n",
       "      <td>int64[pyarrow]</td>\n",
       "      <td>uint8[pyarrow]</td>\n",
       "      <td>uint64[pyarrow]</td>\n",
       "      <td>uint64[pyarrow]</td>\n",
       "      <td>nested&lt;hmjd: [double], mag: [float], magerr: [...</td>\n",
       "    </tr>\n",
       "    <tr>\n",
       "      <th>Order: 5, Pixel: 6093</th>\n",
       "      <td>...</td>\n",
       "      <td>...</td>\n",
       "      <td>...</td>\n",
       "      <td>...</td>\n",
       "      <td>...</td>\n",
       "      <td>...</td>\n",
       "      <td>...</td>\n",
       "      <td>...</td>\n",
       "      <td>...</td>\n",
       "      <td>...</td>\n",
       "      <td>...</td>\n",
       "    </tr>\n",
       "    <tr>\n",
       "      <th>...</th>\n",
       "      <td>...</td>\n",
       "      <td>...</td>\n",
       "      <td>...</td>\n",
       "      <td>...</td>\n",
       "      <td>...</td>\n",
       "      <td>...</td>\n",
       "      <td>...</td>\n",
       "      <td>...</td>\n",
       "      <td>...</td>\n",
       "      <td>...</td>\n",
       "      <td>...</td>\n",
       "    </tr>\n",
       "    <tr>\n",
       "      <th>Order: 6, Pixel: 24523</th>\n",
       "      <td>...</td>\n",
       "      <td>...</td>\n",
       "      <td>...</td>\n",
       "      <td>...</td>\n",
       "      <td>...</td>\n",
       "      <td>...</td>\n",
       "      <td>...</td>\n",
       "      <td>...</td>\n",
       "      <td>...</td>\n",
       "      <td>...</td>\n",
       "      <td>...</td>\n",
       "    </tr>\n",
       "    <tr>\n",
       "      <th>Order: 5, Pixel: 6131</th>\n",
       "      <td>...</td>\n",
       "      <td>...</td>\n",
       "      <td>...</td>\n",
       "      <td>...</td>\n",
       "      <td>...</td>\n",
       "      <td>...</td>\n",
       "      <td>...</td>\n",
       "      <td>...</td>\n",
       "      <td>...</td>\n",
       "      <td>...</td>\n",
       "      <td>...</td>\n",
       "    </tr>\n",
       "  </tbody>\n",
       "</table>\n",
       "</div><div>11 out of 11 columns in the catalog have been loaded <strong>lazily</strong>, meaning no data has been read, only the catalog schema</div>"
      ],
      "text/plain": [
       "Dask NestedFrame Structure:\n",
       "                           objectid       filterid         fieldid           rcid           objra          objdec         nepochs          Norder              Dir             Npix                                                                                           lc\n",
       "npartitions=25                                                                                                                                                                                                                                                                  \n",
       "1714745558121316352  int64[pyarrow]  int8[pyarrow]  int16[pyarrow]  int8[pyarrow]  float[pyarrow]  float[pyarrow]  int64[pyarrow]  uint8[pyarrow]  uint64[pyarrow]  uint64[pyarrow]  nested<hmjd: [double], mag: [float], magerr: [float], clrcoeff: [float], catflags: [int32]>\n",
       "1715027033098027008             ...            ...             ...            ...             ...             ...             ...             ...              ...              ...                                                                                          ...\n",
       "...                             ...            ...             ...            ...             ...             ...             ...             ...              ...              ...                                                                                          ...\n",
       "1725723082213031936             ...            ...             ...            ...             ...             ...             ...             ...              ...              ...                                                                                          ...\n",
       "1726004557189742592             ...            ...             ...            ...             ...             ...             ...             ...              ...              ...                                                                                          ...\n",
       "Dask Name: lambda, 6 expressions\n",
       "Expr=MapPartitions(lambda)"
      ]
     },
     "execution_count": 2,
     "metadata": {},
     "output_type": "execute_result"
    },
    {
     "data": {
      "image/png": "[encoded data removed]",
      "text/plain": [
       "<Figure size 1000x500 with 2 Axes>"
      ]
     },
     "metadata": {},
     "output_type": "display_data"
    }
   ],
   "source": [
    "ztf_cat = lsdb.open_catalog(\n",
    "    \"https://data.lsdb.io/hats/ztf_dr22/ztf_lc\",\n",
    "    margin_cache=\"https://data.lsdb.io/hats/ztf_dr22/ztf_lc_10arcs\",\n",
    "    search_filter=lsdb.ConeSearch(ra=90, dec=30.0, radius_arcsec=11000.0),\n",
    ")\n",
    "ztf_cat = ztf_cat.nest_lists(list_columns=[\"hmjd\", \"mag\", \"magerr\", \"clrcoeff\", \"catflags\"], name=\"lc\")\n",
    "ztf_cat.plot_pixels()\n",
    "ztf_cat"
   ]
  },
  {
   "cell_type": "markdown",
   "id": "4de2100e",
   "metadata": {},
   "source": [
    "Finding the largest pixel can be really helpful setting our cluster up for success, as it will usually be the most challenging partition for a worker to handle. Below is some code to find the largest partition in our cone by memory usage:"
   ]
  },
  {
   "cell_type": "code",
   "execution_count": 3,
   "id": "51a6ec2d",
   "metadata": {},
   "outputs": [
    {
     "name": "stderr",
     "output_type": "stream",
     "text": [
      "/astro/users/brantd/.conda/envs/lsdb_latest/lib/python3.11/site-packages/lsdb/catalog/dataset/healpix_dataset.py:556: RuntimeWarning: output of the function must be a DataFrame to generate an LSDB `Catalog`. `map_partitions` will return a dask object instead of a Catalog.\n",
      "  warnings.warn(\n"
     ]
    }
   ],
   "source": [
    "# Find the largest pixel\n",
    "def mem_pix(df, partition_info=None):\n",
    "    \"\"\"Calculate the memory usage of a pixel\"\"\"\n",
    "    return df.memory_usage().sum()\n",
    "\n",
    "\n",
    "largest_partition_idx = (\n",
    "    ztf_cat.map_partitions(mem_pix, meta=(None, np.int64)).compute().reset_index().idxmax()\n",
    ")"
   ]
  },
  {
   "cell_type": "markdown",
   "id": "c634eaf9",
   "metadata": {},
   "source": [
    "In this case, the index of our largest partition is 18:"
   ]
  },
  {
   "cell_type": "code",
   "execution_count": 6,
   "id": "458d90c3",
   "metadata": {},
   "outputs": [
    {
     "data": {
      "text/plain": [
       "np.int64(18)"
      ]
     },
     "execution_count": 6,
     "metadata": {},
     "output_type": "execute_result"
    }
   ],
   "source": [
    "largest_partition_idx[0]"
   ]
  },
  {
   "cell_type": "markdown",
   "id": "5af29dd5",
   "metadata": {},
   "source": [
    "Let's grab it into memory, via `compute`. We can work with this partition locally, as a means to directly develop and test our analysis code."
   ]
  },
  {
   "cell_type": "code",
   "execution_count": 5,
   "id": "d40fb353",
   "metadata": {},
   "outputs": [
    {
     "data": {
      "text/html": [
       "<style type=\"text/css\">\n",
       "</style>\n",
       "<table id=\"T_f7000\">\n",
       "  <thead>\n",
       "    <tr>\n",
       "      <th class=\"blank level0\" >&nbsp;</th>\n",
       "      <th id=\"T_f7000_level0_col0\" class=\"col_heading level0 col0\" >objectid</th>\n",
       "      <th id=\"T_f7000_level0_col1\" class=\"col_heading level0 col1\" >filterid</th>\n",
       "      <th id=\"T_f7000_level0_col2\" class=\"col_heading level0 col2\" >fieldid</th>\n",
       "      <th id=\"T_f7000_level0_col3\" class=\"col_heading level0 col3\" >rcid</th>\n",
       "      <th id=\"T_f7000_level0_col4\" class=\"col_heading level0 col4\" >objra</th>\n",
       "      <th id=\"T_f7000_level0_col5\" class=\"col_heading level0 col5\" >objdec</th>\n",
       "      <th id=\"T_f7000_level0_col6\" class=\"col_heading level0 col6\" >nepochs</th>\n",
       "      <th id=\"T_f7000_level0_col7\" class=\"col_heading level0 col7\" >Norder</th>\n",
       "      <th id=\"T_f7000_level0_col8\" class=\"col_heading level0 col8\" >Dir</th>\n",
       "      <th id=\"T_f7000_level0_col9\" class=\"col_heading level0 col9\" >Npix</th>\n",
       "      <th id=\"T_f7000_level0_col10\" class=\"col_heading level0 col10\" >lc</th>\n",
       "    </tr>\n",
       "  </thead>\n",
       "  <tbody>\n",
       "    <tr>\n",
       "      <th id=\"T_f7000_level0_row0\" class=\"row_heading level0 row0\" >1724878657564209309</th>\n",
       "      <td id=\"T_f7000_row0_col0\" class=\"data row0 col0\" >1657212400024524</td>\n",
       "      <td id=\"T_f7000_row0_col1\" class=\"data row0 col1\" >2</td>\n",
       "      <td id=\"T_f7000_row0_col2\" class=\"data row0 col2\" >1657</td>\n",
       "      <td id=\"T_f7000_row0_col3\" class=\"data row0 col3\" >47</td>\n",
       "      <td id=\"T_f7000_row0_col4\" class=\"data row0 col4\" >90.001427</td>\n",
       "      <td id=\"T_f7000_row0_col5\" class=\"data row0 col5\" >30.001747</td>\n",
       "      <td id=\"T_f7000_row0_col6\" class=\"data row0 col6\" >10</td>\n",
       "      <td id=\"T_f7000_row0_col7\" class=\"data row0 col7\" >5</td>\n",
       "      <td id=\"T_f7000_row0_col8\" class=\"data row0 col8\" >0</td>\n",
       "      <td id=\"T_f7000_row0_col9\" class=\"data row0 col9\" >6128</td>\n",
       "      <td id=\"T_f7000_row0_col10\" class=\"data row0 col10\" ><table border=\"1\" class=\"dataframe\">\n",
       "  <thead>\n",
       "    <tr style=\"text-align: right;\">\n",
       "      <th>hmjd</th>\n",
       "      <th>mag</th>\n",
       "      <th>magerr</th>\n",
       "      <th>clrcoeff</th>\n",
       "      <th>catflags</th>\n",
       "    </tr>\n",
       "  </thead>\n",
       "  <tbody>\n",
       "  </tbody>\n",
       "</table><table border=\"1\" class=\"dataframe\">\n",
       "  <tbody>\n",
       "    <tr>\n",
       "      <td>58429.34964</td>\n",
       "      <td>21.427361</td>\n",
       "      <td>0.200318</td>\n",
       "      <td>0.092288</td>\n",
       "      <td>0</td>\n",
       "    </tr>\n",
       "  </tbody>\n",
       "</table>\n",
       "<p>10 rows × 5 columns</p></td>\n",
       "    </tr>\n",
       "    <tr>\n",
       "      <th id=\"T_f7000_level0_row1\" class=\"row_heading level0 row1\" >1724878657564378139</th>\n",
       "      <td id=\"T_f7000_row1_col0\" class=\"data row1 col0\" >659201400032017</td>\n",
       "      <td id=\"T_f7000_row1_col1\" class=\"data row1 col1\" >2</td>\n",
       "      <td id=\"T_f7000_row1_col2\" class=\"data row1 col2\" >659</td>\n",
       "      <td id=\"T_f7000_row1_col3\" class=\"data row1 col3\" >3</td>\n",
       "      <td id=\"T_f7000_row1_col4\" class=\"data row1 col4\" >90.001419</td>\n",
       "      <td id=\"T_f7000_row1_col5\" class=\"data row1 col5\" >30.001770</td>\n",
       "      <td id=\"T_f7000_row1_col6\" class=\"data row1 col6\" >113</td>\n",
       "      <td id=\"T_f7000_row1_col7\" class=\"data row1 col7\" >5</td>\n",
       "      <td id=\"T_f7000_row1_col8\" class=\"data row1 col8\" >0</td>\n",
       "      <td id=\"T_f7000_row1_col9\" class=\"data row1 col9\" >6128</td>\n",
       "      <td id=\"T_f7000_row1_col10\" class=\"data row1 col10\" ><table border=\"1\" class=\"dataframe\">\n",
       "  <tbody>\n",
       "    <tr>\n",
       "      <td>58344.4718</td>\n",
       "      <td>20.900873</td>\n",
       "      <td>0.195949</td>\n",
       "      <td>0.088822</td>\n",
       "      <td>0</td>\n",
       "    </tr>\n",
       "  </tbody>\n",
       "</table>\n",
       "<p>113 rows × 5 columns</p></td>\n",
       "    </tr>\n",
       "    <tr>\n",
       "      <th id=\"T_f7000_level0_row2\" class=\"row_heading level0 row2\" >1724878657567097965</th>\n",
       "      <td id=\"T_f7000_row2_col0\" class=\"data row2 col0\" >660204300033132</td>\n",
       "      <td id=\"T_f7000_row2_col1\" class=\"data row2 col1\" >2</td>\n",
       "      <td id=\"T_f7000_row2_col2\" class=\"data row2 col2\" >660</td>\n",
       "      <td id=\"T_f7000_row2_col3\" class=\"data row2 col3\" >14</td>\n",
       "      <td id=\"T_f7000_row2_col4\" class=\"data row2 col4\" >90.001366</td>\n",
       "      <td id=\"T_f7000_row2_col5\" class=\"data row2 col5\" >30.001865</td>\n",
       "      <td id=\"T_f7000_row2_col6\" class=\"data row2 col6\" >164</td>\n",
       "      <td id=\"T_f7000_row2_col7\" class=\"data row2 col7\" >5</td>\n",
       "      <td id=\"T_f7000_row2_col8\" class=\"data row2 col8\" >0</td>\n",
       "      <td id=\"T_f7000_row2_col9\" class=\"data row2 col9\" >6128</td>\n",
       "      <td id=\"T_f7000_row2_col10\" class=\"data row2 col10\" ><table border=\"1\" class=\"dataframe\">\n",
       "  <tbody>\n",
       "    <tr>\n",
       "      <td>58216.16402</td>\n",
       "      <td>21.287397</td>\n",
       "      <td>0.226883</td>\n",
       "      <td>0.090521</td>\n",
       "      <td>0</td>\n",
       "    </tr>\n",
       "  </tbody>\n",
       "</table>\n",
       "<p>164 rows × 5 columns</p></td>\n",
       "    </tr>\n",
       "    <tr>\n",
       "      <th id=\"T_f7000_level0_row3\" class=\"row_heading level0 row3\" >1724878659169832612</th>\n",
       "      <td id=\"T_f7000_row3_col0\" class=\"data row3 col0\" >1657112400017710</td>\n",
       "      <td id=\"T_f7000_row3_col1\" class=\"data row3 col1\" >1</td>\n",
       "      <td id=\"T_f7000_row3_col2\" class=\"data row3 col2\" >1657</td>\n",
       "      <td id=\"T_f7000_row3_col3\" class=\"data row3 col3\" >47</td>\n",
       "      <td id=\"T_f7000_row3_col4\" class=\"data row3 col4\" >90.002884</td>\n",
       "      <td id=\"T_f7000_row3_col5\" class=\"data row3 col5\" >30.005781</td>\n",
       "      <td id=\"T_f7000_row3_col6\" class=\"data row3 col6\" >56</td>\n",
       "      <td id=\"T_f7000_row3_col7\" class=\"data row3 col7\" >5</td>\n",
       "      <td id=\"T_f7000_row3_col8\" class=\"data row3 col8\" >0</td>\n",
       "      <td id=\"T_f7000_row3_col9\" class=\"data row3 col9\" >6128</td>\n",
       "      <td id=\"T_f7000_row3_col10\" class=\"data row3 col10\" ><table border=\"1\" class=\"dataframe\">\n",
       "  <tbody>\n",
       "    <tr>\n",
       "      <td>58384.40841</td>\n",
       "      <td>17.281565</td>\n",
       "      <td>0.017269</td>\n",
       "      <td>-0.031045</td>\n",
       "      <td>0</td>\n",
       "    </tr>\n",
       "  </tbody>\n",
       "</table>\n",
       "<p>56 rows × 5 columns</p></td>\n",
       "    </tr>\n",
       "    <tr>\n",
       "      <th id=\"T_f7000_level0_row4\" class=\"row_heading level0 row4\" >1724878659169836807</th>\n",
       "      <td id=\"T_f7000_row4_col0\" class=\"data row4 col0\" >659101400010740</td>\n",
       "      <td id=\"T_f7000_row4_col1\" class=\"data row4 col1\" >1</td>\n",
       "      <td id=\"T_f7000_row4_col2\" class=\"data row4 col2\" >659</td>\n",
       "      <td id=\"T_f7000_row4_col3\" class=\"data row4 col3\" >3</td>\n",
       "      <td id=\"T_f7000_row4_col4\" class=\"data row4 col4\" >90.002892</td>\n",
       "      <td id=\"T_f7000_row4_col5\" class=\"data row4 col5\" >30.005787</td>\n",
       "      <td id=\"T_f7000_row4_col6\" class=\"data row4 col6\" >403</td>\n",
       "      <td id=\"T_f7000_row4_col7\" class=\"data row4 col7\" >5</td>\n",
       "      <td id=\"T_f7000_row4_col8\" class=\"data row4 col8\" >0</td>\n",
       "      <td id=\"T_f7000_row4_col9\" class=\"data row4 col9\" >6128</td>\n",
       "      <td id=\"T_f7000_row4_col10\" class=\"data row4 col10\" ><table border=\"1\" class=\"dataframe\">\n",
       "  <tbody>\n",
       "    <tr>\n",
       "      <td>58204.12799</td>\n",
       "      <td>17.346634</td>\n",
       "      <td>0.021425</td>\n",
       "      <td>-0.114383</td>\n",
       "      <td>32768</td>\n",
       "    </tr>\n",
       "  </tbody>\n",
       "</table>\n",
       "<p>403 rows × 5 columns</p></td>\n",
       "    </tr>\n",
       "    <tr>\n",
       "      <th class=\"row_heading level0 row_trim\" >...</th>\n",
       "      <td class=\"data col0 row_trim\" >...</td>\n",
       "      <td class=\"data col1 row_trim\" >...</td>\n",
       "      <td class=\"data col2 row_trim\" >...</td>\n",
       "      <td class=\"data col3 row_trim\" >...</td>\n",
       "      <td class=\"data col4 row_trim\" >...</td>\n",
       "      <td class=\"data row_trim col_trim\" >...</td>\n",
       "    </tr>\n",
       "  </tbody>\n",
       "</table>\n",
       "870359 rows x 11 columns"
      ],
      "text/plain": [
       "                             objectid  filterid  fieldid  rcid      objra  \\\n",
       "_healpix_29                                                                 \n",
       "1724878657564209309  1657212400024524         2     1657    47  90.001427   \n",
       "1724878657564378139   659201400032017         2      659     3  90.001419   \n",
       "...                               ...       ...      ...   ...        ...   \n",
       "1725160129995874672   659105100007685         1      659    16  90.002464   \n",
       "1725160130891892172   659305100015836         3      659    16  89.995659   \n",
       "\n",
       "                        objdec  nepochs  Norder  Dir  Npix  \\\n",
       "_healpix_29                                                  \n",
       "1724878657564209309  30.001747       10       5    0  6128   \n",
       "1724878657564378139   30.00177      113       5    0  6128   \n",
       "...                        ...      ...     ...  ...   ...   \n",
       "1725160129995874672  32.792778      402       5    0  6128   \n",
       "1725160130891892172  32.792397        2       5    0  6128   \n",
       "\n",
       "                                                                    lc  \n",
       "_healpix_29                                                             \n",
       "1724878657564209309  [{hmjd: 58429.34964, mag: 21.427361, magerr: 0...  \n",
       "1724878657564378139  [{hmjd: 58344.4718, mag: 20.900873, magerr: 0....  \n",
       "...                                                                ...  \n",
       "1725160129995874672  [{hmjd: 58204.12799, mag: 17.702541, magerr: 0...  \n",
       "1725160130891892172  [{hmjd: 59170.34582, mag: 21.165676, magerr: 0...  \n",
       "\n",
       "[870359 rows x 11 columns]"
      ]
     },
     "execution_count": 5,
     "metadata": {},
     "output_type": "execute_result"
    }
   ],
   "source": [
    "# Grab a single partition into memory\n",
    "ztf_single_pix = ztf_cat.partitions[18].compute()\n",
    "ztf_single_pix"
   ]
  },
  {
   "cell_type": "markdown",
   "id": "2e7fbd59",
   "metadata": {},
   "source": [
    "`info` is a nice way to check it's characteristics, we see it's almost 4GBs in memory. While not specifically mentioned in the output, the vast majority of that will be the nested \"lc\" data. As an initial thought, we know from this that just holding the data will at worst cost 4GBs, meaning that immediately we've discounted having many ~1-2GB workers."
   ]
  },
  {
   "cell_type": "code",
   "execution_count": 6,
   "id": "e39ff419",
   "metadata": {},
   "outputs": [
    {
     "name": "stdout",
     "output_type": "stream",
     "text": [
      "<class 'nested_pandas.nestedframe.core.NestedFrame'>\n",
      "Index: 870359 entries, 1724878657564209309 to 1725160130891892172\n",
      "Data columns (total 11 columns):\n",
      " #   Column    Non-Null Count   Dtype                                                                                      \n",
      "---  ------    --------------   -----                                                                                      \n",
      " 0   objectid  870359 non-null  int64[pyarrow]                                                                             \n",
      " 1   filterid  870359 non-null  int8[pyarrow]                                                                              \n",
      " 2   fieldid   870359 non-null  int16[pyarrow]                                                                             \n",
      " 3   rcid      870359 non-null  int8[pyarrow]                                                                              \n",
      " 4   objra     870359 non-null  float[pyarrow]                                                                             \n",
      " 5   objdec    870359 non-null  float[pyarrow]                                                                             \n",
      " 6   nepochs   870359 non-null  int64[pyarrow]                                                                             \n",
      " 7   Norder    870359 non-null  uint8[pyarrow]                                                                             \n",
      " 8   Dir       870359 non-null  uint64[pyarrow]                                                                            \n",
      " 9   Npix      870359 non-null  uint64[pyarrow]                                                                            \n",
      " 10  lc        870359 non-null  nested<hmjd: [double], mag: [float], magerr: [float], clrcoeff: [float], catflags: [int32]>\n",
      "dtypes: float[pyarrow](2), int16[pyarrow](1), int64[pyarrow](2), int8[pyarrow](2), nested<hmjd: [double], mag: [float], magerr: [float], clrcoeff: [float], catflags: [int32]>(1), uint64[pyarrow](2), uint8[pyarrow](1)\n",
      "memory usage: 3.9 GB\n"
     ]
    }
   ],
   "source": [
    "ztf_single_pix.info()"
   ]
  },
  {
   "cell_type": "markdown",
   "id": "39298878",
   "metadata": {},
   "source": [
    "Now, let's create an analysis function that calculates the periods for each of our lightcurves:"
   ]
  },
  {
   "cell_type": "code",
   "execution_count": null,
   "id": "cef7da55",
   "metadata": {},
   "outputs": [],
   "source": [
    "def calc_periods(pix_df):\n",
    "    \"\"\"Calculate the period of all objects in a pixel\"\"\"\n",
    "\n",
    "    # pix_df is a nested-pandas NestedFrame, so we use the NestedFrame API within this function\n",
    "    # First, cut our photometry on catflags\n",
    "    pix_df = pix_df.query(\"lc.catflags == 0\")\n",
    "\n",
    "    # Drop any empty light curves\n",
    "    pix_df = pix_df.dropna(subset=[\"lc\"])\n",
    "\n",
    "    # Now we can calculate the periods\n",
    "    extractor = licu.Extractor(\n",
    "        licu.Periodogram(\n",
    "            peaks=1,\n",
    "            max_freq_factor=1.0,\n",
    "            fast=True,\n",
    "        ),  # Would give two features: peak period and signa-to-noise ratio of the peak\n",
    "    )\n",
    "\n",
    "    # light-curve requires all arrays to be the same dtype.\n",
    "    # It also requires the time array to be ordered and to have no duplicates.\n",
    "    def _extract_features(mjd, mag, **kwargs):\n",
    "        # We offset date, so we still would have <1 second precision\n",
    "        if len(mjd) < 50:\n",
    "            return dict(zip(extractor.names, [np.nan] * len(extractor.names)))\n",
    "        t = np.asarray(mjd - 60000, dtype=np.float32)\n",
    "        # print(t)\n",
    "        _, sort_index = np.unique(t, return_index=True)\n",
    "        features = extractor(\n",
    "            t[sort_index],\n",
    "            mag[sort_index],\n",
    "            **kwargs,\n",
    "        )\n",
    "        # Return the features as a dictionary\n",
    "        return dict(zip(extractor.names, features))\n",
    "\n",
    "    features = pix_df.reduce(\n",
    "        _extract_features,\n",
    "        \"lc.hmjd\",\n",
    "        \"lc.mag\",\n",
    "    )\n",
    "\n",
    "    return features"
   ]
  },
  {
   "cell_type": "markdown",
   "id": "cb1b098e",
   "metadata": {},
   "source": [
    "It's very useful to test our new analysis function on a single partition of the dataset, and we can easily use the one we just grabbed above. (For larger functions, it's also a great way to iteratively build those functions!)"
   ]
  },
  {
   "cell_type": "code",
   "execution_count": null,
   "id": "2eaeebc2",
   "metadata": {},
   "outputs": [
    {
     "data": {
      "text/html": [
       "<table border=\"1\" class=\"dataframe\">\n",
       "  <thead>\n",
       "    <tr style=\"text-align: right;\">\n",
       "      <th></th>\n",
       "      <th>period_0</th>\n",
       "      <th>period_s_to_n_0</th>\n",
       "    </tr>\n",
       "    <tr>\n",
       "      <th>_healpix_29</th>\n",
       "      <th></th>\n",
       "      <th></th>\n",
       "    </tr>\n",
       "  </thead>\n",
       "  <tbody>\n",
       "    <tr>\n",
       "      <th>1724878657564209309</th>\n",
       "      <td>NaN</td>\n",
       "      <td>NaN</td>\n",
       "    </tr>\n",
       "    <tr>\n",
       "      <th>1724878657564378139</th>\n",
       "      <td>326.805725</td>\n",
       "      <td>6.273389</td>\n",
       "    </tr>\n",
       "    <tr>\n",
       "      <th>...</th>\n",
       "      <td>...</td>\n",
       "      <td>...</td>\n",
       "    </tr>\n",
       "    <tr>\n",
       "      <th>1725160129995874672</th>\n",
       "      <td>122.629753</td>\n",
       "      <td>6.774995</td>\n",
       "    </tr>\n",
       "    <tr>\n",
       "      <th>1725160130891892172</th>\n",
       "      <td>NaN</td>\n",
       "      <td>NaN</td>\n",
       "    </tr>\n",
       "  </tbody>\n",
       "</table>\n",
       "<p>851498 rows × 2 columns</p>"
      ],
      "text/plain": [
       "                       period_0  period_s_to_n_0\n",
       "_healpix_29                                     \n",
       "1724878657564209309         NaN              NaN\n",
       "1724878657564378139  326.805725         6.273389\n",
       "...                         ...              ...\n",
       "1725160129995874672  122.629753         6.774995\n",
       "1725160130891892172         NaN              NaN\n",
       "\n",
       "[851498 rows x 2 columns]"
      ]
     },
     "execution_count": 8,
     "metadata": {},
     "output_type": "execute_result"
    }
   ],
   "source": [
    "# use the computed pixel to test the function\n",
    "single_res = calc_periods(ztf_single_pix)\n",
    "single_res"
   ]
  },
  {
   "cell_type": "markdown",
   "id": "2408ae38",
   "metadata": {},
   "source": [
    "We see above that our function works, and what it returns. We see a bunch of nans due to the way we have constructed our function.\n",
    "\n",
    "Understanding what cluster parameters to use (number of workers, worker memory limits, etc.) can be a very tricky task. Especially when writing a custom function, as we have above, the needs of the cluster will directly depend on the memory demands of our function. Below, we use a memory profiler to estimate the amount of memory used for operating on a single partition. Above, we picked out one of the largest partitions in our sample, which positions this estimate as more of an upper bound to the needed worker memory.\n",
    "\n",
    "> **IMPORTANT: Memory Profiling Caveats**: It's very easy to use this incorrectly, especially within a notebook environment. Modules like this are almost always measuring the kernel memory, meaning it's not just a measure of the function run, but anything else in memory at the time. If you were to rerun this, you would see the number increasing every time, until garbage collection eventually stepped in. Running the single pixel calculation in the cell above would also affect the result. In principle, this number serves as a reasonable estimate if you restart the kernel and make sure to only run the needed cells ahead of running the memory profiler, and perhaps more ideally you would create a dedicated script executed separately to run the profiler. With these caveats in mind, this is still a useful exercise to get a rough sense of how much memory you will need. "
   ]
  },
  {
   "cell_type": "code",
   "execution_count": null,
   "id": "0cb4f126",
   "metadata": {},
   "outputs": [
    {
     "name": "stdout",
     "output_type": "stream",
     "text": [
      "Maximum memory used: 16769.2421875 MiB\n"
     ]
    }
   ],
   "source": [
    "# Assessing Memory Usage for a single pixel\n",
    "from memory_profiler import memory_usage\n",
    "\n",
    "\n",
    "def calc_periods_mem():\n",
    "    \"\"\"Calculate the period of all objects in a pixel, with memory profiling\"\"\"\n",
    "\n",
    "    return calc_periods(ztf_single_pix)\n",
    "\n",
    "\n",
    "mem = max(\n",
    "    memory_usage(\n",
    "        proc=calc_periods_mem,\n",
    "    )\n",
    ")\n",
    "print(\"Maximum memory used: {} MiB\".format(mem))"
   ]
  },
  {
   "cell_type": "markdown",
   "id": "8d49604b",
   "metadata": {},
   "source": [
    "We see that for our largest partition, our analysis required a bit more than 16 GBs of memory. As a rough hueristic, it's good to take this number and multiply it by 1.5-2x when defining memory limits. This overhead is for a couple reasons, dask will be storing intermediate results alongside doing these operations, and the largest partition we found may not be the largest partition in the full dataset. With a smaller number of workers, you might need closer to ~2x as those workers take on more burden in terms of storing intermediate results, whereas with a larger number of workers you might be able to operate comfortably at the ~1.5x regime. From a stability perspective, more worker memory is more reliable, but make sure to at least have a few workers.\n",
    "\n",
    "Below, we use this information to setup our cluster, allocating 4 workers with 24GBs each. And very importantly, we set this to be single-threaded via `threads_per_worker`, multi-threading can introduce more opportunities for workers to trip up and fail, especially when we're constructing our cluster parameters under the assumption that 1 worker is sized to handle about 1 (large) partition."
   ]
  },
  {
   "cell_type": "code",
   "execution_count": 9,
   "id": "e6c63be8",
   "metadata": {},
   "outputs": [
    {
     "name": "stderr",
     "output_type": "stream",
     "text": [
      "2025-07-17 10:25:06,199 - distributed.worker.memory - WARNING - Unmanaged memory use is high. This may indicate a memory leak or the memory may not be released to the OS; see https://distributed.dask.org/en/latest/worker-memory.html#memory-not-released-back-to-the-os for more information. -- Unmanaged memory: 15.72 GiB -- Worker memory limit: 22.35 GiB\n",
      "2025-07-17 10:25:10,460 - distributed.worker.memory - WARNING - Worker is at 80% memory usage. Pausing worker.  Process memory: 18.08 GiB -- Worker memory limit: 22.35 GiB\n",
      "2025-07-17 10:25:10,552 - distributed.worker.memory - WARNING - Worker is at 69% memory usage. Resuming worker. Process memory: 15.49 GiB -- Worker memory limit: 22.35 GiB\n"
     ]
    }
   ],
   "source": [
    "# Now we can do this in parallel across all pixels\n",
    "from dask.distributed import Client\n",
    "\n",
    "with Client(\n",
    "    dashboard_address=\"127.0.0.1:33709\", n_workers=4, memory_limit=\"24GB\", threads_per_worker=1\n",
    ") as client:\n",
    "    # We can use the map_partitions method to apply our function to each pixel\n",
    "    # Results from single pixel operations can be used for the meta, but use head(0) to not pass along the full data\n",
    "    # ztf_cat_prepped = ztf_cat.map_partitions(data_prep, meta=ztf_single_pix_prepped.head(0))\n",
    "    full_res = ztf_cat.map_partitions(calc_periods, meta=single_res.head(0))\n",
    "    full_res = full_res.compute()"
   ]
  },
  {
   "cell_type": "markdown",
   "id": "1ff8e6b0",
   "metadata": {},
   "source": [
    "Despite our meticulous cluster crafting, we still get some worker memory warnings. These are acceptable, being that we only reach 80% memory at peak, but if you are seeing a lot of these warnings, that may be a sign to up the worker memory, especially for stability of larger jobs.\n",
    "\n",
    "\n",
    "> **Note**: In this tutorial, we were able to find the \"largest\" partition in our small cone, and use that to finely constrain our memory limits. However in full datasets it may be prohibitively expensive to find the \"largest\" partition, in which case adding more worker memory can be very helpful insurance to failing a pipeline run based on one partition just being a touch to large for the cluster setup."
   ]
  },
  {
   "cell_type": "code",
   "execution_count": 8,
   "id": "2703d96f",
   "metadata": {},
   "outputs": [
    {
     "data": {
      "text/html": [
       "<table border=\"1\" class=\"dataframe\">\n",
       "  <thead>\n",
       "    <tr style=\"text-align: right;\">\n",
       "      <th></th>\n",
       "      <th>period_0</th>\n",
       "      <th>period_s_to_n_0</th>\n",
       "    </tr>\n",
       "    <tr>\n",
       "      <th>_healpix_29</th>\n",
       "      <th></th>\n",
       "      <th></th>\n",
       "    </tr>\n",
       "  </thead>\n",
       "  <tbody>\n",
       "    <tr>\n",
       "      <th>1715015347870488560</th>\n",
       "      <td>90.381226</td>\n",
       "      <td>3.436837</td>\n",
       "    </tr>\n",
       "    <tr>\n",
       "      <th>1715015347870642076</th>\n",
       "      <td>251.193008</td>\n",
       "      <td>3.182266</td>\n",
       "    </tr>\n",
       "    <tr>\n",
       "      <th>...</th>\n",
       "      <td>...</td>\n",
       "      <td>...</td>\n",
       "    </tr>\n",
       "    <tr>\n",
       "      <th>1725732568560619551</th>\n",
       "      <td>NaN</td>\n",
       "      <td>NaN</td>\n",
       "    </tr>\n",
       "    <tr>\n",
       "      <th>1725732574233613000</th>\n",
       "      <td>NaN</td>\n",
       "      <td>NaN</td>\n",
       "    </tr>\n",
       "  </tbody>\n",
       "</table>\n",
       "<p>7594423 rows × 2 columns</p>"
      ],
      "text/plain": [
       "                       period_0  period_s_to_n_0\n",
       "_healpix_29                                     \n",
       "1715015347870488560   90.381226         3.436837\n",
       "1715015347870642076  251.193008         3.182266\n",
       "...                         ...              ...\n",
       "1725732568560619551         NaN              NaN\n",
       "1725732574233613000         NaN              NaN\n",
       "\n",
       "[7594423 rows x 2 columns]"
      ]
     },
     "execution_count": 8,
     "metadata": {},
     "output_type": "execute_result"
    }
   ],
   "source": [
    "full_res"
   ]
  },
  {
   "cell_type": "markdown",
   "id": "661d04f8",
   "metadata": {},
   "source": [
    "## About\n",
    "**Authors**: Doug Branton\n",
    "\n",
    "**Last updated on**: July 17, 2025\n",
    "\n",
    "If you use lsdb for published research, please cite following [instructions](https://docs.lsdb.io/en/stable/citation.html)."
   ]
  }
 ],
 "metadata": {
  "kernelspec": {
   "display_name": "Python 3 (ipykernel)",
   "language": "python",
   "name": "python3"
  },
  "language_info": {
   "codemirror_mode": {
    "name": "ipython",
    "version": 3
   },
   "file_extension": ".py",
   "mimetype": "text/x-python",
   "name": "python",
   "nbconvert_exporter": "python",
   "pygments_lexer": "ipython3",
   "version": "3.12.8"
  },
  "nbsphinx": {
   "execute": "never"
  }
 },
 "nbformat": 4,
 "nbformat_minor": 5
}
