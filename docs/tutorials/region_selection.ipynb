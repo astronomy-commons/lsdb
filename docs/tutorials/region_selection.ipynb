{
 "cells": [
  {
   "cell_type": "markdown",
   "id": "cb1cb6a4-a0bc-44f2-ae48-d4de23e14c56",
   "metadata": {
    "tags": []
   },
   "source": [
    "# Region Selection\n",
    "\n",
    "TODO - Help wanted\n",
    "\n",
    "https://github.com/astronomy-commons/lsdb/issues/664\n",
    "\n",
    "\n",
    "\n",
    "In this tutorial, we will demonstrate how to:\n",
    "\n",
    "- Set up a Dask client and load an object catalog\n",
    "- Select data from regions in the sky\n",
    "    - cone\n",
    "    - radec box\n",
    "    - polygon"
   ]
  },
  {
   "cell_type": "markdown",
   "id": "6069f981",
   "metadata": {},
   "source": [
    "## Introduction\n",
    "\n",
    "Large astronomical surveys contain a massive volume of data. Billion-object, multi-terabyte-sized catalogs are challenging to store and manipulate because they demand state-of-the-art hardware. Processing them is expensive, both in terms of runtime and memory consumption, and doing so on a single machine has become impractical. LSDB is a solution that enables scalable algorithm execution. It handles loading, querying, filtering, and crossmatching astronomical data (of HATS format) in a distributed environment. "
   ]
  },
  {
   "cell_type": "code",
   "execution_count": null,
   "id": "4bb2d314-32c8-4705-b980-f424ede22af1",
   "metadata": {},
   "outputs": [],
   "source": [
    "import lsdb"
   ]
  },
  {
   "cell_type": "markdown",
   "id": "c2606cc9-648a-49ac-bbe6-17dfe1f9309f",
   "metadata": {
    "tags": []
   },
   "source": [
    "## 1. Load a catalog\n",
    "\n",
    "We create a basic dask client, and load an existing HATS catalog - the ZTF DR22 catalog."
   ]
  },
  {
   "cell_type": "raw",
   "id": "2225843f",
   "metadata": {
    "raw_mimetype": "text/restructuredtext",
    "vscode": {
     "languageId": "raw"
    }
   },
   "source": [
    ".. nbinfo::    Additional Help \n",
    "    \n",
    "    For additional information on dask client creation, please refer to the \n",
    "    `official Dask documentation <https://distributed.dask.org/en/latest/client.html>`__ \n",
    "    and our :doc:`Dask cluster configuration </tutorials/dask-cluster-tips>` page for LSDB-specific tips. \n",
    "    Note that dask also provides its own `best practices <https://docs.dask.org/en/stable/best-practices.html>`__, which may also be useful to consult.\n",
    "    \n",
    "    For tips on accessing remote data, see our :doc:`Accessing remote data tutorial </tutorials/remote_data>`"
   ]
  },
  {
   "cell_type": "code",
   "execution_count": null,
   "id": "e16078b4-47b8-4939-83c4-1ad28bf1592e",
   "metadata": {},
   "outputs": [],
   "source": [
    "from dask.distributed import Client\n",
    "\n",
    "client = Client(n_workers=4, memory_limit=\"auto\")\n",
    "client"
   ]
  },
  {
   "cell_type": "code",
   "execution_count": null,
   "id": "8520df60-167d-42f8-bc2c-e771d4ff75bd",
   "metadata": {},
   "outputs": [],
   "source": [
    "ztf_object_path = \"https://data.lsdb.io/hats/ztf_dr22/ztf_lc\"\n",
    "ztf_object = lsdb.read_hats(ztf_object_path)\n",
    "ztf_object"
   ]
  },
  {
   "cell_type": "markdown",
   "id": "233abfb7-eb78-4d19-a133-1b17d22ff6c9",
   "metadata": {},
   "source": [
    "## 2. Selecting a region of the sky\n",
    "\n",
    "There are 3 common types of spatial filters to select a portion of the sky: cone, polygon and box.\n",
    "\n",
    "Filtering consists of two main steps:\n",
    "\n",
    "- A __coarse__ stage, in which we find what pixels cover our desired region in the sky. These may overlap with the region and only be partially contained within the region boundaries. This means that some data points inside that pixel may fall outside of the region.\n",
    "\n",
    "- A __fine__ stage, where we filter the data points from each pixel to make sure they fall within the specified region.\n",
    "\n",
    "The `fine` parameter allows us to specify whether or not we desire to run the fine stage, for each search. It brings some overhead, so if your intention is to get a rough estimate of the data points for a region, you may disable it. It is always executed by default.\n",
    "\n",
    "```\n",
    "catalog.box_search(..., fine=False)\n",
    "catalog.cone_search(..., fine=False)\n",
    "catalog.polygon_search(..., fine=False)\n",
    "```"
   ]
  },
  {
   "cell_type": "markdown",
   "id": "bdd68cda",
   "metadata": {},
   "source": [
    "Throughout this notebook, we will use the Catalog's `plot_pixels` method to display the HEALPix of each resulting catalog as filters are applied."
   ]
  },
  {
   "cell_type": "code",
   "execution_count": null,
   "id": "480b8473",
   "metadata": {},
   "outputs": [],
   "source": [
    "ztf_object.plot_pixels(plot_title=\"ZTF_DR14 - pixel map\")"
   ]
  },
  {
   "cell_type": "markdown",
   "id": "83ad6987-8858-4f47-932d-a8dc240fd090",
   "metadata": {},
   "source": [
    "## 3. Cone search\n",
    "\n",
    "A cone search is defined by center `(ra, dec)`, in degrees, and radius `r`, in arcseconds."
   ]
  },
  {
   "cell_type": "code",
   "execution_count": null,
   "id": "c9460d44-fb4b-4768-8885-b57987e34dc3",
   "metadata": {},
   "outputs": [],
   "source": [
    "ztf_object_cone = ztf_object.cone_search(ra=-60.3, dec=20.5, radius_arcsec=5 * 3600)\n",
    "ztf_object_cone"
   ]
  },
  {
   "cell_type": "code",
   "execution_count": null,
   "id": "4aa166cb-f5d6-4dc9-8d81-d6f6caceff40",
   "metadata": {},
   "outputs": [],
   "source": [
    "ztf_object_cone.plot_pixels(plot_title=\"ZTF_DR14 - cone pixel map\")"
   ]
  },
  {
   "cell_type": "markdown",
   "id": "5d5df76f",
   "metadata": {},
   "source": [
    "## 4. The Search object\n",
    "\n",
    "To perform a search on a catalog, there are two modes: a shape-specific call, or passing a search object to the `search()` method. The above case uses the cone shape call. \n",
    "\n",
    "Using a search object can be useful if you intend to re-use the shape for filtering multiple catalogs. We also provide some basic plotting for cone and box searches. The 5 degree cone search is outlined in red in the below plot.\n"
   ]
  },
  {
   "cell_type": "code",
   "execution_count": null,
   "id": "e33a21b3",
   "metadata": {},
   "outputs": [],
   "source": [
    "from lsdb.core.search import ConeSearch\n",
    "\n",
    "cone_search = ConeSearch(ra=-60.3, dec=20.5, radius_arcsec=5 * 3600)"
   ]
  },
  {
   "cell_type": "code",
   "execution_count": null,
   "id": "a49e26c6",
   "metadata": {},
   "outputs": [],
   "source": [
    "ztf_object.plot_pixels(plot_title=\"ZTF_DR14 - pixel map\")\n",
    "cone_search.plot(fc=\"#00000000\", ec=\"red\")"
   ]
  },
  {
   "cell_type": "markdown",
   "id": "9ff469e3",
   "metadata": {},
   "source": [
    "## 5.Polygon search\n",
    "\n",
    "A polygon search is defined by convex polygon with vertices `[(ra1, dec1), (ra2, dec2)...]`, in degrees."
   ]
  },
  {
   "cell_type": "code",
   "execution_count": null,
   "id": "25b7fea6-5af4-43e9-bd13-b83a4f0e095b",
   "metadata": {},
   "outputs": [],
   "source": [
    "vertices = [(-60.5, 15.1), (-62.5, 18.5), (-65.2, 15.3), (-64.2, 12.1)]\n",
    "ztf_object_polygon = ztf_object.polygon_search(vertices)\n",
    "ztf_object_polygon"
   ]
  },
  {
   "cell_type": "code",
   "execution_count": null,
   "id": "51358523-b278-49c0-95c6-bb6574d5c2a7",
   "metadata": {},
   "outputs": [],
   "source": [
    "ztf_object_polygon.plot_pixels(plot_title=\"ZTF_DR14 - polygon pixel map\")"
   ]
  },
  {
   "cell_type": "markdown",
   "id": "2c7d0a1f-00df-4b79-82b7-fe2ba3d462b8",
   "metadata": {},
   "source": [
    "## 6.Box search\n",
    "\n",
    "A box search can be defined by right ascension and declination bands `[(ra1, ra2), (dec1, dec2)]`."
   ]
  },
  {
   "cell_type": "code",
   "execution_count": null,
   "id": "e58b4687-7ab6-4531-849a-c2f9ce35317b",
   "metadata": {},
   "outputs": [],
   "source": [
    "ztf_object_box = ztf_object.box_search(ra=[-65, -60], dec=[12, 15])\n",
    "ztf_object_box"
   ]
  },
  {
   "cell_type": "code",
   "execution_count": null,
   "id": "2392879a-31b8-45a3-a66a-56d02b2a47e7",
   "metadata": {},
   "outputs": [],
   "source": [
    "ztf_object_box.plot_pixels(plot_title=\"ZTF_DR14 - box pixel map\")"
   ]
  },
  {
   "cell_type": "markdown",
   "id": "9a887b31",
   "metadata": {},
   "source": [
    "We can stack a several number of filters, which are applied in sequence. For example, `catalog.box_search().polygon_search()` should result in a perfectly valid HATS catalog containing the objects that match both filters."
   ]
  },
  {
   "cell_type": "markdown",
   "id": "81bb9203-005e-4b68-b3f7-76225cbcbbcb",
   "metadata": {},
   "source": [
    "## Closing the Dask client"
   ]
  },
  {
   "cell_type": "code",
   "execution_count": null,
   "id": "32b90716-d4b3-4a51-8838-44af2ea89703",
   "metadata": {},
   "outputs": [],
   "source": [
    "client.close()"
   ]
  },
  {
   "cell_type": "markdown",
   "id": "754adc80",
   "metadata": {},
   "source": [
    "## About\n",
    "\n",
    "**Authors**: Sandro Campos and Melissa DeLucchi\n",
    "\n",
    "**Last updated on**: April 14, 2025\n",
    "\n",
    "If you use `lsdb` for published research, please cite following [instructions](https://docs.lsdb.io/en/stable/citation.html)."
   ]
  }
 ],
 "metadata": {
  "kernelspec": {
   "display_name": "hats",
   "language": "python",
   "name": "python3"
  },
  "language_info": {
   "codemirror_mode": {
    "name": "ipython",
    "version": 3
   },
   "file_extension": ".py",
   "mimetype": "text/x-python",
   "name": "python",
   "nbconvert_exporter": "python",
   "pygments_lexer": "ipython3",
   "version": "3.12.3"
  }
 },
 "nbformat": 4,
 "nbformat_minor": 5
}
