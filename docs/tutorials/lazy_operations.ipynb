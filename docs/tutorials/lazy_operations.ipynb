{
 "cells": [
  {
   "metadata": {},
   "cell_type": "code",
   "outputs": [],
   "execution_count": null,
   "source": [
    "# Lazy Operations in LSDB\n",
    "\n",
    "## Learning Objectives\n",
    "\n",
    "By the end of this tutorial, you will learn:\n",
    "\n",
    "* What are lazy operations and how LSDB uses them to run pipelines at scale.\n",
    "* How to preview a small part of the data.\n",
    "\n",
    "## Introduction - What are Lazy Operations?\n",
    "\n",
    "In the previous tutorial we looked at loading a catalog and inspecting it's metadata. When we call `open_catalog()`, only the catalog's metadata is loaded, not any of the data in the rows of the catalog. This is because operations in LSDB are *lazy*: when you call the operation it isn't actually executed immediately."
   ],
   "id": "30c1afe7bd8defeb"
  },
  {
   "metadata": {},
   "cell_type": "markdown",
   "source": "<video src=\"../_static/lazy-flowchart.mp4\" loop autoplay controls style=\"width: 100%;\"></video>",
   "id": "9a7f019c6f13409"
  },
  {
   "metadata": {},
   "cell_type": "markdown",
   "source": [
    "As explained in the video above, instead of executing the operation when you call it, the operation is just planned. The catalog object keeps track of the pipeline of operations by building a task graph - an object that keeps track of the pipeline of operations you want to perform on the catalog. This way, you can write the code for the pipeline locally, and the task graph will be sent to the workers to execute the pipeline in parallel. We can also perform optimizations to the task graph to make sure the workflow is as efficient as possible. This is how LSDB can scale from working on your local machine, to running pipelines on clusters or in the cloud without having to make any code changes.\n",
    "\n",
    "To actually execute the operations, you call the `catalog.compute()` method, which will execute the pipeline and return the resulting data as a pandas `DataFrame`.\n",
    "\n",
    "You will find that most use cases start with **LAZY** loading and planning operations, followed by more expensive **COMPUTE** operations. The data is only loaded into memory when we trigger the workflow computations, usually with a `compute` call.\n",
    "\n",
    "![Lazy workflow diagram](../_static/lazy_diagram.svg)"
   ],
   "id": "f0e1b132b0ee1085"
  },
  {
   "metadata": {},
   "cell_type": "code",
   "outputs": [],
   "execution_count": null,
   "source": "import lsdb",
   "id": "e9dcd38786b7854b"
  },
  {
   "metadata": {},
   "cell_type": "code",
   "outputs": [],
   "execution_count": null,
   "source": [
    "gaia = lsdb.open_catalog(\"https://data.lsdb.io/hats/gaia_dr3/gaia/\")\n",
    "gaia"
   ],
   "id": "93362fb6e0fea281"
  },
  {
   "metadata": {},
   "cell_type": "markdown",
   "source": "We can see above from the `...` as placeholders for the data, and the warning at the bottom that this catalog has been loaded lazily. Now that we have the object we're ready to start performing operations!",
   "id": "92416a0e0f24536b"
  },
  {
   "metadata": {},
   "cell_type": "markdown",
   "source": [
    "## Operating on the Catalog\n",
    "\n",
    "Once we have a catalog object, we can start planning operations on it. In the rest of the tutorials, we'll look deeper into exactly what kind of operations you can do with a catalog. The catalog is based on pandas `DataFrames` so you'll see some functions that work the same as in pandas, such as `columns`, `dtypes`, `query`, and selecting columns or filtering with `[]`."
   ],
   "id": "206e3a22ad98d60a"
  },
  {
   "metadata": {},
   "cell_type": "raw",
   "source": "There are also a lot of astronomy specific functions, such as :doc:`Spatial filters like cone search or box search </tutorials/region_selection>`, and :doc:`Crossmatching </tutorials/pre_executed/crossmatching>`.",
   "id": "253ed4a59fd9a028"
  },
  {
   "metadata": {},
   "cell_type": "markdown",
   "source": "After you've performed your operations, you can call `catalog.compute()` to perform the pipeline, but this will run on the entire catalog!",
   "id": "619e9b8742ed34e0"
  },
  {
   "metadata": {},
   "cell_type": "markdown",
   "source": [
    "## Previewing part of the data\n",
    "\n",
    "Computing an entire catalog will result in loading all of its data into memory on your local machine after the workers have computed it, which is expensive and may lead to out-of-memory issues.\n",
    "\n",
    "Often, our goal is to have a peek at a slice of data to make sure the workflow output is reasonable (e.g., to assess if some new created columns are present and their values have been properly processed). `head()` is a pandas-like method which allows us to preview part of the data for this purpose. It runs the pipeline on the catalog partitions one by one, and finds the first few rows of the results."
   ],
   "id": "d380fecca385c4a6"
  },
  {
   "metadata": {},
   "cell_type": "markdown",
   "source": [
    "### Making a Dask client\n",
    "\n",
    "LSDB is built on top of the [Dask](https://www.dask.org) framework, which allows the pipelines to be executed on distributed workers. Before we do anything that executes the pipeline such as `head()` or `compute()`, we recommend making a dask client."
   ],
   "id": "5a13e7f9d0e80241"
  },
  {
   "metadata": {},
   "cell_type": "raw",
   "source": [
    "For additional information on dask client creation, please read our tutorial on :doc:`Setting up a Dask Client </tutorials/dask_client>`.\n",
    "\n",
    "For now, we'll make a simple Client that uses 4 workers on our local machine."
   ],
   "id": "d54f95e015994b51"
  },
  {
   "metadata": {},
   "cell_type": "code",
   "outputs": [],
   "execution_count": null,
   "source": [
    "from dask.distributed import Client\n",
    "\n",
    "client = Client(n_workers=4, memory_limit=\"auto\")\n",
    "client"
   ],
   "id": "3e5ef979e0aa5acb"
  },
  {
   "metadata": {},
   "cell_type": "code",
   "outputs": [],
   "execution_count": null,
   "source": "gaia.head()",
   "id": "a889f70eeebb9c8e"
  },
  {
   "metadata": {},
   "cell_type": "markdown",
   "source": "By default, the first 5 rows of data will be shown, but we can specify a higher number if we need.",
   "id": "13c2678ff9463fc0"
  },
  {
   "metadata": {},
   "cell_type": "code",
   "outputs": [],
   "execution_count": null,
   "source": "gaia.head(n=10)",
   "id": "62802ff5b5bba082"
  },
  {
   "metadata": {},
   "cell_type": "markdown",
   "source": "### Closing the Dask client",
   "id": "1157d23ebfc0de6e"
  },
  {
   "metadata": {},
   "cell_type": "code",
   "outputs": [],
   "execution_count": null,
   "source": "client.close()",
   "id": "5c06a1ab1d030ed"
  },
  {
   "metadata": {},
   "cell_type": "markdown",
   "source": [
    "## About\n",
    "\n",
    "**Authors**: Sean McGuire\n",
    "\n",
    "**Last updated on**: June 27, 2025\n",
    "\n",
    "If you use `lsdb` for published research, please cite following [instructions](https://docs.lsdb.io/en/stable/citation.html)."
   ],
   "id": "acc3b5e450d6a007"
  },
  {
   "metadata": {},
   "cell_type": "markdown",
   "source": "",
   "id": "fd27e8b81cb0d637"
  }
 ],
 "metadata": {},
 "nbformat": 5,
 "nbformat_minor": 9
}
