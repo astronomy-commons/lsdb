{
 "cells": [
  {
   "cell_type": "markdown",
   "id": "38cc0a1e4e887c94",
   "metadata": {},
   "source": [
    "# Plotting Results\n",
    "import astropy.units as u\n",
    "\n",
    "In this tutorial we demonstrate the plotting functionality in LSDB"
   ]
  },
  {
   "cell_type": "markdown",
   "id": "d919ddf8b16ea346",
   "metadata": {},
   "source": [
    "## Spherical Projection Plots\n",
    "\n",
    "LSDB makes it easy to make astronomical plots from catalogs with a spherical projection. There are a number of built-in plotting functions that you can use with `Catalog` objects for this.\n",
    "\n",
    "### Plotting HATS HEALPix structures\n",
    "\n",
    "The first is `plot_pixels` which plots the HEALPix pixels that show the partitioning structure of how the catalog data is divided."
   ]
  },
  {
   "cell_type": "code",
   "execution_count": null,
   "id": "3205f2d173eda80",
   "metadata": {
    "ExecuteTime": {
     "end_time": "2025-02-25T21:39:46.831549Z",
     "start_time": "2025-02-25T21:39:44.678736Z"
    }
   },
   "outputs": [],
   "source": [
    "from astropy.coordinates import SkyCoord\n",
    "\n",
    "import lsdb\n",
    "import astropy.units as u\n",
    "import matplotlib.pyplot as plt"
   ]
  },
  {
   "cell_type": "code",
   "execution_count": null,
   "id": "8c41895d3d4c7aa8",
   "metadata": {
    "ExecuteTime": {
     "end_time": "2025-02-25T21:39:47.803105Z",
     "start_time": "2025-02-25T21:39:46.841443Z"
    }
   },
   "outputs": [],
   "source": [
    "from dask.distributed import Client\n",
    "\n",
    "client = Client(n_workers=4, memory_limit=\"auto\")\n",
    "client"
   ]
  },
  {
   "cell_type": "code",
   "execution_count": null,
   "id": "initial_id",
   "metadata": {
    "ExecuteTime": {
     "end_time": "2025-02-25T21:39:52.620755Z",
     "start_time": "2025-02-25T21:39:47.922595Z"
    },
    "jupyter": {
     "outputs_hidden": true
    }
   },
   "outputs": [],
   "source": [
    "gaia = lsdb.read_hats(\"https://data.lsdb.io/hats/gaia_dr3/gaia\", columns=[\"ra\", \"dec\", \"phot_g_mean_mag\"])\n",
    "gaia.plot_pixels()"
   ]
  },
  {
   "cell_type": "raw",
   "id": "47de6845-2316-478b-b880-c0cc89b7b87a",
   "metadata": {
    "editable": true,
    "raw_mimetype": "text/restructuredtext",
    "slideshow": {
     "slide_type": ""
    },
    "tags": []
   },
   "source": [
    "This functions plots the HEALPix pixels, showing their boundaries and the pixels colored by the HEALPix Order. This uses astropy's `WCSAxes` and matplotlib to perform the visualization. By default, we plot with a Mollweide projection over the whole sky. This can be controlled by arguments passed to the function, such as `projection`, `fov`, or `center`, such as shown below, or a astropy `WCS` object can be provided with the `wcs` parameter for full specification of the projection. For full details on how to customize the plotting axes, :func:`see the API Documentation<hats.inspection.visualize_catalog.plot_healpix_map>`."
   ]
  },
  {
   "cell_type": "code",
   "execution_count": null,
   "id": "fd6b359d-7565-4ec9-a607-734f0e9fc0f4",
   "metadata": {
    "ExecuteTime": {
     "end_time": "2025-02-25T21:39:53.219661Z",
     "start_time": "2025-02-25T21:39:52.632602Z"
    },
    "editable": true,
    "slideshow": {
     "slide_type": ""
    },
    "tags": []
   },
   "outputs": [],
   "source": [
    "fov = (40 * u.deg, 20 * u.deg)\n",
    "center = SkyCoord(270 * u.deg, -30 * u.deg)\n",
    "gaia.plot_pixels(projection=\"AIT\", fov=fov, center=center)"
   ]
  },
  {
   "cell_type": "markdown",
   "id": "b7aa1af6ee044321",
   "metadata": {},
   "source": [
    "### Plotting points\n",
    "\n",
    "We can also plot the points of a catalog as a scatter plot with the same projected axes. This will compute the data in the catalog for the points within the field of view of the plot."
   ]
  },
  {
   "cell_type": "code",
   "execution_count": null,
   "id": "73ac559c938d93",
   "metadata": {
    "ExecuteTime": {
     "end_time": "2025-02-25T21:40:15.429792Z",
     "start_time": "2025-02-25T21:39:53.230197Z"
    }
   },
   "outputs": [],
   "source": [
    "gaia.plot_points(fov=20 * u.arcsec, center=center, color_col=\"phot_g_mean_mag\")"
   ]
  },
  {
   "cell_type": "markdown",
   "id": "c04adff2cd975f15",
   "metadata": {},
   "source": [
    "With this plot, we also see how a column can be used with a colormap to visualize the column values.\n"
   ]
  },
  {
   "cell_type": "markdown",
   "id": "8e6f02878765530",
   "metadata": {},
   "source": [
    "#### Multiple Plotting Calls\n",
    "\n",
    "When multiple LSDB spatial plotting calls are called, they all plot to the same axes. The first call initializes the axes with the given WCS parameters, and any further calls reuse these same axes and parameters. If you want to plot on different axes or figures, you can call `plt.show()` between plotting calls, or pass the `ax` or `fig` parameters to plot on a specific axes or figure."
   ]
  },
  {
   "cell_type": "code",
   "execution_count": null,
   "id": "c225b82f5a90f6f6",
   "metadata": {
    "ExecuteTime": {
     "end_time": "2025-02-25T21:41:15.041805Z",
     "start_time": "2025-02-25T21:40:15.440628Z"
    }
   },
   "outputs": [],
   "source": [
    "ztf = lsdb.read_hats(\n",
    "    \"https://data.lsdb.io/hats/ztf_dr14/ztf_object\",\n",
    "    margin_cache=\"https://data.lsdb.io/hats/ztf_dr14/ztf_object_10arcs\",\n",
    ")\n",
    "xmatched_cat = gaia.crossmatch(ztf)\n",
    "\n",
    "xmatched_cat.plot_points(\n",
    "    fov=200 * u.arcsec,\n",
    "    center=SkyCoord(20 * u.deg, 10 * u.deg),\n",
    "    c=\"red\",\n",
    "    marker=\"x\",\n",
    "    s=40,\n",
    "    label=\"gaia points\",\n",
    ")\n",
    "xmatched_cat.plot_points(\n",
    "    ra_column=\"ra_ztf_dr14\", dec_column=\"dec_ztf_dr14\", c=\"green\", marker=\"+\", s=30, label=\"ztf points\"\n",
    ")\n",
    "plt.legend()"
   ]
  },
  {
   "cell_type": "markdown",
   "id": "876519b02454214e",
   "metadata": {},
   "source": [
    "By default, the catalog's main `ra` and `dec` columns are used to plot the points, but if there are multiple `ra` and `dec` columns, (for example, the right catalog in a crossmatch), these can be specified.\n",
    "\n",
    "`plot_points` under the hood uses matplotlib's `scatter` function, so any keyword arguments that work with scatter will work with `plot_points`."
   ]
  },
  {
   "cell_type": "markdown",
   "id": "f2c3d21edb3228f",
   "metadata": {},
   "source": [
    "### Skymap: Plotting aggregations of data\n",
    "\n",
    "The skymap function allows users to pass their own function to aggregate points in HEALPix pixels and plot them. For a simple example, to plot the number of points in each healpix pixel within a cone, you can do the following:"
   ]
  },
  {
   "cell_type": "code",
   "execution_count": null,
   "id": "490c3dbf6da479a",
   "metadata": {
    "ExecuteTime": {
     "end_time": "2025-02-25T21:58:11.750128Z",
     "start_time": "2025-02-25T21:57:37.478533Z"
    }
   },
   "outputs": [],
   "source": [
    "from lsdb import ConeSearch\n",
    "\n",
    "cone_search = ConeSearch(center.ra.deg, center.dec.deg, 10 * 60)\n",
    "gaia.search(cone_search).skymap(\n",
    "    lambda x, _: len(x), order=11, plotting_args={\"fov\": (60 * u.arcmin, 30 * u.arcmin), \"center\": center}\n",
    ")\n",
    "cone_search.plot(fc=\"#00000000\", ec=\"red\")"
   ]
  },
  {
   "cell_type": "markdown",
   "id": "2022899646bfde57",
   "metadata": {},
   "source": [
    "In this case, we have a very simple lambda function to aggregate the data `lambda x, _: len(x)`. The user function for skymap must take two arguments, the first being a DataFrame with the catalog data within a HEALPix pixel, and the second being a `HealpixPixel` object with which HEALPix pixel the data is in.\n",
    "\n",
    "### Plotting Search Filters\n",
    "\n",
    "In the plot above, we also see how search filters can be plotted with `cone_search.plot(fc=\"#00000000\", ec=\"red\")`. The plot function plots the correct shape of the filter on the spherical projection, with any additional kwargs passed to the creation of a matplotlib `Patch` object."
   ]
  },
  {
   "cell_type": "code",
   "execution_count": null,
   "id": "875f3511cf96be1d",
   "metadata": {
    "ExecuteTime": {
     "end_time": "2025-02-26T17:28:04.248447Z",
     "start_time": "2025-02-26T17:28:04.246866Z"
    }
   },
   "outputs": [],
   "source": []
  },
  {
   "cell_type": "code",
   "execution_count": null,
   "id": "bcd259d003d6112b",
   "metadata": {},
   "outputs": [],
   "source": []
  }
 ],
 "metadata": {
  "kernelspec": {
   "display_name": "Python 3 (ipykernel)",
   "language": "python",
   "name": "python3"
  },
  "language_info": {
   "codemirror_mode": {
    "name": "ipython",
    "version": 3
   },
   "file_extension": ".py",
   "mimetype": "text/x-python",
   "name": "python",
   "nbconvert_exporter": "python",
   "pygments_lexer": "ipython3",
   "version": "3.11.10"
  }
 },
 "nbformat": 4,
 "nbformat_minor": 5
}
