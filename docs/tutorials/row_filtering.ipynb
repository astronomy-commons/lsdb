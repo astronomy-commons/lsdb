{
 "cells": [
  {
   "cell_type": "markdown",
   "id": "cb1cb6a4-a0bc-44f2-ae48-d4de23e14c56",
   "metadata": {
    "tags": []
   },
   "source": [
    "# Row Filtering\n",
    "\n",
    "In this tutorial, we will demonstrate how to:\n",
    "\n",
    "- Set up a Dask client and load an object catalog \n",
    "- Filter data by column values\n"
   ]
  },
  {
   "cell_type": "code",
   "execution_count": null,
   "id": "4bb2d314-32c8-4705-b980-f424ede22af1",
   "metadata": {},
   "outputs": [],
   "source": [
    "import lsdb\n",
    "from dask.distributed import Client"
   ]
  },
  {
   "cell_type": "markdown",
   "id": "c2606cc9-648a-49ac-bbe6-17dfe1f9309f",
   "metadata": {
    "tags": []
   },
   "source": [
    "## 1. Load a catalog\n",
    "\n",
    "We create a basic dask client, and load an existing HATS catalog - the ZTF DR22 catalog."
   ]
  },
  {
   "cell_type": "raw",
   "id": "2225843f",
   "metadata": {
    "raw_mimetype": "text/restructuredtext",
    "vscode": {
     "languageId": "raw"
    }
   },
   "source": [
    ".. nbinfo::\n",
    "    Additional Help \n",
    "    \n",
    "    For additional information on dask client creation, please refer to the \n",
    "    `official Dask documentation <https://distributed.dask.org/en/latest/client.html>`__ \n",
    "    and our :doc:`Dask cluster configuration </tutorials/dask-cluster-tips>` page for LSDB-specific tips. \n",
    "    Note that dask also provides its own `best practices <https://docs.dask.org/en/stable/best-practices.html>`__, which may also be useful to consult.\n",
    "    \n",
    "    For tips on accessing remote data, see our :doc:`Accessing remote data tutorial </tutorials/remote_data>`"
   ]
  },
  {
   "cell_type": "code",
   "execution_count": null,
   "id": "e16078b4-47b8-4939-83c4-1ad28bf1592e",
   "metadata": {},
   "outputs": [],
   "source": [
    "client = Client(n_workers=4, memory_limit=\"auto\")\n",
    "client"
   ]
  },
  {
   "cell_type": "code",
   "execution_count": null,
   "id": "8520df60-167d-42f8-bc2c-e771d4ff75bd",
   "metadata": {},
   "outputs": [],
   "source": [
    "ztf_object_path = \"https://data.lsdb.io/hats/ztf_dr22/ztf_lc\"\n",
    "ztf_object = lsdb.read_hats(ztf_object_path)\n",
    "ztf_object"
   ]
  },
  {
   "cell_type": "markdown",
   "id": "9a573c7c",
   "metadata": {},
   "source": [
    "## 2. Selecting data by column query\n",
    "\n",
    "We filter by column values via `query()`.\n",
    "\n",
    "The expression inside () follows the same syntax accepted by Pandas `.query()`, which supports a subset of Python expressions for filtering DataFrames.\n",
    "\n",
    "The column names that are not valid Python variables names should be wrapped in backticks, and any variable values can be injected using f-strings. The use of '@' to reference variables is not supported.\n",
    "\n",
    "More information about Pandas query strings is available [here](https://pandas.pydata.org/docs/reference/api/pandas.DataFrame.query.html)."
   ]
  },
  {
   "cell_type": "code",
   "execution_count": null,
   "id": "faf3d43b",
   "metadata": {},
   "outputs": [],
   "source": [
    "ztf_object.query(\"mean_mag_i < 16\")"
   ]
  },
  {
   "cell_type": "markdown",
   "id": "1594babc-7ce7-4b9c-ae63-424f3e863059",
   "metadata": {},
   "source": [
    "## 3. Previewing part of the data\n",
    "\n",
    "Computing an entire catalog requires loading all of its resulting data into memory, which is expensive and may lead to out-of-memory issues. \n",
    "\n",
    "Often, our goal is to have a peek at a slice of data to make sure the workflow output is reasonable (e.g., to assess if some new created columns are present and their values have been properly processed). `head()` is a pandas-like method which allows us to preview part of the data for this purpose. It iterates over the existing catalog partitions, in sequence, and finds up to `n` number of rows.\n",
    "\n",
    "Notice that this method implicitly calls `compute()`."
   ]
  },
  {
   "cell_type": "code",
   "execution_count": null,
   "id": "2d5fc9b4-169a-4478-846b-31dd50fba816",
   "metadata": {},
   "outputs": [],
   "source": [
    "ztf_object.head()"
   ]
  },
  {
   "cell_type": "markdown",
   "id": "81bb9203-005e-4b68-b3f7-76225cbcbbcb",
   "metadata": {},
   "source": [
    "## Closing the Dask client"
   ]
  },
  {
   "cell_type": "code",
   "execution_count": null,
   "id": "32b90716-d4b3-4a51-8838-44af2ea89703",
   "metadata": {},
   "outputs": [],
   "source": [
    "client.close()"
   ]
  },
  {
   "cell_type": "markdown",
   "id": "57f3b200",
   "metadata": {},
   "source": [
    "## About\n",
    "\n",
    "**Authors**: Sandro Campos and Melissa DeLucchi\n",
    "\n",
    "**Last updated on**: April 14, 2025\n",
    "\n",
    "If you use `lsdb` for published research, please cite following [instructions](https://docs.lsdb.io/en/stable/citation.html)."
   ]
  },
  {
   "cell_type": "markdown",
   "id": "f62e2002",
   "metadata": {},
   "source": []
  }
 ],
 "metadata": {
  "kernelspec": {
   "display_name": "hats",
   "language": "python",
   "name": "python3"
  },
  "language_info": {
   "codemirror_mode": {
    "name": "ipython",
    "version": 3
   },
   "file_extension": ".py",
   "mimetype": "text/x-python",
   "name": "python",
   "nbconvert_exporter": "python",
   "pygments_lexer": "ipython3",
   "version": "3.12.3"
  }
 },
 "nbformat": 4,
 "nbformat_minor": 5
}
