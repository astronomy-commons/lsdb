{
 "cells": [
  {
   "cell_type": "markdown",
   "id": "cb1cb6a4-a0bc-44f2-ae48-d4de23e14c56",
   "metadata": {
    "tags": []
   },
   "source": [
    "# The Catalog Object\n",
    "\n",
    "\n",
    "## Learning Objectives\n",
    "\n",
    "In this tutorial, we will discuss the purpose and scope of the `Catalog` object in an LSDB pipeline.\n",
    "\n",
    "TODO - Help wanted\n",
    "\n",
    "https://github.com/astronomy-commons/lsdb/issues/661"
   ]
  },
  {
   "cell_type": "markdown",
   "id": "ebe8b921",
   "metadata": {},
   "source": [
    "## Introduction\n",
    "\n",
    "The `Catalog` object encapsulates all of the information that LSDB knows about the survey data, and is the basis for providing operations on the underlying catalog data.\n",
    "\n",
    "There are two primary types of catalog data that the `Catalog` object exposes:\n",
    "1. high-level metadata: number of partitions of data, sky coverage, provenance information, basic aggregate statistics about the data.\n",
    "1. leaf-level tabular data: the parquet files with objects and/or observations.\n"
   ]
  },
  {
   "cell_type": "markdown",
   "id": "c2606cc9-648a-49ac-bbe6-17dfe1f9309f",
   "metadata": {
    "tags": []
   },
   "source": [
    "## 1. Load a catalog\n",
    "\n",
    "We create a basic dask client, and load an existing HATS catalog - the ZTF DR22 catalog.\n",
    "\n",
    "The catalog has been loaded lazily: we can see its metadata, but no actual data is there yet.\n",
    "\n",
    "We will be defining more operations in this notebook. Only when we call `compute()` on the resulting catalog are operations executed; i.e., data is loaded from leaf parquet files on disk into memory for processing."
   ]
  },
  {
   "cell_type": "raw",
   "id": "2225843f",
   "metadata": {
    "raw_mimetype": "text/restructuredtext",
    "vscode": {
     "languageId": "raw"
    }
   },
   "source": [
    ".. nbinfo::    Additional Help \n",
    "    \n",
    "    For additional information on dask client creation, please refer to the \n",
    "    `official Dask documentation <https://distributed.dask.org/en/latest/client.html>`__ \n",
    "    and our :doc:`Dask cluster configuration </tutorials/dask-cluster-tips>` page for LSDB-specific tips. \n",
    "    Note that dask also provides its own `best practices <https://docs.dask.org/en/stable/best-practices.html>`__, which may also be useful to consult.\n",
    "    \n",
    "    For tips on accessing remote data, see our :doc:`Accessing remote data tutorial </tutorials/remote_data>`"
   ]
  },
  {
   "cell_type": "code",
   "execution_count": null,
   "id": "4bb2d314-32c8-4705-b980-f424ede22af1",
   "metadata": {},
   "outputs": [],
   "source": [
    "import lsdb\n",
    "from dask.distributed import Client"
   ]
  },
  {
   "cell_type": "code",
   "execution_count": null,
   "id": "e16078b4-47b8-4939-83c4-1ad28bf1592e",
   "metadata": {},
   "outputs": [],
   "source": [
    "client = Client(n_workers=4, memory_limit=\"auto\")\n",
    "client"
   ]
  },
  {
   "cell_type": "code",
   "execution_count": null,
   "id": "ba169c5c",
   "metadata": {},
   "outputs": [],
   "source": [
    "ztf_object_path = \"https://data.lsdb.io/hats/ztf_dr22/ztf_lc\"\n",
    "ztf_object = lsdb.read_hats(ztf_object_path)\n",
    "ztf_object"
   ]
  },
  {
   "cell_type": "markdown",
   "id": "f976eabd",
   "metadata": {},
   "source": [
    "## 2. Basic catalog inspection\n",
    "\n",
    "The natural next step once you have a link to your catalog is to understand what kind of data is inside your catalog.\n",
    "\n",
    "First, we will generate a basic plot showing the sky coverage of the catalog. ZTF is a northern hemisphere survey, and so we only see data filled in for regions where celestial `ra > -30 deg`. The lighter areas in the plot suggest the shape of the galactic plane.\n",
    "\n",
    "NOTE: The darker blue/green areas represent larger angular area regions, where there are fewer observables. The yellow areas are instead more photometrically dense regions, where the partitions have a smaller angular area. This is fundamental to the HATS format. "
   ]
  },
  {
   "cell_type": "code",
   "execution_count": null,
   "id": "8520df60-167d-42f8-bc2c-e771d4ff75bd",
   "metadata": {},
   "outputs": [],
   "source": [
    "ztf_object.plot_pixels()"
   ]
  },
  {
   "cell_type": "markdown",
   "id": "9061e278-b55b-433a-af34-45b31d5295cc",
   "metadata": {},
   "source": [
    "We can also get an idea of the kind of data that's stored in the catalog, by looking at the `columns` and `dtypes`."
   ]
  },
  {
   "cell_type": "code",
   "execution_count": null,
   "id": "dbdf2091",
   "metadata": {},
   "outputs": [],
   "source": [
    "ztf_object.columns"
   ]
  },
  {
   "cell_type": "code",
   "execution_count": null,
   "id": "985ea144",
   "metadata": {},
   "outputs": [],
   "source": [
    "ztf_object.dtypes"
   ]
  },
  {
   "cell_type": "markdown",
   "id": "47018199",
   "metadata": {},
   "source": [
    "We can see how many objects are in the catalog, again without needing to scan the entire dataset."
   ]
  },
  {
   "cell_type": "code",
   "execution_count": null,
   "id": "162f2f4d",
   "metadata": {},
   "outputs": [],
   "source": [
    "len(ztf_object)"
   ]
  },
  {
   "cell_type": "markdown",
   "id": "1594babc-7ce7-4b9c-ae63-424f3e863059",
   "metadata": {},
   "source": [
    "## 3. Previewing part of the data\n",
    "\n",
    "Computing an entire catalog requires loading all of its resulting data into memory, which is expensive and may lead to out-of-memory issues. \n",
    "\n",
    "Often, our goal is to have a peek at a slice of data to make sure the workflow output is reasonable (e.g., to assess if some new created columns are present and their values have been properly processed). `head()` is a pandas-like method which allows us to preview part of the data for this purpose. It iterates over the existing catalog partitions, in sequence, and finds up to `n` number of rows.\n",
    "\n",
    "Notice that this method implicitly calls `compute()`."
   ]
  },
  {
   "cell_type": "code",
   "execution_count": null,
   "id": "2d5fc9b4-169a-4478-846b-31dd50fba816",
   "metadata": {},
   "outputs": [],
   "source": [
    "ztf_object.head()"
   ]
  },
  {
   "cell_type": "markdown",
   "id": "2233de79-1dc4-4737-a5a9-794e8f1c3d9b",
   "metadata": {},
   "source": [
    "By default, the first 5 rows of data will be shown, but we can specify a higher number if we need."
   ]
  },
  {
   "cell_type": "code",
   "execution_count": null,
   "id": "51bbd640-a1c9-4da2-a672-b18080e3dc27",
   "metadata": {},
   "outputs": [],
   "source": [
    "ztf_object.head(n=10)"
   ]
  },
  {
   "cell_type": "markdown",
   "id": "81bb9203-005e-4b68-b3f7-76225cbcbbcb",
   "metadata": {},
   "source": [
    "## Closing the Dask client"
   ]
  },
  {
   "cell_type": "code",
   "execution_count": null,
   "id": "32b90716-d4b3-4a51-8838-44af2ea89703",
   "metadata": {},
   "outputs": [],
   "source": [
    "client.close()"
   ]
  },
  {
   "cell_type": "markdown",
   "id": "baeaaad6",
   "metadata": {},
   "source": [
    "## About\n",
    "\n",
    "**Authors**: Sandro Campos and Melissa DeLucchi\n",
    "\n",
    "**Last updated on**: April 14, 2025\n",
    "\n",
    "If you use `lsdb` for published research, please cite following [instructions](https://docs.lsdb.io/en/stable/citation.html)."
   ]
  }
 ],
 "metadata": {
  "kernelspec": {
   "display_name": "hats",
   "language": "python",
   "name": "python3"
  },
  "language_info": {
   "codemirror_mode": {
    "name": "ipython",
    "version": 3
   },
   "file_extension": ".py",
   "mimetype": "text/x-python",
   "name": "python",
   "nbconvert_exporter": "python",
   "pygments_lexer": "ipython3",
   "version": "3.12.3"
  }
 },
 "nbformat": 4,
 "nbformat_minor": 5
}
