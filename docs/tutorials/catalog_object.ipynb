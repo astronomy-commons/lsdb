{
 "cells": [
  {
   "cell_type": "markdown",
   "id": "e3dd06f723046ce0",
   "metadata": {
    "editable": true,
    "slideshow": {
     "slide_type": ""
    },
    "tags": []
   },
   "source": [
    "# The Catalog Object\n",
    "\n",
    "\n",
    "## Learning Objectives\n",
    "\n",
    "In this tutorial, you will learn:\n",
    "\n",
    "- The purpose and scope of the `Catalog` object in an LSDB pipeline.\n",
    "- How to load catalogs in LSDB and inspect their metadata."
   ]
  },
  {
   "cell_type": "markdown",
   "id": "a4711817c0f5acc9",
   "metadata": {
    "editable": true,
    "slideshow": {
     "slide_type": ""
    },
    "tags": []
   },
   "source": [
    "## Introduction\n",
    "\n",
    "The `Catalog` object encapsulates all of the information that LSDB knows about an astronomical catalog, and is the basis for performing operations on the underlying catalog data.\n",
    "\n",
    "There are two types of catalog data that the `Catalog` object exposes:\n",
    "1. high-level metadata: The columns and table schema of the catalog, the number of partitions of data, sky coverage, provenance information, basic aggregate statistics about the data.\n",
    "1. leaf-level tabular data: the full rows of data from the objects and/or observations in the catalog.\n"
   ]
  },
  {
   "cell_type": "markdown",
   "id": "c563eea96a0e84f9",
   "metadata": {},
   "source": [
    "## 1. Getting Data into LSDB\n",
    "\n",
    "The simplest way to load a catalog in LSDB is to call `lsdb.open_catalog()` with a path to a catalog in the HATS format. This will return a `Catalog` object with all the high level metadata loaded that LSDB needs to enable you to work with the catalog. We recommend you to visit our website, [data.lsdb.io](https://data.lsdb.io), where you are able to find large surveys in HATS format publicly available to use. If you're looking for how to get your own external data into LSDB, see the topic [Import Catalogs](import_catalogs.html) instead.\n",
    "\n",
    "Let's open GAIA DR3 as an example and take a look at the object we get back."
   ]
  },
  {
   "cell_type": "code",
   "execution_count": null,
   "id": "55100ecde256bd35",
   "metadata": {
    "editable": true,
    "slideshow": {
     "slide_type": ""
    },
    "tags": []
   },
   "outputs": [],
   "source": [
    "import lsdb"
   ]
  },
  {
   "cell_type": "code",
   "execution_count": null,
   "id": "31e5b70130084887",
   "metadata": {},
   "outputs": [],
   "source": [
    "gaia_path = \"https://data.lsdb.io/hats/gaia_dr3\"\n",
    "gaia = lsdb.open_catalog(gaia_path)\n",
    "gaia"
   ]
  },
  {
   "cell_type": "raw",
   "id": "ac36546f45fb5256",
   "metadata": {
    "editable": true,
    "raw_mimetype": "text/restructuredtext",
    "slideshow": {
     "slide_type": ""
    },
    "tags": []
   },
   "source": [
    ".. nbinfo::    Additional Help\n",
    "\n",
    "    For tips on accessing remote data, see our :doc:`Accessing remote data tutorial </tutorials/remote_data>`"
   ]
  },
  {
   "cell_type": "markdown",
   "id": "76882a68c3e07f7f",
   "metadata": {
    "editable": true,
    "slideshow": {
     "slide_type": ""
    },
    "tags": []
   },
   "source": [
    "The Gaia catalog is very wide so you would be requesting its whole set of >150 columns. We can see all of the columns available in the catalog by using the `all_columns` property."
   ]
  },
  {
   "cell_type": "code",
   "execution_count": null,
   "id": "56b4f8e0150b987a",
   "metadata": {
    "editable": true,
    "slideshow": {
     "slide_type": ""
    },
    "tags": []
   },
   "outputs": [],
   "source": [
    "gaia.all_columns[:10]  # Truncating the output to not display the whole list"
   ]
  },
  {
   "cell_type": "markdown",
   "id": "c48a32acd72d6cd7",
   "metadata": {
    "editable": true,
    "slideshow": {
     "slide_type": ""
    },
    "tags": []
   },
   "source": [
    "Note that it's important (and highly recommended) to:\n",
    "\n",
    "- **Pre-select a small subset of columns** that satisfies your scientific needs. Loading an unnecessarily large amount of data leads to computationally expensive and inefficient workflows. To see which columns are available, use the `catalog.all_columns` property, then load the catalog with only the necesarry columns.\n",
    "\n",
    "- **Load catalogs with their respective margin caches**, when available. These margins are necessary to obtain accurate results in several operations such as joining and crossmatching. If you're working with catalogs from [data.lsdb.io](https://data.lsdb.io), the margin cache will be included in the `open_catalog()` call for you to copy if it is available. For more information about margins please visit our [Margins](margins.ipynb) topic notebook.\n",
    "\n",
    "Let's define the set of columns we need and add the margin catalog's path to our `open_catalog` call."
   ]
  },
  {
   "cell_type": "code",
   "execution_count": null,
   "id": "d6985c640b8fefea",
   "metadata": {},
   "outputs": [],
   "source": [
    "gaia = lsdb.open_catalog(\n",
    "    \"https://data.lsdb.io/hats/gaia_dr3/gaia/\",\n",
    "    margin_cache=\"https://data.lsdb.io/hats/gaia_dr3/gaia_10arcs/\",\n",
    "    columns=[\n",
    "        \"source_id\",\n",
    "        \"ra\",\n",
    "        \"dec\",\n",
    "        \"phot_g_mean_mag\",\n",
    "        \"phot_proc_mode\",\n",
    "        \"azero_gspphot\",\n",
    "        \"classprob_dsc_combmod_star\",\n",
    "    ],\n",
    ")\n",
    "gaia"
   ]
  },
  {
   "cell_type": "markdown",
   "id": "619bd6787c90de31",
   "metadata": {},
   "source": [
    "When we look at the catalog's representation above, we can see all the columns that are in the catalog object along with their datatypes, and information about how HATS has partitioned the catalog. But there's one thing that we can't see: we haven't loaded any of the data yet! That's why we have the `...` as placeholders for the data, and the warning at the bottom. This is because LSDB's operations are what we call *lazy*: they don't actually perform any work on the data when you call them, they just plan out the pipeline of operations to be performed later. This is how LSDB can work on huge catalogs with billions of rows, and run on any scale of device from a laptop up to a supercomputer. To learn more about how Lazy operations work, take a look at our [lazy operations tutorial.](lazy_operations.html)"
   ]
  },
  {
   "cell_type": "markdown",
   "id": "1a408d48ec3894ae",
   "metadata": {},
   "source": [
    "## 2. Inspecting the Catalog metadata\n",
    "\n",
    "The natural next step once you have a catalog object is to explore the metadata that has been loaded to understand what kind of data is inside your catalog.\n",
    "\n",
    "First, we will generate a basic plot showing the sky coverage of the catalog. The `Catalog` object's `plot_pixels` method shows a plot of the HATS partitioning of the catalog. GAIA is a survey that covers the whole sky, so we see the whole sky covered in pixels. The colors of the pixels represent the pixel sizes. The main advantage of HATS partitioning is that the partitions all contain roughly the same amount of rows, so the smaller the pixels, the more dense the catalog is in that area. This explains why we see smaller pixels in the galactic bulge."
   ]
  },
  {
   "cell_type": "code",
   "execution_count": null,
   "id": "9aeb33343bab2503",
   "metadata": {},
   "outputs": [],
   "source": [
    "gaia.plot_pixels()"
   ]
  },
  {
   "cell_type": "markdown",
   "id": "5dd2b0adc86009af",
   "metadata": {},
   "source": [
    "We can also get an idea of the schema of data that's stored in the catalog, by looking at the `columns` and `dtypes`."
   ]
  },
  {
   "cell_type": "code",
   "execution_count": null,
   "id": "aa2526202f72d145",
   "metadata": {},
   "outputs": [],
   "source": [
    "gaia.columns"
   ]
  },
  {
   "cell_type": "code",
   "execution_count": null,
   "id": "726c76dddacc1b0a",
   "metadata": {},
   "outputs": [],
   "source": [
    "gaia.dtypes"
   ]
  },
  {
   "cell_type": "markdown",
   "id": "17dedb1442101e",
   "metadata": {},
   "source": [
    "The `columns` method shows the columns that have been loaded, and will be available to any operations on the catalog. You can still see all of the columns in the catalog by calling the `all_columns` method, but to use any of these columns that aren't in the `columns` the catalog will need to be opened again with these columns selected."
   ]
  },
  {
   "cell_type": "code",
   "execution_count": null,
   "id": "6f471c9cdf39cf0c",
   "metadata": {
    "editable": true,
    "slideshow": {
     "slide_type": ""
    },
    "tags": []
   },
   "outputs": [],
   "source": [
    "gaia.all_columns[:10]  # Truncating the output to not display the whole list"
   ]
  },
  {
   "cell_type": "markdown",
   "id": "8f39dc46325c5701",
   "metadata": {},
   "source": [
    "We can also see how many objects are in the catalog, which is another piece of metadata that is loaded by `open_catalog`."
   ]
  },
  {
   "cell_type": "code",
   "execution_count": null,
   "id": "5676cec916f8843c",
   "metadata": {},
   "outputs": [],
   "source": [
    "len(gaia)"
   ]
  },
  {
   "cell_type": "markdown",
   "id": "45cee86af0567a2",
   "metadata": {},
   "source": [
    "## Working with Catalog Data\n",
    "\n",
    "Now that we have a catalog object, we're ready to start planning and executing operations on the data! Our next tutorials will explain how that works and all the operations you can do with LSDB."
   ]
  },
  {
   "cell_type": "markdown",
   "id": "ffc00d440789594d",
   "metadata": {},
   "source": [
    "## About\n",
    "\n",
    "**Authors**: Sandro Campos, Melissa DeLucchi, and Sean McGuire\n",
    "\n",
    "**Last updated on**: Jun 26, 2025\n",
    "\n",
    "If you use `lsdb` for published research, please cite following [instructions](https://docs.lsdb.io/en/stable/citation.html)."
   ]
  }
 ],
 "metadata": {
  "kernelspec": {
   "display_name": "Python 3 (ipykernel)",
   "language": "python",
   "name": "python3"
  },
  "language_info": {
   "codemirror_mode": {
    "name": "ipython",
    "version": 3
   },
   "file_extension": ".py",
   "mimetype": "text/x-python",
   "name": "python",
   "nbconvert_exporter": "python",
   "pygments_lexer": "ipython3",
   "version": "3.11.10"
  }
 },
 "nbformat": 4,
 "nbformat_minor": 5
}
