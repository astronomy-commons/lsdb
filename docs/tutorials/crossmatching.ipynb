{
 "cells": [
  {
   "cell_type": "markdown",
   "id": "cb1cb6a4-a0bc-44f2-ae48-d4de23e14c56",
   "metadata": {
    "tags": []
   },
   "source": [
    "# Crossmatching Catalogs\n",
    "\n",
    "## Learning Objectives\n",
    "\n",
    "At the end of this tutorial, you will understand:\n",
    "\n",
    "- how to test a crossmatch by limiting inputs with cone searches and column selection\n",
    "- how to crossmatch objects between two catalogs by `ra` and `dec`\n",
    "- the importance of margin caches when crossmatching, and the default margin caches\n",
    "\n",
    "You should already have an understanding of:\n",
    "\n",
    "- how to open a catalog\n",
    "\n",
    "## Introduction\n",
    "\n",
    "To crossmatch two catalogs is to create a new catalog that contains columns from both inputs, with the rows aligned based on the geometric match of their `ra` and `dec` columns."
   ]
  },
  {
   "cell_type": "code",
   "execution_count": null,
   "id": "4bb2d314-32c8-4705-b980-f424ede22af1",
   "metadata": {},
   "outputs": [],
   "source": [
    "import lsdb\n",
    "from dask.distributed import Client"
   ]
  },
  {
   "cell_type": "markdown",
   "id": "c2606cc9-648a-49ac-bbe6-17dfe1f9309f",
   "metadata": {
    "tags": []
   },
   "source": [
    "## 1. Open a catalog\n",
    "\n",
    "We create a basic dask client, and open an existing HATS catalog—the ZTF DR14 catalog."
   ]
  },
  {
   "cell_type": "raw",
   "id": "2225843f",
   "metadata": {
    "raw_mimetype": "text/restructuredtext",
    "vscode": {
     "languageId": "raw"
    }
   },
   "source": [
    ".. nbinfo::\n",
    "    Additional Help \n",
    "    \n",
    "    For additional information on dask client creation, please refer to the \n",
    "    `official Dask documentation <https://distributed.dask.org/en/latest/client.html>`__ \n",
    "    and our :doc:`Dask cluster configuration </tutorials/dask-cluster-tips>` page for LSDB-specific tips. \n",
    "    Note that dask also provides its own `best practices <https://docs.dask.org/en/stable/best-practices.html>`__, which may also be useful to consult.\n",
    "    \n",
    "    For tips on accessing remote data, see our :doc:`Accessing remote data tutorial </tutorials/remote_data>`"
   ]
  },
  {
   "cell_type": "markdown",
   "id": "e016346d-bf3e-43eb-a988-ec975823b09f",
   "metadata": {},
   "source": [
    "Create a basic Dask client, limiting the number of workers. This keeps subsequent operations from using more of our compute resources than we might intend, which is helpful in any case but especially when working on a shared resource."
   ]
  },
  {
   "cell_type": "code",
   "execution_count": null,
   "id": "e16078b4-47b8-4939-83c4-1ad28bf1592e",
   "metadata": {},
   "outputs": [],
   "source": [
    "import warnings\n",
    "\n",
    "# Suppress the specific warning about Dask dashboard port usage.\n",
    "# Uncomment this if you want to attach to the Dask dashboard.\n",
    "# For the purposes of this tutorial, it's not necessary.\n",
    "warnings.filterwarnings(\"ignore\", message=\"Port 8787 is already in use.\")\n",
    "\n",
    "\n",
    "client = Client(n_workers=4, memory_limit=\"auto\")\n",
    "client"
   ]
  },
  {
   "cell_type": "markdown",
   "id": "03b3e3b7-2ed2-4901-8c85-bff0bcf9e765",
   "metadata": {},
   "source": [
    "We open two catalogs, ZTF DR22 and Gaia DR3.  Both of these are catalog *collections* on http://data.lsdb.io, and each of them has a default margin cache catalog that is implicitly loaded.  The margin cache is important for crossmatching, as it will help with cases when objects of interest are right at the edge of the catalog pixels."
   ]
  },
  {
   "cell_type": "code",
   "execution_count": null,
   "id": "8520df60-167d-42f8-bc2c-e771d4ff75bd",
   "metadata": {},
   "outputs": [],
   "source": [
    "ztf22 = lsdb.open_catalog(\n",
    "    \"https://data.lsdb.io/hats/ztf_dr22\",\n",
    ")\n",
    "\n",
    "gaia3 = lsdb.open_catalog(\n",
    "    \"https://data.lsdb.io/hats/gaia_dr3\",\n",
    ")"
   ]
  },
  {
   "cell_type": "code",
   "execution_count": null,
   "id": "6948d7c4-1d05-470b-aafa-af575dc1b5cf",
   "metadata": {},
   "outputs": [],
   "source": [
    "display(ztf22.columns)\n",
    "display(gaia3.columns)"
   ]
  },
  {
   "cell_type": "code",
   "execution_count": null,
   "id": "f8e70c74-f483-40f8-889c-1da2fcd828f8",
   "metadata": {},
   "outputs": [],
   "source": [
    "ztf22"
   ]
  },
  {
   "cell_type": "markdown",
   "id": "1594babc-7ce7-4b9c-ae63-424f3e863059",
   "metadata": {},
   "source": [
    "### 1.1 Will these catalogs have any overlap at all?\n",
    "\n",
    "To find an area of the sky where we know that crossmatching will succeed, we can use `.plot_pixels()` to get a quick view of the sky coverage for each catalog."
   ]
  },
  {
   "cell_type": "code",
   "execution_count": null,
   "id": "68e81370-5909-40a7-a0b1-4b279b2db65d",
   "metadata": {},
   "outputs": [],
   "source": [
    "ztf22.plot_pixels()"
   ]
  },
  {
   "cell_type": "code",
   "execution_count": null,
   "id": "963cc8e0-8fb2-48a0-bdd8-dcad39f9108e",
   "metadata": {},
   "outputs": [],
   "source": [
    "gaia3.plot_pixels()"
   ]
  },
  {
   "cell_type": "markdown",
   "id": "29832758-1b65-4a95-8d5f-52456627604a",
   "metadata": {},
   "source": [
    "Yes, looks like they will, above `dec=-30`.\n",
    "\n",
    "## 1.2 Work with small sections of the catalogs first\n",
    "\n",
    "Before firing up the whole compute cluster to match both catalogs, it's good practice to choose a small\n",
    "section of each catalog first, greatly limiting both I/O and compute.  We can limit *spatially* by using\n",
    "a search filter such as a cone search or box search, and can limit *structurally* by only loading\n",
    "columns of interest.\n",
    "\n",
    "Let's use a cone search to isolate a tiny part of both catalogs in the same area, so that we can test our crossmatch.  We'll set the search filters of both catalogs to `lsdb.ConeSearch(280, 0, radius_arcsec=36)`.\n",
    "\n",
    "We'll use the suffix `_sm` (small) to distinguish these from the full catalog."
   ]
  },
  {
   "cell_type": "code",
   "execution_count": null,
   "id": "675375f0-7247-4910-b013-172836935a90",
   "metadata": {},
   "outputs": [],
   "source": [
    "ztf22_sm = lsdb.open_catalog(\n",
    "    \"https://data.lsdb.io/hats/ztf_dr22\",\n",
    "    columns=[\"objectid\", \"objra\", \"objdec\", \"nepochs\", \"hmjd\", \"mag\", \"magerr\"],\n",
    "    search_filter=lsdb.ConeSearch(280, 0, radius_arcsec=36),\n",
    ")\n",
    "ztf22_sm"
   ]
  },
  {
   "cell_type": "markdown",
   "id": "12c3a041-1afb-4d90-9f90-3ac4a5348837",
   "metadata": {},
   "source": [
    "## 1.3 Nesting columns with list data\n",
    "\n",
    "Note that ZTF DR22 has lightcurve data stored as lists under each column.  To access and crossmatch these efficiently, we will use `.nest_lists` to arrange these lists into a single \"nest\" in the catalog.\n",
    "\n",
    "Three of the loaded columns in `ztf_lc` are of type `list`, so let's put those lists into a nest\n",
    "named `lc`, to make them more tractable."
   ]
  },
  {
   "cell_type": "code",
   "execution_count": null,
   "id": "4aea0903-4726-485a-a7bd-fa791e1b8dbf",
   "metadata": {},
   "outputs": [],
   "source": [
    "ztf22_sm = ztf22_sm.nest_lists(\n",
    "    list_columns=[\"hmjd\", \"mag\", \"magerr\"],\n",
    "    name=\"lc\",\n",
    ")\n",
    "ztf22_sm"
   ]
  },
  {
   "cell_type": "markdown",
   "id": "976f91ea",
   "metadata": {},
   "source": [
    "This small version, which we call `ztf22_sm`, occupies only one partition.\n",
    "Pulling this into memory with `.compute()` won't take too long.\n",
    "\n",
    "We're interested in seeing how many *objects* are in our chosen cone search.\n",
    "While the number of rows is a fairly reliable proxy, the `set()` of identifiers\n",
    "will be the most accurate, especially once we create the crossmatch catalog."
   ]
  },
  {
   "cell_type": "code",
   "execution_count": null,
   "id": "5ee954c7-faed-4e00-9abc-cd1b03bab7af",
   "metadata": {},
   "outputs": [],
   "source": [
    "%%time\n",
    "ztf_cone_objs = ztf22_sm[\"objectid\"].compute()\n",
    "print(\"Rows in the ZTF cone search:\", len(ztf_cone_objs))\n",
    "print(\"Unique ZTF objects in the cone:\", len(set(ztf_cone_objs)))"
   ]
  },
  {
   "cell_type": "markdown",
   "id": "333b7325",
   "metadata": {},
   "source": [
    "## 1.4 Viewing the objects within the cone searches\n",
    "\n",
    "We can plot these points graphically:"
   ]
  },
  {
   "cell_type": "code",
   "execution_count": null,
   "id": "92dcd8dd",
   "metadata": {},
   "outputs": [],
   "source": [
    "%%time\n",
    "from astropy.coordinates import SkyCoord\n",
    "import astropy.units as u\n",
    "\n",
    "# Center our view on the cone.\n",
    "center = SkyCoord(280 * u.deg, 0 * u.deg)\n",
    "fov = (1 * u.arcmin, 1 * u.arcmin)\n",
    "\n",
    "ztf22_sm.plot_points(center=center, fov=fov)"
   ]
  },
  {
   "cell_type": "markdown",
   "id": "62f2b9be",
   "metadata": {},
   "source": [
    "Now let's treat the Gaia catalog the same way, using the same small cone search, and\n",
    "selecting only a few columns of interest.  Again, we'll use the suffix `_sm` for \"small\":"
   ]
  },
  {
   "cell_type": "code",
   "execution_count": null,
   "id": "caf1d709-df0e-4781-88a4-9c0245a572b8",
   "metadata": {},
   "outputs": [],
   "source": [
    "gaia3_sm = lsdb.open_catalog(\n",
    "    \"https://data.lsdb.io/hats/gaia_dr3\",\n",
    "    columns=[\"source_id\", \"ra\", \"dec\", \"parallax\", \"phot_g_n_obs\", \"phot_g_mean_mag\"],\n",
    "    search_filter=lsdb.ConeSearch(280, 0, radius_arcsec=36),\n",
    ")\n",
    "gaia3_sm"
   ]
  },
  {
   "cell_type": "code",
   "execution_count": null,
   "id": "cef0f639-8b34-4ffc-a8f2-e474dde53682",
   "metadata": {},
   "outputs": [],
   "source": [
    "%%time\n",
    "gaia_cone_objs = gaia3_sm[\"source_id\"].compute()\n",
    "print(\"Rows in the Gaia cone search:\", len(gaia_cone_objs))\n",
    "print(\"Unique Gaia objects in the cone:\", len(set(gaia_cone_objs)))"
   ]
  },
  {
   "cell_type": "code",
   "execution_count": null,
   "id": "8f178680",
   "metadata": {},
   "outputs": [],
   "source": [
    "%%time\n",
    "gaia3_sm.plot_points(center=center, fov=fov)"
   ]
  },
  {
   "cell_type": "markdown",
   "id": "dd83de9f",
   "metadata": {},
   "source": [
    "We can see that the Gaia catalog is much more sparse than the ZTF catalog, having\n",
    "almost a tenth of the objects for the same area of the sky."
   ]
  },
  {
   "cell_type": "markdown",
   "id": "80d0a498",
   "metadata": {},
   "source": [
    "# 2. Perform the crossmatch on the small catalogs\n",
    "\n",
    "The default crossmatch algorithm is the `KdTreeCrossmatch`, and it is performed in a manner similar\n",
    "to an inner join, in that the resulting catalog will only have rows containing objects that exist\n",
    "in both catalogs.\n",
    "\n",
    "# 2.1 Effect of ordering on crossmatching\n",
    "\n",
    "However, this doesn't mean that the order of the catalogs doesn't matter.  As we'll see,\n",
    "`gaia X ztf` gives us different results than `ztf X gaia`, even though the unique objects\n",
    "from the two catalogs participating in the crossmatch remain the same.\n",
    "\n",
    "The algorithm takes each object in the left catalog and finds the closest spatial match\n",
    "from the right catalog.  If this left catalog is *denser*, this means that more than one\n",
    "object in the left may match the same object on the right.  If the left catalog is\n",
    "*sparser*, the result will have fewer rows, as in the next example.\n",
    "\n",
    "## 2.1.1 gaia X ztf (sparser on the left)\n",
    "\n",
    "We'll start by matching Gaia against ZTF, or `gaia X ztf`.  Note that `gaia_x_ztf` will be the\n",
    "uncomputed catalog, and we'll use the prefix `c_`, or `c_gaia_x_ztf` to indicate the computed\n",
    "result.  The computed result from this small crossmatch will fit easily in memory, and it will\n",
    "be a Pandas DataFrame."
   ]
  },
  {
   "cell_type": "code",
   "execution_count": null,
   "id": "0430b2ba-b7cb-4350-b8c2-acb6b0e3da44",
   "metadata": {},
   "outputs": [],
   "source": [
    "%%time\n",
    "gaia_x_ztf = gaia3_sm.crossmatch(ztf22_sm)\n",
    "c_gaia_x_ztf = gaia_x_ztf.compute()\n",
    "c_gaia_x_ztf"
   ]
  },
  {
   "cell_type": "markdown",
   "id": "774b94fc",
   "metadata": {},
   "source": [
    "Note that the crossmatch catalog's columns include:\n",
    "\n",
    "  * all the columns from Gaia, suffixed with `_gaia`\n",
    "  * all the columns from ZTF, suffixed with `_ztf_lc`\n",
    "  * a new column, `_dist_arcsec`, which gives the shortest (great circle) distance between the two matched objects in each row, in arcseconds\n",
    "  \n",
    "**NOTE:** The catalog identifiers `gaia` and `ztf_lc` come from the `.name` properties of the two input catalogs.  The `suffixes=` argument of `.crossmatch` can be used to override these."
   ]
  },
  {
   "cell_type": "code",
   "execution_count": null,
   "id": "e64cce80-89f2-4d38-9d12-aff01933bc92",
   "metadata": {},
   "outputs": [],
   "source": [
    "c_gaia_x_ztf[\"_dist_arcsec\"].sort_values()"
   ]
  },
  {
   "cell_type": "markdown",
   "id": "b6898e2c",
   "metadata": {},
   "source": [
    "Earlier, we plotted the points for both of the input catalogs.  We can plot the points of the output\n",
    "catalog, now, to see how well the crossmatch aligned.  Since each row contains the combination of columns\n",
    "from both input catalogs, each row includes the (ra, dec) points from each source catalog,\n",
    "for each row representing a match.\n",
    "\n",
    "In our case, this means `(ra_gaia, dec_gaia)` and `(objra_ztf_lc, objdec_ztf_lc)`.\n",
    "\n",
    "**NOTE:** we are using the *catalog objects*, not the *computed results*, for the plotting, because `.plot_points()`\n",
    "is a method on the catalog, not on the Pandas DataFrame.\n",
    "\n",
    "**NOTE:** See https://docs.lsdb.io/en/stable/tutorials/pre_executed/plotting.html for this trick as well as others."
   ]
  },
  {
   "cell_type": "code",
   "execution_count": null,
   "id": "ebef2483",
   "metadata": {},
   "outputs": [],
   "source": [
    "%%time\n",
    "\n",
    "# First the Gaia points\n",
    "gaia_x_ztf.plot_points(\n",
    "    ra_column=\"ra_gaia\",\n",
    "    dec_column=\"dec_gaia\",\n",
    "    center=center,\n",
    "    fov=fov,\n",
    "    c=\"red\",\n",
    "    marker=\"x\",\n",
    "    s=40,\n",
    "    label=\"gaia points\",\n",
    ")\n",
    "\n",
    "gaia_x_ztf.plot_points(\n",
    "    ra_column=\"objra_ztf_lc\",\n",
    "    dec_column=\"objdec_ztf_lc\",\n",
    "    # Can skip the center & fov args here, since this is an overlay\n",
    "    c=\"green\",\n",
    "    marker=\"+\",\n",
    "    s=30,\n",
    "    label=\"ztf points\",\n",
    ")"
   ]
  },
  {
   "cell_type": "markdown",
   "id": "529b2537",
   "metadata": {},
   "source": [
    "## 2.1.2 ztf X gaia (denser on the left)\n",
    "\n",
    "Now let's crossmatch the same catalogs, but switching the left and right catalog.  Now we have the\n",
    "denser catalog on the left.\n",
    "\n",
    "The algorithm is, in pseudocode:\n",
    "\n",
    "```\n",
    "for every point in the left catalog:\n",
    "    find the closest match in the right catalog\n",
    "```\n",
    "\n",
    "When there are more points in the left catalog than in the right, as in this case, each object in\n",
    "the right catalog will get matched to more than one object in the left."
   ]
  },
  {
   "cell_type": "code",
   "execution_count": null,
   "id": "b36c1cd7-9848-49f8-a76f-ed6413292caa",
   "metadata": {},
   "outputs": [],
   "source": [
    "ztf_x_gaia = ztf22_sm.crossmatch(gaia3_sm)\n",
    "ztf_x_gaia"
   ]
  },
  {
   "cell_type": "code",
   "execution_count": null,
   "id": "95629d39-0c8c-4d2b-8b85-9a5551db4142",
   "metadata": {},
   "outputs": [],
   "source": [
    "%%time\n",
    "c_ztf_x_gaia = ztf_x_gaia.compute()\n",
    "c_ztf_x_gaia"
   ]
  },
  {
   "cell_type": "markdown",
   "id": "d6d948d6",
   "metadata": {},
   "source": [
    "47 matches in this case, vs 16 matches in the first case.  Let's look at the plot again:"
   ]
  },
  {
   "cell_type": "code",
   "execution_count": null,
   "id": "40ec4bec",
   "metadata": {},
   "outputs": [],
   "source": [
    "%%time\n",
    "\n",
    "# First the ZTF points\n",
    "ztf_x_gaia.plot_points(\n",
    "    ra_column=\"objra_ztf_lc\",\n",
    "    dec_column=\"objdec_ztf_lc\",\n",
    "    center=center,\n",
    "    fov=fov,\n",
    "    c=\"red\",\n",
    "    marker=\"x\",\n",
    "    s=30,\n",
    "    label=\"ztf points\",\n",
    ")\n",
    "\n",
    "# Then the Gaia points\n",
    "ztf_x_gaia.plot_points(\n",
    "    ra_column=\"ra_gaia\",\n",
    "    dec_column=\"dec_gaia\",\n",
    "    # Can skip the center & fov args here, since this is an overlay\n",
    "    c=\"green\",\n",
    "    marker=\"+\",\n",
    "    s=40,\n",
    "    label=\"gaia points\",\n",
    ")"
   ]
  },
  {
   "cell_type": "markdown",
   "id": "a243a560-379c-40c0-97ef-8de7198fd02f",
   "metadata": {},
   "source": [
    "There are several red `x` markers (left) for each green `+` marker (right).\n",
    "\n",
    "And yet, out of the 129 points in the ZTF cone, only 47 of those could be considered matches at all;\n",
    "the other 82 aren't even candidates."
   ]
  },
  {
   "cell_type": "markdown",
   "id": "bf875645",
   "metadata": {},
   "source": [
    "## 2.2 Effect of `n_neighbors`\n",
    "\n",
    "One of the arguments to `.crossmatch` is `n_neighbors`, which defaults to `1`, meaning that for each\n",
    "object in the left catalog, we're looking for one best match from the right catalog.\n",
    "\n",
    "But we can look for more than one best match.  By increasing this argument, we can get gaia X ztf to\n",
    "produce the same results as ztf X gaia."
   ]
  },
  {
   "cell_type": "code",
   "execution_count": null,
   "id": "81e08e71",
   "metadata": {},
   "outputs": [],
   "source": [
    "gaia_x_ztf_n10 = gaia3_sm.crossmatch(ztf22_sm, n_neighbors=10)\n",
    "c_gaia_x_ztf_n10 = gaia_x_ztf_n10.compute()\n",
    "len(c_gaia_x_ztf_n10)"
   ]
  },
  {
   "cell_type": "markdown",
   "id": "f25d258c",
   "metadata": {},
   "source": [
    "47 results, just like ztf x gaia with `n_neighbors=1`."
   ]
  },
  {
   "cell_type": "markdown",
   "id": "3502993c",
   "metadata": {},
   "source": [
    "## 2.3 Verifying object identifiers\n",
    "\n",
    "Converting the catalog identifiers from the crossmatches to Python sets makes it easy to\n",
    "verify that we've got not only the right count but the same results.  We're showing that\n",
    "the computed gaia X ztf crossmatch with 10 neighbors produces the same set of results\n",
    "as the computed ztf X gaia crossmatch with 1 neighbor."
   ]
  },
  {
   "cell_type": "code",
   "execution_count": null,
   "id": "42c12a65",
   "metadata": {},
   "outputs": [],
   "source": [
    "set(c_gaia_x_ztf_n10[[\"source_id_gaia\", \"objectid_ztf_lc\"]]) == set(\n",
    "    c_ztf_x_gaia[[\"source_id_gaia\", \"objectid_ztf_lc\"]]\n",
    ")"
   ]
  },
  {
   "cell_type": "markdown",
   "id": "81bb9203-005e-4b68-b3f7-76225cbcbbcb",
   "metadata": {},
   "source": [
    "## Closing the Dask client"
   ]
  },
  {
   "cell_type": "code",
   "execution_count": null,
   "id": "32b90716-d4b3-4a51-8838-44af2ea89703",
   "metadata": {},
   "outputs": [],
   "source": [
    "client.close()"
   ]
  },
  {
   "cell_type": "markdown",
   "id": "57f3b200",
   "metadata": {},
   "source": [
    "## About\n",
    "\n",
    "**Authors**: Derek Jones\n",
    "\n",
    "**Last updated on**:  June 4, 2025\n",
    "\n",
    "If you use `lsdb` for published research, please cite following [instructions](https://docs.lsdb.io/en/stable/citation.html)."
   ]
  },
  {
   "cell_type": "markdown",
   "id": "f62e2002",
   "metadata": {},
   "source": []
  }
 ],
 "metadata": {
  "kernelspec": {
   "display_name": "Python 3 (ipykernel)",
   "language": "python",
   "name": "python3"
  },
  "language_info": {
   "codemirror_mode": {
    "name": "ipython",
    "version": 3
   },
   "file_extension": ".py",
   "mimetype": "text/x-python",
   "name": "python",
   "nbconvert_exporter": "python",
   "pygments_lexer": "ipython3",
   "version": "3.12.9"
  }
 },
 "nbformat": 4,
 "nbformat_minor": 5
}
