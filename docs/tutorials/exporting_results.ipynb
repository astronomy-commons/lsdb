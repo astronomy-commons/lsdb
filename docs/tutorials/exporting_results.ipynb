{
 "cells": [
  {
   "cell_type": "markdown",
   "metadata": {},
   "source": [
    "# Exporting results\n",
    "\n",
    "You can save the catalogs that result from running your workflow to disk, in parquet format, using the `to_hipscat` call. \n",
    "\n",
    "You must provide a `base_catalog_path`, which is the output path for your catalog directory, and (optionally) a name for your catalog, `catalog_name`. The `catalog_name` is the catalog's internal name and therefore may differ from the catalog's base directory name. If the directory already exists and you want to overwrite its content set the `overwrite` flag to True. Do not forget to provide the necessary credentials, as `storage_options`, when trying to export the catalog to protected remote storage.\n",
    "\n",
    "For example, to save a catalog that contains the results of crossmatching Gaia with ZTF to `\"./my_catalogs/gaia_x_ztf\"` one could run:\n",
    "```python\n",
    "gaia_x_ztf_catalog.to_hipscat(base_catalog_path=\"./my_catalogs/gaia_x_ztf\", catalog_name=\"gaia_x_ztf\")\n",
    "```\n",
    "\n",
    "The HiPSCat catalogs on disk follow a well-defined directory structure:\n",
    "\n",
    "```\n",
    "gaia_x_ztf/\n",
    "├── N_order={}/\n",
    "│   ├── Dir={}/\n",
    "│   │   ├── Npix={}.parquet\n",
    "│   │   └── ...\n",
    "│   └── ...\n",
    "├── N_order={}/\n",
    "│   ├── Dir={}/\n",
    "│   │   ├── Npix={}.parquet\n",
    "│   │   └── ...\n",
    "│   └── ...\n",
    "├── _metadata\n",
    "├── _common_metadata\n",
    "├── catalog_info.json\n",
    "├── partition_info.csv\n",
    "└── provenance_info.json\n",
    "```\n",
    "\n",
    "The data is partitioned spatially and it is stored, in `parquet` format, according to the area of the respective partitions in the sky. Each parquet file represents a partition. The higher the `Norder` for a partition, the smaller it is in area. As a result, because partitions contain (approximately) the same number of points, those in a directory with a larger `Norder` hold data for denser regions of the sky. All this information is encoded in metadata files that exist at the root of our catalog."
   ]
  },
  {
   "cell_type": "markdown",
   "metadata": {},
   "source": []
  }
 ],
 "metadata": {
  "language_info": {
   "name": "python"
  }
 },
 "nbformat": 4,
 "nbformat_minor": 2
}
