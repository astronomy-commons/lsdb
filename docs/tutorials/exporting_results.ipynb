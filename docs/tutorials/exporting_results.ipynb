{
 "cells": [
  {
   "cell_type": "markdown",
   "metadata": {},
   "source": [
    "# Exporting results\n",
    "\n",
    "You can save the catalogs that result from running your workflow to disk, in parquet format, using the `to_hats` call. \n",
    "\n",
    "You must provide a `base_catalog_path`, which is the output path for your catalog directory, and (optionally) a name for your catalog, `catalog_name`. The `catalog_name` is the catalog's internal name and therefore may differ from the catalog's base directory name. If the directory already exists and you want to overwrite its content, set the `overwrite` flag to True. Do not forget to provide the necessary credentials, as `storage_options` to the UPath construction, when trying to export the catalog to protected remote storage.\n",
    "\n",
    "For example, to save a catalog that contains the results of crossmatching Gaia with ZTF to `\"./my_catalogs/gaia_x_ztf\"`, one could run:\n",
    "\n",
    "```python\n",
    "gaia_x_ztf_catalog.to_hats(base_catalog_path=\"./my_catalogs/gaia_x_ztf\", \n",
    "                           catalog_name=\"gaia_x_ztf\")\n",
    "```\n",
    "\n",
    "The HATS catalogs on disk follow a well-defined directory structure:\n",
    "\n",
    "```\n",
    "gaia_x_ztf/\n",
    "├── dataset\n",
    "│   ├── _common_metadata\n",
    "│   ├── _metadata\n",
    "│   ├── Norder={}/\n",
    "│   │   └── Dir={}/\n",
    "│   │       ├── Npix={}.parquet\n",
    "|   |       └── ...\n",
    "│   └── Norder={}/\n",
    "│       └── Dir={}/\n",
    "│           ├── Npix={}.parquet\n",
    "|           └── ...\n",
    "├── partition_info.csv\n",
    "├── point_map.fits\n",
    "└── properties\n",
    "```\n",
    "\n",
    "You can read more about the HATS formation on the [HATS ReadTheDocs](https://hats.readthedocs.io/en/stable/)."
   ]
  },
  {
   "cell_type": "markdown",
   "metadata": {},
   "source": [
    "## About\n",
    "\n",
    "**Authors**: Neven Caplar\n",
    "\n",
    "**Last updated on**: April 4, 2025\n",
    "\n",
    "If you use `lsdb` for published research, please cite following [instructions](https://docs.lsdb.io/en/stable/citation.html)."
   ]
  }
 ],
 "metadata": {
  "language_info": {
   "name": "python"
  }
 },
 "nbformat": 4,
 "nbformat_minor": 2
}
