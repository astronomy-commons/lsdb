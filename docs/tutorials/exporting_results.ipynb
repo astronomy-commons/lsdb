{
 "cells": [
  {
   "cell_type": "markdown",
   "metadata": {},
   "source": [
    "# Exporting results\n",
    "\n",
    "You can save the catalogs that result from running your workflow to disk, in parquet format, using the `to_hipscat` call. You must provide a `base_catalog_path`, which is the output path for your catalog directory, and (optionally) a name for your catalog, `catalog_name`. If the directory already exists and you want to overwrite its content set the `overwrite` flag to True. Do not forget to provide the necessary credentials, as `storage_options`, when trying to export the catalog to protected remote storage.\n",
    "\n",
    "```python\n",
    "result_catalog.to_hipscat(base_catalog_path=\"./result_catalog\", catalog_name=\"results\")\n",
    "```"
   ]
  },
  {
   "cell_type": "markdown",
   "metadata": {},
   "source": []
  }
 ],
 "metadata": {
  "language_info": {
   "name": "python"
  }
 },
 "nbformat": 4,
 "nbformat_minor": 2
}
