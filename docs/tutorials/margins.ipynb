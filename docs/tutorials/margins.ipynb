{
 "cells": [
  {
   "cell_type": "markdown",
   "metadata": {},
   "source": [
    "# Margins\n",
    "\n",
    "LSDB can handle datasets larger than memory by breaking them down into smaller, spatially-connected parts and working on each part one at a time. One of the main tasks enabled by LSDB are spatial queries such as cross-matching; to ensure accurate comparisons, all nearby data points need to be loaded simultaneously. LSDB uses HATS' method of organizing data spatially to achieve this.\n",
    "\n",
    "However, there's a limitation: at the boundaries of each divided section, some data points are going to be missed. This means that for operations requiring comparisons with neighboring points, such as cross-matching, the process might miss some matches for points near these boundaries because not all nearby points are included when analyzing one section at a time.\n",
    "\n",
    "![Margin Boundary Example](_static/pixel-boundary-example.png)\n",
    "*Here we see an example of a boundary between HEALPix pixels, where the green points are in one partition and the red points in another. Working with one partition at a time, we would miss potential matches with points close to the boundary*\n",
    "\n",
    "To solve this, we could try to also load the neighboring partitions for each partition we crossmatch. However, this would require loading lots of unnecessary data, slowing down operations and causing issues with running out of memory. So, for each catalog, we also create a margin cache. This means that for each partition, we create a file that contains the points in the catalog within a certain distance to the pixel's boundary.\n",
    "\n",
    "![Margin Cache Example](_static/margin-pix.png)\n",
    "*An example of a margin cache (orange) for the same green pixel. The margin cache for this pixel contains the points within 10 arcseconds of the boundary.*"
   ]
  },
  {
   "cell_type": "markdown",
   "metadata": {
    "collapsed": false
   },
   "source": [
    "## Loading a Margin Catalog\n",
    "\n",
    "The margin cache is stored as a separate HATS catalog with the same partitioning as the main catalog.\n",
    "\n",
    "To load a catalog with a margin cache, we set the `margin_cache` parameter with the path of the catalog's margin catalog.\n"
   ]
  },
  {
   "cell_type": "code",
   "execution_count": null,
   "metadata": {
    "ExecuteTime": {
     "end_time": "2024-11-25T20:08:43.247545Z",
     "start_time": "2024-11-25T20:08:43.119690Z"
    }
   },
   "outputs": [],
   "source": [
    "from astropy.coordinates import SkyCoord\n",
    "import astropy.units as u\n",
    "from hats.pixel_math import HealpixPixel\n",
    "import matplotlib.pyplot as plt\n",
    "\n",
    "import lsdb\n",
    "\n",
    "surveys_path = \"https://data.lsdb.io/hats/\""
   ]
  },
  {
   "cell_type": "code",
   "execution_count": null,
   "metadata": {
    "ExecuteTime": {
     "end_time": "2024-11-25T20:08:48.953611Z",
     "start_time": "2024-11-25T20:08:43.999437Z"
    }
   },
   "outputs": [],
   "source": [
    "from lsdb import BoxSearch\n",
    "\n",
    "box = BoxSearch(ra=(179.5, 180.001), dec=(9.4, 10))\n",
    "\n",
    "ztf_object_path = f\"{surveys_path}/ztf_dr14/ztf_object\"\n",
    "ztf_margin_path = f\"{surveys_path}/ztf_dr14/ztf_object_10arcs\"\n",
    "ztf_object = lsdb.read_hats(\n",
    "    ztf_object_path, search_filter=box, margin_cache=ztf_margin_path, columns=[\"ra\", \"dec\"]\n",
    ")\n",
    "print(f\"Margin size: {ztf_object.margin.hc_structure.catalog_info.margin_threshold} arcsec\")\n",
    "ztf_object.margin"
   ]
  },
  {
   "cell_type": "markdown",
   "metadata": {
    "collapsed": false
   },
   "source": [
    "Here we see the margin catalog that has been loaded with the catalog, using a margin threshold of 10 arcseconds.\n",
    "\n",
    "Let's plot the catalog and its margin together:"
   ]
  },
  {
   "cell_type": "code",
   "execution_count": null,
   "metadata": {
    "ExecuteTime": {
     "end_time": "2024-11-25T20:09:21.409413Z",
     "start_time": "2024-11-25T20:09:18.049993Z"
    }
   },
   "outputs": [],
   "source": [
    "# the healpix pixel to plot\n",
    "order = 3\n",
    "pixel = 434\n",
    "\n",
    "ztf_pixel = ztf_object.pixel_search([HealpixPixel(order, pixel)])\n",
    "\n",
    "# Plot the points from the specified ztf pixel in green, and from the pixel's margin cache in red\n",
    "ztf_pixel.plot_pixels(\n",
    "    color_by_order=False,\n",
    "    fc=\"#00000000\",\n",
    "    ec=\"grey\",\n",
    "    center=SkyCoord(179.8, 9.7, unit=\"deg\"),\n",
    "    fov=(0.5 * u.deg, 0.5 * u.deg),\n",
    ")\n",
    "ztf_pixel.plot_points(c=\"green\", marker=\"+\", label=\"partition points\")\n",
    "ztf_pixel.margin.plot_points(c=\"red\", marker=\"+\", label=\"margin points\")\n",
    "plt.legend()"
   ]
  },
  {
   "cell_type": "markdown",
   "metadata": {
    "collapsed": false
   },
   "source": [
    "## Using the Margin Catalog\n",
    "\n",
    "Performing operations like cross-matching and joining requires a margin to be loaded in the catalog on the right side of the operation. If this right catalog has been loaded with a margin, the function will be carried out accurately using the margin, and by default will throw an error if the margin has not been set. This can be overwritten using the `require_right_margin` parameter, but this may cause inaccurate results!\n",
    "\n",
    "We can see this when trying to perform a crossmatch with gaia:"
   ]
  },
  {
   "cell_type": "code",
   "execution_count": null,
   "metadata": {
    "ExecuteTime": {
     "end_time": "2024-11-25T18:43:54.231870Z",
     "start_time": "2024-11-25T18:43:50.753170Z"
    }
   },
   "outputs": [],
   "source": [
    "gaia = lsdb.read_hats(f\"{surveys_path}/gaia_dr3/gaia/\", columns=[\"ra\", \"dec\"], search_filter=box)\n",
    "gaia"
   ]
  },
  {
   "cell_type": "markdown",
   "metadata": {
    "collapsed": false
   },
   "source": [
    "If we perform a crossmatch with gaia on the left and the ztf catalog we loaded with a margin on the right, the function works, and we get the result:"
   ]
  },
  {
   "cell_type": "code",
   "execution_count": null,
   "metadata": {
    "ExecuteTime": {
     "end_time": "2024-11-25T18:19:09.709583Z",
     "start_time": "2024-11-25T18:19:08.039861Z"
    }
   },
   "outputs": [],
   "source": [
    "gaia.crossmatch(ztf_object)"
   ]
  },
  {
   "cell_type": "markdown",
   "metadata": {
    "collapsed": false
   },
   "source": [
    "If we try the other way around, we have not loaded the right catalog (gaia) with a margin cache, and so we get an error."
   ]
  },
  {
   "cell_type": "code",
   "execution_count": null,
   "metadata": {
    "ExecuteTime": {
     "end_time": "2024-11-25T18:19:09.800325Z",
     "start_time": "2024-11-25T18:19:09.779567Z"
    }
   },
   "outputs": [],
   "source": [
    "try:\n",
    "    ztf_object.crossmatch(gaia)\n",
    "except ValueError as e:\n",
    "    print(f\"Error: {e}\")"
   ]
  },
  {
   "cell_type": "markdown",
   "metadata": {
    "collapsed": false
   },
   "source": [
    "We can plot the result of the crossmatch below, with the gaia objects in green and the ztf objects in red."
   ]
  },
  {
   "cell_type": "code",
   "execution_count": null,
   "metadata": {
    "ExecuteTime": {
     "end_time": "2024-11-25T20:10:28.243086Z",
     "start_time": "2024-11-25T20:10:15.749569Z"
    }
   },
   "outputs": [],
   "source": [
    "order = 3\n",
    "pixel = 434\n",
    "\n",
    "crossmatch_cat = gaia.crossmatch(ztf_pixel)\n",
    "\n",
    "ztf_pixel.plot_pixels(\n",
    "    color_by_order=False,\n",
    "    fc=\"#00000000\",\n",
    "    ec=\"grey\",\n",
    "    center=SkyCoord(179.8, 9.7, unit=\"deg\"),\n",
    "    fov=(0.5 * u.deg, 0.5 * u.deg),\n",
    ")\n",
    "crossmatch_cat.plot_points(c=\"green\", marker=\"+\", alpha=0.8, label=\"Gaia points\")\n",
    "crossmatch_cat.plot_points(\n",
    "    ra_column=\"ra_ztf_dr14\", dec_column=\"dec_ztf_dr14\", c=\"red\", marker=\"x\", alpha=0.8, label=\"ZTF points\"\n",
    ")\n",
    "plt.legend()"
   ]
  },
  {
   "cell_type": "markdown",
   "metadata": {
    "collapsed": false
   },
   "source": [
    "## Filtering Catalogs\n",
    "\n",
    "Any filtering operations applied to the catalog are also performed to the margin."
   ]
  },
  {
   "cell_type": "code",
   "execution_count": null,
   "metadata": {
    "ExecuteTime": {
     "end_time": "2024-11-25T20:10:42.272733Z",
     "start_time": "2024-11-25T20:10:37.683953Z"
    }
   },
   "outputs": [],
   "source": [
    "small_sky_box_filter = ztf_pixel.box_search(ra=[179.9, 180], dec=[9.5, 9.7])\n",
    "\n",
    "\n",
    "# Plot the points from the specified ztf pixel in green, and from the pixel's margin cache in red\n",
    "small_sky_box_filter.plot_pixels(\n",
    "    color_by_order=False,\n",
    "    fc=\"#00000000\",\n",
    "    ec=\"grey\",\n",
    "    center=SkyCoord(179.8, 9.7, unit=\"deg\"),\n",
    "    fov=(0.5 * u.deg, 0.5 * u.deg),\n",
    ")\n",
    "small_sky_box_filter.plot_points(c=\"green\", marker=\"+\", label=\"partition points\")\n",
    "small_sky_box_filter.margin.plot_points(c=\"red\", marker=\"+\", label=\"margin points\")\n",
    "plt.legend()"
   ]
  },
  {
   "cell_type": "markdown",
   "metadata": {
    "collapsed": false
   },
   "source": [
    "## Avoiding Duplicates\n",
    "\n",
    "Joining the margin cache to the catalog's data would introduce duplicate points, where points near the boundary would appear in both the margin of one partition and the main file of another partition. To avoid this, we keep two separate task graphs, one for the catalog and one for its margin.\n",
    "\n",
    "For operations that don't require the margin, the task graphs remain separate, and when `compute` is called on the catalog, only the catalog's task graph is computed—without joining the margin or even loading the margin files.\n",
    "\n",
    "For operations like crossmatching that require the margin, the task graphs are combined with the margin joined and used. For these operations, we use only the margin for the catalog on the right side of the operation. This means that for each left catalog point that is considered, all of the possible nearby matches in the right catalog are also loaded, so the results are kept accurate. But since there are no duplicates of the left catalog points, there are no duplicate results."
   ]
  }
 ],
 "metadata": {
  "kernelspec": {
   "display_name": "demo",
   "language": "python",
   "name": "python3"
  },
  "language_info": {
   "codemirror_mode": {
    "name": "ipython",
    "version": 3
   },
   "file_extension": ".py",
   "mimetype": "text/x-python",
   "name": "python",
   "nbconvert_exporter": "python",
   "pygments_lexer": "ipython3",
   "version": "3.12.3"
  }
 },
 "nbformat": 4,
 "nbformat_minor": 2
}
