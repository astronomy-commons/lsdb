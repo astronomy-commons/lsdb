{
 "cells": [
  {
   "cell_type": "markdown",
   "id": "f5e73fdd",
   "metadata": {},
   "source": [
    "# [Notebook Title]"
   ]
  },
  {
   "cell_type": "markdown",
   "id": "6089e920",
   "metadata": {},
   "source": [
    "## Learning objectives\n",
    "\n",
    "By the end of this tutorial, you will:\n",
    "- [List of things you can learn here]\n",
    "\n",
    "You should already have an understanding of:\n",
    "- [Suggested pre-reading, if applicable]"
   ]
  },
  {
   "cell_type": "markdown",
   "id": "ba5a0321",
   "metadata": {},
   "source": [
    "## Introduction\n",
    "\n",
    "[Short description of the feature being showcased. If relevant, briefly explain the motivation for it existing.]"
   ]
  },
  {
   "cell_type": "markdown",
   "id": "d15b80c5",
   "metadata": {},
   "source": [
    "## Open a catalog"
   ]
  },
  {
   "cell_type": "code",
   "execution_count": null,
   "id": "996b95ef",
   "metadata": {},
   "outputs": [],
   "source": [
    "import lsdb"
   ]
  },
  {
   "cell_type": "code",
   "execution_count": null,
   "id": "78740204",
   "metadata": {},
   "outputs": [],
   "source": [
    "from dask.distributed import Client\n",
    "\n",
    "client = Client(n_workers=4, memory_limit=\"auto\")\n",
    "client"
   ]
  },
  {
   "cell_type": "code",
   "execution_count": null,
   "id": "8e09c1f0",
   "metadata": {},
   "outputs": [],
   "source": [
    "ztf_object_path = \"https://data.lsdb.io/hats/ztf_dr22/ztf_lc\"\n",
    "ztf_object = lsdb.open_catalog(ztf_object_path)\n",
    "ztf_object"
   ]
  },
  {
   "cell_type": "markdown",
   "id": "84137686",
   "metadata": {},
   "source": [
    "## 1 - [Interesting thing 1]\n",
    "\n",
    "[Place markdown and code cells in this and following sections as needed]"
   ]
  },
  {
   "cell_type": "markdown",
   "id": "67f4345a",
   "metadata": {},
   "source": [
    "## 2 - [Interesting thing 2]"
   ]
  },
  {
   "cell_type": "markdown",
   "id": "24a2f5bf",
   "metadata": {},
   "source": [
    "### 2.1 - [Sub-section 1, if applicable]"
   ]
  },
  {
   "cell_type": "markdown",
   "id": "383a715e",
   "metadata": {},
   "source": [
    "### 2.2 - [Sub-section 2, if applicable]"
   ]
  },
  {
   "cell_type": "markdown",
   "id": "42c91923",
   "metadata": {},
   "source": [
    "## Close the Dask client"
   ]
  },
  {
   "cell_type": "code",
   "execution_count": null,
   "id": "e2c1e967",
   "metadata": {},
   "outputs": [],
   "source": [
    "client.close()"
   ]
  },
  {
   "cell_type": "markdown",
   "id": "a5cf898d",
   "metadata": {},
   "source": [
    "## About\n",
    "**Author(s):** [Your name]\n",
    "\n",
    "**Last updated on:** [Date]\n",
    "\n",
    "If you use lsdb for published research, please cite following [instructions](https://docs.lsdb.io/en/stable/citation.html)."
   ]
  }
 ],
 "metadata": {
  "language_info": {
   "name": "python"
  }
 },
 "nbformat": 4,
 "nbformat_minor": 5
}
