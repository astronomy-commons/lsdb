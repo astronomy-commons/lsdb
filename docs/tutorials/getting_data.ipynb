{
 "cells": [
  {
   "cell_type": "markdown",
   "metadata": {},
   "source": [
    "# Getting data into LSDB\n",
    "\n",
    "The most practical way to load data into LSDB is from catalogs in HATS format, hosted locally or on a remote source. We recommend you to visit our own cloud repository, [data.lsdb.io](https://data.lsdb.io), where you are able to find large surveys publicly available to use.\n",
    "If you're looking for how to get external data into LSDB, see the topic [Import Catalogs](import_catalogs.html) instead.\n"
   ]
  },
  {
   "cell_type": "code",
   "execution_count": null,
   "metadata": {},
   "outputs": [],
   "source": [
    "import lsdb"
   ]
  },
  {
   "cell_type": "markdown",
   "metadata": {},
   "source": [
    "### Example: Loading Gaia DR3\n",
    "\n",
    "Let's get Gaia DR3 into our workflow, as an example. It is as simple as invoking `read_hats` with the respective catalog URL, which you can copy directly from our website."
   ]
  },
  {
   "cell_type": "code",
   "execution_count": null,
   "metadata": {},
   "outputs": [],
   "source": [
    "gaia_dr3 = lsdb.read_hats(\"https://data.lsdb.io/hats/gaia_dr3/gaia/\")\n",
    "gaia_dr3"
   ]
  },
  {
   "cell_type": "markdown",
   "metadata": {},
   "source": [
    "The Gaia catalog is very wide so you would be requesting its whole set of >150 columns."
   ]
  },
  {
   "cell_type": "code",
   "execution_count": null,
   "metadata": {},
   "outputs": [],
   "source": [
    "gaia_dr3.columns"
   ]
  },
  {
   "cell_type": "markdown",
   "metadata": {},
   "source": [
    "Note that it's important (and highly recommended) to:\n",
    "\n",
    "- **Pre-select a small subset of columns** that satisfies your scientific needs. Loading an unnecessarily large amount of data leads to computationally expensive and inefficient workflows. To see which columns are available before even having to invoke `read_hats`, please refer to the column descriptions in each catalog's section on [data.lsdb.io](https://data.lsdb.io).\n",
    "\n",
    "- **Load catalogs with their respective margin caches**, when available. These margins are necessary to obtain accurate results in several operations such as joining and crossmatching. For more information about margins please visit our [Margins](margins.ipynb) topic notebook.\n",
    "\n",
    "Let's define the set of columns we need and add the margin catalog's path to our `read_hats` call."
   ]
  },
  {
   "cell_type": "code",
   "execution_count": null,
   "metadata": {},
   "outputs": [],
   "source": [
    "gaia_dr3 = lsdb.read_hats(\n",
    "    \"https://data.lsdb.io/hats/gaia_dr3/gaia/\",\n",
    "    margin_cache=\"https://data.lsdb.io/hats/gaia_dr3/gaia_10arcs/\",\n",
    "    columns=[\n",
    "        \"source_id\",\n",
    "        \"ra\",\n",
    "        \"dec\",\n",
    "        \"phot_g_mean_mag\",\n",
    "        \"phot_proc_mode\",\n",
    "        \"azero_gspphot\",\n",
    "        \"classprob_dsc_combmod_star\",\n",
    "    ],\n",
    ")\n",
    "gaia_dr3"
   ]
  },
  {
   "cell_type": "markdown",
   "metadata": {},
   "source": [
    "### Data loading is lazy"
   ]
  },
  {
   "cell_type": "markdown",
   "metadata": {},
   "source": [
    "When invoking `read_hats`, only metadata information about that catalog (e.g. sky coverage, number of total rows, and column schema) is loaded into memory! Notice that the ellipses in the previous catalog representation are just placeholders.\n",
    "\n",
    "You will find that most use cases start with **LAZY** loading and planning operations, followed by more expensive **COMPUTE** operations. The data is only loaded into memory when we trigger the workflow computations, usually with a `compute` call.\n",
    "\n",
    "![Lazy workflow diagram](../_static/lazy_diagram.svg)"
   ]
  },
  {
   "cell_type": "markdown",
   "metadata": {},
   "source": [
    "### Visualizing catalog metadata\n",
    "\n",
    "Even without loading any data, you can still get a glimpse of our catalog's structure."
   ]
  },
  {
   "cell_type": "markdown",
   "metadata": {},
   "source": [
    "#### HEALPix map\n",
    "\n",
    "You can use `plot_pixels` to observe the catalog's sky coverage map and obtain information about its HEALPix distribution. Areas of higher density of points are represented by higher order pixels."
   ]
  },
  {
   "cell_type": "code",
   "execution_count": null,
   "metadata": {},
   "outputs": [],
   "source": [
    "gaia_dr3.plot_pixels(plot_title=\"Gaia DR3 Pixel Map\")"
   ]
  },
  {
   "cell_type": "markdown",
   "metadata": {},
   "source": [
    "#### Column schema\n",
    "\n",
    "It is also straightforward to have a look at column names and their respective types."
   ]
  },
  {
   "cell_type": "code",
   "execution_count": null,
   "metadata": {},
   "outputs": [],
   "source": [
    "gaia_dr3.dtypes"
   ]
  },
  {
   "cell_type": "markdown",
   "metadata": {},
   "source": []
  }
 ],
 "metadata": {
  "kernelspec": {
   "display_name": "Python 3 (ipykernel)",
   "language": "python",
   "name": "python3"
  },
  "language_info": {
   "codemirror_mode": {
    "name": "ipython",
    "version": 3
   },
   "file_extension": ".py",
   "mimetype": "text/x-python",
   "name": "python",
   "nbconvert_exporter": "python",
   "pygments_lexer": "ipython3",
   "version": "3.12.6"
  }
 },
 "nbformat": 4,
 "nbformat_minor": 4
}
