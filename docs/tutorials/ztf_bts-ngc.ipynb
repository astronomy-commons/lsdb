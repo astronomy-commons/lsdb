{
 "cells": [
  {
   "cell_type": "markdown",
   "id": "baf860d14e6e9d0d",
   "metadata": {},
   "source": [
    "# Example use-case: cross-match ZTF BTS and NGC\n",
    "\n",
    "Here we demonstrate how to cross-match [Zwicky Transient Facility](https://ztf.caltech.edu) (ZTF) [Bright Transient Survey](https://sites.astro.caltech.edu/ztf/bts) (BTS) and [New General Catalogue](https://en.wikipedia.org/wiki/New_General_Catalogue) (NGC) using LSDB."
   ]
  },
  {
   "cell_type": "code",
   "execution_count": null,
   "id": "c6c5c22698dfb620",
   "metadata": {
    "ExecuteTime": {
     "end_time": "2024-02-05T17:13:28.624426Z",
     "start_time": "2024-02-05T17:13:25.950199Z"
    }
   },
   "outputs": [],
   "source": [
    "# Install astroquery, comment this line if you already have it\n",
    "!pip install --quiet astroquery"
   ]
  },
  {
   "cell_type": "code",
   "execution_count": null,
   "id": "cedde7185bbd9650",
   "metadata": {
    "ExecuteTime": {
     "end_time": "2024-02-05T17:13:29.713920Z",
     "start_time": "2024-02-05T17:13:28.624569Z"
    }
   },
   "outputs": [],
   "source": [
    "import lsdb\n",
    "import matplotlib.pyplot as plt\n",
    "import numpy as np\n",
    "import pandas as pd\n",
    "from astropy.coordinates import SkyCoord\n",
    "from astropy.table import Table\n",
    "from astroquery.vizier import Vizier\n",
    "from dask.distributed import Client"
   ]
  },
  {
   "cell_type": "markdown",
   "id": "c4c7f826dfc019ed",
   "metadata": {},
   "source": [
    "### Download ZTF BTS and convert coordinates to degrees"
   ]
  },
  {
   "cell_type": "code",
   "execution_count": null,
   "id": "533f35ae2822a422",
   "metadata": {
    "ExecuteTime": {
     "end_time": "2024-02-05T17:13:32.649302Z",
     "start_time": "2024-02-05T17:13:29.714486Z"
    }
   },
   "outputs": [],
   "source": [
    "%%time\n",
    "\n",
    "df_ztf_bts = pd.read_csv(\n",
    "    \"http://sites.astro.caltech.edu/ztf/bts/explorer.php?format=csv\",\n",
    "    na_values=\"-\",\n",
    ")\n",
    "coord = SkyCoord(df_ztf_bts[\"RA\"], df_ztf_bts[\"Dec\"], unit=(\"hourangle\", \"deg\"))\n",
    "df_ztf_bts[\"ra_deg\"], df_ztf_bts[\"dec_deg\"] = coord.ra.deg, coord.dec.deg\n",
    "df_ztf_bts.head()"
   ]
  },
  {
   "cell_type": "markdown",
   "id": "2789dc15c2f46954",
   "metadata": {},
   "source": [
    "### Download NGC with `astroquery`\n",
    "\n",
    "Please install astroquery first with `pip install astroquery` or `conda install -c conda-forge astroquery`."
   ]
  },
  {
   "cell_type": "code",
   "execution_count": null,
   "id": "f27f3c3054bb72e2",
   "metadata": {
    "ExecuteTime": {
     "end_time": "2024-02-05T17:13:33.699857Z",
     "start_time": "2024-02-05T17:13:32.641375Z"
    }
   },
   "outputs": [],
   "source": [
    "%%time\n",
    "\n",
    "vizier = Vizier(row_limit=50_000)\n",
    "tables = vizier.get_catalogs(\"VII/118/ngc2000\")\n",
    "df_ngc = tables[0].to_pandas()\n",
    "coord = SkyCoord(df_ngc[\"RAB2000\"], df_ngc[\"DEB2000\"], unit=(\"hourangle\", \"deg\"))\n",
    "df_ngc[\"ra_deg\"], df_ngc[\"dec_deg\"] = coord.ra.deg, coord.dec.deg\n",
    "df_ngc.head()"
   ]
  },
  {
   "cell_type": "markdown",
   "id": "de39d5296b848de7",
   "metadata": {},
   "source": [
    "### Put both catalogs to LSDB and plan cross-match\n",
    "\n",
    "Of course ZTF looks much deeper than NGC galaxies from 19th century, so we filter ZTF transients by redshift.\n",
    "\n",
    "LSDB is built upon [Dask](https://dask.org) and can be used with Dask distributed cluster. In this cell we just plan computations and do not actually run them."
   ]
  },
  {
   "cell_type": "code",
   "execution_count": null,
   "id": "6b1b2ebb1c023bca",
   "metadata": {
    "ExecuteTime": {
     "end_time": "2024-02-05T17:13:33.881118Z",
     "start_time": "2024-02-05T17:13:33.700251Z"
    }
   },
   "outputs": [],
   "source": [
    "%%time\n",
    "\n",
    "ztf_bts = lsdb.from_dataframe(df_ztf_bts, ra_column=\"ra_deg\", dec_column=\"dec_deg\")\n",
    "ngc = lsdb.from_dataframe(df_ngc, ra_column=\"ra_deg\", dec_column=\"dec_deg\", margin_threshold=3600)\n",
    "\n",
    "ztf_bts = ztf_bts.query(\"redshift < 0.01\")\n",
    "\n",
    "matched = ztf_bts.crossmatch(ngc, radius_arcsec=1200, suffixes=(\"_ztf\", \"_ngc\"))\n",
    "matched"
   ]
  },
  {
   "cell_type": "markdown",
   "id": "e78f8f93cdadb910",
   "metadata": {},
   "source": [
    "### Run LSDB pipeline"
   ]
  },
  {
   "cell_type": "code",
   "execution_count": null,
   "id": "40085244f8f1c8b",
   "metadata": {
    "ExecuteTime": {
     "end_time": "2024-02-05T17:13:36.249530Z",
     "start_time": "2024-02-05T17:13:33.878705Z"
    }
   },
   "outputs": [],
   "source": [
    "%%time\n",
    "\n",
    "# Create default local cluster\n",
    "with Client():\n",
    "    matched_df = matched.compute()\n",
    "\n",
    "# Let's output transient name, NGC name and angular distance between them\n",
    "matched_df = matched_df[[\"IAUID_ztf\", \"Name_ngc\", \"_dist_arcsec\", \"RA_ztf\", \"Dec_ztf\"]].sort_values(\n",
    "    by=[\"_dist_arcsec\"]\n",
    ")\n",
    "matched_df"
   ]
  },
  {
   "cell_type": "markdown",
   "id": "8e901f3bdd0edde5",
   "metadata": {},
   "source": [
    "We may have some false matches here, because NGC is too shallow for this task. However, if we sort the table by the cross-match distance, we can see the first one is a supernova ([SN2022xxf](https://www.wis-tns.org/object/2022xxf)) in the nearby galaxy NGC 3705."
   ]
  },
  {
   "cell_type": "markdown",
   "id": "c9e71246-88c2-4a3f-a013-065bf42d394f",
   "metadata": {},
   "source": [
    "### Make some plot\n",
    "\n",
    "This part is not related to LSDB and adopted from [PanSTARRS image this tutorial](https://spacetelescope.github.io/mast_notebooks/notebooks/PanSTARRS/PS1_image/PS1_image.html).\n",
    "\n",
    "Now let's download host galaxy image from the PanSTARRS survey and plot it out (with SN location in the middle and marked with a \"+\" "
   ]
  },
  {
   "cell_type": "code",
   "execution_count": null,
   "id": "ab85642e-e0fb-4879-b69d-4d20536d5e68",
   "metadata": {},
   "outputs": [],
   "source": [
    "def getimages(ra, dec, size=240, filters=\"grizy\"):\n",
    "    \"\"\"Query ps1filenames.py service to get a list of images\n",
    "\n",
    "    ra, dec = position in degrees\n",
    "    size = image size in pixels (0.25 arcsec/pixel)\n",
    "    filters = string with filters to include\n",
    "    Returns a table with the results\n",
    "    \"\"\"\n",
    "\n",
    "    service = \"https://ps1images.stsci.edu/cgi-bin/ps1filenames.py\"\n",
    "    url = (\"{service}?ra={ra}&dec={dec}&size={size}&format=fits\" \"&filters={filters}\").format(**locals())\n",
    "    table = Table.read(url, format=\"ascii\")\n",
    "    return table\n",
    "\n",
    "\n",
    "def get_ps1_image(url, size=240):\n",
    "    \"\"\"\n",
    "    size: pixel number for 0.25 arcsec/pixel\n",
    "    \"\"\"\n",
    "    from PIL import Image\n",
    "    import requests\n",
    "    from io import BytesIO\n",
    "\n",
    "    try:\n",
    "        r = requests.get(url)\n",
    "        im = Image.open(BytesIO(r.content))\n",
    "    except:\n",
    "        print(\"Can't get ps1 image\")\n",
    "        im = None\n",
    "    return im"
   ]
  },
  {
   "cell_type": "code",
   "execution_count": null,
   "id": "c9bf1773-ea55-42e5-90e9-f69c59ab7963",
   "metadata": {},
   "outputs": [],
   "source": [
    "c = SkyCoord(matched_df[\"RA_ztf\"].values[0], matched_df[\"Dec_ztf\"].values[0], unit=(\"hourangle\", \"deg\"))\n",
    "ra = c.ra.degree\n",
    "dec = c.dec.degree\n",
    "oid = matched_df[\"IAUID_ztf\"].values[0]\n",
    "table = getimages(ra, dec, size=1200, filters=\"grizy\")\n",
    "url = (\n",
    "    \"https://ps1images.stsci.edu/cgi-bin/fitscut.cgi?\"\n",
    "    \"ra={}&dec={}&size=1200&format=jpg&red={}&green={}&blue={}\"\n",
    ").format(ra, dec, table[\"filename\"][0], table[\"filename\"][1], table[\"filename\"][2])\n",
    "im = get_ps1_image(url)\n",
    "fig, ax = plt.subplots(figsize=(7, 3))\n",
    "if im is not None:\n",
    "    ax.imshow(im)\n",
    "    ax.set_xticks([])\n",
    "    ax.set_yticks([])\n",
    "    ax.scatter(np.average(plt.xlim()), np.average(plt.ylim()), marker=\"+\", color=\"yellow\")\n",
    "    ax.set_title(oid)\n",
    "    plt.show()"
   ]
  },
  {
   "cell_type": "code",
   "execution_count": null,
   "id": "baab2980-390f-4bd7-b748-fe8445893f01",
   "metadata": {},
   "outputs": [],
   "source": []
  }
 ],
 "metadata": {
  "kernelspec": {
   "display_name": "Python 3 (ipykernel)",
   "language": "python",
   "name": "python3"
  },
  "language_info": {
   "codemirror_mode": {
    "name": "ipython",
    "version": 3
   },
   "file_extension": ".py",
   "mimetype": "text/x-python",
   "name": "python",
   "nbconvert_exporter": "python",
   "pygments_lexer": "ipython3",
   "version": "3.10.12"
  }
 },
 "nbformat": 4,
 "nbformat_minor": 5
}
