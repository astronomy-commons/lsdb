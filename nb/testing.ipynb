{
 "cells": [
  {
   "cell_type": "code",
   "execution_count": 1,
   "metadata": {
    "collapsed": true
   },
   "outputs": [],
   "source": [
    "import lsdb\n",
    "from lsdb.catalog.association_catalog.association_catalog import AssociationCatalog\n",
    "from lsdb.core.dataframe import join_catalog_data"
   ]
  },
  {
   "cell_type": "code",
   "execution_count": 2,
   "outputs": [
    {
     "data": {
      "text/plain": "                      primary_id  join_id       join_hipscat_id\nprimary_hipscat_id                                             \n12749688880727326720         707      707  12749688880727326720\n12751184493818150912         792      792  12751184493818150912\n12753202806647685120         811      811  12753202806647685120\n12753202806647685121         723      723  12753202806647685121\n12770681119980912640         826      826  12770681119980912640\n...                          ...      ...                   ...\n13591216801265483776         791      791  13591216801265483776\n13596001812279721984         824      824  13596001812279721984\n13598131468743213056         702      702  13598131468743213056\n13601023174257934336         767      767  13601023174257934336\n13696722494273093632         743      743  13696722494273093632\n\n[131 rows x 3 columns]",
      "text/html": "<div>\n<style scoped>\n    .dataframe tbody tr th:only-of-type {\n        vertical-align: middle;\n    }\n\n    .dataframe tbody tr th {\n        vertical-align: top;\n    }\n\n    .dataframe thead th {\n        text-align: right;\n    }\n</style>\n<table border=\"1\" class=\"dataframe\">\n  <thead>\n    <tr style=\"text-align: right;\">\n      <th></th>\n      <th>primary_id</th>\n      <th>join_id</th>\n      <th>join_hipscat_id</th>\n    </tr>\n    <tr>\n      <th>primary_hipscat_id</th>\n      <th></th>\n      <th></th>\n      <th></th>\n    </tr>\n  </thead>\n  <tbody>\n    <tr>\n      <th>12749688880727326720</th>\n      <td>707</td>\n      <td>707</td>\n      <td>12749688880727326720</td>\n    </tr>\n    <tr>\n      <th>12751184493818150912</th>\n      <td>792</td>\n      <td>792</td>\n      <td>12751184493818150912</td>\n    </tr>\n    <tr>\n      <th>12753202806647685120</th>\n      <td>811</td>\n      <td>811</td>\n      <td>12753202806647685120</td>\n    </tr>\n    <tr>\n      <th>12753202806647685121</th>\n      <td>723</td>\n      <td>723</td>\n      <td>12753202806647685121</td>\n    </tr>\n    <tr>\n      <th>12770681119980912640</th>\n      <td>826</td>\n      <td>826</td>\n      <td>12770681119980912640</td>\n    </tr>\n    <tr>\n      <th>...</th>\n      <td>...</td>\n      <td>...</td>\n      <td>...</td>\n    </tr>\n    <tr>\n      <th>13591216801265483776</th>\n      <td>791</td>\n      <td>791</td>\n      <td>13591216801265483776</td>\n    </tr>\n    <tr>\n      <th>13596001812279721984</th>\n      <td>824</td>\n      <td>824</td>\n      <td>13596001812279721984</td>\n    </tr>\n    <tr>\n      <th>13598131468743213056</th>\n      <td>702</td>\n      <td>702</td>\n      <td>13598131468743213056</td>\n    </tr>\n    <tr>\n      <th>13601023174257934336</th>\n      <td>767</td>\n      <td>767</td>\n      <td>13601023174257934336</td>\n    </tr>\n    <tr>\n      <th>13696722494273093632</th>\n      <td>743</td>\n      <td>743</td>\n      <td>13696722494273093632</td>\n    </tr>\n  </tbody>\n</table>\n<p>131 rows × 3 columns</p>\n</div>"
     },
     "execution_count": 2,
     "metadata": {},
     "output_type": "execute_result"
    }
   ],
   "source": [
    "a_cat = lsdb.read_hipscat(\"../tests/data/small_sky_to_small_sky_order1\", catalog_type=AssociationCatalog)\n",
    "a_cat.compute()"
   ],
   "metadata": {
    "collapsed": false
   }
  },
  {
   "cell_type": "code",
   "execution_count": 3,
   "outputs": [
    {
     "data": {
      "text/plain": "                       id     ra   dec  ra_error  dec_error\nhipscat_id                                                 \n12749688880727326720  707  308.5 -69.5         0          0\n12751184493818150912  792  320.5 -69.5         0          0\n12753202806647685120  811  315.5 -68.5         0          0\n12753202806647685121  723  315.5 -68.5         0          0\n12770681119980912640  826  335.5 -69.5         0          0\n...                   ...    ...   ...       ...        ...\n13591216801265483776  791  312.5 -28.5         0          0\n13596001812279721984  824  305.5 -28.5         0          0\n13598131468743213056  702  310.5 -27.5         0          0\n13601023174257934336  767  314.5 -29.5         0          0\n13696722494273093632  743  307.5 -25.5         0          0\n\n[131 rows x 5 columns]",
      "text/html": "<div>\n<style scoped>\n    .dataframe tbody tr th:only-of-type {\n        vertical-align: middle;\n    }\n\n    .dataframe tbody tr th {\n        vertical-align: top;\n    }\n\n    .dataframe thead th {\n        text-align: right;\n    }\n</style>\n<table border=\"1\" class=\"dataframe\">\n  <thead>\n    <tr style=\"text-align: right;\">\n      <th></th>\n      <th>id</th>\n      <th>ra</th>\n      <th>dec</th>\n      <th>ra_error</th>\n      <th>dec_error</th>\n    </tr>\n    <tr>\n      <th>hipscat_id</th>\n      <th></th>\n      <th></th>\n      <th></th>\n      <th></th>\n      <th></th>\n    </tr>\n  </thead>\n  <tbody>\n    <tr>\n      <th>12749688880727326720</th>\n      <td>707</td>\n      <td>308.5</td>\n      <td>-69.5</td>\n      <td>0</td>\n      <td>0</td>\n    </tr>\n    <tr>\n      <th>12751184493818150912</th>\n      <td>792</td>\n      <td>320.5</td>\n      <td>-69.5</td>\n      <td>0</td>\n      <td>0</td>\n    </tr>\n    <tr>\n      <th>12753202806647685120</th>\n      <td>811</td>\n      <td>315.5</td>\n      <td>-68.5</td>\n      <td>0</td>\n      <td>0</td>\n    </tr>\n    <tr>\n      <th>12753202806647685121</th>\n      <td>723</td>\n      <td>315.5</td>\n      <td>-68.5</td>\n      <td>0</td>\n      <td>0</td>\n    </tr>\n    <tr>\n      <th>12770681119980912640</th>\n      <td>826</td>\n      <td>335.5</td>\n      <td>-69.5</td>\n      <td>0</td>\n      <td>0</td>\n    </tr>\n    <tr>\n      <th>...</th>\n      <td>...</td>\n      <td>...</td>\n      <td>...</td>\n      <td>...</td>\n      <td>...</td>\n    </tr>\n    <tr>\n      <th>13591216801265483776</th>\n      <td>791</td>\n      <td>312.5</td>\n      <td>-28.5</td>\n      <td>0</td>\n      <td>0</td>\n    </tr>\n    <tr>\n      <th>13596001812279721984</th>\n      <td>824</td>\n      <td>305.5</td>\n      <td>-28.5</td>\n      <td>0</td>\n      <td>0</td>\n    </tr>\n    <tr>\n      <th>13598131468743213056</th>\n      <td>702</td>\n      <td>310.5</td>\n      <td>-27.5</td>\n      <td>0</td>\n      <td>0</td>\n    </tr>\n    <tr>\n      <th>13601023174257934336</th>\n      <td>767</td>\n      <td>314.5</td>\n      <td>-29.5</td>\n      <td>0</td>\n      <td>0</td>\n    </tr>\n    <tr>\n      <th>13696722494273093632</th>\n      <td>743</td>\n      <td>307.5</td>\n      <td>-25.5</td>\n      <td>0</td>\n      <td>0</td>\n    </tr>\n  </tbody>\n</table>\n<p>131 rows × 5 columns</p>\n</div>"
     },
     "execution_count": 3,
     "metadata": {},
     "output_type": "execute_result"
    }
   ],
   "source": [
    "left = lsdb.read_hipscat(\"../tests/data/small_sky\")\n",
    "left.compute()"
   ],
   "metadata": {
    "collapsed": false
   }
  },
  {
   "cell_type": "code",
   "execution_count": 4,
   "outputs": [
    {
     "data": {
      "text/plain": "                       id     ra   dec  ra_error  dec_error\nhipscat_id                                                 \n12749688880727326720  707  308.5 -69.5         0          0\n12751184493818150912  792  320.5 -69.5         0          0\n12753202806647685120  811  315.5 -68.5         0          0\n12753202806647685121  723  315.5 -68.5         0          0\n12770681119980912640  826  335.5 -69.5         0          0\n...                   ...    ...   ...       ...        ...\n13591216801265483776  791  312.5 -28.5         0          0\n13596001812279721984  824  305.5 -28.5         0          0\n13598131468743213056  702  310.5 -27.5         0          0\n13601023174257934336  767  314.5 -29.5         0          0\n13696722494273093632  743  307.5 -25.5         0          0\n\n[131 rows x 5 columns]",
      "text/html": "<div>\n<style scoped>\n    .dataframe tbody tr th:only-of-type {\n        vertical-align: middle;\n    }\n\n    .dataframe tbody tr th {\n        vertical-align: top;\n    }\n\n    .dataframe thead th {\n        text-align: right;\n    }\n</style>\n<table border=\"1\" class=\"dataframe\">\n  <thead>\n    <tr style=\"text-align: right;\">\n      <th></th>\n      <th>id</th>\n      <th>ra</th>\n      <th>dec</th>\n      <th>ra_error</th>\n      <th>dec_error</th>\n    </tr>\n    <tr>\n      <th>hipscat_id</th>\n      <th></th>\n      <th></th>\n      <th></th>\n      <th></th>\n      <th></th>\n    </tr>\n  </thead>\n  <tbody>\n    <tr>\n      <th>12749688880727326720</th>\n      <td>707</td>\n      <td>308.5</td>\n      <td>-69.5</td>\n      <td>0</td>\n      <td>0</td>\n    </tr>\n    <tr>\n      <th>12751184493818150912</th>\n      <td>792</td>\n      <td>320.5</td>\n      <td>-69.5</td>\n      <td>0</td>\n      <td>0</td>\n    </tr>\n    <tr>\n      <th>12753202806647685120</th>\n      <td>811</td>\n      <td>315.5</td>\n      <td>-68.5</td>\n      <td>0</td>\n      <td>0</td>\n    </tr>\n    <tr>\n      <th>12753202806647685121</th>\n      <td>723</td>\n      <td>315.5</td>\n      <td>-68.5</td>\n      <td>0</td>\n      <td>0</td>\n    </tr>\n    <tr>\n      <th>12770681119980912640</th>\n      <td>826</td>\n      <td>335.5</td>\n      <td>-69.5</td>\n      <td>0</td>\n      <td>0</td>\n    </tr>\n    <tr>\n      <th>...</th>\n      <td>...</td>\n      <td>...</td>\n      <td>...</td>\n      <td>...</td>\n      <td>...</td>\n    </tr>\n    <tr>\n      <th>13591216801265483776</th>\n      <td>791</td>\n      <td>312.5</td>\n      <td>-28.5</td>\n      <td>0</td>\n      <td>0</td>\n    </tr>\n    <tr>\n      <th>13596001812279721984</th>\n      <td>824</td>\n      <td>305.5</td>\n      <td>-28.5</td>\n      <td>0</td>\n      <td>0</td>\n    </tr>\n    <tr>\n      <th>13598131468743213056</th>\n      <td>702</td>\n      <td>310.5</td>\n      <td>-27.5</td>\n      <td>0</td>\n      <td>0</td>\n    </tr>\n    <tr>\n      <th>13601023174257934336</th>\n      <td>767</td>\n      <td>314.5</td>\n      <td>-29.5</td>\n      <td>0</td>\n      <td>0</td>\n    </tr>\n    <tr>\n      <th>13696722494273093632</th>\n      <td>743</td>\n      <td>307.5</td>\n      <td>-25.5</td>\n      <td>0</td>\n      <td>0</td>\n    </tr>\n  </tbody>\n</table>\n<p>131 rows × 5 columns</p>\n</div>"
     },
     "execution_count": 4,
     "metadata": {},
     "output_type": "execute_result"
    }
   ],
   "source": [
    "right = lsdb.read_hipscat(\"../tests/data/small_sky_order1\")\n",
    "right.compute()"
   ],
   "metadata": {
    "collapsed": false
   }
  },
  {
   "cell_type": "markdown",
   "source": [],
   "metadata": {
    "collapsed": false
   }
  },
  {
   "cell_type": "code",
   "execution_count": 13,
   "outputs": [
    {
     "name": "stdout",
     "output_type": "stream",
     "text": [
      "77.1 ms ± 2.46 ms per loop (mean ± std. dev. of 7 runs, 10 loops each)\n"
     ]
    }
   ],
   "source": [
    "%timeit join_catalog_data.join_catalog_data(left, right, through=a_cat).compute()"
   ],
   "metadata": {
    "collapsed": false
   }
  },
  {
   "cell_type": "code",
   "execution_count": 7,
   "outputs": [
    {
     "data": {
      "text/plain": "                       id     ra   dec  ra_error  dec_error\nhipscat_id                                                 \n12749688880727326720  707  308.5 -69.5         0          0\n12751184493818150912  792  320.5 -69.5         0          0\n12753202806647685120  811  315.5 -68.5         0          0\n12753202806647685121  723  315.5 -68.5         0          0\n12770681119980912640  826  335.5 -69.5         0          0\n...                   ...    ...   ...       ...        ...\n13591216801265483776  791  312.5 -28.5         0          0\n13596001812279721984  824  305.5 -28.5         0          0\n13598131468743213056  702  310.5 -27.5         0          0\n13601023174257934336  767  314.5 -29.5         0          0\n13696722494273093632  743  307.5 -25.5         0          0\n\n[131 rows x 5 columns]",
      "text/html": "<div>\n<style scoped>\n    .dataframe tbody tr th:only-of-type {\n        vertical-align: middle;\n    }\n\n    .dataframe tbody tr th {\n        vertical-align: top;\n    }\n\n    .dataframe thead th {\n        text-align: right;\n    }\n</style>\n<table border=\"1\" class=\"dataframe\">\n  <thead>\n    <tr style=\"text-align: right;\">\n      <th></th>\n      <th>id</th>\n      <th>ra</th>\n      <th>dec</th>\n      <th>ra_error</th>\n      <th>dec_error</th>\n    </tr>\n    <tr>\n      <th>hipscat_id</th>\n      <th></th>\n      <th></th>\n      <th></th>\n      <th></th>\n      <th></th>\n    </tr>\n  </thead>\n  <tbody>\n    <tr>\n      <th>12749688880727326720</th>\n      <td>707</td>\n      <td>308.5</td>\n      <td>-69.5</td>\n      <td>0</td>\n      <td>0</td>\n    </tr>\n    <tr>\n      <th>12751184493818150912</th>\n      <td>792</td>\n      <td>320.5</td>\n      <td>-69.5</td>\n      <td>0</td>\n      <td>0</td>\n    </tr>\n    <tr>\n      <th>12753202806647685120</th>\n      <td>811</td>\n      <td>315.5</td>\n      <td>-68.5</td>\n      <td>0</td>\n      <td>0</td>\n    </tr>\n    <tr>\n      <th>12753202806647685121</th>\n      <td>723</td>\n      <td>315.5</td>\n      <td>-68.5</td>\n      <td>0</td>\n      <td>0</td>\n    </tr>\n    <tr>\n      <th>12770681119980912640</th>\n      <td>826</td>\n      <td>335.5</td>\n      <td>-69.5</td>\n      <td>0</td>\n      <td>0</td>\n    </tr>\n    <tr>\n      <th>...</th>\n      <td>...</td>\n      <td>...</td>\n      <td>...</td>\n      <td>...</td>\n      <td>...</td>\n    </tr>\n    <tr>\n      <th>13591216801265483776</th>\n      <td>791</td>\n      <td>312.5</td>\n      <td>-28.5</td>\n      <td>0</td>\n      <td>0</td>\n    </tr>\n    <tr>\n      <th>13596001812279721984</th>\n      <td>824</td>\n      <td>305.5</td>\n      <td>-28.5</td>\n      <td>0</td>\n      <td>0</td>\n    </tr>\n    <tr>\n      <th>13598131468743213056</th>\n      <td>702</td>\n      <td>310.5</td>\n      <td>-27.5</td>\n      <td>0</td>\n      <td>0</td>\n    </tr>\n    <tr>\n      <th>13601023174257934336</th>\n      <td>767</td>\n      <td>314.5</td>\n      <td>-29.5</td>\n      <td>0</td>\n      <td>0</td>\n    </tr>\n    <tr>\n      <th>13696722494273093632</th>\n      <td>743</td>\n      <td>307.5</td>\n      <td>-25.5</td>\n      <td>0</td>\n      <td>0</td>\n    </tr>\n  </tbody>\n</table>\n<p>131 rows × 5 columns</p>\n</div>"
     },
     "execution_count": 7,
     "metadata": {},
     "output_type": "execute_result"
    }
   ],
   "source": [
    "left._ddf.compute()"
   ],
   "metadata": {
    "collapsed": false
   }
  },
  {
   "cell_type": "code",
   "execution_count": 12,
   "outputs": [
    {
     "name": "stdout",
     "output_type": "stream",
     "text": [
      "5.81 ms ± 247 µs per loop (mean ± std. dev. of 7 runs, 100 loops each)\n"
     ]
    }
   ],
   "source": [
    "%timeit left._ddf.reset_index().set_index(\"hipscat_id\", divisions=[12749688880727326720, 13696722494273093632], sorted=True).repartition(divisions=[12749688880727326720, 12771980657148559360, 13696722494273093632], force=True).partitions[1].compute()"
   ],
   "metadata": {
    "collapsed": false
   }
  },
  {
   "cell_type": "code",
   "execution_count": 38,
   "outputs": [],
   "source": [],
   "metadata": {
    "collapsed": false
   }
  },
  {
   "cell_type": "code",
   "execution_count": 34,
   "outputs": [],
   "source": [],
   "metadata": {
    "collapsed": false
   }
  }
 ],
 "metadata": {
  "kernelspec": {
   "display_name": "Python 3",
   "language": "python",
   "name": "python3"
  },
  "language_info": {
   "codemirror_mode": {
    "name": "ipython",
    "version": 2
   },
   "file_extension": ".py",
   "mimetype": "text/x-python",
   "name": "python",
   "nbconvert_exporter": "python",
   "pygments_lexer": "ipython2",
   "version": "2.7.6"
  }
 },
 "nbformat": 4,
 "nbformat_minor": 0
}
