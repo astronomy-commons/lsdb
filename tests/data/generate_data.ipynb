{
 "cells": [
  {
   "cell_type": "markdown",
   "metadata": {},
   "source": [
    "# Unit test data\n",
    "import pandas as pd\n",
    "import pandas as pd\n",
    "\n",
    "This directory contains very small, toy, data sets that are used\n",
    "for unit tests.\n",
    "\n",
    "## Object catalog: small_sky\n",
    "\n",
    "This \"object catalog\" is 131 randomly generated radec values. \n",
    "\n",
    "- All radec positions are in the Healpix pixel order 0, pixel 11.\n",
    "- IDs are integers from 700-831."
   ]
  },
  {
   "cell_type": "code",
   "metadata": {
    "ExecuteTime": {
     "end_time": "2024-10-03T20:47:48.302610Z",
     "start_time": "2024-10-03T20:47:43.684052Z"
    }
   },
   "source": [
    "import hats_import.pipeline as runner\n",
    "from hats_import.catalog.arguments import ImportArguments\n",
    "from hats_import.index.arguments import IndexArguments\n",
    "from hats_import.margin_cache.margin_cache_arguments import MarginCacheArguments\n",
    "from hats_import.soap import SoapArguments\n",
    "import tempfile\n",
    "from dask.distributed import Client\n",
    "\n",
    "tmp_path = tempfile.TemporaryDirectory()\n",
    "tmp_dir = tmp_path.name\n",
    "\n",
    "client = Client(n_workers=1, threads_per_worker=1, local_directory=tmp_dir)"
   ],
   "outputs": [],
   "execution_count": 1
  },
  {
   "cell_type": "markdown",
   "metadata": {},
   "source": [
    "### small_sky_order1\n",
    "\n",
    "This catalog has the same data points as other small sky catalogs,\n",
    "but is coerced to spreading these data points over partitions at order 1, instead\n",
    "of order 0.\n",
    "\n",
    "This means there are 4 leaf partition files, instead of just 1, and so can\n",
    "be useful for confirming reads/writes over multiple leaf partition files.\n",
    "\n",
    "NB: Setting `constant_healpix_order` coerces the import pipeline to create\n",
    "leaf partitions at order 1."
   ]
  },
  {
   "cell_type": "code",
   "metadata": {
    "ExecuteTime": {
     "end_time": "2024-10-03T20:47:51.037190Z",
     "start_time": "2024-10-03T20:47:48.303875Z"
    }
   },
   "source": [
    "with tempfile.TemporaryDirectory() as pipeline_tmp:\n",
    "    args = ImportArguments(\n",
    "        input_file_list=[\"raw/small_sky/small_sky.csv\"],\n",
    "        output_path=\".\",\n",
    "        file_reader=\"csv\",\n",
    "        output_artifact_name=\"small_sky_order1\",\n",
    "        constant_healpix_order=1,\n",
    "        tmp_dir=pipeline_tmp,\n",
    "    )\n",
    "    runner.pipeline_with_client(args, client)"
   ],
   "outputs": [
    {
     "data": {
      "text/plain": [
       "Planning  :   0%|          | 0/4 [00:00<?, ?it/s]"
      ],
      "application/vnd.jupyter.widget-view+json": {
       "version_major": 2,
       "version_minor": 0,
       "model_id": "fd442b74138a48d7ab1541771121f2d5"
      }
     },
     "metadata": {},
     "output_type": "display_data"
    },
    {
     "data": {
      "text/plain": [
       "Mapping   :   0%|          | 0/1 [00:00<?, ?it/s]"
      ],
      "application/vnd.jupyter.widget-view+json": {
       "version_major": 2,
       "version_minor": 0,
       "model_id": "6d9b925264654714b5bb45bfcc98a64f"
      }
     },
     "metadata": {},
     "output_type": "display_data"
    },
    {
     "data": {
      "text/plain": [
       "Binning   :   0%|          | 0/2 [00:00<?, ?it/s]"
      ],
      "application/vnd.jupyter.widget-view+json": {
       "version_major": 2,
       "version_minor": 0,
       "model_id": "e67ad35b0b7243faba016a6278796f3c"
      }
     },
     "metadata": {},
     "output_type": "display_data"
    },
    {
     "data": {
      "text/plain": [
       "Splitting :   0%|          | 0/1 [00:00<?, ?it/s]"
      ],
      "application/vnd.jupyter.widget-view+json": {
       "version_major": 2,
       "version_minor": 0,
       "model_id": "6c846506e00d4082980f04dcf7bfce3d"
      }
     },
     "metadata": {},
     "output_type": "display_data"
    },
    {
     "data": {
      "text/plain": [
       "Reducing  :   0%|          | 0/4 [00:00<?, ?it/s]"
      ],
      "application/vnd.jupyter.widget-view+json": {
       "version_major": 2,
       "version_minor": 0,
       "model_id": "3c018fd81d0246b892ec84ee475c9c08"
      }
     },
     "metadata": {},
     "output_type": "display_data"
    },
    {
     "data": {
      "text/plain": [
       "Finishing :   0%|          | 0/5 [00:00<?, ?it/s]"
      ],
      "application/vnd.jupyter.widget-view+json": {
       "version_major": 2,
       "version_minor": 0,
       "model_id": "39bd087e083a4ceea1c3abf74604c7f1"
      }
     },
     "metadata": {},
     "output_type": "display_data"
    }
   ],
   "execution_count": 2
  },
  {
   "cell_type": "markdown",
   "metadata": {},
   "source": [
    "### small_sky\n",
    "\n",
    "This \"object catalog\" is 131 randomly generated radec values. \n",
    "\n",
    "- All radec positions are in the Healpix pixel order 0, pixel 11.\n",
    "- IDs are integers from 700-831.\n",
    "\n",
    "This catalog was generated with the following snippet:"
   ]
  },
  {
   "cell_type": "code",
   "metadata": {
    "ExecuteTime": {
     "end_time": "2024-10-03T20:47:51.121973Z",
     "start_time": "2024-10-03T20:47:51.038544Z"
    }
   },
   "source": [
    "with tempfile.TemporaryDirectory() as pipeline_tmp:\n",
    "    args = ImportArguments(\n",
    "        input_file_list=[\"raw/small_sky/small_sky.csv\"],\n",
    "        output_path=\".\",\n",
    "        file_reader=\"csv\",\n",
    "        output_artifact_name=\"small_sky\",\n",
    "        tmp_dir=pipeline_tmp,\n",
    "        highest_healpix_order=5,\n",
    "    )\n",
    "    runner.pipeline_with_client(args, client)"
   ],
   "outputs": [
    {
     "data": {
      "text/plain": [
       "Planning  :   0%|          | 0/4 [00:00<?, ?it/s]"
      ],
      "application/vnd.jupyter.widget-view+json": {
       "version_major": 2,
       "version_minor": 0,
       "model_id": "735f40d56fd741a1961ac62f58c7f1f7"
      }
     },
     "metadata": {},
     "output_type": "display_data"
    },
    {
     "data": {
      "text/plain": [
       "Mapping   :   0%|          | 0/1 [00:00<?, ?it/s]"
      ],
      "application/vnd.jupyter.widget-view+json": {
       "version_major": 2,
       "version_minor": 0,
       "model_id": "326ac7c247134c2a96e38ae9ef21bed2"
      }
     },
     "metadata": {},
     "output_type": "display_data"
    },
    {
     "data": {
      "text/plain": [
       "Binning   :   0%|          | 0/2 [00:00<?, ?it/s]"
      ],
      "application/vnd.jupyter.widget-view+json": {
       "version_major": 2,
       "version_minor": 0,
       "model_id": "a47d7d383a604afc96c198c4443dab1c"
      }
     },
     "metadata": {},
     "output_type": "display_data"
    },
    {
     "data": {
      "text/plain": [
       "Splitting :   0%|          | 0/1 [00:00<?, ?it/s]"
      ],
      "application/vnd.jupyter.widget-view+json": {
       "version_major": 2,
       "version_minor": 0,
       "model_id": "af225074f0a54fd6bc28065047e87ee3"
      }
     },
     "metadata": {},
     "output_type": "display_data"
    },
    {
     "data": {
      "text/plain": [
       "Reducing  :   0%|          | 0/1 [00:00<?, ?it/s]"
      ],
      "application/vnd.jupyter.widget-view+json": {
       "version_major": 2,
       "version_minor": 0,
       "model_id": "9a7d70966cf04e5097e6e8a5cb1ffd66"
      }
     },
     "metadata": {},
     "output_type": "display_data"
    },
    {
     "data": {
      "text/plain": [
       "Finishing :   0%|          | 0/5 [00:00<?, ?it/s]"
      ],
      "application/vnd.jupyter.widget-view+json": {
       "version_major": 2,
       "version_minor": 0,
       "model_id": "73b1c0c30f434dac9893d798eb169da8"
      }
     },
     "metadata": {},
     "output_type": "display_data"
    }
   ],
   "execution_count": 3
  },
  {
   "cell_type": "markdown",
   "metadata": {},
   "source": [
    "### small_sky_order1_id_index"
   ]
  },
  {
   "cell_type": "code",
   "metadata": {
    "ExecuteTime": {
     "end_time": "2024-10-03T20:47:51.997575Z",
     "start_time": "2024-10-03T20:47:51.124508Z"
    }
   },
   "source": [
    "with tempfile.TemporaryDirectory() as pipeline_tmp:\n",
    "    args = IndexArguments(\n",
    "        input_catalog_path=\"./small_sky_order1\",\n",
    "        indexing_column=\"id\",\n",
    "        output_path=\".\",\n",
    "        output_artifact_name=\"small_sky_order1_id_index\",\n",
    "        include_healpix_29=False,\n",
    "        compute_partition_size=200_000,\n",
    "        tmp_dir=pipeline_tmp,\n",
    "    )\n",
    "    runner.pipeline_with_client(args, client)"
   ],
   "outputs": [
    {
     "data": {
      "text/plain": [
       "Finishing :   0%|          | 0/3 [00:00<?, ?it/s]"
      ],
      "application/vnd.jupyter.widget-view+json": {
       "version_major": 2,
       "version_minor": 0,
       "model_id": "9adfee82f03a4b5eac9001f4a58908ca"
      }
     },
     "metadata": {},
     "output_type": "display_data"
    }
   ],
   "execution_count": 4
  },
  {
   "cell_type": "markdown",
   "metadata": {},
   "source": [
    "## Object catalog: small_sky_source\n",
    "\n",
    "This \"source catalog\" is 131 detections at each of the 131 objects\n",
    "in the \"small_sky\" catalog. These have a random magnitude, MJD, and \n",
    "band (selected from ugrizy). The full script that generated the values\n",
    "can be found [here](https://github.com/delucchi-cmu/hipscripts/blob/main/twiddling/small_sky_source.py)"
   ]
  },
  {
   "cell_type": "markdown",
   "metadata": {},
   "source": [
    "### small_sky_order1_source"
   ]
  },
  {
   "cell_type": "code",
   "metadata": {
    "ExecuteTime": {
     "end_time": "2024-10-03T20:47:52.145198Z",
     "start_time": "2024-10-03T20:47:51.998275Z"
    }
   },
   "source": [
    "with tempfile.TemporaryDirectory() as pipeline_tmp:\n",
    "    args = ImportArguments(\n",
    "        input_file_list=[\"raw/small_sky_source/small_sky_source.csv\"],\n",
    "        output_path=\".\",\n",
    "        file_reader=\"csv\",\n",
    "        ra_column=\"source_ra\",\n",
    "        dec_column=\"source_dec\",\n",
    "        catalog_type=\"source\",\n",
    "        output_artifact_name=\"small_sky_order1_source\",\n",
    "        constant_healpix_order=1,\n",
    "        tmp_dir=pipeline_tmp,\n",
    "    )\n",
    "    runner.pipeline_with_client(args, client)"
   ],
   "outputs": [
    {
     "data": {
      "text/plain": [
       "Planning  :   0%|          | 0/4 [00:00<?, ?it/s]"
      ],
      "application/vnd.jupyter.widget-view+json": {
       "version_major": 2,
       "version_minor": 0,
       "model_id": "152dbe9db75044f5b2ddf70adcc5f7b8"
      }
     },
     "metadata": {},
     "output_type": "display_data"
    },
    {
     "data": {
      "text/plain": [
       "Mapping   :   0%|          | 0/1 [00:00<?, ?it/s]"
      ],
      "application/vnd.jupyter.widget-view+json": {
       "version_major": 2,
       "version_minor": 0,
       "model_id": "7af52b618134446b9fdf0ca827003693"
      }
     },
     "metadata": {},
     "output_type": "display_data"
    },
    {
     "data": {
      "text/plain": [
       "Binning   :   0%|          | 0/2 [00:00<?, ?it/s]"
      ],
      "application/vnd.jupyter.widget-view+json": {
       "version_major": 2,
       "version_minor": 0,
       "model_id": "c40abf8c38794a8a8d9d53772d903241"
      }
     },
     "metadata": {},
     "output_type": "display_data"
    },
    {
     "data": {
      "text/plain": [
       "Splitting :   0%|          | 0/1 [00:00<?, ?it/s]"
      ],
      "application/vnd.jupyter.widget-view+json": {
       "version_major": 2,
       "version_minor": 0,
       "model_id": "580c09ec3dad4accbb593cdfb2a36043"
      }
     },
     "metadata": {},
     "output_type": "display_data"
    },
    {
     "data": {
      "text/plain": [
       "Reducing  :   0%|          | 0/5 [00:00<?, ?it/s]"
      ],
      "application/vnd.jupyter.widget-view+json": {
       "version_major": 2,
       "version_minor": 0,
       "model_id": "55b0f91d416f4f71b9032a6714101cc0"
      }
     },
     "metadata": {},
     "output_type": "display_data"
    },
    {
     "data": {
      "text/plain": [
       "Finishing :   0%|          | 0/5 [00:00<?, ?it/s]"
      ],
      "application/vnd.jupyter.widget-view+json": {
       "version_major": 2,
       "version_minor": 0,
       "model_id": "b3a31090db9a499f9026bc0a3c87247a"
      }
     },
     "metadata": {},
     "output_type": "display_data"
    }
   ],
   "execution_count": 5
  },
  {
   "cell_type": "markdown",
   "metadata": {},
   "source": [
    "### small_sky_source"
   ]
  },
  {
   "cell_type": "code",
   "metadata": {
    "ExecuteTime": {
     "end_time": "2024-10-03T20:47:52.362271Z",
     "start_time": "2024-10-03T20:47:52.146230Z"
    }
   },
   "source": [
    "with tempfile.TemporaryDirectory() as pipeline_tmp:\n",
    "    args = ImportArguments(\n",
    "        input_file_list=[\"raw/small_sky_source/small_sky_source.csv\"],\n",
    "        output_path=\".\",\n",
    "        file_reader=\"csv\",\n",
    "        ra_column=\"source_ra\",\n",
    "        dec_column=\"source_dec\",\n",
    "        catalog_type=\"source\",\n",
    "        output_artifact_name=\"small_sky_source\",\n",
    "        highest_healpix_order=2,\n",
    "        pixel_threshold=3000,\n",
    "        tmp_dir=pipeline_tmp,\n",
    "    )\n",
    "    runner.pipeline_with_client(args, client)"
   ],
   "outputs": [
    {
     "data": {
      "text/plain": [
       "Planning  :   0%|          | 0/4 [00:00<?, ?it/s]"
      ],
      "application/vnd.jupyter.widget-view+json": {
       "version_major": 2,
       "version_minor": 0,
       "model_id": "50ba004fe9524c09b673ecdfe7d6ac79"
      }
     },
     "metadata": {},
     "output_type": "display_data"
    },
    {
     "data": {
      "text/plain": [
       "Mapping   :   0%|          | 0/1 [00:00<?, ?it/s]"
      ],
      "application/vnd.jupyter.widget-view+json": {
       "version_major": 2,
       "version_minor": 0,
       "model_id": "dc89a14095784c0d8d498df7c5b11b41"
      }
     },
     "metadata": {},
     "output_type": "display_data"
    },
    {
     "data": {
      "text/plain": [
       "Binning   :   0%|          | 0/2 [00:00<?, ?it/s]"
      ],
      "application/vnd.jupyter.widget-view+json": {
       "version_major": 2,
       "version_minor": 0,
       "model_id": "d24c3d0e588a459688691d71cd02fb4f"
      }
     },
     "metadata": {},
     "output_type": "display_data"
    },
    {
     "data": {
      "text/plain": [
       "Splitting :   0%|          | 0/1 [00:00<?, ?it/s]"
      ],
      "application/vnd.jupyter.widget-view+json": {
       "version_major": 2,
       "version_minor": 0,
       "model_id": "0e8219a9eec44f178cf9c708584e4afb"
      }
     },
     "metadata": {},
     "output_type": "display_data"
    },
    {
     "data": {
      "text/plain": [
       "Reducing  :   0%|          | 0/14 [00:00<?, ?it/s]"
      ],
      "application/vnd.jupyter.widget-view+json": {
       "version_major": 2,
       "version_minor": 0,
       "model_id": "f22f13cba84a4df7b7e2c372f1359526"
      }
     },
     "metadata": {},
     "output_type": "display_data"
    },
    {
     "data": {
      "text/plain": [
       "Finishing :   0%|          | 0/5 [00:00<?, ?it/s]"
      ],
      "application/vnd.jupyter.widget-view+json": {
       "version_major": 2,
       "version_minor": 0,
       "model_id": "e07959582f644798ae2b81c146fc984b"
      }
     },
     "metadata": {},
     "output_type": "display_data"
    }
   ],
   "execution_count": 6
  },
  {
   "cell_type": "markdown",
   "metadata": {},
   "source": [
    "### small_sky_source_margin"
   ]
  },
  {
   "cell_type": "code",
   "metadata": {
    "ExecuteTime": {
     "end_time": "2024-10-03T20:47:53.573491Z",
     "start_time": "2024-10-03T20:47:52.362998Z"
    }
   },
   "source": [
    "with tempfile.TemporaryDirectory() as pipeline_tmp:\n",
    "    args = MarginCacheArguments(\n",
    "        input_catalog_path=\"small_sky_source\",\n",
    "        output_path=\".\",\n",
    "        output_artifact_name=\"small_sky_source_margin\",\n",
    "        margin_threshold=180,\n",
    "        margin_order=8,\n",
    "        tmp_dir=pipeline_tmp,\n",
    "    )\n",
    "    runner.pipeline_with_client(args, client)"
   ],
   "outputs": [
    {
     "data": {
      "text/plain": [
       "Planning  :   0%|          | 0/3 [00:00<?, ?it/s]"
      ],
      "application/vnd.jupyter.widget-view+json": {
       "version_major": 2,
       "version_minor": 0,
       "model_id": "004bb7be09724978924d7a615f9dbcba"
      }
     },
     "metadata": {},
     "output_type": "display_data"
    },
    {
     "data": {
      "text/plain": [
       "Mapping   :   0%|          | 0/14 [00:00<?, ?it/s]"
      ],
      "application/vnd.jupyter.widget-view+json": {
       "version_major": 2,
       "version_minor": 0,
       "model_id": "bd91da9dca894f4f8d46ba54759cb6c0"
      }
     },
     "metadata": {},
     "output_type": "display_data"
    },
    {
     "data": {
      "text/plain": [
       "Reducing  :   0%|          | 0/24 [00:00<?, ?it/s]"
      ],
      "application/vnd.jupyter.widget-view+json": {
       "version_major": 2,
       "version_minor": 0,
       "model_id": "462dc5d9d0c4496a844a31d48e86194e"
      }
     },
     "metadata": {},
     "output_type": "display_data"
    },
    {
     "data": {
      "text/plain": [
       "Finishing :   0%|          | 0/4 [00:00<?, ?it/s]"
      ],
      "application/vnd.jupyter.widget-view+json": {
       "version_major": 2,
       "version_minor": 0,
       "model_id": "00e839ae56cc4dd99e238e2d8a594f12"
      }
     },
     "metadata": {},
     "output_type": "display_data"
    }
   ],
   "execution_count": 7
  },
  {
   "cell_type": "markdown",
   "metadata": {},
   "source": [
    "### small_sky_order1_source_margin"
   ]
  },
  {
   "cell_type": "code",
   "metadata": {
    "ExecuteTime": {
     "end_time": "2024-10-03T20:47:56.531771Z",
     "start_time": "2024-10-03T20:47:53.574055Z"
    }
   },
   "source": [
    "with tempfile.TemporaryDirectory() as pipeline_tmp:\n",
    "    args = MarginCacheArguments(\n",
    "        input_catalog_path=\"small_sky_order1_source\",\n",
    "        output_path=\".\",\n",
    "        output_artifact_name=\"small_sky_order1_source_margin\",\n",
    "        margin_threshold=7200,\n",
    "        margin_order=4,\n",
    "        tmp_dir=pipeline_tmp,\n",
    "    )\n",
    "    runner.pipeline_with_client(args, client)"
   ],
   "outputs": [
    {
     "data": {
      "text/plain": [
       "Planning  :   0%|          | 0/3 [00:00<?, ?it/s]"
      ],
      "application/vnd.jupyter.widget-view+json": {
       "version_major": 2,
       "version_minor": 0,
       "model_id": "e095b91249784bedac6f6b52067c0e52"
      }
     },
     "metadata": {},
     "output_type": "display_data"
    },
    {
     "data": {
      "text/plain": [
       "Mapping   :   0%|          | 0/5 [00:00<?, ?it/s]"
      ],
      "application/vnd.jupyter.widget-view+json": {
       "version_major": 2,
       "version_minor": 0,
       "model_id": "10521056a32a44f9b9f6be8d1ad4d5be"
      }
     },
     "metadata": {},
     "output_type": "display_data"
    },
    {
     "data": {
      "text/plain": [
       "Reducing  :   0%|          | 0/18 [00:00<?, ?it/s]"
      ],
      "application/vnd.jupyter.widget-view+json": {
       "version_major": 2,
       "version_minor": 0,
       "model_id": "fbb6944203114fb3b909aeaa43da1438"
      }
     },
     "metadata": {},
     "output_type": "display_data"
    },
    {
     "data": {
      "text/plain": [
       "Finishing :   0%|          | 0/4 [00:00<?, ?it/s]"
      ],
      "application/vnd.jupyter.widget-view+json": {
       "version_major": 2,
       "version_minor": 0,
       "model_id": "8705e729e2f540dfbe0a35c47412b6c6"
      }
     },
     "metadata": {},
     "output_type": "display_data"
    }
   ],
   "execution_count": 8
  },
  {
   "cell_type": "markdown",
   "metadata": {},
   "source": [
    "### small_sky_order3_source_margin\n",
    "\n",
    "This one is similar to the previous margin catalogs but it is generated from a source catalog of order 3."
   ]
  },
  {
   "cell_type": "code",
   "metadata": {
    "ExecuteTime": {
     "end_time": "2024-10-03T20:48:00.070056Z",
     "start_time": "2024-10-03T20:47:56.532554Z"
    }
   },
   "source": [
    "with tempfile.TemporaryDirectory() as pipeline_tmp:\n",
    "    args = ImportArguments(\n",
    "        input_file_list=[\"raw/small_sky_source/small_sky_source.csv\"],\n",
    "        output_path=\".\",\n",
    "        file_reader=\"csv\",\n",
    "        ra_column=\"source_ra\",\n",
    "        dec_column=\"source_dec\",\n",
    "        catalog_type=\"source\",\n",
    "        output_artifact_name=\"small_sky_order3_source\",\n",
    "        constant_healpix_order=3,\n",
    "        tmp_dir=pipeline_tmp,\n",
    "    )\n",
    "    runner.pipeline_with_client(args, client)\n",
    "\n",
    "with tempfile.TemporaryDirectory() as pipeline_tmp:\n",
    "    args = MarginCacheArguments(\n",
    "        input_catalog_path=\"small_sky_order3_source\",\n",
    "        output_path=\".\",\n",
    "        output_artifact_name=\"small_sky_order3_source_margin\",\n",
    "        margin_threshold=300,\n",
    "        margin_order=7,\n",
    "        tmp_dir=pipeline_tmp,\n",
    "    )\n",
    "    runner.pipeline_with_client(args, client)"
   ],
   "outputs": [
    {
     "data": {
      "text/plain": [
       "Planning  :   0%|          | 0/4 [00:00<?, ?it/s]"
      ],
      "application/vnd.jupyter.widget-view+json": {
       "version_major": 2,
       "version_minor": 0,
       "model_id": "4e0d023a0b414b66841cf960540ab462"
      }
     },
     "metadata": {},
     "output_type": "display_data"
    },
    {
     "data": {
      "text/plain": [
       "Mapping   :   0%|          | 0/1 [00:00<?, ?it/s]"
      ],
      "application/vnd.jupyter.widget-view+json": {
       "version_major": 2,
       "version_minor": 0,
       "model_id": "b1d26836786d48e2b90fcbea8c4abced"
      }
     },
     "metadata": {},
     "output_type": "display_data"
    },
    {
     "data": {
      "text/plain": [
       "Binning   :   0%|          | 0/2 [00:00<?, ?it/s]"
      ],
      "application/vnd.jupyter.widget-view+json": {
       "version_major": 2,
       "version_minor": 0,
       "model_id": "1cd696af5286477a936c21d480c88525"
      }
     },
     "metadata": {},
     "output_type": "display_data"
    },
    {
     "data": {
      "text/plain": [
       "Splitting :   0%|          | 0/1 [00:00<?, ?it/s]"
      ],
      "application/vnd.jupyter.widget-view+json": {
       "version_major": 2,
       "version_minor": 0,
       "model_id": "b9244bf7c852466596ebf67394f9c306"
      }
     },
     "metadata": {},
     "output_type": "display_data"
    },
    {
     "data": {
      "text/plain": [
       "Reducing  :   0%|          | 0/43 [00:00<?, ?it/s]"
      ],
      "application/vnd.jupyter.widget-view+json": {
       "version_major": 2,
       "version_minor": 0,
       "model_id": "1772e3eea7ec40bfa7ecbbd9bc20bce0"
      }
     },
     "metadata": {},
     "output_type": "display_data"
    },
    {
     "data": {
      "text/plain": [
       "Finishing :   0%|          | 0/5 [00:00<?, ?it/s]"
      ],
      "application/vnd.jupyter.widget-view+json": {
       "version_major": 2,
       "version_minor": 0,
       "model_id": "4cf819f2545e496996c978847d8808d7"
      }
     },
     "metadata": {},
     "output_type": "display_data"
    },
    {
     "data": {
      "text/plain": [
       "Planning  :   0%|          | 0/3 [00:00<?, ?it/s]"
      ],
      "application/vnd.jupyter.widget-view+json": {
       "version_major": 2,
       "version_minor": 0,
       "model_id": "f7c709396ccb49a5ad580df72042c643"
      }
     },
     "metadata": {},
     "output_type": "display_data"
    },
    {
     "data": {
      "text/plain": [
       "Mapping   :   0%|          | 0/43 [00:00<?, ?it/s]"
      ],
      "application/vnd.jupyter.widget-view+json": {
       "version_major": 2,
       "version_minor": 0,
       "model_id": "c2f25eb1b0b74dfba9110211fa5603f5"
      }
     },
     "metadata": {},
     "output_type": "display_data"
    },
    {
     "data": {
      "text/plain": [
       "Reducing  :   0%|          | 0/78 [00:00<?, ?it/s]"
      ],
      "application/vnd.jupyter.widget-view+json": {
       "version_major": 2,
       "version_minor": 0,
       "model_id": "6a09a168bf124e09834154386d95f71d"
      }
     },
     "metadata": {},
     "output_type": "display_data"
    },
    {
     "data": {
      "text/plain": [
       "Finishing :   0%|          | 0/4 [00:00<?, ?it/s]"
      ],
      "application/vnd.jupyter.widget-view+json": {
       "version_major": 2,
       "version_minor": 0,
       "model_id": "142067a55f4e4df8b68cb89e96a24180"
      }
     },
     "metadata": {},
     "output_type": "display_data"
    }
   ],
   "execution_count": 9
  },
  {
   "cell_type": "markdown",
   "metadata": {},
   "source": [
    "## Connections between tables\n",
    "\n",
    "### small_sky_to_o1source"
   ]
  },
  {
   "cell_type": "code",
   "metadata": {
    "ExecuteTime": {
     "end_time": "2024-10-03T20:48:00.180200Z",
     "start_time": "2024-10-03T20:48:00.072426Z"
    }
   },
   "source": [
    "with tempfile.TemporaryDirectory() as pipeline_tmp:\n",
    "    args = SoapArguments(\n",
    "        object_catalog_dir=\"small_sky\",\n",
    "        object_id_column=\"id\",\n",
    "        source_catalog_dir=\"small_sky_order1_source\",\n",
    "        source_object_id_column=\"object_id\",\n",
    "        source_id_column=\"source_id\",\n",
    "        output_path=\".\",\n",
    "        output_artifact_name=\"small_sky_to_o1source\",\n",
    "        write_leaf_files=True,\n",
    "    )\n",
    "    runner.pipeline_with_client(args, client)"
   ],
   "outputs": [
    {
     "data": {
      "text/plain": [
       "Planning  :   0%|          | 0/3 [00:00<?, ?it/s]"
      ],
      "application/vnd.jupyter.widget-view+json": {
       "version_major": 2,
       "version_minor": 0,
       "model_id": "bd0548bfac934d22a6892885acd7b129"
      }
     },
     "metadata": {},
     "output_type": "display_data"
    },
    {
     "data": {
      "text/plain": [
       "Counting  :   0%|          | 0/5 [00:00<?, ?it/s]"
      ],
      "application/vnd.jupyter.widget-view+json": {
       "version_major": 2,
       "version_minor": 0,
       "model_id": "fdc6f2975c7747beb806449e09ae0ada"
      }
     },
     "metadata": {},
     "output_type": "display_data"
    },
    {
     "data": {
      "text/plain": [
       "Reducing  :   0%|          | 0/6 [00:00<?, ?it/s]"
      ],
      "application/vnd.jupyter.widget-view+json": {
       "version_major": 2,
       "version_minor": 0,
       "model_id": "d97819dd9a0f4e2096ff02660983d138"
      }
     },
     "metadata": {},
     "output_type": "display_data"
    },
    {
     "data": {
      "text/plain": [
       "Finishing :   0%|          | 0/4 [00:00<?, ?it/s]"
      ],
      "application/vnd.jupyter.widget-view+json": {
       "version_major": 2,
       "version_minor": 0,
       "model_id": "74166849025946a9a3b692cf82f2a93a"
      }
     },
     "metadata": {},
     "output_type": "display_data"
    }
   ],
   "execution_count": 10
  },
  {
   "cell_type": "markdown",
   "metadata": {},
   "source": [
    "### small_sky_to_o1source_soft"
   ]
  },
  {
   "cell_type": "code",
   "metadata": {
    "ExecuteTime": {
     "end_time": "2024-10-03T20:48:00.258359Z",
     "start_time": "2024-10-03T20:48:00.180935Z"
    }
   },
   "source": [
    "with tempfile.TemporaryDirectory() as pipeline_tmp:\n",
    "    args = SoapArguments(\n",
    "        object_catalog_dir=\"small_sky\",\n",
    "        object_id_column=\"id\",\n",
    "        source_catalog_dir=\"small_sky_order1_source\",\n",
    "        source_object_id_column=\"object_id\",\n",
    "        source_id_column=\"source_id\",\n",
    "        output_path=\".\",\n",
    "        output_artifact_name=\"small_sky_to_o1source_soft\",\n",
    "        write_leaf_files=False,\n",
    "    )\n",
    "    runner.pipeline_with_client(args, client)"
   ],
   "outputs": [
    {
     "data": {
      "text/plain": [
       "Planning  :   0%|          | 0/3 [00:00<?, ?it/s]"
      ],
      "application/vnd.jupyter.widget-view+json": {
       "version_major": 2,
       "version_minor": 0,
       "model_id": "676a11be92554a1e821df277b67ab6a3"
      }
     },
     "metadata": {},
     "output_type": "display_data"
    },
    {
     "data": {
      "text/plain": [
       "Counting  :   0%|          | 0/5 [00:00<?, ?it/s]"
      ],
      "application/vnd.jupyter.widget-view+json": {
       "version_major": 2,
       "version_minor": 0,
       "model_id": "942acab3ef60498ca5c7e62620b505b8"
      }
     },
     "metadata": {},
     "output_type": "display_data"
    },
    {
     "data": {
      "text/plain": [
       "Finishing :   0%|          | 0/4 [00:00<?, ?it/s]"
      ],
      "application/vnd.jupyter.widget-view+json": {
       "version_major": 2,
       "version_minor": 0,
       "model_id": "e8d33374b89949efa65e10728d965c30"
      }
     },
     "metadata": {},
     "output_type": "display_data"
    }
   ],
   "execution_count": 11
  },
  {
   "cell_type": "markdown",
   "metadata": {},
   "source": [
    "## Perturbed object catalog\n",
    "\n",
    "In order to test validity of cross match, we create a new version of the \"small sky\" catalog where each radec is slightly perturbed.\n",
    "\n",
    "### small_sky_xmatch\n",
    "\n",
    "The initial perturbation is stored as a CSV, and we can re-import from this raw data set."
   ]
  },
  {
   "cell_type": "code",
   "metadata": {
    "ExecuteTime": {
     "end_time": "2024-10-03T20:48:00.363489Z",
     "start_time": "2024-10-03T20:48:00.259302Z"
    }
   },
   "source": [
    "with tempfile.TemporaryDirectory() as pipeline_tmp:\n",
    "    args = ImportArguments(\n",
    "        input_file_list=[\"raw/xmatch/small_sky_xmatch.csv\"],\n",
    "        output_path=\".\",\n",
    "        file_reader=\"csv\",\n",
    "        output_artifact_name=\"small_sky_xmatch\",\n",
    "        pixel_threshold=100,\n",
    "        tmp_dir=pipeline_tmp,\n",
    "        highest_healpix_order=4,\n",
    "    )\n",
    "    runner.pipeline_with_client(args, client)"
   ],
   "outputs": [
    {
     "data": {
      "text/plain": [
       "Planning  :   0%|          | 0/4 [00:00<?, ?it/s]"
      ],
      "application/vnd.jupyter.widget-view+json": {
       "version_major": 2,
       "version_minor": 0,
       "model_id": "7dc65a085a984ae7a05373fdefa36ca3"
      }
     },
     "metadata": {},
     "output_type": "display_data"
    },
    {
     "data": {
      "text/plain": [
       "Mapping   :   0%|          | 0/1 [00:00<?, ?it/s]"
      ],
      "application/vnd.jupyter.widget-view+json": {
       "version_major": 2,
       "version_minor": 0,
       "model_id": "4eca2e6fbce54e359cefd6aca41fc4ae"
      }
     },
     "metadata": {},
     "output_type": "display_data"
    },
    {
     "data": {
      "text/plain": [
       "Binning   :   0%|          | 0/2 [00:00<?, ?it/s]"
      ],
      "application/vnd.jupyter.widget-view+json": {
       "version_major": 2,
       "version_minor": 0,
       "model_id": "87644c73df684a88aad5fd2c788ebad4"
      }
     },
     "metadata": {},
     "output_type": "display_data"
    },
    {
     "data": {
      "text/plain": [
       "Splitting :   0%|          | 0/1 [00:00<?, ?it/s]"
      ],
      "application/vnd.jupyter.widget-view+json": {
       "version_major": 2,
       "version_minor": 0,
       "model_id": "f21b69a439454e6e9f321297ad9dd9ab"
      }
     },
     "metadata": {},
     "output_type": "display_data"
    },
    {
     "data": {
      "text/plain": [
       "Reducing  :   0%|          | 0/3 [00:00<?, ?it/s]"
      ],
      "application/vnd.jupyter.widget-view+json": {
       "version_major": 2,
       "version_minor": 0,
       "model_id": "e46f43e844b34bdba029a3e5ad7d6221"
      }
     },
     "metadata": {},
     "output_type": "display_data"
    },
    {
     "data": {
      "text/plain": [
       "Finishing :   0%|          | 0/5 [00:00<?, ?it/s]"
      ],
      "application/vnd.jupyter.widget-view+json": {
       "version_major": 2,
       "version_minor": 0,
       "model_id": "5a9f2878393441f69c49d8ed398cdb47"
      }
     },
     "metadata": {},
     "output_type": "display_data"
    }
   ],
   "execution_count": 12
  },
  {
   "cell_type": "markdown",
   "metadata": {},
   "source": [
    "### small_sky_to_xmatch\n",
    "\n",
    "Association table between the original \"small sky\" object catalog, and the perturbed \"small sky xmatch\" catalog.\n",
    "\n",
    "Used to test joining THROUGH the association catalog."
   ]
  },
  {
   "cell_type": "code",
   "metadata": {
    "ExecuteTime": {
     "end_time": "2024-10-03T20:48:00.440522Z",
     "start_time": "2024-10-03T20:48:00.364315Z"
    }
   },
   "source": [
    "with tempfile.TemporaryDirectory() as pipeline_tmp:\n",
    "    args = SoapArguments(\n",
    "        object_catalog_dir=\"small_sky\",\n",
    "        object_id_column=\"id\",\n",
    "        source_catalog_dir=\"small_sky_xmatch\",\n",
    "        source_object_id_column=\"id\",\n",
    "        source_id_column=\"id\",\n",
    "        output_path=\".\",\n",
    "        write_leaf_files=True,\n",
    "        output_artifact_name=\"small_sky_to_xmatch\",\n",
    "    )\n",
    "    runner.pipeline_with_client(args, client)"
   ],
   "outputs": [
    {
     "data": {
      "text/plain": [
       "Planning  :   0%|          | 0/3 [00:00<?, ?it/s]"
      ],
      "application/vnd.jupyter.widget-view+json": {
       "version_major": 2,
       "version_minor": 0,
       "model_id": "ac2ce8c6fc61455782afe41d5638c6e9"
      }
     },
     "metadata": {},
     "output_type": "display_data"
    },
    {
     "data": {
      "text/plain": [
       "Counting  :   0%|          | 0/3 [00:00<?, ?it/s]"
      ],
      "application/vnd.jupyter.widget-view+json": {
       "version_major": 2,
       "version_minor": 0,
       "model_id": "07f8c6af17b1466c8d417d35fe514ece"
      }
     },
     "metadata": {},
     "output_type": "display_data"
    },
    {
     "data": {
      "text/plain": [
       "Reducing  :   0%|          | 0/4 [00:00<?, ?it/s]"
      ],
      "application/vnd.jupyter.widget-view+json": {
       "version_major": 2,
       "version_minor": 0,
       "model_id": "c1ee22ad1f8c4c90b2f08bb7fe8a5b19"
      }
     },
     "metadata": {},
     "output_type": "display_data"
    },
    {
     "data": {
      "text/plain": [
       "Finishing :   0%|          | 0/4 [00:00<?, ?it/s]"
      ],
      "application/vnd.jupyter.widget-view+json": {
       "version_major": 2,
       "version_minor": 0,
       "model_id": "b79ac7147e574ec7850ef35822fef933"
      }
     },
     "metadata": {},
     "output_type": "display_data"
    }
   ],
   "execution_count": 13
  },
  {
   "cell_type": "markdown",
   "metadata": {},
   "source": [
    "### small_sky_to_xmatch_soft\n",
    "\n",
    "Similar to the above catalog, but does not generate leaf files"
   ]
  },
  {
   "cell_type": "code",
   "metadata": {
    "ExecuteTime": {
     "end_time": "2024-10-03T20:48:00.507660Z",
     "start_time": "2024-10-03T20:48:00.441393Z"
    }
   },
   "source": [
    "with tempfile.TemporaryDirectory() as pipeline_tmp:\n",
    "    args = SoapArguments(\n",
    "        object_catalog_dir=\"small_sky\",\n",
    "        object_id_column=\"id\",\n",
    "        source_catalog_dir=\"small_sky_xmatch\",\n",
    "        source_object_id_column=\"id\",\n",
    "        source_id_column=\"id\",\n",
    "        output_path=\".\",\n",
    "        write_leaf_files=False,\n",
    "        output_artifact_name=\"small_sky_to_xmatch_soft\",\n",
    "    )\n",
    "    runner.pipeline_with_client(args, client)"
   ],
   "outputs": [
    {
     "data": {
      "text/plain": [
       "Planning  :   0%|          | 0/3 [00:00<?, ?it/s]"
      ],
      "application/vnd.jupyter.widget-view+json": {
       "version_major": 2,
       "version_minor": 0,
       "model_id": "7fe22708ffb04368830e2a196f8b5186"
      }
     },
     "metadata": {},
     "output_type": "display_data"
    },
    {
     "data": {
      "text/plain": [
       "Counting  :   0%|          | 0/3 [00:00<?, ?it/s]"
      ],
      "application/vnd.jupyter.widget-view+json": {
       "version_major": 2,
       "version_minor": 0,
       "model_id": "6753ebc166ca4381ad9e953558c567fc"
      }
     },
     "metadata": {},
     "output_type": "display_data"
    },
    {
     "data": {
      "text/plain": [
       "Finishing :   0%|          | 0/4 [00:00<?, ?it/s]"
      ],
      "application/vnd.jupyter.widget-view+json": {
       "version_major": 2,
       "version_minor": 0,
       "model_id": "ba56004e3370454dbed6c306f66da1ad"
      }
     },
     "metadata": {},
     "output_type": "display_data"
    }
   ],
   "execution_count": 14
  },
  {
   "cell_type": "markdown",
   "metadata": {},
   "source": [
    "### small_sky_xmatch_margin\n",
    "\n",
    "Create a margin catalog from the perturbed data points."
   ]
  },
  {
   "cell_type": "code",
   "metadata": {
    "ExecuteTime": {
     "end_time": "2024-10-03T20:48:00.694676Z",
     "start_time": "2024-10-03T20:48:00.508540Z"
    }
   },
   "source": [
    "with tempfile.TemporaryDirectory() as pipeline_tmp:\n",
    "    args = MarginCacheArguments(\n",
    "        input_catalog_path=\"small_sky_xmatch\",\n",
    "        output_path=\".\",\n",
    "        output_artifact_name=\"small_sky_xmatch_margin\",\n",
    "        margin_threshold=7200,\n",
    "        margin_order=4,\n",
    "        tmp_dir=pipeline_tmp,\n",
    "    )\n",
    "    runner.pipeline_with_client(args, client)"
   ],
   "outputs": [
    {
     "data": {
      "text/plain": [
       "Planning  :   0%|          | 0/3 [00:00<?, ?it/s]"
      ],
      "application/vnd.jupyter.widget-view+json": {
       "version_major": 2,
       "version_minor": 0,
       "model_id": "372b60a203ab446381eedae3bdb5446c"
      }
     },
     "metadata": {},
     "output_type": "display_data"
    },
    {
     "data": {
      "text/plain": [
       "Mapping   :   0%|          | 0/3 [00:00<?, ?it/s]"
      ],
      "application/vnd.jupyter.widget-view+json": {
       "version_major": 2,
       "version_minor": 0,
       "model_id": "af85f29559c841a383389e71c2bde4f5"
      }
     },
     "metadata": {},
     "output_type": "display_data"
    },
    {
     "data": {
      "text/plain": [
       "Reducing  :   0%|          | 0/15 [00:00<?, ?it/s]"
      ],
      "application/vnd.jupyter.widget-view+json": {
       "version_major": 2,
       "version_minor": 0,
       "model_id": "b79447d394cc458c9f43f162cf589e56"
      }
     },
     "metadata": {},
     "output_type": "display_data"
    },
    {
     "data": {
      "text/plain": [
       "Finishing :   0%|          | 0/4 [00:00<?, ?it/s]"
      ],
      "application/vnd.jupyter.widget-view+json": {
       "version_major": 2,
       "version_minor": 0,
       "model_id": "1adc427cfa3847a38d16fd102987e4df"
      }
     },
     "metadata": {},
     "output_type": "display_data"
    }
   ],
   "execution_count": 15
  },
  {
   "cell_type": "markdown",
   "metadata": {},
   "source": [
    "### small_sky_left_xmatch\n",
    "\n",
    "This adds a new point that's outside of the (0,11) pixel of the small sky catalog. Otherwise, the points are the same."
   ]
  },
  {
   "cell_type": "code",
   "metadata": {
    "ExecuteTime": {
     "end_time": "2024-10-03T20:48:00.878810Z",
     "start_time": "2024-10-03T20:48:00.696977Z"
    }
   },
   "source": [
    "with tempfile.TemporaryDirectory() as pipeline_tmp:\n",
    "    args = ImportArguments(\n",
    "        input_file_list=[\"raw/xmatch/small_sky_left_xmatch.csv\"],\n",
    "        output_path=\".\",\n",
    "        file_reader=\"csv\",\n",
    "        output_artifact_name=\"small_sky_left_xmatch\",\n",
    "        pixel_threshold=100,\n",
    "        tmp_dir=pipeline_tmp,\n",
    "        highest_healpix_order=5,\n",
    "    )\n",
    "    runner.pipeline_with_client(args, client)"
   ],
   "outputs": [
    {
     "data": {
      "text/plain": [
       "Planning  :   0%|          | 0/4 [00:00<?, ?it/s]"
      ],
      "application/vnd.jupyter.widget-view+json": {
       "version_major": 2,
       "version_minor": 0,
       "model_id": "d989552b456847e69ac6097426b90c2a"
      }
     },
     "metadata": {},
     "output_type": "display_data"
    },
    {
     "data": {
      "text/plain": [
       "Mapping   :   0%|          | 0/1 [00:00<?, ?it/s]"
      ],
      "application/vnd.jupyter.widget-view+json": {
       "version_major": 2,
       "version_minor": 0,
       "model_id": "47def8672d914d239564460252da9091"
      }
     },
     "metadata": {},
     "output_type": "display_data"
    },
    {
     "data": {
      "text/plain": [
       "Binning   :   0%|          | 0/2 [00:00<?, ?it/s]"
      ],
      "application/vnd.jupyter.widget-view+json": {
       "version_major": 2,
       "version_minor": 0,
       "model_id": "a8b50c5c008740d78c19d307e5ae32ea"
      }
     },
     "metadata": {},
     "output_type": "display_data"
    },
    {
     "data": {
      "text/plain": [
       "Splitting :   0%|          | 0/1 [00:00<?, ?it/s]"
      ],
      "application/vnd.jupyter.widget-view+json": {
       "version_major": 2,
       "version_minor": 0,
       "model_id": "a64cdd1ad0964e8ca8c89e1a8619c50c"
      }
     },
     "metadata": {},
     "output_type": "display_data"
    },
    {
     "data": {
      "text/plain": [
       "Reducing  :   0%|          | 0/5 [00:00<?, ?it/s]"
      ],
      "application/vnd.jupyter.widget-view+json": {
       "version_major": 2,
       "version_minor": 0,
       "model_id": "a3f8ddd25951419eb190683a82b74a8b"
      }
     },
     "metadata": {},
     "output_type": "display_data"
    },
    {
     "data": {
      "text/plain": [
       "Finishing :   0%|          | 0/5 [00:00<?, ?it/s]"
      ],
      "application/vnd.jupyter.widget-view+json": {
       "version_major": 2,
       "version_minor": 0,
       "model_id": "994a1b0f823947648bc76bbb905c0d94"
      }
     },
     "metadata": {},
     "output_type": "display_data"
    }
   ],
   "execution_count": 16
  },
  {
   "metadata": {},
   "cell_type": "markdown",
   "source": "# Generate Expected Results Files"
  },
  {
   "metadata": {
    "ExecuteTime": {
     "end_time": "2024-10-03T20:48:00.881472Z",
     "start_time": "2024-10-03T20:48:00.879573Z"
    }
   },
   "cell_type": "code",
   "source": [
    "import hats\n",
    "import pandas as pd\n",
    "from astropy.coordinates import SkyCoord\n",
    "import astropy.units as u"
   ],
   "outputs": [],
   "execution_count": 17
  },
  {
   "metadata": {},
   "cell_type": "markdown",
   "source": "## Small Sky Source Cone Search"
  },
  {
   "metadata": {
    "ExecuteTime": {
     "end_time": "2024-10-03T20:48:00.888314Z",
     "start_time": "2024-10-03T20:48:00.882342Z"
    }
   },
   "cell_type": "code",
   "source": "ss_source = hats.read_hats(\"small_sky_order1_source\")",
   "outputs": [],
   "execution_count": 18
  },
  {
   "metadata": {
    "ExecuteTime": {
     "end_time": "2024-10-03T20:48:00.891302Z",
     "start_time": "2024-10-03T20:48:00.889229Z"
    }
   },
   "cell_type": "code",
   "source": [
    "ra = -35\n",
    "dec = -55\n",
    "radius_degrees = 2"
   ],
   "outputs": [],
   "execution_count": 19
  },
  {
   "metadata": {
    "ExecuteTime": {
     "end_time": "2024-10-03T20:48:00.915271Z",
     "start_time": "2024-10-03T20:48:00.892006Z"
    }
   },
   "cell_type": "code",
   "source": [
    "paths = [hats.io.pixel_catalog_file(ss_source.catalog_base_dir, p) for p in ss_source.get_healpix_pixels()]\n",
    "ss_source_df = pd.concat([pd.read_parquet(p) for p in paths])\n",
    "coords = SkyCoord(ss_source_df[\"source_ra\"].to_numpy() * u.deg, ss_source_df[\"source_dec\"].to_numpy() * u.deg, frame='icrs')\n",
    "center_coord = SkyCoord(ra * u.deg, dec * u.deg, frame='icrs')\n",
    "cone_search_output = ss_source_df.iloc[coords.separation(center_coord).deg < radius_degrees]\n",
    "cone_search_output.to_csv(\"raw/cone_search_expected/catalog.csv\")"
   ],
   "outputs": [],
   "execution_count": 20
  },
  {
   "metadata": {},
   "cell_type": "markdown",
   "source": "### Small Sky Source Margin Cone Search"
  },
  {
   "metadata": {
    "ExecuteTime": {
     "end_time": "2024-10-03T20:48:00.921743Z",
     "start_time": "2024-10-03T20:48:00.916331Z"
    }
   },
   "cell_type": "code",
   "source": "ss_source_margin = hats.read_hats(\"small_sky_order1_source_margin\")",
   "outputs": [],
   "execution_count": 21
  },
  {
   "metadata": {
    "ExecuteTime": {
     "end_time": "2024-10-03T20:48:00.938571Z",
     "start_time": "2024-10-03T20:48:00.922642Z"
    }
   },
   "cell_type": "code",
   "source": [
    "paths = [hats.io.pixel_catalog_file(ss_source_margin.catalog_base_dir, p) for p in ss_source_margin.get_healpix_pixels()]\n",
    "ss_source_margin_df = pd.concat([pd.read_parquet(p) for p in paths])\n",
    "coords = SkyCoord(ss_source_margin_df[\"source_ra\"].to_numpy() * u.deg, ss_source_margin_df[\"source_dec\"].to_numpy() * u.deg, frame='icrs')\n",
    "center_coord = SkyCoord(ra * u.deg, dec * u.deg, frame='icrs')\n",
    "cone_search_output = ss_source_margin_df.iloc[coords.separation(center_coord).deg < radius_degrees]\n",
    "cone_search_output.to_csv(\"raw/cone_search_expected/margin.csv\")"
   ],
   "outputs": [],
   "execution_count": 22
  },
  {
   "cell_type": "code",
   "metadata": {
    "ExecuteTime": {
     "end_time": "2024-10-03T20:48:01.524993Z",
     "start_time": "2024-10-03T20:48:00.940037Z"
    }
   },
   "source": [
    "tmp_path.cleanup()\n",
    "client.close()"
   ],
   "outputs": [
    {
     "name": "stderr",
     "output_type": "stream",
     "text": [
      "2024-10-03 16:48:00,948 - distributed.diskutils - ERROR - Failed to remove '/var/folders/9j/x366vw_x0mgdgzr1wgfchpr80000gn/T/tmpb1tzqr4n/dask-scratch-space/worker-tmabxwby' (failed in <built-in function lstat>): [Errno 2] No such file or directory: '/var/folders/9j/x366vw_x0mgdgzr1wgfchpr80000gn/T/tmpb1tzqr4n/dask-scratch-space/worker-tmabxwby'\n"
     ]
    }
   ],
   "execution_count": 23
  },
  {
   "cell_type": "code",
   "metadata": {
    "ExecuteTime": {
     "end_time": "2024-10-03T20:48:01.528211Z",
     "start_time": "2024-10-03T20:48:01.526125Z"
    }
   },
   "source": [],
   "outputs": [],
   "execution_count": 23
  }
 ],
 "metadata": {
  "kernelspec": {
   "display_name": "hipscatenv",
   "language": "python",
   "name": "python3"
  },
  "language_info": {
   "codemirror_mode": {
    "name": "ipython",
    "version": 3
   },
   "file_extension": ".py",
   "mimetype": "text/x-python",
   "name": "python",
   "nbconvert_exporter": "python",
   "pygments_lexer": "ipython3",
   "version": "3.9.12"
  }
 },
 "nbformat": 4,
 "nbformat_minor": 2
}
