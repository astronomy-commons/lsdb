{
 "cells": [
  {
   "cell_type": "markdown",
   "metadata": {},
   "source": [
    "# Unit test data\n",
    "\n",
    "This directory contains very small, toy, data sets that are used\n",
    "for unit tests.\n",
    "\n",
    "## Object catalog: small_sky\n",
    "\n",
    "This \"object catalog\" is 131 randomly generated radec values. \n",
    "\n",
    "- All radec positions are in the Healpix pixel order 0, pixel 11.\n",
    "- IDs are integers from 700-831."
   ]
  },
  {
   "cell_type": "code",
   "execution_count": null,
   "metadata": {
    "ExecuteTime": {
     "end_time": "2024-10-03T20:47:48.302610Z",
     "start_time": "2024-10-03T20:47:43.684052Z"
    }
   },
   "outputs": [],
   "source": [
    "import os\n",
    "import tempfile\n",
    "from pathlib import Path\n",
    "\n",
    "import astropy.units as u\n",
    "import hats\n",
    "import numpy as np\n",
    "import pandas as pd\n",
    "import pyarrow.parquet as pq\n",
    "from astropy.coordinates import SkyCoord\n",
    "from dask.distributed import Client\n",
    "from hats.io.file_io import get_upath, remove_directory\n",
    "from hats.io.paths import DATASET_DIR\n",
    "from hats.pixel_math.spatial_index import healpix_to_spatial_index\n",
    "from hats_import import (\n",
    "    ImportArguments,\n",
    "    pipeline_with_client,\n",
    "    IndexArguments,\n",
    "    CollectionArguments,\n",
    "    MarginCacheArguments,\n",
    ")\n",
    "from lsdb.io import to_hats\n",
    "import lsdb\n",
    "\n",
    "tmp_path = tempfile.TemporaryDirectory()\n",
    "tmp_dir = tmp_path.name\n",
    "\n",
    "client = Client(n_workers=1, threads_per_worker=1, local_directory=tmp_dir)"
   ]
  },
  {
   "cell_type": "markdown",
   "metadata": {},
   "source": [
    "### small_sky_order1\n",
    "\n",
    "This catalog has the same data points as other small sky catalogs,\n",
    "but is coerced to spreading these data points over partitions at order 1, instead\n",
    "of order 0.\n",
    "\n",
    "This means there are 4 leaf partition files, instead of just 1, and so can\n",
    "be useful for confirming reads/writes over multiple leaf partition files.\n",
    "\n",
    "NB: Setting `constant_healpix_order` coerces the import pipeline to create\n",
    "leaf partitions at order 1."
   ]
  },
  {
   "cell_type": "code",
   "execution_count": null,
   "metadata": {
    "ExecuteTime": {
     "end_time": "2024-10-03T20:47:51.037190Z",
     "start_time": "2024-10-03T20:47:48.303875Z"
    }
   },
   "outputs": [],
   "source": [
    "remove_directory(\"./small_sky_order1_collection\")\n",
    "with tempfile.TemporaryDirectory() as pipeline_tmp:\n",
    "    args = (\n",
    "        CollectionArguments(\n",
    "            output_artifact_name=\"small_sky_order1_collection\",\n",
    "            output_path=\".\",\n",
    "            tmp_dir=pipeline_tmp,\n",
    "            addl_hats_properties={\"obs_regime\": \"Optical\", \"default_index\": \"id\"},\n",
    "        )\n",
    "        .catalog(\n",
    "            input_file_list=[\"raw/small_sky/small_sky.csv\"],\n",
    "            file_reader=\"csv\",\n",
    "            output_artifact_name=\"small_sky_order1\",\n",
    "            constant_healpix_order=1,\n",
    "        )\n",
    "        .add_margin(\n",
    "            margin_threshold=3600, output_artifact_name=\"small_sky_order1_margin_1deg\", is_default=True\n",
    "        )\n",
    "        .add_margin(margin_threshold=7200, output_artifact_name=\"small_sky_order1_margin_2deg\")\n",
    "        .add_index(\n",
    "            indexing_column=\"id\",\n",
    "            output_artifact_name=\"small_sky_order1_id_index\",\n",
    "            include_healpix_29=False,\n",
    "            compute_partition_size=200_000,\n",
    "        )\n",
    "    )\n",
    "\n",
    "    pipeline_with_client(args, client)"
   ]
  },
  {
   "cell_type": "markdown",
   "metadata": {},
   "source": [
    "### small_sky_order1_no_pandas_meta\n",
    "\n",
    "Copies small_sky_order1 but removes the pandas metadata from the parquet files"
   ]
  },
  {
   "cell_type": "code",
   "execution_count": null,
   "metadata": {
    "ExecuteTime": {
     "end_time": "2024-10-18T20:48:09.007918Z",
     "start_time": "2024-10-18T20:48:08.932670Z"
    }
   },
   "outputs": [],
   "source": [
    "out_catalog_name = \"small_sky_order1_no_pandas_meta\"\n",
    "\n",
    "sso1 = hats.read_hats(\"small_sky_order1\")\n",
    "for pixel in sso1.get_healpix_pixels():\n",
    "    path = hats.io.paths.pixel_catalog_file(sso1.catalog_base_dir, pixel)\n",
    "    out_path = hats.io.paths.pixel_catalog_file(out_catalog_name, pixel)\n",
    "    table = pq.read_table(path, partitioning=None)\n",
    "    table = table.replace_schema_metadata()\n",
    "    output_file = Path(out_path)\n",
    "    output_file.parent.mkdir(exist_ok=True, parents=True)\n",
    "    pq.write_table(table, out_path)\n",
    "hats.io.write_parquet_metadata(out_catalog_name)\n",
    "sso1.catalog_info.copy_and_update(catalog_name=out_catalog_name).to_properties_file(out_catalog_name)\n",
    "sso1.partition_info.write_to_file(hats.io.paths.get_partition_info_pointer(out_catalog_name))"
   ]
  },
  {
   "cell_type": "markdown",
   "metadata": {},
   "source": [
    "### small_sky_order1_default_columns\n",
    "\n",
    "Copies small_sky_order1 but adds a list of default columns to the properties file"
   ]
  },
  {
   "cell_type": "code",
   "execution_count": null,
   "metadata": {
    "ExecuteTime": {
     "end_time": "2025-01-23T18:41:22.261748Z",
     "start_time": "2025-01-23T18:41:22.230037Z"
    }
   },
   "outputs": [],
   "source": [
    "out_catalog_name = \"small_sky_order1_default_columns\"\n",
    "out_catalog_path = get_upath(out_catalog_name)\n",
    "\n",
    "sso1 = hats.read_hats(\"small_sky_order1_collection/small_sky_order1\")\n",
    "sso1_dataset_path = get_upath(\"small_sky_order1_collection/small_sky_order1\") / DATASET_DIR\n",
    "out_dataset_path = out_catalog_path / DATASET_DIR\n",
    "\n",
    "out_catalog_path.mkdir(exist_ok=True)\n",
    "if not out_dataset_path.exists():\n",
    "    os.symlink(f\"../{sso1_dataset_path}\", out_dataset_path)\n",
    "sso1.catalog_info.copy_and_update(\n",
    "    catalog_name=out_catalog_name, default_columns=[\"ra\", \"dec\", \"id\"]\n",
    ").to_properties_file(out_catalog_path)\n",
    "sso1.partition_info.write_to_file(hats.io.paths.get_partition_info_pointer(out_catalog_path))"
   ]
  },
  {
   "cell_type": "markdown",
   "metadata": {},
   "source": [
    "### small_sky\n",
    "\n",
    "This \"object catalog\" is 131 randomly generated radec values. \n",
    "\n",
    "- All radec positions are in the Healpix pixel order 0, pixel 11.\n",
    "- IDs are integers from 700-831.\n",
    "\n",
    "This catalog was generated with the following snippet:"
   ]
  },
  {
   "cell_type": "code",
   "execution_count": null,
   "metadata": {
    "ExecuteTime": {
     "end_time": "2024-10-03T20:47:51.121973Z",
     "start_time": "2024-10-03T20:47:51.038544Z"
    }
   },
   "outputs": [],
   "source": [
    "remove_directory(\"./small_sky\")\n",
    "with tempfile.TemporaryDirectory() as pipeline_tmp:\n",
    "    args = ImportArguments(\n",
    "        input_file_list=[\"raw/small_sky/small_sky.csv\"],\n",
    "        output_path=\".\",\n",
    "        file_reader=\"csv\",\n",
    "        output_artifact_name=\"small_sky\",\n",
    "        tmp_dir=pipeline_tmp,\n",
    "        highest_healpix_order=5,\n",
    "    )\n",
    "    pipeline_with_client(args, client)"
   ]
  },
  {
   "cell_type": "markdown",
   "metadata": {},
   "source": [
    "### small_sky_npix_alt_suffix\n",
    "\n",
    "Copies small_sky but changes the parquet file suffix."
   ]
  },
  {
   "cell_type": "code",
   "execution_count": null,
   "metadata": {},
   "outputs": [],
   "source": [
    "import shutil\n",
    "import hats\n",
    "\n",
    "# hats/lsdb does not constrain the suffix,\n",
    "# but the suffix should make the file recognizable as parquet for compatibility with other libraries.\n",
    "npix_suffix = \".parq\"  # could also include the compression, e.g., \".snappy.parquet\"\n",
    "\n",
    "sso = hats.read_hats(\"small_sky\")\n",
    "paths = [hats.io.paths.pixel_catalog_file(sso.catalog_base_dir, pixel) for pixel in sso.get_healpix_pixels()]\n",
    "\n",
    "out_catalog_name = \"small_sky_npix_alt_suffix\"\n",
    "out_catalog_info = sso.catalog_info.copy_and_update(catalog_name=out_catalog_name, npix_suffix=npix_suffix)\n",
    "out_paths = [\n",
    "    hats.io.paths.pixel_catalog_file(out_catalog_name, pixel, npix_suffix=npix_suffix)\n",
    "    for pixel in sso.get_healpix_pixels()\n",
    "]\n",
    "\n",
    "for path, out_path in zip(paths, out_paths):\n",
    "    out_path.parent.mkdir(parents=True, exist_ok=True)\n",
    "    shutil.copy(path, out_path)\n",
    "hats.io.write_parquet_metadata(out_catalog_name)\n",
    "out_catalog_info.to_properties_file(out_catalog_name)\n",
    "sso.partition_info.write_to_file(hats.io.paths.get_partition_info_pointer(out_catalog_name))"
   ]
  },
  {
   "cell_type": "markdown",
   "metadata": {},
   "source": [
    "### small_sky_npix_as_dir\n",
    "\n",
    "Copies small_sky but makes Npix a directory."
   ]
  },
  {
   "cell_type": "code",
   "execution_count": null,
   "metadata": {},
   "outputs": [],
   "source": [
    "import shutil\n",
    "import hats\n",
    "\n",
    "npix_suffix = \"/\"\n",
    "\n",
    "sso = hats.read_hats(\"small_sky\")\n",
    "paths = [hats.io.paths.pixel_catalog_file(sso.catalog_base_dir, pixel) for pixel in sso.get_healpix_pixels()]\n",
    "\n",
    "out_catalog_name = \"small_sky_npix_as_dir\"\n",
    "out_catalog_info = sso.catalog_info.copy_and_update(catalog_name=out_catalog_name, npix_suffix=npix_suffix)\n",
    "out_dirs = [\n",
    "    hats.io.paths.pixel_catalog_file(out_catalog_name, pixel, npix_suffix=npix_suffix)\n",
    "    for pixel in sso.get_healpix_pixels()\n",
    "]\n",
    "\n",
    "for path, out_dir in zip(paths, out_dirs):\n",
    "    out_dir.mkdir(parents=True, exist_ok=True)\n",
    "    # hats/lsdb will only care about `out_dir`. They will be agnostic to filenames, given `npix_suffix = \"/\"`.\n",
    "    shutil.copy(path, out_dir / \"part0.parquet\")\n",
    "hats.io.write_parquet_metadata(out_catalog_name)\n",
    "out_catalog_info.to_properties_file(out_catalog_name)\n",
    "sso.partition_info.write_to_file(hats.io.paths.get_partition_info_pointer(out_catalog_name))"
   ]
  },
  {
   "cell_type": "markdown",
   "metadata": {},
   "source": [
    "## Object catalog: small_sky_source\n",
    "\n",
    "This \"source catalog\" is 131 detections at each of the 131 objects\n",
    "in the \"small_sky\" catalog. These have a random magnitude, MJD, and \n",
    "band (selected from ugrizy). The full script that generated the values\n",
    "can be found [here](https://github.com/delucchi-cmu/hipscripts/blob/main/twiddling/small_sky_source.py)"
   ]
  },
  {
   "cell_type": "markdown",
   "metadata": {},
   "source": [
    "### small_sky_order1_source"
   ]
  },
  {
   "cell_type": "code",
   "execution_count": null,
   "metadata": {
    "ExecuteTime": {
     "end_time": "2024-10-03T20:47:52.145198Z",
     "start_time": "2024-10-03T20:47:51.998275Z"
    }
   },
   "outputs": [],
   "source": [
    "remove_directory(\"./small_sky_order1_source_collection\")\n",
    "with tempfile.TemporaryDirectory() as pipeline_tmp:\n",
    "    args = (\n",
    "        CollectionArguments(\n",
    "            output_artifact_name=\"small_sky_order1_source_collection\",\n",
    "            output_path=\".\",\n",
    "            tmp_dir=pipeline_tmp,\n",
    "            addl_hats_properties={\"obs_regime\": \"Optical\", \"default_index\": \"object_id\"},\n",
    "        )\n",
    "        .catalog(\n",
    "            input_file_list=[\"raw/small_sky_source/small_sky_source.csv\"],\n",
    "            file_reader=\"csv\",\n",
    "            ra_column=\"source_ra\",\n",
    "            dec_column=\"source_dec\",\n",
    "            catalog_type=\"source\",\n",
    "            output_artifact_name=\"small_sky_order1_source\",\n",
    "            constant_healpix_order=1,\n",
    "        )\n",
    "        .add_margin(\n",
    "            margin_threshold=7200, output_artifact_name=\"small_sky_order1_source_margin\", is_default=True\n",
    "        )\n",
    "        .add_index(\n",
    "            indexing_column=\"object_id\",\n",
    "            output_artifact_name=\"small_sky_order1_source_object_id_index\",\n",
    "            include_healpix_29=False,\n",
    "            compute_partition_size=200_000,\n",
    "        )\n",
    "        .add_index(\n",
    "            indexing_column=\"band\",\n",
    "            output_artifact_name=\"small_sky_order1_source_band_index\",\n",
    "            include_healpix_29=False,\n",
    "            compute_partition_size=200_000,\n",
    "        )\n",
    "    )\n",
    "\n",
    "    pipeline_with_client(args, client)"
   ]
  },
  {
   "cell_type": "markdown",
   "metadata": {},
   "source": [
    "### small_sky_source"
   ]
  },
  {
   "cell_type": "code",
   "execution_count": null,
   "metadata": {
    "ExecuteTime": {
     "end_time": "2024-10-03T20:47:52.362271Z",
     "start_time": "2024-10-03T20:47:52.146230Z"
    }
   },
   "outputs": [],
   "source": [
    "remove_directory(\"./small_sky_source\")\n",
    "with tempfile.TemporaryDirectory() as pipeline_tmp:\n",
    "    args = ImportArguments(\n",
    "        input_file_list=[\"raw/small_sky_source/small_sky_source.csv\"],\n",
    "        output_path=\".\",\n",
    "        file_reader=\"csv\",\n",
    "        ra_column=\"source_ra\",\n",
    "        dec_column=\"source_dec\",\n",
    "        catalog_type=\"source\",\n",
    "        output_artifact_name=\"small_sky_source\",\n",
    "        highest_healpix_order=2,\n",
    "        pixel_threshold=3000,\n",
    "        tmp_dir=pipeline_tmp,\n",
    "    )\n",
    "    pipeline_with_client(args, client)"
   ]
  },
  {
   "cell_type": "markdown",
   "metadata": {},
   "source": [
    "### small_sky_source_margin"
   ]
  },
  {
   "cell_type": "code",
   "execution_count": null,
   "metadata": {
    "ExecuteTime": {
     "end_time": "2024-10-03T20:47:53.573491Z",
     "start_time": "2024-10-03T20:47:52.362998Z"
    }
   },
   "outputs": [],
   "source": [
    "remove_directory(\"./small_sky_source_margin\")\n",
    "with tempfile.TemporaryDirectory() as pipeline_tmp:\n",
    "    args = MarginCacheArguments(\n",
    "        input_catalog_path=\"small_sky_source\",\n",
    "        output_path=\".\",\n",
    "        output_artifact_name=\"small_sky_source_margin\",\n",
    "        margin_threshold=180,\n",
    "        margin_order=8,\n",
    "        tmp_dir=pipeline_tmp,\n",
    "    )\n",
    "    pipeline_with_client(args, client)"
   ]
  },
  {
   "cell_type": "markdown",
   "metadata": {},
   "source": [
    "### small_sky_order3_source_margin\n",
    "\n",
    "This one is similar to the previous margin catalogs but it is generated from a source catalog of order 3."
   ]
  },
  {
   "cell_type": "code",
   "execution_count": null,
   "metadata": {
    "ExecuteTime": {
     "end_time": "2024-10-03T20:48:00.070056Z",
     "start_time": "2024-10-03T20:47:56.532554Z"
    }
   },
   "outputs": [],
   "source": [
    "remove_directory(\"./small_sky_order3_source\")\n",
    "with tempfile.TemporaryDirectory() as pipeline_tmp:\n",
    "    args = ImportArguments(\n",
    "        input_file_list=[\"raw/small_sky_source/small_sky_source.csv\"],\n",
    "        output_path=\".\",\n",
    "        file_reader=\"csv\",\n",
    "        ra_column=\"source_ra\",\n",
    "        dec_column=\"source_dec\",\n",
    "        catalog_type=\"source\",\n",
    "        output_artifact_name=\"small_sky_order3_source\",\n",
    "        constant_healpix_order=3,\n",
    "        tmp_dir=pipeline_tmp,\n",
    "    )\n",
    "    pipeline_with_client(args, client)\n",
    "\n",
    "remove_directory(\"./small_sky_order3_source_margin\")\n",
    "with tempfile.TemporaryDirectory() as pipeline_tmp:\n",
    "    args = MarginCacheArguments(\n",
    "        input_catalog_path=\"small_sky_order3_source\",\n",
    "        output_path=\".\",\n",
    "        output_artifact_name=\"small_sky_order3_source_margin\",\n",
    "        margin_threshold=300,\n",
    "        margin_order=7,\n",
    "        tmp_dir=pipeline_tmp,\n",
    "    )\n",
    "    pipeline_with_client(args, client)"
   ]
  },
  {
   "metadata": {
    "ExecuteTime": {
     "end_time": "2025-06-27T23:35:39.531256Z",
     "start_time": "2025-06-27T23:35:39.146363Z"
    }
   },
   "cell_type": "code",
   "source": "import pandas as pd",
   "outputs": [],
   "execution_count": 1
  },
  {
   "metadata": {
    "ExecuteTime": {
     "end_time": "2025-06-27T23:37:28.778824Z",
     "start_time": "2025-06-27T23:37:28.732551Z"
    }
   },
   "cell_type": "code",
   "source": [
    "sss = pd.read_csv(\"raw/small_sky_source/small_sky_source.csv\")\n",
    "sss"
   ],
   "outputs": [
    {
     "data": {
      "text/plain": [
       "       source_id   source_ra  source_dec           mjd        mag band  \\\n",
       "0          70000  301.927172  -59.438686  58363.286356  17.104989    z   \n",
       "1          70001  305.920293  -59.907292  58363.380619  17.586861    i   \n",
       "2          70002  303.823213  -43.372721  58363.422318  20.557382    u   \n",
       "3          70003  337.807437  -38.361372  58363.586547  18.673041    z   \n",
       "4          70004  320.566223  -53.451949  58363.654246  18.840165    g   \n",
       "...          ...         ...         ...           ...        ...  ...   \n",
       "17156      87156  335.733501  -68.952632  59562.482971  15.090752    i   \n",
       "17157      87157  320.540038  -69.270556  59562.587765  18.990507    r   \n",
       "17158      87158  327.535831  -51.379757  59562.638550  16.450693    g   \n",
       "17159      87159  303.553419  -37.935144  59562.754894  20.616895    y   \n",
       "17160      87160  306.919879  -38.192544  59562.862351  16.792281    i   \n",
       "\n",
       "       object_id  object_ra  object_dec  \n",
       "0            810      301.5       -59.5  \n",
       "1            716      305.5       -60.5  \n",
       "2            717      303.5       -43.5  \n",
       "3            745      337.5       -38.5  \n",
       "4            760      320.5       -53.5  \n",
       "...          ...        ...         ...  \n",
       "17156        826      335.5       -69.5  \n",
       "17157        792      320.5       -69.5  \n",
       "17158        762      327.5       -51.5  \n",
       "17159        755      303.5       -38.5  \n",
       "17160        763      306.5       -38.5  \n",
       "\n",
       "[17161 rows x 9 columns]"
      ],
      "text/html": [
       "<div>\n",
       "<style scoped>\n",
       "    .dataframe tbody tr th:only-of-type {\n",
       "        vertical-align: middle;\n",
       "    }\n",
       "\n",
       "    .dataframe tbody tr th {\n",
       "        vertical-align: top;\n",
       "    }\n",
       "\n",
       "    .dataframe thead th {\n",
       "        text-align: right;\n",
       "    }\n",
       "</style>\n",
       "<table border=\"1\" class=\"dataframe\">\n",
       "  <thead>\n",
       "    <tr style=\"text-align: right;\">\n",
       "      <th></th>\n",
       "      <th>source_id</th>\n",
       "      <th>source_ra</th>\n",
       "      <th>source_dec</th>\n",
       "      <th>mjd</th>\n",
       "      <th>mag</th>\n",
       "      <th>band</th>\n",
       "      <th>object_id</th>\n",
       "      <th>object_ra</th>\n",
       "      <th>object_dec</th>\n",
       "    </tr>\n",
       "  </thead>\n",
       "  <tbody>\n",
       "    <tr>\n",
       "      <th>0</th>\n",
       "      <td>70000</td>\n",
       "      <td>301.927172</td>\n",
       "      <td>-59.438686</td>\n",
       "      <td>58363.286356</td>\n",
       "      <td>17.104989</td>\n",
       "      <td>z</td>\n",
       "      <td>810</td>\n",
       "      <td>301.5</td>\n",
       "      <td>-59.5</td>\n",
       "    </tr>\n",
       "    <tr>\n",
       "      <th>1</th>\n",
       "      <td>70001</td>\n",
       "      <td>305.920293</td>\n",
       "      <td>-59.907292</td>\n",
       "      <td>58363.380619</td>\n",
       "      <td>17.586861</td>\n",
       "      <td>i</td>\n",
       "      <td>716</td>\n",
       "      <td>305.5</td>\n",
       "      <td>-60.5</td>\n",
       "    </tr>\n",
       "    <tr>\n",
       "      <th>2</th>\n",
       "      <td>70002</td>\n",
       "      <td>303.823213</td>\n",
       "      <td>-43.372721</td>\n",
       "      <td>58363.422318</td>\n",
       "      <td>20.557382</td>\n",
       "      <td>u</td>\n",
       "      <td>717</td>\n",
       "      <td>303.5</td>\n",
       "      <td>-43.5</td>\n",
       "    </tr>\n",
       "    <tr>\n",
       "      <th>3</th>\n",
       "      <td>70003</td>\n",
       "      <td>337.807437</td>\n",
       "      <td>-38.361372</td>\n",
       "      <td>58363.586547</td>\n",
       "      <td>18.673041</td>\n",
       "      <td>z</td>\n",
       "      <td>745</td>\n",
       "      <td>337.5</td>\n",
       "      <td>-38.5</td>\n",
       "    </tr>\n",
       "    <tr>\n",
       "      <th>4</th>\n",
       "      <td>70004</td>\n",
       "      <td>320.566223</td>\n",
       "      <td>-53.451949</td>\n",
       "      <td>58363.654246</td>\n",
       "      <td>18.840165</td>\n",
       "      <td>g</td>\n",
       "      <td>760</td>\n",
       "      <td>320.5</td>\n",
       "      <td>-53.5</td>\n",
       "    </tr>\n",
       "    <tr>\n",
       "      <th>...</th>\n",
       "      <td>...</td>\n",
       "      <td>...</td>\n",
       "      <td>...</td>\n",
       "      <td>...</td>\n",
       "      <td>...</td>\n",
       "      <td>...</td>\n",
       "      <td>...</td>\n",
       "      <td>...</td>\n",
       "      <td>...</td>\n",
       "    </tr>\n",
       "    <tr>\n",
       "      <th>17156</th>\n",
       "      <td>87156</td>\n",
       "      <td>335.733501</td>\n",
       "      <td>-68.952632</td>\n",
       "      <td>59562.482971</td>\n",
       "      <td>15.090752</td>\n",
       "      <td>i</td>\n",
       "      <td>826</td>\n",
       "      <td>335.5</td>\n",
       "      <td>-69.5</td>\n",
       "    </tr>\n",
       "    <tr>\n",
       "      <th>17157</th>\n",
       "      <td>87157</td>\n",
       "      <td>320.540038</td>\n",
       "      <td>-69.270556</td>\n",
       "      <td>59562.587765</td>\n",
       "      <td>18.990507</td>\n",
       "      <td>r</td>\n",
       "      <td>792</td>\n",
       "      <td>320.5</td>\n",
       "      <td>-69.5</td>\n",
       "    </tr>\n",
       "    <tr>\n",
       "      <th>17158</th>\n",
       "      <td>87158</td>\n",
       "      <td>327.535831</td>\n",
       "      <td>-51.379757</td>\n",
       "      <td>59562.638550</td>\n",
       "      <td>16.450693</td>\n",
       "      <td>g</td>\n",
       "      <td>762</td>\n",
       "      <td>327.5</td>\n",
       "      <td>-51.5</td>\n",
       "    </tr>\n",
       "    <tr>\n",
       "      <th>17159</th>\n",
       "      <td>87159</td>\n",
       "      <td>303.553419</td>\n",
       "      <td>-37.935144</td>\n",
       "      <td>59562.754894</td>\n",
       "      <td>20.616895</td>\n",
       "      <td>y</td>\n",
       "      <td>755</td>\n",
       "      <td>303.5</td>\n",
       "      <td>-38.5</td>\n",
       "    </tr>\n",
       "    <tr>\n",
       "      <th>17160</th>\n",
       "      <td>87160</td>\n",
       "      <td>306.919879</td>\n",
       "      <td>-38.192544</td>\n",
       "      <td>59562.862351</td>\n",
       "      <td>16.792281</td>\n",
       "      <td>i</td>\n",
       "      <td>763</td>\n",
       "      <td>306.5</td>\n",
       "      <td>-38.5</td>\n",
       "    </tr>\n",
       "  </tbody>\n",
       "</table>\n",
       "<p>17161 rows × 9 columns</p>\n",
       "</div>"
      ]
     },
     "execution_count": 2,
     "metadata": {},
     "output_type": "execute_result"
    }
   ],
   "execution_count": 2
  },
  {
   "metadata": {
    "ExecuteTime": {
     "end_time": "2025-06-27T23:40:34.653021Z",
     "start_time": "2025-06-27T23:40:34.633261Z"
    }
   },
   "cell_type": "code",
   "source": "sss.sort_values(by=['object_id', 'mjd'])",
   "outputs": [
    {
     "data": {
      "text/plain": [
       "       source_id   source_ra  source_dec           mjd        mag band  \\\n",
       "207        70207  282.515013  -57.993802  58378.426426  18.625267    z   \n",
       "250        70250  282.878847  -58.424703  58381.220413  20.964687    i   \n",
       "427        70427  282.771294  -57.985642  58394.908226  15.026069    g   \n",
       "469        70469  282.838942  -58.498943  58397.833886  15.377244    g   \n",
       "540        70540  282.941666  -58.293303  58401.868034  17.113278    y   \n",
       "...          ...         ...         ...           ...        ...  ...   \n",
       "16641      86641  306.934526  -49.940970  59527.335471  19.645697    i   \n",
       "16707      86707  306.811547  -49.986029  59531.913668  20.205668    z   \n",
       "16889      86889  307.028380  -50.219512  59544.452198  20.804142    r   \n",
       "16910      86910  306.904954  -50.052089  59546.300590  20.536627    y   \n",
       "16957      86957  306.845855  -50.073113  59549.499504  19.010754    g   \n",
       "\n",
       "       object_id  object_ra  object_dec  \n",
       "207          700      282.5       -58.5  \n",
       "250          700      282.5       -58.5  \n",
       "427          700      282.5       -58.5  \n",
       "469          700      282.5       -58.5  \n",
       "540          700      282.5       -58.5  \n",
       "...          ...        ...         ...  \n",
       "16641        830      306.5       -50.5  \n",
       "16707        830      306.5       -50.5  \n",
       "16889        830      306.5       -50.5  \n",
       "16910        830      306.5       -50.5  \n",
       "16957        830      306.5       -50.5  \n",
       "\n",
       "[17161 rows x 9 columns]"
      ],
      "text/html": [
       "<div>\n",
       "<style scoped>\n",
       "    .dataframe tbody tr th:only-of-type {\n",
       "        vertical-align: middle;\n",
       "    }\n",
       "\n",
       "    .dataframe tbody tr th {\n",
       "        vertical-align: top;\n",
       "    }\n",
       "\n",
       "    .dataframe thead th {\n",
       "        text-align: right;\n",
       "    }\n",
       "</style>\n",
       "<table border=\"1\" class=\"dataframe\">\n",
       "  <thead>\n",
       "    <tr style=\"text-align: right;\">\n",
       "      <th></th>\n",
       "      <th>source_id</th>\n",
       "      <th>source_ra</th>\n",
       "      <th>source_dec</th>\n",
       "      <th>mjd</th>\n",
       "      <th>mag</th>\n",
       "      <th>band</th>\n",
       "      <th>object_id</th>\n",
       "      <th>object_ra</th>\n",
       "      <th>object_dec</th>\n",
       "    </tr>\n",
       "  </thead>\n",
       "  <tbody>\n",
       "    <tr>\n",
       "      <th>207</th>\n",
       "      <td>70207</td>\n",
       "      <td>282.515013</td>\n",
       "      <td>-57.993802</td>\n",
       "      <td>58378.426426</td>\n",
       "      <td>18.625267</td>\n",
       "      <td>z</td>\n",
       "      <td>700</td>\n",
       "      <td>282.5</td>\n",
       "      <td>-58.5</td>\n",
       "    </tr>\n",
       "    <tr>\n",
       "      <th>250</th>\n",
       "      <td>70250</td>\n",
       "      <td>282.878847</td>\n",
       "      <td>-58.424703</td>\n",
       "      <td>58381.220413</td>\n",
       "      <td>20.964687</td>\n",
       "      <td>i</td>\n",
       "      <td>700</td>\n",
       "      <td>282.5</td>\n",
       "      <td>-58.5</td>\n",
       "    </tr>\n",
       "    <tr>\n",
       "      <th>427</th>\n",
       "      <td>70427</td>\n",
       "      <td>282.771294</td>\n",
       "      <td>-57.985642</td>\n",
       "      <td>58394.908226</td>\n",
       "      <td>15.026069</td>\n",
       "      <td>g</td>\n",
       "      <td>700</td>\n",
       "      <td>282.5</td>\n",
       "      <td>-58.5</td>\n",
       "    </tr>\n",
       "    <tr>\n",
       "      <th>469</th>\n",
       "      <td>70469</td>\n",
       "      <td>282.838942</td>\n",
       "      <td>-58.498943</td>\n",
       "      <td>58397.833886</td>\n",
       "      <td>15.377244</td>\n",
       "      <td>g</td>\n",
       "      <td>700</td>\n",
       "      <td>282.5</td>\n",
       "      <td>-58.5</td>\n",
       "    </tr>\n",
       "    <tr>\n",
       "      <th>540</th>\n",
       "      <td>70540</td>\n",
       "      <td>282.941666</td>\n",
       "      <td>-58.293303</td>\n",
       "      <td>58401.868034</td>\n",
       "      <td>17.113278</td>\n",
       "      <td>y</td>\n",
       "      <td>700</td>\n",
       "      <td>282.5</td>\n",
       "      <td>-58.5</td>\n",
       "    </tr>\n",
       "    <tr>\n",
       "      <th>...</th>\n",
       "      <td>...</td>\n",
       "      <td>...</td>\n",
       "      <td>...</td>\n",
       "      <td>...</td>\n",
       "      <td>...</td>\n",
       "      <td>...</td>\n",
       "      <td>...</td>\n",
       "      <td>...</td>\n",
       "      <td>...</td>\n",
       "    </tr>\n",
       "    <tr>\n",
       "      <th>16641</th>\n",
       "      <td>86641</td>\n",
       "      <td>306.934526</td>\n",
       "      <td>-49.940970</td>\n",
       "      <td>59527.335471</td>\n",
       "      <td>19.645697</td>\n",
       "      <td>i</td>\n",
       "      <td>830</td>\n",
       "      <td>306.5</td>\n",
       "      <td>-50.5</td>\n",
       "    </tr>\n",
       "    <tr>\n",
       "      <th>16707</th>\n",
       "      <td>86707</td>\n",
       "      <td>306.811547</td>\n",
       "      <td>-49.986029</td>\n",
       "      <td>59531.913668</td>\n",
       "      <td>20.205668</td>\n",
       "      <td>z</td>\n",
       "      <td>830</td>\n",
       "      <td>306.5</td>\n",
       "      <td>-50.5</td>\n",
       "    </tr>\n",
       "    <tr>\n",
       "      <th>16889</th>\n",
       "      <td>86889</td>\n",
       "      <td>307.028380</td>\n",
       "      <td>-50.219512</td>\n",
       "      <td>59544.452198</td>\n",
       "      <td>20.804142</td>\n",
       "      <td>r</td>\n",
       "      <td>830</td>\n",
       "      <td>306.5</td>\n",
       "      <td>-50.5</td>\n",
       "    </tr>\n",
       "    <tr>\n",
       "      <th>16910</th>\n",
       "      <td>86910</td>\n",
       "      <td>306.904954</td>\n",
       "      <td>-50.052089</td>\n",
       "      <td>59546.300590</td>\n",
       "      <td>20.536627</td>\n",
       "      <td>y</td>\n",
       "      <td>830</td>\n",
       "      <td>306.5</td>\n",
       "      <td>-50.5</td>\n",
       "    </tr>\n",
       "    <tr>\n",
       "      <th>16957</th>\n",
       "      <td>86957</td>\n",
       "      <td>306.845855</td>\n",
       "      <td>-50.073113</td>\n",
       "      <td>59549.499504</td>\n",
       "      <td>19.010754</td>\n",
       "      <td>g</td>\n",
       "      <td>830</td>\n",
       "      <td>306.5</td>\n",
       "      <td>-50.5</td>\n",
       "    </tr>\n",
       "  </tbody>\n",
       "</table>\n",
       "<p>17161 rows × 9 columns</p>\n",
       "</div>"
      ]
     },
     "execution_count": 3,
     "metadata": {},
     "output_type": "execute_result"
    }
   ],
   "execution_count": 3
  },
  {
   "cell_type": "markdown",
   "metadata": {},
   "source": [
    "## Nested catalogs"
   ]
  },
  {
   "cell_type": "markdown",
   "metadata": {},
   "source": [
    "### small_sky_order1_nested"
   ]
  },
  {
   "cell_type": "code",
   "execution_count": null,
   "metadata": {},
   "outputs": [],
   "source": [
    "remove_directory(\"small_sky_order1_nested_sources\")\n",
    "small_sky_order1_catalog = lsdb.open_catalog(\"small_sky_order1\")\n",
    "small_sky_order1_source_with_margin = lsdb.open_catalog(\n",
    "    \"small_sky_order1_source\", margin_cache=\"small_sky_order1_source_margin\"\n",
    ")\n",
    "small_sky_order1_nested = small_sky_order1_catalog.join_nested(\n",
    "    small_sky_order1_source_with_margin, left_on=\"id\", right_on=\"object_id\", nested_column_name=\"sources\"\n",
    ")\n",
    "to_hats(\n",
    "    small_sky_order1_nested,\n",
    "    base_catalog_path=\"small_sky_order1_nested_sources\",\n",
    "    catalog_name=\"small_sky_order1_nested_sources\",\n",
    "    histogram_order=5,\n",
    ")"
   ]
  },
  {
   "cell_type": "markdown",
   "metadata": {},
   "source": [
    "### small_sky_order1_nested_margin"
   ]
  },
  {
   "cell_type": "code",
   "execution_count": null,
   "metadata": {},
   "outputs": [],
   "source": [
    "remove_directory(\"small_sky_order1_nested_sources_margin\")\n",
    "with tempfile.TemporaryDirectory() as pipeline_tmp:\n",
    "    args = MarginCacheArguments(\n",
    "        input_catalog_path=\"small_sky_order1_nested_sources\",\n",
    "        output_path=\".\",\n",
    "        output_artifact_name=\"small_sky_order1_nested_sources_margin\",\n",
    "        margin_threshold=7200,\n",
    "        margin_order=4,\n",
    "        tmp_dir=pipeline_tmp,\n",
    "    )\n",
    "    pipeline_with_client(args, client)"
   ]
  },
  {
   "cell_type": "markdown",
   "metadata": {},
   "source": [
    "## Connections between tables\n",
    "\n",
    "### small_sky_to_o1source"
   ]
  },
  {
   "cell_type": "code",
   "execution_count": null,
   "metadata": {
    "ExecuteTime": {
     "end_time": "2024-10-03T20:48:00.180200Z",
     "start_time": "2024-10-03T20:48:00.072426Z"
    }
   },
   "outputs": [],
   "source": [
    "association_kwargs = {\n",
    "    \"primary_catalog_dir\": \"small_sky\",\n",
    "    \"primary_column_association\": \"id_small_sky\",\n",
    "    \"primary_id_column\": \"id\",\n",
    "    \"join_catalog_dir\": \"small_sky_order1_source\",\n",
    "    \"join_column_association\": \"object_id_small_sky_order1_source\",\n",
    "    \"join_id_column\": \"source_id\",\n",
    "}\n",
    "\n",
    "remove_directory(\"small_sky_to_o1source\")\n",
    "small_sky_catalog = lsdb.open_catalog(\"small_sky\")\n",
    "small_sky_order1_source_with_margin = lsdb.open_catalog(\n",
    "    \"small_sky_order1_source\", margin_cache=\"small_sky_order1_source_margin\"\n",
    ")\n",
    "small_sky_order1source = small_sky_catalog.join(\n",
    "    small_sky_order1_source_with_margin, left_on=\"id\", right_on=\"object_id\"\n",
    ")\n",
    "lsdb.io.to_association(\n",
    "    small_sky_order1source,\n",
    "    base_catalog_path=\"small_sky_to_o1source\",\n",
    "    catalog_name=\"small_sky_to_o1source\",\n",
    "    **association_kwargs,\n",
    ")"
   ]
  },
  {
   "cell_type": "markdown",
   "metadata": {},
   "source": [
    "## Perturbed object catalog\n",
    "\n",
    "In order to test validity of cross match, we create a new version of the \"small sky\" catalog where each radec is slightly perturbed.\n",
    "\n",
    "### small_sky_xmatch\n",
    "\n",
    "The initial perturbation is stored as a CSV, and we can re-import from this raw data set."
   ]
  },
  {
   "cell_type": "code",
   "execution_count": null,
   "metadata": {
    "ExecuteTime": {
     "end_time": "2024-10-03T20:48:00.363489Z",
     "start_time": "2024-10-03T20:48:00.259302Z"
    }
   },
   "outputs": [],
   "source": [
    "remove_directory(\"./small_sky_xmatch\")\n",
    "with tempfile.TemporaryDirectory() as pipeline_tmp:\n",
    "    args = ImportArguments(\n",
    "        input_file_list=[\"raw/xmatch/small_sky_xmatch.csv\"],\n",
    "        output_path=\".\",\n",
    "        file_reader=\"csv\",\n",
    "        output_artifact_name=\"small_sky_xmatch\",\n",
    "        pixel_threshold=100,\n",
    "        tmp_dir=pipeline_tmp,\n",
    "        highest_healpix_order=4,\n",
    "    )\n",
    "    pipeline_with_client(args, client)"
   ]
  },
  {
   "cell_type": "markdown",
   "metadata": {},
   "source": [
    "### small_sky_xmatch_margin\n",
    "\n",
    "Create a margin catalog from the perturbed data points."
   ]
  },
  {
   "cell_type": "code",
   "execution_count": null,
   "metadata": {
    "ExecuteTime": {
     "end_time": "2024-10-03T20:48:00.694676Z",
     "start_time": "2024-10-03T20:48:00.508540Z"
    }
   },
   "outputs": [],
   "source": [
    "remove_directory(\"./small_sky_xmatch_margin\")\n",
    "with tempfile.TemporaryDirectory() as pipeline_tmp:\n",
    "    args = MarginCacheArguments(\n",
    "        input_catalog_path=\"small_sky_xmatch\",\n",
    "        output_path=\".\",\n",
    "        output_artifact_name=\"small_sky_xmatch_margin\",\n",
    "        margin_threshold=7200,\n",
    "        margin_order=4,\n",
    "        tmp_dir=pipeline_tmp,\n",
    "    )\n",
    "    pipeline_with_client(args, client)"
   ]
  },
  {
   "cell_type": "markdown",
   "metadata": {},
   "source": [
    "### small_sky_left_xmatch\n",
    "\n",
    "This adds a new point that's outside of the (0,11) pixel of the small sky catalog. Otherwise, the points are the same."
   ]
  },
  {
   "cell_type": "code",
   "execution_count": null,
   "metadata": {
    "ExecuteTime": {
     "end_time": "2024-10-03T20:48:00.878810Z",
     "start_time": "2024-10-03T20:48:00.696977Z"
    }
   },
   "outputs": [],
   "source": [
    "remove_directory(\"./small_sky_left_xmatch\")\n",
    "with tempfile.TemporaryDirectory() as pipeline_tmp:\n",
    "    args = ImportArguments(\n",
    "        input_file_list=[\"raw/xmatch/small_sky_left_xmatch.csv\"],\n",
    "        output_path=\".\",\n",
    "        file_reader=\"csv\",\n",
    "        output_artifact_name=\"small_sky_left_xmatch\",\n",
    "        pixel_threshold=100,\n",
    "        tmp_dir=pipeline_tmp,\n",
    "        highest_healpix_order=2,\n",
    "    )\n",
    "    pipeline_with_client(args, client)"
   ]
  },
  {
   "cell_type": "markdown",
   "metadata": {},
   "source": [
    "## Generate Expected Results Files\n",
    "\n",
    "### Small Sky Source Cone Search"
   ]
  },
  {
   "cell_type": "code",
   "execution_count": null,
   "metadata": {
    "ExecuteTime": {
     "end_time": "2024-10-03T20:48:00.888314Z",
     "start_time": "2024-10-03T20:48:00.882342Z"
    }
   },
   "outputs": [],
   "source": [
    "ss_source = hats.read_hats(\"small_sky_order1_source\")"
   ]
  },
  {
   "cell_type": "code",
   "execution_count": null,
   "metadata": {
    "ExecuteTime": {
     "end_time": "2024-10-03T20:48:00.891302Z",
     "start_time": "2024-10-03T20:48:00.889229Z"
    }
   },
   "outputs": [],
   "source": [
    "ra = -35\n",
    "dec = -55\n",
    "radius_degrees = 2"
   ]
  },
  {
   "cell_type": "code",
   "execution_count": null,
   "metadata": {
    "ExecuteTime": {
     "end_time": "2024-10-03T20:48:00.915271Z",
     "start_time": "2024-10-03T20:48:00.892006Z"
    }
   },
   "outputs": [],
   "source": [
    "paths = [hats.io.pixel_catalog_file(ss_source.catalog_base_dir, p) for p in ss_source.get_healpix_pixels()]\n",
    "ss_source_df = pd.concat([pd.read_parquet(p) for p in paths])\n",
    "coords = SkyCoord(\n",
    "    ss_source_df[\"source_ra\"].to_numpy() * u.deg, ss_source_df[\"source_dec\"].to_numpy() * u.deg, frame=\"icrs\"\n",
    ")\n",
    "center_coord = SkyCoord(ra * u.deg, dec * u.deg, frame=\"icrs\")\n",
    "cone_search_output = ss_source_df.iloc[coords.separation(center_coord).deg < radius_degrees]\n",
    "cone_search_output.to_csv(\"raw/cone_search_expected/catalog.csv\", index=False)"
   ]
  },
  {
   "cell_type": "markdown",
   "metadata": {},
   "source": [
    "### Small Sky Source Margin Cone Search"
   ]
  },
  {
   "cell_type": "code",
   "execution_count": null,
   "metadata": {
    "ExecuteTime": {
     "end_time": "2024-10-03T20:48:00.921743Z",
     "start_time": "2024-10-03T20:48:00.916331Z"
    }
   },
   "outputs": [],
   "source": [
    "ss_source_margin = hats.read_hats(\"small_sky_order1_source_margin\")"
   ]
  },
  {
   "cell_type": "code",
   "execution_count": null,
   "metadata": {
    "ExecuteTime": {
     "end_time": "2024-10-03T20:48:00.938571Z",
     "start_time": "2024-10-03T20:48:00.922642Z"
    }
   },
   "outputs": [],
   "source": [
    "paths = [\n",
    "    hats.io.pixel_catalog_file(ss_source_margin.catalog_base_dir, p)\n",
    "    for p in ss_source_margin.get_healpix_pixels()\n",
    "]\n",
    "ss_source_margin_df = pd.concat([pd.read_parquet(p) for p in paths])\n",
    "coords = SkyCoord(\n",
    "    ss_source_margin_df[\"source_ra\"].to_numpy() * u.deg,\n",
    "    ss_source_margin_df[\"source_dec\"].to_numpy() * u.deg,\n",
    "    frame=\"icrs\",\n",
    ")\n",
    "center_coord = SkyCoord(ra * u.deg, dec * u.deg, frame=\"icrs\")\n",
    "cone_search_output = ss_source_margin_df.iloc[coords.separation(center_coord).deg < radius_degrees]\n",
    "cone_search_output.to_csv(\"raw/cone_search_expected/margin.csv\", index=False)"
   ]
  },
  {
   "cell_type": "markdown",
   "metadata": {},
   "source": [
    "## Square map\n",
    "\n",
    "Create a trivial map-type catalog. This just contains a `star_count` per order 0\n",
    "healpix tile. The value is the square of the healpix index."
   ]
  },
  {
   "cell_type": "code",
   "execution_count": null,
   "metadata": {},
   "outputs": [],
   "source": [
    "target_pixels = np.arange(0, 12)\n",
    "\n",
    "healpix_29 = healpix_to_spatial_index(0, target_pixels)\n",
    "\n",
    "square_vals = target_pixels * target_pixels\n",
    "value_frame = pd.DataFrame({\"_healpix_29\": healpix_29, \"star_count\": square_vals})"
   ]
  },
  {
   "cell_type": "code",
   "execution_count": null,
   "metadata": {},
   "outputs": [],
   "source": [
    "remove_directory(\"./square_map\")\n",
    "with tempfile.TemporaryDirectory() as pipeline_tmp:\n",
    "    csv_file = Path(pipeline_tmp) / \"square_map.csv\"\n",
    "    value_frame.to_csv(csv_file, index=False)\n",
    "    args = ImportArguments(\n",
    "        constant_healpix_order=0,  ## forces the moc to order 0.\n",
    "        catalog_type=\"map\",\n",
    "        use_healpix_29=True,\n",
    "        ra_column=None,\n",
    "        dec_column=None,\n",
    "        file_reader=\"csv\",\n",
    "        input_file_list=[csv_file],\n",
    "        output_artifact_name=\"square_map\",\n",
    "        output_path=\".\",\n",
    "        tmp_dir=pipeline_tmp,\n",
    "    )\n",
    "\n",
    "    pipeline_with_client(args, client)"
   ]
  },
  {
   "cell_type": "code",
   "execution_count": null,
   "metadata": {
    "ExecuteTime": {
     "end_time": "2024-10-03T20:48:01.524993Z",
     "start_time": "2024-10-03T20:48:00.940037Z"
    }
   },
   "outputs": [],
   "source": [
    "tmp_path.cleanup()\n",
    "client.close()"
   ]
  }
 ],
 "metadata": {
  "kernelspec": {
   "display_name": "june",
   "language": "python",
   "name": "python3"
  },
  "language_info": {
   "codemirror_mode": {
    "name": "ipython",
    "version": 3
   },
   "file_extension": ".py",
   "mimetype": "text/x-python",
   "name": "python",
   "nbconvert_exporter": "python",
   "pygments_lexer": "ipython3",
   "version": "3.12.3"
  }
 },
 "nbformat": 4,
 "nbformat_minor": 2
}
