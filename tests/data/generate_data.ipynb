{
 "cells": [
  {
   "cell_type": "markdown",
   "metadata": {},
   "source": [
    "# Unit test data\n",
    "\n",
    "This directory contains very small, toy, data sets that are used\n",
    "for unit tests.\n",
    "\n",
    "## Object catalog: small_sky\n",
    "\n",
    "This \"object catalog\" is 131 randomly generated radec values. \n",
    "\n",
    "- All radec positions are in the Healpix pixel order 0, pixel 11.\n",
    "- IDs are integers from 700-831."
   ]
  },
  {
   "cell_type": "code",
   "execution_count": null,
   "metadata": {},
   "outputs": [],
   "source": [
    "import hipscat_import.pipeline as runner\n",
    "from hipscat_import.catalog.arguments import ImportArguments\n",
    "from hipscat_import.index.arguments import IndexArguments\n",
    "from hipscat_import.margin_cache.margin_cache_arguments import MarginCacheArguments\n",
    "from hipscat_import.soap import SoapArguments\n",
    "import tempfile\n",
    "from pathlib import Path\n",
    "from dask.distributed import Client\n",
    "\n",
    "tmp_path = tempfile.TemporaryDirectory()\n",
    "tmp_dir = tmp_path.name\n",
    "\n",
    "hipscat_import_dir = \"../../../hipscat-import/tests/hipscat_import/data/\"\n",
    "\n",
    "client = Client(n_workers=1, threads_per_worker=1, local_directory=tmp_dir)"
   ]
  },
  {
   "cell_type": "markdown",
   "metadata": {},
   "source": [
    "### small_sky_order1\n",
    "\n",
    "This catalog has the same data points as other small sky catalogs,\n",
    "but is coerced to spreading these data points over partitions at order 1, instead\n",
    "of order 0.\n",
    "\n",
    "This means there are 4 leaf partition files, instead of just 1, and so can\n",
    "be useful for confirming reads/writes over multiple leaf partition files.\n",
    "\n",
    "NB: Setting `constant_healpix_order` coerces the import pipeline to create\n",
    "leaf partitions at order 1."
   ]
  },
  {
   "cell_type": "code",
   "execution_count": null,
   "metadata": {},
   "outputs": [],
   "source": [
    "args = ImportArguments(\n",
    "    input_file_list=[\"small_sky_order1/small_sky_order1.csv\"],\n",
    "    output_path=\".\",\n",
    "    file_reader=\"csv\",\n",
    "    output_artifact_name=\"small_sky_order1\",\n",
    "    constant_healpix_order=1,\n",
    "    overwrite=True,\n",
    "    tmp_dir=tmp_dir,\n",
    ")\n",
    "runner.pipeline_with_client(args, client)"
   ]
  },
  {
   "cell_type": "markdown",
   "metadata": {},
   "source": [
    "### small_sky\n",
    "\n",
    "This \"object catalog\" is 131 randomly generated radec values. \n",
    "\n",
    "- All radec positions are in the Healpix pixel order 0, pixel 11.\n",
    "- IDs are integers from 700-831.\n",
    "\n",
    "This catalog was generated with the following snippet:"
   ]
  },
  {
   "cell_type": "code",
   "execution_count": null,
   "metadata": {},
   "outputs": [],
   "source": [
    "args = ImportArguments(\n",
    "    input_file_list=[\"small_sky_order1/small_sky_order1.csv\"],\n",
    "    output_path=\".\",\n",
    "    file_reader=\"csv\",\n",
    "    output_artifact_name=\"small_sky\",\n",
    "    overwrite=True,\n",
    "    tmp_dir=tmp_dir,\n",
    ")\n",
    "runner.pipeline_with_client(args, client)"
   ]
  },
  {
   "cell_type": "markdown",
   "metadata": {},
   "source": [
    "### small_sky_order1_id_index"
   ]
  },
  {
   "cell_type": "code",
   "execution_count": null,
   "metadata": {},
   "outputs": [],
   "source": [
    "args = IndexArguments(\n",
    "    input_catalog_path=\"./small_sky_order1\",\n",
    "    indexing_column=\"id\",\n",
    "    output_path=\".\",\n",
    "    output_artifact_name=\"small_sky_order1_id_index\",\n",
    "    include_hipscat_index=False,\n",
    "    compute_partition_size=200_000,\n",
    "    overwrite=True,\n",
    "    tmp_dir=tmp_dir,\n",
    ")\n",
    "runner.pipeline_with_client(args, client)"
   ]
  },
  {
   "cell_type": "markdown",
   "metadata": {},
   "source": [
    "## Object catalog: small_sky_source\n",
    "\n",
    "This \"source catalog\" is 131 detections at each of the 131 objects\n",
    "in the \"small_sky\" catalog. These have a random magnitude, MJD, and \n",
    "band (selected from ugrizy). The full script that generated the values\n",
    "can be found [here](https://github.com/delucchi-cmu/hipscripts/blob/main/twiddling/small_sky_source.py)"
   ]
  },
  {
   "cell_type": "markdown",
   "metadata": {},
   "source": [
    "### small_sky_order1_source"
   ]
  },
  {
   "cell_type": "code",
   "execution_count": null,
   "metadata": {},
   "outputs": [],
   "source": [
    "args = ImportArguments(\n",
    "    input_file_list=[\"raw/small_sky_source/small_sky_source.csv\"],\n",
    "    output_path=\".\",\n",
    "    file_reader=\"csv\",\n",
    "    ra_column=\"object_ra\",\n",
    "    dec_column=\"object_dec\",\n",
    "    catalog_type=\"source\",\n",
    "    output_artifact_name=\"small_sky_order1_source\",\n",
    "    constant_healpix_order=1,\n",
    "    overwrite=True,\n",
    "    tmp_dir=tmp_dir,\n",
    ")\n",
    "runner.pipeline_with_client(args, client)"
   ]
  },
  {
   "cell_type": "markdown",
   "metadata": {},
   "source": [
    "### small_sky_source_margin\n",
    "\n",
    "This one is tricky, as it uses a catalog that we only have in the `hipscat` and `hipscat-import` test directories."
   ]
  },
  {
   "cell_type": "code",
   "execution_count": null,
   "metadata": {},
   "outputs": [],
   "source": [
    "args = MarginCacheArguments(\n",
    "    input_catalog_path=Path(hipscat_import_dir) / \"small_sky_source_catalog\",\n",
    "    output_path=\".\",\n",
    "    output_artifact_name=\"small_sky_source_margin\",\n",
    "    margin_threshold=180,\n",
    "    margin_order=8,\n",
    "    overwrite=True,\n",
    "    tmp_dir=tmp_dir,\n",
    ")\n",
    "runner.pipeline_with_client(args, client)"
   ]
  },
  {
   "cell_type": "markdown",
   "metadata": {},
   "source": [
    "### small_sky_order1_source_margin"
   ]
  },
  {
   "cell_type": "code",
   "execution_count": null,
   "metadata": {},
   "outputs": [],
   "source": [
    "args = MarginCacheArguments(\n",
    "    input_catalog_path=\"small_sky_order1_source\",\n",
    "    output_path=\".\",\n",
    "    output_artifact_name=\"small_sky_order1_source_margin\",\n",
    "    margin_threshold=7200,\n",
    "    margin_order=4,\n",
    "    overwrite=True,\n",
    "    tmp_dir=tmp_dir,\n",
    ")\n",
    "runner.pipeline_with_client(args, client)"
   ]
  },
  {
   "cell_type": "markdown",
   "metadata": {},
   "source": [
    "### small_sky_order3_source_margin\n",
    "\n",
    "This one is similar to the previous margin catalogs but it is generated from a source catalog of order 3."
   ]
  },
  {
   "cell_type": "code",
   "execution_count": null,
   "metadata": {},
   "outputs": [],
   "source": [
    "args = ImportArguments(\n",
    "    input_file_list=[\"raw/small_sky_source/small_sky_source.csv\"],\n",
    "    output_path=\".\",\n",
    "    file_reader=\"csv\",\n",
    "    ra_column=\"source_ra\",\n",
    "    dec_column=\"source_dec\",\n",
    "    catalog_type=\"source\",\n",
    "    output_artifact_name=\"small_sky_order3_source\",\n",
    "    constant_healpix_order=3,\n",
    "    overwrite=True,\n",
    "    tmp_dir=tmp_dir,\n",
    ")\n",
    "runner.pipeline_with_client(args, client)\n",
    "\n",
    "args = MarginCacheArguments(\n",
    "    input_catalog_path=\"small_sky_order3_source\",\n",
    "    output_path=\".\",\n",
    "    output_artifact_name=\"small_sky_order3_source_margin\",\n",
    "    margin_threshold=300,\n",
    "    margin_order=7,\n",
    "    overwrite=True,\n",
    "    tmp_dir=tmp_dir,\n",
    ")\n",
    "runner.pipeline_with_client(args, client)"
   ]
  },
  {
   "cell_type": "markdown",
   "metadata": {},
   "source": [
    "## Connections between tables\n",
    "\n",
    "### small_sky_to_o1source"
   ]
  },
  {
   "cell_type": "code",
   "execution_count": null,
   "metadata": {},
   "outputs": [],
   "source": [
    "args = SoapArguments(\n",
    "    object_catalog_dir=\"small_sky\",\n",
    "    object_id_column=\"id\",\n",
    "    source_catalog_dir=\"small_sky_order1_source\",\n",
    "    source_object_id_column=\"object_id\",\n",
    "    source_id_column=\"source_id\",\n",
    "    output_path=\".\",\n",
    "    output_artifact_name=\"small_sky_to_o1source\",\n",
    "    write_leaf_files=True,\n",
    "    overwrite=True,\n",
    ")\n",
    "runner.pipeline_with_client(args, client)"
   ]
  },
  {
   "cell_type": "markdown",
   "metadata": {},
   "source": [
    "### small_sky_to_o1source_soft"
   ]
  },
  {
   "cell_type": "code",
   "execution_count": null,
   "metadata": {},
   "outputs": [],
   "source": [
    "args = SoapArguments(\n",
    "    object_catalog_dir=\"small_sky\",\n",
    "    object_id_column=\"id\",\n",
    "    source_catalog_dir=\"small_sky_order1_source\",\n",
    "    source_object_id_column=\"object_id\",\n",
    "    source_id_column=\"source_id\",\n",
    "    output_path=\".\",\n",
    "    output_artifact_name=\"small_sky_to_o1source_soft\",\n",
    "    write_leaf_files=False,\n",
    "    overwrite=True,\n",
    ")\n",
    "runner.pipeline_with_client(args, client)"
   ]
  },
  {
   "cell_type": "markdown",
   "metadata": {},
   "source": [
    "## Perturbed object catalog\n",
    "\n",
    "In order to test validity of cross match, we create a new version of the \"small sky\" catalog where each radec is slightly perturbed.\n",
    "\n",
    "### small_sky_xmatch\n",
    "\n",
    "The initial perturbation is stored as a CSV, and we can re-import from this raw data set."
   ]
  },
  {
   "cell_type": "code",
   "execution_count": null,
   "metadata": {},
   "outputs": [],
   "source": [
    "args = ImportArguments(\n",
    "    input_file_list=[\"raw/xmatch/small_sky_xmatch.csv\"],\n",
    "    output_path=\".\",\n",
    "    file_reader=\"csv\",\n",
    "    output_artifact_name=\"small_sky_xmatch\",\n",
    "    pixel_threshold=100,\n",
    "    overwrite=True,\n",
    "    tmp_dir=tmp_dir,\n",
    ")\n",
    "runner.pipeline_with_client(args, client)"
   ]
  },
  {
   "cell_type": "markdown",
   "metadata": {},
   "source": [
    "### small_sky_to_xmatch\n",
    "\n",
    "Association table between the original \"small sky\" object catalog, and the perturbed \"small sky xmatch\" catalog.\n",
    "\n",
    "Used to test joining THROUGH the association catalog."
   ]
  },
  {
   "cell_type": "code",
   "execution_count": null,
   "metadata": {},
   "outputs": [],
   "source": [
    "args = SoapArguments(\n",
    "    object_catalog_dir=\"small_sky\",\n",
    "    object_id_column=\"id\",\n",
    "    source_catalog_dir=\"small_sky_xmatch\",\n",
    "    source_object_id_column=\"id\",\n",
    "    source_id_column=\"id\",\n",
    "    output_path=\".\",\n",
    "    write_leaf_files=True,\n",
    "    output_artifact_name=\"small_sky_to_xmatch\",\n",
    "    overwrite=True,\n",
    ")\n",
    "runner.pipeline_with_client(args, client)"
   ]
  },
  {
   "cell_type": "markdown",
   "metadata": {},
   "source": [
    "### small_sky_to_xmatch_soft\n",
    "\n",
    "Similar to the above catalog, but does not generate leaf files"
   ]
  },
  {
   "cell_type": "code",
   "execution_count": null,
   "metadata": {},
   "outputs": [],
   "source": [
    "args = SoapArguments(\n",
    "    object_catalog_dir=\"small_sky\",\n",
    "    object_id_column=\"id\",\n",
    "    source_catalog_dir=\"small_sky_xmatch\",\n",
    "    source_object_id_column=\"id\",\n",
    "    source_id_column=\"id\",\n",
    "    output_path=\".\",\n",
    "    write_leaf_files=False,\n",
    "    output_artifact_name=\"small_sky_to_xmatch_soft\",\n",
    "    overwrite=True,\n",
    ")\n",
    "runner.pipeline_with_client(args, client)"
   ]
  },
  {
   "cell_type": "markdown",
   "metadata": {},
   "source": [
    "### small_sky_xmatch_margin\n",
    "\n",
    "Create a margin catalog from the perturbed data points."
   ]
  },
  {
   "cell_type": "code",
   "execution_count": null,
   "metadata": {},
   "outputs": [],
   "source": [
    "args = MarginCacheArguments(\n",
    "    input_catalog_path=\"small_sky_xmatch\",\n",
    "    output_path=\".\",\n",
    "    output_artifact_name=\"small_sky_xmatch_margin\",\n",
    "    margin_threshold=7200,\n",
    "    margin_order=4,\n",
    "    overwrite=True,\n",
    "    tmp_dir=tmp_dir,\n",
    ")\n",
    "runner.pipeline_with_client(args, client)"
   ]
  },
  {
   "cell_type": "markdown",
   "metadata": {},
   "source": [
    "### small_sky_left_xmatch\n",
    "\n",
    "This adds a new point that's outside of the (0,11) pixel of the small sky catalog. Otherwise, the points are the same."
   ]
  },
  {
   "cell_type": "code",
   "execution_count": null,
   "metadata": {},
   "outputs": [],
   "source": [
    "args = ImportArguments(\n",
    "    input_file_list=[\"raw/xmatch/small_sky_left_xmatch.csv\"],\n",
    "    output_path=\".\",\n",
    "    file_reader=\"csv\",\n",
    "    output_artifact_name=\"small_sky_left_xmatch\",\n",
    "    pixel_threshold=100,\n",
    "    overwrite=True,\n",
    "    tmp_dir=tmp_dir,\n",
    ")\n",
    "runner.pipeline_with_client(args, client)"
   ]
  },
  {
   "cell_type": "code",
   "execution_count": null,
   "metadata": {},
   "outputs": [],
   "source": [
    "tmp_path.cleanup()\n",
    "client.close()"
   ]
  }
 ],
 "metadata": {
  "kernelspec": {
   "display_name": "hipscatenv",
   "language": "python",
   "name": "python3"
  },
  "language_info": {
   "codemirror_mode": {
    "name": "ipython",
    "version": 3
   },
   "file_extension": ".py",
   "mimetype": "text/x-python",
   "name": "python",
   "nbconvert_exporter": "python",
   "pygments_lexer": "ipython3",
   "version": "3.10.12"
  }
 },
 "nbformat": 4,
 "nbformat_minor": 2
}
