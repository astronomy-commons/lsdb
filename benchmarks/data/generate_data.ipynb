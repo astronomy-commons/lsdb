{
 "cells": [
  {
   "cell_type": "markdown",
   "metadata": {},
   "source": [
    "# Benchmarking data\n",
    "\n",
    "This notebook generates the data used in the benchmarking suite. \n",
    "\n",
    "In particular, the `_metadata` file can take a little while to generate, so we don't want to do it for every benchmarking run."
   ]
  },
  {
   "cell_type": "code",
   "execution_count": null,
   "metadata": {},
   "outputs": [],
   "source": [
    "import numpy as np\n",
    "\n",
    "from hats.catalog import PartitionInfo, TableProperties\n",
    "from hats.pixel_math import HealpixPixel\n",
    "from pathlib import Path"
   ]
  },
  {
   "cell_type": "markdown",
   "metadata": {},
   "source": [
    "## Large catalog\n",
    "\n",
    "This contains 196_607 partitions at order 7. This might seem like a silly number, and I guess it is, but it keeps the `_metadata` file under the github size limit."
   ]
  },
  {
   "cell_type": "code",
   "execution_count": null,
   "metadata": {},
   "outputs": [],
   "source": [
    "pixel_list = [HealpixPixel(7, pixel) for pixel in np.arange(196_608)]\n",
    "partition_info = PartitionInfo.from_healpix(pixel_list)\n",
    "\n",
    "catalog_base_dir = Path(\"large_catalog\")\n",
    "catalog_base_dir.mkdir(exist_ok=True)\n",
    "\n",
    "partition_info.write_to_file(catalog_base_dir / \"partition_info.csv\")\n",
    "partition_info.write_to_metadata_files(catalog_base_dir)\n",
    "\n",
    "table_properties = TableProperties(\n",
    "    catalog_name=\"large_catalog\",\n",
    "    catalog_type=\"object\",\n",
    "    total_rows=196_608,\n",
    "    ra_column=\"\",\n",
    "    dec_column=\"\",\n",
    ")\n",
    "table_properties.to_properties_file(catalog_base_dir)"
   ]
  },
  {
   "cell_type": "markdown",
   "metadata": {},
   "source": [
    "## Midsize catalog\n",
    "\n",
    "This contains 30_000 partitions at order 6."
   ]
  },
  {
   "cell_type": "code",
   "execution_count": null,
   "metadata": {},
   "outputs": [],
   "source": [
    "pixel_list = [HealpixPixel(6, pixel) for pixel in np.arange(30_000)]\n",
    "partition_info = PartitionInfo.from_healpix(pixel_list)\n",
    "\n",
    "catalog_base_dir = Path(\"midsize_catalog\")\n",
    "catalog_base_dir.mkdir(exist_ok=True)\n",
    "\n",
    "partition_info.write_to_file(catalog_base_dir / \"partition_info.csv\")\n",
    "partition_info.write_to_metadata_files(catalog_base_dir)\n",
    "table_properties = TableProperties(\n",
    "    catalog_name=\"midsize_catalog\",\n",
    "    catalog_type=\"object\",\n",
    "    total_rows=30_000,\n",
    "    ra_column=\"\",\n",
    "    dec_column=\"\",\n",
    ")\n",
    "table_properties.to_properties_file(catalog_base_dir)"
   ]
  },
  {
   "cell_type": "code",
   "execution_count": null,
   "metadata": {},
   "outputs": [],
   "source": []
  }
 ],
 "metadata": {
  "kernelspec": {
   "display_name": "demo",
   "language": "python",
   "name": "python3"
  },
  "language_info": {
   "codemirror_mode": {
    "name": "ipython",
    "version": 3
   },
   "file_extension": ".py",
   "mimetype": "text/x-python",
   "name": "python",
   "nbconvert_exporter": "python",
   "pygments_lexer": "ipython3",
   "version": "3.12.3"
  }
 },
 "nbformat": 4,
 "nbformat_minor": 2
}
